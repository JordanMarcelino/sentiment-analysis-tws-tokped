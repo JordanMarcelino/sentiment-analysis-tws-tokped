{
  "cells": [
    {
      "cell_type": "code",
      "source": [
        "!pip install torchinfo torchmetrics transformers -q"
      ],
      "metadata": {
        "id": "yXqcp4MaDr-y",
        "colab": {
          "base_uri": "https://localhost:8080/"
        },
        "outputId": "5d150f15-f5e7-4854-a4c5-93eb07ea1971"
      },
      "execution_count": 1,
      "outputs": [
        {
          "output_type": "stream",
          "name": "stdout",
          "text": [
            "\u001b[?25l     \u001b[90m━━━━━━━━━━━━━━━━━━━━━━━━━━━━━━━━━━━━━━━━\u001b[0m \u001b[32m0.0/841.5 kB\u001b[0m \u001b[31m?\u001b[0m eta \u001b[36m-:--:--\u001b[0m\r\u001b[2K     \u001b[91m━━━━━\u001b[0m\u001b[90m╺\u001b[0m\u001b[90m━━━━━━━━━━━━━━━━━━━━━━━━━━━━━━━━━━\u001b[0m \u001b[32m112.6/841.5 kB\u001b[0m \u001b[31m3.2 MB/s\u001b[0m eta \u001b[36m0:00:01\u001b[0m\r\u001b[2K     \u001b[91m━━━━━━━━━━━━━━━━\u001b[0m\u001b[90m╺\u001b[0m\u001b[90m━━━━━━━━━━━━━━━━━━━━━━━\u001b[0m \u001b[32m337.9/841.5 kB\u001b[0m \u001b[31m4.8 MB/s\u001b[0m eta \u001b[36m0:00:01\u001b[0m\r\u001b[2K     \u001b[91m━━━━━━━━━━━━━━━━━━━━━━━━━━━━━\u001b[0m\u001b[90m╺\u001b[0m\u001b[90m━━━━━━━━━━\u001b[0m \u001b[32m614.4/841.5 kB\u001b[0m \u001b[31m5.8 MB/s\u001b[0m eta \u001b[36m0:00:01\u001b[0m\r\u001b[2K     \u001b[91m━━━━━━━━━━━━━━━━━━━━━━━━━━━━━━━━━━━━━━━\u001b[0m\u001b[91m╸\u001b[0m \u001b[32m839.7/841.5 kB\u001b[0m \u001b[31m6.5 MB/s\u001b[0m eta \u001b[36m0:00:01\u001b[0m\r\u001b[2K     \u001b[90m━━━━━━━━━━━━━━━━━━━━━━━━━━━━━━━━━━━━━━━━\u001b[0m \u001b[32m841.5/841.5 kB\u001b[0m \u001b[31m5.8 MB/s\u001b[0m eta \u001b[36m0:00:00\u001b[0m\n",
            "\u001b[?25h"
          ]
        }
      ]
    },
    {
      "cell_type": "code",
      "execution_count": 2,
      "metadata": {
        "id": "HmJtGZztDpp4"
      },
      "outputs": [],
      "source": [
        "import os\n",
        "import random\n",
        "import warnings\n",
        "\n",
        "import matplotlib.pyplot as plt\n",
        "import numpy as np\n",
        "import pandas as pd\n",
        "import seaborn as sns\n",
        "import torch\n",
        "import torchmetrics\n",
        "from sklearn.metrics import accuracy_score, f1_score, precision_score, recall_score\n",
        "from torch import nn, optim\n",
        "from torch.utils.data.dataloader import DataLoader\n",
        "from torch.utils.data.dataset import Dataset\n",
        "from torchinfo import summary\n",
        "from tqdm import tqdm\n",
        "from transformers import BertConfig, BertForSequenceClassification, BertTokenizer\n",
        "\n",
        "warnings.filterwarnings('ignore')"
      ]
    },
    {
      "cell_type": "code",
      "source": [
        "torch.__version__"
      ],
      "metadata": {
        "colab": {
          "base_uri": "https://localhost:8080/",
          "height": 35
        },
        "id": "Lt2-WDUiD-cM",
        "outputId": "498c4911-c383-4776-8147-29d7f73edc5b"
      },
      "execution_count": 3,
      "outputs": [
        {
          "output_type": "execute_result",
          "data": {
            "text/plain": [
              "'2.2.1+cu121'"
            ],
            "application/vnd.google.colaboratory.intrinsic+json": {
              "type": "string"
            }
          },
          "metadata": {},
          "execution_count": 3
        }
      ]
    },
    {
      "cell_type": "code",
      "source": [
        "!nvidia-smi"
      ],
      "metadata": {
        "colab": {
          "base_uri": "https://localhost:8080/"
        },
        "id": "rlCKhxXJEBfZ",
        "outputId": "adbe2ffb-366a-4321-b5e0-ae189d9c9dee"
      },
      "execution_count": 4,
      "outputs": [
        {
          "output_type": "stream",
          "name": "stdout",
          "text": [
            "Tue Apr 23 15:09:18 2024       \n",
            "+---------------------------------------------------------------------------------------+\n",
            "| NVIDIA-SMI 535.104.05             Driver Version: 535.104.05   CUDA Version: 12.2     |\n",
            "|-----------------------------------------+----------------------+----------------------+\n",
            "| GPU  Name                 Persistence-M | Bus-Id        Disp.A | Volatile Uncorr. ECC |\n",
            "| Fan  Temp   Perf          Pwr:Usage/Cap |         Memory-Usage | GPU-Util  Compute M. |\n",
            "|                                         |                      |               MIG M. |\n",
            "|=========================================+======================+======================|\n",
            "|   0  Tesla T4                       Off | 00000000:00:04.0 Off |                    0 |\n",
            "| N/A   48C    P8              10W /  70W |      0MiB / 15360MiB |      0%      Default |\n",
            "|                                         |                      |                  N/A |\n",
            "+-----------------------------------------+----------------------+----------------------+\n",
            "                                                                                         \n",
            "+---------------------------------------------------------------------------------------+\n",
            "| Processes:                                                                            |\n",
            "|  GPU   GI   CI        PID   Type   Process name                            GPU Memory |\n",
            "|        ID   ID                                                             Usage      |\n",
            "|=======================================================================================|\n",
            "|  No running processes found                                                           |\n",
            "+---------------------------------------------------------------------------------------+\n"
          ]
        }
      ]
    },
    {
      "cell_type": "code",
      "execution_count": 5,
      "metadata": {
        "id": "2TvYeKRWDpp5"
      },
      "outputs": [],
      "source": [
        "def set_seed(seed: int = 42):\n",
        "    random.seed(seed)\n",
        "    np.random.seed(seed)\n",
        "    torch.manual_seed(seed)\n",
        "    torch.cuda.manual_seed(seed)\n",
        "\n",
        "\n",
        "def count_param(module: nn.Module, trainable=False) -> int:\n",
        "    if trainable:\n",
        "        return sum(p.numel() for p in module.parameters() if p.requires_grad)\n",
        "    else:\n",
        "        return sum(p.numel() for p in module.parameters())\n",
        "\n",
        "\n",
        "def get_lr(optimizer: optim.Optimizer):\n",
        "    for param_group in optimizer.param_groups:\n",
        "        return param_group[\"lr\"]\n",
        "\n",
        "\n",
        "def freeze_layers(layers: nn.Module) -> None:\n",
        "    for layer in layers.parameters():\n",
        "        layer.requires_grad = False\n",
        "\n",
        "\n",
        "def metrics_to_string(metric_dict: dict) -> str:\n",
        "    string_list = []\n",
        "    for key, value in metric_dict.items():\n",
        "        string_list.append(\"{}:{:.2f}\".format(key, value))\n",
        "    return \" \".join(string_list)"
      ]
    },
    {
      "cell_type": "code",
      "execution_count": 6,
      "metadata": {
        "id": "WoOrR7U8Dpp6"
      },
      "outputs": [],
      "source": [
        "set_seed(2024)"
      ]
    },
    {
      "cell_type": "code",
      "execution_count": 7,
      "metadata": {
        "colab": {
          "base_uri": "https://localhost:8080/",
          "height": 35
        },
        "id": "WaF6fLCwDpp7",
        "outputId": "148d27e0-43ff-41a4-e34c-0a0239f4dda9"
      },
      "outputs": [
        {
          "output_type": "execute_result",
          "data": {
            "text/plain": [
              "'cuda'"
            ],
            "application/vnd.google.colaboratory.intrinsic+json": {
              "type": "string"
            }
          },
          "metadata": {},
          "execution_count": 7
        }
      ],
      "source": [
        "device = \"cuda\" if torch.cuda.is_available() else \"cpu\"\n",
        "\n",
        "device"
      ]
    },
    {
      "cell_type": "code",
      "execution_count": 8,
      "metadata": {
        "id": "CNqT4Ru2Dpp7"
      },
      "outputs": [],
      "source": [
        "class DocumentSentimentDataset(Dataset):\n",
        "    # Static constant variable\n",
        "    LABEL2INDEX = {\"positive\": 0, \"neutral\": 1, \"negative\": 2}\n",
        "    INDEX2LABEL = {0: \"positive\", 1: \"neutral\", 2: \"negative\"}\n",
        "    NUM_LABELS = 3\n",
        "\n",
        "    def load_dataset(self, path):\n",
        "        df = pd.read_csv(path)\n",
        "        df.columns = [\"text\", \"sentiment\"]\n",
        "        df[\"sentiment\"] = df[\"sentiment\"].apply(lambda lab: self.LABEL2INDEX[lab])\n",
        "        return df\n",
        "\n",
        "    def __init__(\n",
        "        self,\n",
        "        dataset_path: str,\n",
        "        tokenizer: BertTokenizer,\n",
        "        no_special_token=False,\n",
        "        *args,\n",
        "        **kwargs,\n",
        "    ):\n",
        "        self.data = self.load_dataset(dataset_path)\n",
        "        self.tokenizer = tokenizer\n",
        "        self.no_special_token = no_special_token\n",
        "\n",
        "    def __getitem__(self, index):\n",
        "        data = self.data.loc[index, :]\n",
        "        text, sentiment = data[\"text\"], data[\"sentiment\"]\n",
        "        subwords = self.tokenizer.encode(\n",
        "            text, add_special_tokens=not self.no_special_token\n",
        "        )\n",
        "        return np.array(subwords), np.array(sentiment), data[\"text\"]\n",
        "\n",
        "    def __len__(self):\n",
        "        return len(self.data)"
      ]
    },
    {
      "cell_type": "code",
      "execution_count": 9,
      "metadata": {
        "id": "7cr-kq2PDpp8"
      },
      "outputs": [],
      "source": [
        "class DocumentSentimentDataLoader(DataLoader):\n",
        "    def __init__(self, max_seq_len=512, *args, **kwargs):\n",
        "        super(DocumentSentimentDataLoader, self).__init__(*args, **kwargs)\n",
        "        self.collate_fn = self._collate_fn\n",
        "        self.max_seq_len = max_seq_len\n",
        "\n",
        "    def _collate_fn(self, batch):\n",
        "        batch_size = len(batch)\n",
        "        max_seq_len = max(map(lambda x: len(x[0]), batch))\n",
        "        max_seq_len = min(self.max_seq_len, max_seq_len)\n",
        "\n",
        "        subword_batch = np.zeros((batch_size, max_seq_len), dtype=np.int64)\n",
        "        mask_batch = np.zeros((batch_size, max_seq_len), dtype=np.float32)\n",
        "        sentiment_batch = np.zeros((batch_size, 1), dtype=np.int64)\n",
        "\n",
        "        seq_list = []\n",
        "        for i, (subwords, sentiment, raw_seq) in enumerate(batch):\n",
        "            subwords = subwords[:max_seq_len]\n",
        "            subword_batch[i, : len(subwords)] = subwords\n",
        "            mask_batch[i, : len(subwords)] = 1\n",
        "            sentiment_batch[i, 0] = sentiment\n",
        "\n",
        "            seq_list.append(raw_seq)\n",
        "\n",
        "        return subword_batch, mask_batch, sentiment_batch, seq_list"
      ]
    },
    {
      "cell_type": "code",
      "execution_count": 10,
      "metadata": {
        "colab": {
          "base_uri": "https://localhost:8080/",
          "height": 232,
          "referenced_widgets": [
            "b7d9ee595693486dbe35ed834a57adeb",
            "cfc47994212f4adb9a986f1b5be2cf37",
            "e82851c5fe294c0687542aea299c7b75",
            "162a00feb0764ed2854c355281c6fcbe",
            "f4359eb16bd54f29b9af6aaab3f678dd",
            "ac40b27ad92d4482922fa1b760865dbb",
            "0b516516a11441ddb769d85c9300dfe2",
            "e6b7b3d87533401f8d4f902ed83c5721",
            "4d472f3b2725435180bfa288a5753e81",
            "744e3d53342a43e5b1b78ba1bf69e5ad",
            "1a8398ce103b4cdf88591e991c21d49b",
            "bb4fac38efb6457384c1b3ab6bb3e4bd",
            "b2ccd5475776484d9d429364a97a30fb",
            "7f17a5665ffe41eeb2a595f0f27a4aae",
            "65240d31e0c84b36983739c26738e1f1",
            "69d5470e595245baa096625e5a35c8f1",
            "a20581119b4c49e998c7ddeb7e0ed22d",
            "b098087bd8ad4a4d96e1f35febcf9f21",
            "9b12f3674ca346338cc3f6ad72f43784",
            "2cc52d1f20ae4e2fbd669a890daabe8a",
            "8d20e900c49042b095b4707f0aee5a32",
            "45c9594879774003b12c9d40f74b9c7e",
            "d462132515264959a2020abbd488f7df",
            "bb19899d2e394794b5430f2855a9f876",
            "e65a9a42f2da403da98830c89acc14b6",
            "24dab90b5e414305905900de94e321e1",
            "c16b045be4eb49d593679b55fb02aee6",
            "37b44e912e0e44088a0eed005abde705",
            "b2a8e2dfdd964d53b4ce11de7999454d",
            "a4277b2833da432387ca5497f40070b5",
            "dcef7c750ec14abf9e2714190254efbe",
            "fbc22777f90e4a9186ef20fc2b8a9644",
            "834660b46d5741aba1263803689c61d1",
            "fb80beff859743e1b87472813e833219",
            "e766a64dee6b424ab8012c54e597694f",
            "b62745c56b7543538c2b7da22e9e7a89",
            "fd8f25e4c56f4e35bb683fd3719d6f69",
            "dcff38a934c04060822212fe37f0d9df",
            "2e5a117a6a84498b8e7316d186b50a9c",
            "f767d2f9991649efbf5347ff139155f5",
            "c03aa5a49792413ba6eeec5bd46a5546",
            "6b69353451a24cc88d62dd8b2061ae16",
            "ac0a1abd44aa40a7845d2baa436cebd7",
            "4b7a00e57185413296ad62c7f6baa74c",
            "b93e57fc73cd4e5aa7f51e3af8a89fd7",
            "e0e12d9e55824d009bec55d3eef77a0b",
            "a4a8534513a4474ba0c19298527535e6",
            "d945bc55e0cd4f9cab00bf74d30f253a",
            "6f0689bdce5c459eb26d3c967d78bf8b",
            "a732f0f4ed394702a623343c4003d37a",
            "df4cc0aca68a46deb2ec16701031c543",
            "c736ea42605846dfbcbc4b2c334440bc",
            "446a3556f6ab4a86aad670132d2a3759",
            "3dec5ac6d38d4b27b0f8b25a0f040508",
            "0a90c72dc5a64274b5060ddba1fb5ef1"
          ]
        },
        "id": "MTZM6yTsDpp9",
        "outputId": "57b67820-f475-41a6-b239-d343906ea8da"
      },
      "outputs": [
        {
          "output_type": "display_data",
          "data": {
            "text/plain": [
              "tokenizer_config.json:   0%|          | 0.00/2.00 [00:00<?, ?B/s]"
            ],
            "application/vnd.jupyter.widget-view+json": {
              "version_major": 2,
              "version_minor": 0,
              "model_id": "b7d9ee595693486dbe35ed834a57adeb"
            }
          },
          "metadata": {}
        },
        {
          "output_type": "display_data",
          "data": {
            "text/plain": [
              "vocab.txt:   0%|          | 0.00/229k [00:00<?, ?B/s]"
            ],
            "application/vnd.jupyter.widget-view+json": {
              "version_major": 2,
              "version_minor": 0,
              "model_id": "bb4fac38efb6457384c1b3ab6bb3e4bd"
            }
          },
          "metadata": {}
        },
        {
          "output_type": "display_data",
          "data": {
            "text/plain": [
              "special_tokens_map.json:   0%|          | 0.00/112 [00:00<?, ?B/s]"
            ],
            "application/vnd.jupyter.widget-view+json": {
              "version_major": 2,
              "version_minor": 0,
              "model_id": "d462132515264959a2020abbd488f7df"
            }
          },
          "metadata": {}
        },
        {
          "output_type": "display_data",
          "data": {
            "text/plain": [
              "config.json:   0%|          | 0.00/1.53k [00:00<?, ?B/s]"
            ],
            "application/vnd.jupyter.widget-view+json": {
              "version_major": 2,
              "version_minor": 0,
              "model_id": "fb80beff859743e1b87472813e833219"
            }
          },
          "metadata": {}
        },
        {
          "output_type": "display_data",
          "data": {
            "text/plain": [
              "pytorch_model.bin:   0%|          | 0.00/498M [00:00<?, ?B/s]"
            ],
            "application/vnd.jupyter.widget-view+json": {
              "version_major": 2,
              "version_minor": 0,
              "model_id": "b93e57fc73cd4e5aa7f51e3af8a89fd7"
            }
          },
          "metadata": {}
        },
        {
          "output_type": "stream",
          "name": "stderr",
          "text": [
            "Some weights of BertForSequenceClassification were not initialized from the model checkpoint at indobenchmark/indobert-base-p1 and are newly initialized: ['classifier.bias', 'classifier.weight']\n",
            "You should probably TRAIN this model on a down-stream task to be able to use it for predictions and inference.\n"
          ]
        }
      ],
      "source": [
        "tokenizer = BertTokenizer.from_pretrained(\"indobenchmark/indobert-base-p1\")\n",
        "config = BertConfig.from_pretrained(\"indobenchmark/indobert-base-p1\")\n",
        "config.num_labels = 3\n",
        "\n",
        "\n",
        "model = BertForSequenceClassification.from_pretrained(\n",
        "    \"indobenchmark/indobert-base-p1\", config=config\n",
        ").to(device)"
      ]
    },
    {
      "cell_type": "code",
      "execution_count": 11,
      "metadata": {
        "id": "gWVni9adDpp9"
      },
      "outputs": [],
      "source": [
        "# freeze_layers(model.bert.embeddings)\n",
        "# freeze_layers(model.bert.encoder.layer[:-3])\n",
        "# freeze_layers(model.bert.encoder)"
      ]
    },
    {
      "cell_type": "code",
      "execution_count": 12,
      "metadata": {
        "colab": {
          "base_uri": "https://localhost:8080/"
        },
        "id": "GFyb0yTtDpp-",
        "outputId": "d5effb04-6509-4cd4-ab7f-3a78972a6987"
      },
      "outputs": [
        {
          "output_type": "stream",
          "name": "stderr",
          "text": [
            "We strongly recommend passing in an `attention_mask` since your input_ids may be padded. See https://huggingface.co/docs/transformers/troubleshooting#incorrect-output-when-padding-tokens-arent-masked.\n"
          ]
        },
        {
          "output_type": "execute_result",
          "data": {
            "text/plain": [
              "======================================================================================================================================\n",
              "Layer (type (var_name))                                                Input Shape      Output Shape     Param #          Trainable\n",
              "======================================================================================================================================\n",
              "BertForSequenceClassification (BertForSequenceClassification)          [1, 7]           [1, 3]           --               True\n",
              "├─BertModel (bert)                                                     [1, 7]           [1, 768]         --               True\n",
              "│    └─BertEmbeddings (embeddings)                                     --               [1, 7, 768]      --               True\n",
              "│    │    └─Embedding (word_embeddings)                                [1, 7]           [1, 7, 768]      38,400,000       True\n",
              "│    │    └─Embedding (token_type_embeddings)                          [1, 7]           [1, 7, 768]      1,536            True\n",
              "│    │    └─Embedding (position_embeddings)                            [1, 7]           [1, 7, 768]      393,216          True\n",
              "│    │    └─LayerNorm (LayerNorm)                                      [1, 7, 768]      [1, 7, 768]      1,536            True\n",
              "│    │    └─Dropout (dropout)                                          [1, 7, 768]      [1, 7, 768]      --               --\n",
              "│    └─BertEncoder (encoder)                                           [1, 7, 768]      [1, 7, 768]      --               True\n",
              "│    │    └─ModuleList (layer)                                         --               --               85,054,464       True\n",
              "│    └─BertPooler (pooler)                                             [1, 7, 768]      [1, 768]         --               True\n",
              "│    │    └─Linear (dense)                                             [1, 768]         [1, 768]         590,592          True\n",
              "│    │    └─Tanh (activation)                                          [1, 768]         [1, 768]         --               --\n",
              "├─Dropout (dropout)                                                    [1, 768]         [1, 768]         --               --\n",
              "├─Linear (classifier)                                                  [1, 768]         [1, 3]           2,307            True\n",
              "======================================================================================================================================\n",
              "Total params: 124,443,651\n",
              "Trainable params: 124,443,651\n",
              "Non-trainable params: 0\n",
              "Total mult-adds (M): 124.44\n",
              "======================================================================================================================================\n",
              "Input size (MB): 0.00\n",
              "Forward/backward pass size (MB): 5.86\n",
              "Params size (MB): 497.77\n",
              "Estimated Total Size (MB): 503.63\n",
              "======================================================================================================================================"
            ]
          },
          "metadata": {},
          "execution_count": 12
        }
      ],
      "source": [
        "summary(\n",
        "    model=model,\n",
        "    input_size=(1, 7),\n",
        "    dtypes=[torch.long],\n",
        "    col_names=[\"input_size\", \"output_size\", \"num_params\", \"trainable\"],\n",
        "    col_width=16,\n",
        "    row_settings=[\"var_names\"],\n",
        ")"
      ]
    },
    {
      "cell_type": "code",
      "execution_count": 13,
      "metadata": {
        "id": "bPcYiR2aDpp_"
      },
      "outputs": [],
      "source": [
        "train_path = \"tws-train-ori.csv\"\n",
        "test_path = \"tws-test-ori.csv\""
      ]
    },
    {
      "cell_type": "code",
      "execution_count": 14,
      "metadata": {
        "id": "ovwAjEbfDpqA"
      },
      "outputs": [],
      "source": [
        "train_dataset = DocumentSentimentDataset(train_path, tokenizer, lowercase=True)\n",
        "test_dataset = DocumentSentimentDataset(test_path, tokenizer, lowercase=True)"
      ]
    },
    {
      "cell_type": "code",
      "execution_count": 15,
      "metadata": {
        "id": "aOyzARHsDpqA"
      },
      "outputs": [],
      "source": [
        "BATCH_SIZE = 32\n",
        "NUM_WORKERS = os.cpu_count()\n",
        "\n",
        "train_dataloader = DocumentSentimentDataLoader(\n",
        "    dataset=train_dataset,\n",
        "    max_seq_len=512,\n",
        "    batch_size=BATCH_SIZE,\n",
        "    shuffle=True,\n",
        "    num_workers=NUM_WORKERS,\n",
        "    pin_memory=True,\n",
        ")\n",
        "\n",
        "test_dataloader = DocumentSentimentDataLoader(\n",
        "    dataset=test_dataset,\n",
        "    max_seq_len=512,\n",
        "    batch_size=BATCH_SIZE,\n",
        "    shuffle=False,\n",
        "    num_workers=NUM_WORKERS,\n",
        "    pin_memory=True,\n",
        ")"
      ]
    },
    {
      "cell_type": "code",
      "source": [
        "NUM_WORKERS"
      ],
      "metadata": {
        "colab": {
          "base_uri": "https://localhost:8080/"
        },
        "id": "7VdChUmsEXIh",
        "outputId": "02c2891e-26d8-4c31-b1e6-9ff9a27dd24a"
      },
      "execution_count": 16,
      "outputs": [
        {
          "output_type": "execute_result",
          "data": {
            "text/plain": [
              "2"
            ]
          },
          "metadata": {},
          "execution_count": 16
        }
      ]
    },
    {
      "cell_type": "code",
      "execution_count": 17,
      "metadata": {
        "colab": {
          "base_uri": "https://localhost:8080/"
        },
        "id": "aeV2sLORDpqB",
        "outputId": "5b4b730d-cb42-40a1-b414-e6d34202254d"
      },
      "outputs": [
        {
          "output_type": "execute_result",
          "data": {
            "text/plain": [
              "({'positive': 0, 'neutral': 1, 'negative': 2},\n",
              " {0: 'positive', 1: 'neutral', 2: 'negative'})"
            ]
          },
          "metadata": {},
          "execution_count": 17
        }
      ],
      "source": [
        "w2i, i2w = DocumentSentimentDataset.LABEL2INDEX, DocumentSentimentDataset.INDEX2LABEL\n",
        "w2i, i2w"
      ]
    },
    {
      "cell_type": "code",
      "execution_count": 18,
      "metadata": {
        "id": "STWVAHQvDpqB"
      },
      "outputs": [],
      "source": [
        "# Forward function for sequence classification\n",
        "def forward_sequence_classification(\n",
        "    model: BertForSequenceClassification,\n",
        "    batch_data,\n",
        "    i2w,\n",
        "    is_test=False,\n",
        "    device=device,\n",
        "    **kwargs,\n",
        "):\n",
        "    # Unpack batch data\n",
        "    if len(batch_data) == 3:\n",
        "        (subword_batch, mask_batch, label_batch) = batch_data\n",
        "        token_type_batch = None\n",
        "    elif len(batch_data) == 4:\n",
        "        (subword_batch, mask_batch, token_type_batch, label_batch) = batch_data\n",
        "\n",
        "    # Prepare input & label\n",
        "    subword_batch = torch.LongTensor(subword_batch)\n",
        "    mask_batch = torch.FloatTensor(mask_batch)\n",
        "    token_type_batch = (\n",
        "        torch.LongTensor(token_type_batch) if token_type_batch is not None else None\n",
        "    )\n",
        "    label_batch = torch.LongTensor(label_batch)\n",
        "\n",
        "    if device == \"cuda\":\n",
        "        subword_batch = subword_batch.cuda()\n",
        "        mask_batch = mask_batch.cuda()\n",
        "        token_type_batch = (\n",
        "            token_type_batch.cuda() if token_type_batch is not None else None\n",
        "        )\n",
        "        label_batch = label_batch.cuda()\n",
        "\n",
        "    # Forward model\n",
        "    outputs = model(\n",
        "        subword_batch,\n",
        "        attention_mask=mask_batch,\n",
        "        token_type_ids=token_type_batch,\n",
        "        labels=label_batch,\n",
        "    )\n",
        "    loss, logits = outputs[:2]\n",
        "\n",
        "    # generate prediction & label list\n",
        "    list_hyp = []\n",
        "    list_label = []\n",
        "    hyp = torch.topk(logits, 1)[1]\n",
        "    for j in range(len(hyp)):\n",
        "        list_hyp.append(i2w[hyp[j].item()])\n",
        "        list_label.append(i2w[label_batch[j][0].item()])\n",
        "\n",
        "    return loss, list_hyp, list_label"
      ]
    },
    {
      "cell_type": "code",
      "execution_count": 19,
      "metadata": {
        "id": "kYMyGPOVDpqB"
      },
      "outputs": [],
      "source": [
        "def document_sentiment_metrics_fn(list_hyp, list_label):\n",
        "    metrics = {}\n",
        "    metrics[\"ACC\"] = accuracy_score(list_label, list_hyp)\n",
        "    metrics[\"F1\"] = f1_score(list_label, list_hyp, average=\"macro\")\n",
        "    metrics[\"REC\"] = recall_score(list_label, list_hyp, average=\"macro\")\n",
        "    metrics[\"PRE\"] = precision_score(list_label, list_hyp, average=\"macro\")\n",
        "    return metrics"
      ]
    },
    {
      "cell_type": "code",
      "execution_count": 20,
      "metadata": {
        "id": "bbmXnpClDpqB"
      },
      "outputs": [],
      "source": [
        "optimizer = optim.Adam(\n",
        "    model.parameters(),\n",
        "    lr=3e-6,\n",
        "    weight_decay=0.3,\n",
        ")\n",
        "scheduler = torch.optim.lr_scheduler.ReduceLROnPlateau(optimizer, mode='min', factor=0.1, patience=3, threshold=0.0001, threshold_mode='abs')"
      ]
    },
    {
      "cell_type": "code",
      "execution_count": 21,
      "metadata": {
        "colab": {
          "base_uri": "https://localhost:8080/"
        },
        "id": "4v6C5cWLDpqB",
        "outputId": "c9adbaf1-385a-482e-8ae5-3f66d280a3a9"
      },
      "outputs": [
        {
          "output_type": "stream",
          "name": "stderr",
          "text": [
            "(Epoch 1) TRAIN LOSS:1.0414 LR:0.000003: 100%|██████████| 58/58 [00:10<00:00,  5.38it/s]\n"
          ]
        },
        {
          "output_type": "stream",
          "name": "stdout",
          "text": [
            "(Epoch 1) TRAIN LOSS:1.0414 ACC:0.49 F1:0.27 REC:0.35 PRE:0.32 LR:0.000003\n"
          ]
        },
        {
          "output_type": "stream",
          "name": "stderr",
          "text": [
            "VALID LOSS:0.6659 ACC:0.49 F1:0.27 REC:0.35 PRE:0.32: 100%|██████████| 15/15 [00:00<00:00, 17.05it/s]\n"
          ]
        },
        {
          "output_type": "stream",
          "name": "stdout",
          "text": [
            "(Epoch 1) VALID LOSS:0.6659 ACC:0.86 F1:0.31 REC:0.33 PRE:0.29\n"
          ]
        },
        {
          "output_type": "stream",
          "name": "stderr",
          "text": [
            "(Epoch 2) TRAIN LOSS:0.5888 LR:0.000003: 100%|██████████| 58/58 [00:10<00:00,  5.44it/s]\n"
          ]
        },
        {
          "output_type": "stream",
          "name": "stdout",
          "text": [
            "(Epoch 2) TRAIN LOSS:0.5888 ACC:0.86 F1:0.31 REC:0.34 PRE:0.62 LR:0.000003\n"
          ]
        },
        {
          "output_type": "stream",
          "name": "stderr",
          "text": [
            "VALID LOSS:0.5306 ACC:0.86 F1:0.31 REC:0.34 PRE:0.62: 100%|██████████| 15/15 [00:01<00:00, 13.88it/s]\n"
          ]
        },
        {
          "output_type": "stream",
          "name": "stdout",
          "text": [
            "(Epoch 2) VALID LOSS:0.5306 ACC:0.86 F1:0.31 REC:0.33 PRE:0.29\n"
          ]
        },
        {
          "output_type": "stream",
          "name": "stderr",
          "text": [
            "(Epoch 3) TRAIN LOSS:0.5187 LR:0.000003: 100%|██████████| 58/58 [00:10<00:00,  5.55it/s]\n"
          ]
        },
        {
          "output_type": "stream",
          "name": "stdout",
          "text": [
            "(Epoch 3) TRAIN LOSS:0.5187 ACC:0.86 F1:0.31 REC:0.33 PRE:0.29 LR:0.000003\n"
          ]
        },
        {
          "output_type": "stream",
          "name": "stderr",
          "text": [
            "VALID LOSS:0.4840 ACC:0.86 F1:0.31 REC:0.33 PRE:0.29: 100%|██████████| 15/15 [00:00<00:00, 19.95it/s]\n"
          ]
        },
        {
          "output_type": "stream",
          "name": "stdout",
          "text": [
            "(Epoch 3) VALID LOSS:0.4840 ACC:0.86 F1:0.31 REC:0.33 PRE:0.29\n"
          ]
        },
        {
          "output_type": "stream",
          "name": "stderr",
          "text": [
            "(Epoch 4) TRAIN LOSS:0.4791 LR:0.000003: 100%|██████████| 58/58 [00:08<00:00,  6.48it/s]\n"
          ]
        },
        {
          "output_type": "stream",
          "name": "stdout",
          "text": [
            "(Epoch 4) TRAIN LOSS:0.4791 ACC:0.86 F1:0.31 REC:0.34 PRE:0.62 LR:0.000003\n"
          ]
        },
        {
          "output_type": "stream",
          "name": "stderr",
          "text": [
            "VALID LOSS:0.4539 ACC:0.86 F1:0.31 REC:0.34 PRE:0.62: 100%|██████████| 15/15 [00:00<00:00, 16.51it/s]\n"
          ]
        },
        {
          "output_type": "stream",
          "name": "stdout",
          "text": [
            "(Epoch 4) VALID LOSS:0.4539 ACC:0.86 F1:0.31 REC:0.33 PRE:0.29\n"
          ]
        },
        {
          "output_type": "stream",
          "name": "stderr",
          "text": [
            "(Epoch 5) TRAIN LOSS:0.4481 LR:0.000003: 100%|██████████| 58/58 [00:09<00:00,  6.42it/s]\n"
          ]
        },
        {
          "output_type": "stream",
          "name": "stdout",
          "text": [
            "(Epoch 5) TRAIN LOSS:0.4481 ACC:0.86 F1:0.31 REC:0.33 PRE:0.29 LR:0.000003\n"
          ]
        },
        {
          "output_type": "stream",
          "name": "stderr",
          "text": [
            "VALID LOSS:0.4345 ACC:0.86 F1:0.31 REC:0.33 PRE:0.29: 100%|██████████| 15/15 [00:00<00:00, 18.72it/s]\n"
          ]
        },
        {
          "output_type": "stream",
          "name": "stdout",
          "text": [
            "(Epoch 5) VALID LOSS:0.4345 ACC:0.86 F1:0.31 REC:0.33 PRE:0.29\n"
          ]
        },
        {
          "output_type": "stream",
          "name": "stderr",
          "text": [
            "(Epoch 6) TRAIN LOSS:0.4311 LR:0.000003: 100%|██████████| 58/58 [00:09<00:00,  6.30it/s]\n"
          ]
        },
        {
          "output_type": "stream",
          "name": "stdout",
          "text": [
            "(Epoch 6) TRAIN LOSS:0.4311 ACC:0.86 F1:0.31 REC:0.33 PRE:0.29 LR:0.000003\n"
          ]
        },
        {
          "output_type": "stream",
          "name": "stderr",
          "text": [
            "VALID LOSS:0.4049 ACC:0.86 F1:0.31 REC:0.33 PRE:0.29: 100%|██████████| 15/15 [00:00<00:00, 18.45it/s]\n"
          ]
        },
        {
          "output_type": "stream",
          "name": "stdout",
          "text": [
            "(Epoch 6) VALID LOSS:0.4049 ACC:0.87 F1:0.33 REC:0.35 PRE:0.62\n"
          ]
        },
        {
          "output_type": "stream",
          "name": "stderr",
          "text": [
            "(Epoch 7) TRAIN LOSS:0.4042 LR:0.000003: 100%|██████████| 58/58 [00:09<00:00,  6.20it/s]\n"
          ]
        },
        {
          "output_type": "stream",
          "name": "stdout",
          "text": [
            "(Epoch 7) TRAIN LOSS:0.4042 ACC:0.86 F1:0.32 REC:0.34 PRE:0.34 LR:0.000003\n"
          ]
        },
        {
          "output_type": "stream",
          "name": "stderr",
          "text": [
            "VALID LOSS:0.3844 ACC:0.86 F1:0.32 REC:0.34 PRE:0.34: 100%|██████████| 15/15 [00:00<00:00, 18.55it/s]\n"
          ]
        },
        {
          "output_type": "stream",
          "name": "stdout",
          "text": [
            "(Epoch 7) VALID LOSS:0.3844 ACC:0.86 F1:0.33 REC:0.34 PRE:0.40\n"
          ]
        },
        {
          "output_type": "stream",
          "name": "stderr",
          "text": [
            "(Epoch 8) TRAIN LOSS:0.3849 LR:0.000003: 100%|██████████| 58/58 [00:09<00:00,  6.07it/s]\n"
          ]
        },
        {
          "output_type": "stream",
          "name": "stdout",
          "text": [
            "(Epoch 8) TRAIN LOSS:0.3849 ACC:0.86 F1:0.36 REC:0.36 PRE:0.38 LR:0.000003\n"
          ]
        },
        {
          "output_type": "stream",
          "name": "stderr",
          "text": [
            "VALID LOSS:0.3654 ACC:0.86 F1:0.36 REC:0.36 PRE:0.38: 100%|██████████| 15/15 [00:00<00:00, 18.00it/s]\n"
          ]
        },
        {
          "output_type": "stream",
          "name": "stdout",
          "text": [
            "(Epoch 8) VALID LOSS:0.3654 ACC:0.87 F1:0.37 REC:0.37 PRE:0.39\n"
          ]
        },
        {
          "output_type": "stream",
          "name": "stderr",
          "text": [
            "(Epoch 9) TRAIN LOSS:0.3724 LR:0.000003: 100%|██████████| 58/58 [00:09<00:00,  6.03it/s]\n"
          ]
        },
        {
          "output_type": "stream",
          "name": "stdout",
          "text": [
            "(Epoch 9) TRAIN LOSS:0.3724 ACC:0.86 F1:0.37 REC:0.37 PRE:0.39 LR:0.000003\n"
          ]
        },
        {
          "output_type": "stream",
          "name": "stderr",
          "text": [
            "VALID LOSS:0.3495 ACC:0.86 F1:0.37 REC:0.37 PRE:0.39: 100%|██████████| 15/15 [00:00<00:00, 17.71it/s]\n"
          ]
        },
        {
          "output_type": "stream",
          "name": "stdout",
          "text": [
            "(Epoch 9) VALID LOSS:0.3495 ACC:0.87 F1:0.39 REC:0.39 PRE:0.39\n"
          ]
        },
        {
          "output_type": "stream",
          "name": "stderr",
          "text": [
            "(Epoch 10) TRAIN LOSS:0.3550 LR:0.000003: 100%|██████████| 58/58 [00:09<00:00,  5.97it/s]\n"
          ]
        },
        {
          "output_type": "stream",
          "name": "stdout",
          "text": [
            "(Epoch 10) TRAIN LOSS:0.3550 ACC:0.87 F1:0.38 REC:0.38 PRE:0.47 LR:0.000003\n"
          ]
        },
        {
          "output_type": "stream",
          "name": "stderr",
          "text": [
            "VALID LOSS:0.3410 ACC:0.87 F1:0.38 REC:0.38 PRE:0.47: 100%|██████████| 15/15 [00:00<00:00, 15.45it/s]\n"
          ]
        },
        {
          "output_type": "stream",
          "name": "stdout",
          "text": [
            "(Epoch 10) VALID LOSS:0.3410 ACC:0.87 F1:0.41 REC:0.43 PRE:0.40\n"
          ]
        },
        {
          "output_type": "stream",
          "name": "stderr",
          "text": [
            "(Epoch 11) TRAIN LOSS:0.3405 LR:0.000003: 100%|██████████| 58/58 [00:09<00:00,  5.87it/s]\n"
          ]
        },
        {
          "output_type": "stream",
          "name": "stdout",
          "text": [
            "(Epoch 11) TRAIN LOSS:0.3405 ACC:0.87 F1:0.43 REC:0.42 PRE:0.59 LR:0.000003\n"
          ]
        },
        {
          "output_type": "stream",
          "name": "stderr",
          "text": [
            "VALID LOSS:0.3265 ACC:0.87 F1:0.43 REC:0.42 PRE:0.59: 100%|██████████| 15/15 [00:01<00:00,  9.92it/s]\n"
          ]
        },
        {
          "output_type": "stream",
          "name": "stdout",
          "text": [
            "(Epoch 11) VALID LOSS:0.3265 ACC:0.87 F1:0.43 REC:0.42 PRE:0.73\n"
          ]
        },
        {
          "output_type": "stream",
          "name": "stderr",
          "text": [
            "(Epoch 12) TRAIN LOSS:0.3379 LR:0.000003: 100%|██████████| 58/58 [00:10<00:00,  5.66it/s]\n"
          ]
        },
        {
          "output_type": "stream",
          "name": "stdout",
          "text": [
            "(Epoch 12) TRAIN LOSS:0.3379 ACC:0.87 F1:0.45 REC:0.43 PRE:0.57 LR:0.000003\n"
          ]
        },
        {
          "output_type": "stream",
          "name": "stderr",
          "text": [
            "VALID LOSS:0.3192 ACC:0.87 F1:0.45 REC:0.43 PRE:0.57: 100%|██████████| 15/15 [00:00<00:00, 18.52it/s]\n"
          ]
        },
        {
          "output_type": "stream",
          "name": "stdout",
          "text": [
            "(Epoch 12) VALID LOSS:0.3192 ACC:0.88 F1:0.49 REC:0.46 PRE:0.62\n"
          ]
        },
        {
          "output_type": "stream",
          "name": "stderr",
          "text": [
            "(Epoch 13) TRAIN LOSS:0.3321 LR:0.000003: 100%|██████████| 58/58 [00:09<00:00,  6.13it/s]\n"
          ]
        },
        {
          "output_type": "stream",
          "name": "stdout",
          "text": [
            "(Epoch 13) TRAIN LOSS:0.3321 ACC:0.87 F1:0.46 REC:0.44 PRE:0.55 LR:0.000003\n"
          ]
        },
        {
          "output_type": "stream",
          "name": "stderr",
          "text": [
            "VALID LOSS:0.3136 ACC:0.87 F1:0.46 REC:0.44 PRE:0.55: 100%|██████████| 15/15 [00:00<00:00, 18.53it/s]\n"
          ]
        },
        {
          "output_type": "stream",
          "name": "stdout",
          "text": [
            "(Epoch 13) VALID LOSS:0.3136 ACC:0.87 F1:0.47 REC:0.44 PRE:0.53\n"
          ]
        },
        {
          "output_type": "stream",
          "name": "stderr",
          "text": [
            "(Epoch 14) TRAIN LOSS:0.3219 LR:0.000003: 100%|██████████| 58/58 [00:09<00:00,  6.08it/s]\n"
          ]
        },
        {
          "output_type": "stream",
          "name": "stdout",
          "text": [
            "(Epoch 14) TRAIN LOSS:0.3219 ACC:0.87 F1:0.47 REC:0.45 PRE:0.54 LR:0.000003\n"
          ]
        },
        {
          "output_type": "stream",
          "name": "stderr",
          "text": [
            "VALID LOSS:0.3079 ACC:0.87 F1:0.47 REC:0.45 PRE:0.54: 100%|██████████| 15/15 [00:00<00:00, 18.41it/s]\n"
          ]
        },
        {
          "output_type": "stream",
          "name": "stdout",
          "text": [
            "(Epoch 14) VALID LOSS:0.3079 ACC:0.88 F1:0.50 REC:0.47 PRE:0.56\n"
          ]
        },
        {
          "output_type": "stream",
          "name": "stderr",
          "text": [
            "(Epoch 15) TRAIN LOSS:0.3195 LR:0.000003: 100%|██████████| 58/58 [00:09<00:00,  6.14it/s]\n"
          ]
        },
        {
          "output_type": "stream",
          "name": "stdout",
          "text": [
            "(Epoch 15) TRAIN LOSS:0.3195 ACC:0.88 F1:0.49 REC:0.45 PRE:0.56 LR:0.000003\n"
          ]
        },
        {
          "output_type": "stream",
          "name": "stderr",
          "text": [
            "VALID LOSS:0.3043 ACC:0.88 F1:0.49 REC:0.45 PRE:0.56: 100%|██████████| 15/15 [00:00<00:00, 18.52it/s]\n"
          ]
        },
        {
          "output_type": "stream",
          "name": "stdout",
          "text": [
            "(Epoch 15) VALID LOSS:0.3043 ACC:0.89 F1:0.55 REC:0.52 PRE:0.69\n"
          ]
        },
        {
          "output_type": "stream",
          "name": "stderr",
          "text": [
            "(Epoch 16) TRAIN LOSS:0.3157 LR:0.000003: 100%|██████████| 58/58 [00:09<00:00,  6.08it/s]\n"
          ]
        },
        {
          "output_type": "stream",
          "name": "stdout",
          "text": [
            "(Epoch 16) TRAIN LOSS:0.3157 ACC:0.89 F1:0.52 REC:0.49 PRE:0.59 LR:0.000003\n"
          ]
        },
        {
          "output_type": "stream",
          "name": "stderr",
          "text": [
            "VALID LOSS:0.3013 ACC:0.89 F1:0.52 REC:0.49 PRE:0.59: 100%|██████████| 15/15 [00:00<00:00, 18.01it/s]\n"
          ]
        },
        {
          "output_type": "stream",
          "name": "stdout",
          "text": [
            "(Epoch 16) VALID LOSS:0.3013 ACC:0.89 F1:0.54 REC:0.53 PRE:0.72\n"
          ]
        },
        {
          "output_type": "stream",
          "name": "stderr",
          "text": [
            "(Epoch 17) TRAIN LOSS:0.3072 LR:0.000003: 100%|██████████| 58/58 [00:09<00:00,  6.15it/s]\n"
          ]
        },
        {
          "output_type": "stream",
          "name": "stdout",
          "text": [
            "(Epoch 17) TRAIN LOSS:0.3072 ACC:0.89 F1:0.51 REC:0.49 PRE:0.56 LR:0.000003\n"
          ]
        },
        {
          "output_type": "stream",
          "name": "stderr",
          "text": [
            "VALID LOSS:0.3007 ACC:0.89 F1:0.51 REC:0.49 PRE:0.56: 100%|██████████| 15/15 [00:00<00:00, 15.74it/s]\n"
          ]
        },
        {
          "output_type": "stream",
          "name": "stdout",
          "text": [
            "(Epoch 17) VALID LOSS:0.3007 ACC:0.89 F1:0.50 REC:0.49 PRE:0.82\n"
          ]
        },
        {
          "output_type": "stream",
          "name": "stderr",
          "text": [
            "(Epoch 18) TRAIN LOSS:0.3052 LR:0.000003: 100%|██████████| 58/58 [00:09<00:00,  6.13it/s]\n"
          ]
        },
        {
          "output_type": "stream",
          "name": "stdout",
          "text": [
            "(Epoch 18) TRAIN LOSS:0.3052 ACC:0.89 F1:0.52 REC:0.50 PRE:0.58 LR:0.000003\n"
          ]
        },
        {
          "output_type": "stream",
          "name": "stderr",
          "text": [
            "VALID LOSS:0.2971 ACC:0.89 F1:0.52 REC:0.50 PRE:0.58: 100%|██████████| 15/15 [00:00<00:00, 18.28it/s]\n"
          ]
        },
        {
          "output_type": "stream",
          "name": "stdout",
          "text": [
            "(Epoch 18) VALID LOSS:0.2971 ACC:0.89 F1:0.52 REC:0.52 PRE:0.82\n"
          ]
        },
        {
          "output_type": "stream",
          "name": "stderr",
          "text": [
            "(Epoch 19) TRAIN LOSS:0.3036 LR:0.000003: 100%|██████████| 58/58 [00:09<00:00,  6.03it/s]\n"
          ]
        },
        {
          "output_type": "stream",
          "name": "stdout",
          "text": [
            "(Epoch 19) TRAIN LOSS:0.3036 ACC:0.89 F1:0.53 REC:0.50 PRE:0.60 LR:0.000003\n"
          ]
        },
        {
          "output_type": "stream",
          "name": "stderr",
          "text": [
            "VALID LOSS:0.2956 ACC:0.89 F1:0.53 REC:0.50 PRE:0.60: 100%|██████████| 15/15 [00:00<00:00, 18.13it/s]\n"
          ]
        },
        {
          "output_type": "stream",
          "name": "stdout",
          "text": [
            "(Epoch 19) VALID LOSS:0.2956 ACC:0.90 F1:0.53 REC:0.54 PRE:0.82\n"
          ]
        },
        {
          "output_type": "stream",
          "name": "stderr",
          "text": [
            "(Epoch 20) TRAIN LOSS:0.2990 LR:0.000003: 100%|██████████| 58/58 [00:09<00:00,  6.07it/s]\n"
          ]
        },
        {
          "output_type": "stream",
          "name": "stdout",
          "text": [
            "(Epoch 20) TRAIN LOSS:0.2990 ACC:0.90 F1:0.53 REC:0.53 PRE:0.59 LR:0.000003\n"
          ]
        },
        {
          "output_type": "stream",
          "name": "stderr",
          "text": [
            "VALID LOSS:0.2935 ACC:0.90 F1:0.53 REC:0.53 PRE:0.59: 100%|██████████| 15/15 [00:00<00:00, 18.04it/s]\n"
          ]
        },
        {
          "output_type": "stream",
          "name": "stdout",
          "text": [
            "(Epoch 20) VALID LOSS:0.2935 ACC:0.89 F1:0.50 REC:0.52 PRE:0.48\n"
          ]
        },
        {
          "output_type": "stream",
          "name": "stderr",
          "text": [
            "(Epoch 21) TRAIN LOSS:0.2983 LR:0.000003: 100%|██████████| 58/58 [00:09<00:00,  6.04it/s]\n"
          ]
        },
        {
          "output_type": "stream",
          "name": "stdout",
          "text": [
            "(Epoch 21) TRAIN LOSS:0.2983 ACC:0.89 F1:0.51 REC:0.51 PRE:0.54 LR:0.000003\n"
          ]
        },
        {
          "output_type": "stream",
          "name": "stderr",
          "text": [
            "VALID LOSS:0.2915 ACC:0.89 F1:0.51 REC:0.51 PRE:0.54: 100%|██████████| 15/15 [00:00<00:00, 18.26it/s]\n"
          ]
        },
        {
          "output_type": "stream",
          "name": "stdout",
          "text": [
            "(Epoch 21) VALID LOSS:0.2915 ACC:0.89 F1:0.50 REC:0.51 PRE:0.48\n"
          ]
        },
        {
          "output_type": "stream",
          "name": "stderr",
          "text": [
            "(Epoch 22) TRAIN LOSS:0.2922 LR:0.000003: 100%|██████████| 58/58 [00:09<00:00,  6.08it/s]\n"
          ]
        },
        {
          "output_type": "stream",
          "name": "stdout",
          "text": [
            "(Epoch 22) TRAIN LOSS:0.2922 ACC:0.90 F1:0.55 REC:0.54 PRE:0.69 LR:0.000003\n"
          ]
        },
        {
          "output_type": "stream",
          "name": "stderr",
          "text": [
            "VALID LOSS:0.2919 ACC:0.90 F1:0.55 REC:0.54 PRE:0.69: 100%|██████████| 15/15 [00:00<00:00, 18.34it/s]\n"
          ]
        },
        {
          "output_type": "stream",
          "name": "stdout",
          "text": [
            "(Epoch 22) VALID LOSS:0.2919 ACC:0.90 F1:0.52 REC:0.55 PRE:0.49\n"
          ]
        },
        {
          "output_type": "stream",
          "name": "stderr",
          "text": [
            "(Epoch 23) TRAIN LOSS:0.2886 LR:0.000003: 100%|██████████| 58/58 [00:09<00:00,  6.18it/s]\n"
          ]
        },
        {
          "output_type": "stream",
          "name": "stdout",
          "text": [
            "(Epoch 23) TRAIN LOSS:0.2886 ACC:0.90 F1:0.55 REC:0.54 PRE:0.62 LR:0.000003\n"
          ]
        },
        {
          "output_type": "stream",
          "name": "stderr",
          "text": [
            "VALID LOSS:0.2901 ACC:0.90 F1:0.55 REC:0.54 PRE:0.62: 100%|██████████| 15/15 [00:00<00:00, 16.61it/s]\n"
          ]
        },
        {
          "output_type": "stream",
          "name": "stdout",
          "text": [
            "(Epoch 23) VALID LOSS:0.2901 ACC:0.90 F1:0.51 REC:0.54 PRE:0.49\n"
          ]
        },
        {
          "output_type": "stream",
          "name": "stderr",
          "text": [
            "(Epoch 24) TRAIN LOSS:0.2883 LR:0.000003: 100%|██████████| 58/58 [00:09<00:00,  6.24it/s]\n"
          ]
        },
        {
          "output_type": "stream",
          "name": "stdout",
          "text": [
            "(Epoch 24) TRAIN LOSS:0.2883 ACC:0.90 F1:0.54 REC:0.54 PRE:0.63 LR:0.000003\n"
          ]
        },
        {
          "output_type": "stream",
          "name": "stderr",
          "text": [
            "VALID LOSS:0.2886 ACC:0.90 F1:0.54 REC:0.54 PRE:0.63: 100%|██████████| 15/15 [00:00<00:00, 15.13it/s]\n"
          ]
        },
        {
          "output_type": "stream",
          "name": "stdout",
          "text": [
            "(Epoch 24) VALID LOSS:0.2886 ACC:0.90 F1:0.51 REC:0.54 PRE:0.49\n"
          ]
        },
        {
          "output_type": "stream",
          "name": "stderr",
          "text": [
            "(Epoch 25) TRAIN LOSS:0.2882 LR:0.000003: 100%|██████████| 58/58 [00:09<00:00,  6.10it/s]\n"
          ]
        },
        {
          "output_type": "stream",
          "name": "stdout",
          "text": [
            "(Epoch 25) TRAIN LOSS:0.2882 ACC:0.90 F1:0.53 REC:0.54 PRE:0.58 LR:0.000003\n"
          ]
        },
        {
          "output_type": "stream",
          "name": "stderr",
          "text": [
            "VALID LOSS:0.2939 ACC:0.90 F1:0.53 REC:0.54 PRE:0.58: 100%|██████████| 15/15 [00:00<00:00, 18.28it/s]\n"
          ]
        },
        {
          "output_type": "stream",
          "name": "stdout",
          "text": [
            "(Epoch 25) VALID LOSS:0.2939 ACC:0.91 F1:0.55 REC:0.60 PRE:0.51\n"
          ]
        },
        {
          "output_type": "stream",
          "name": "stderr",
          "text": [
            "(Epoch 26) TRAIN LOSS:0.2879 LR:0.000003: 100%|██████████| 58/58 [00:09<00:00,  6.11it/s]\n"
          ]
        },
        {
          "output_type": "stream",
          "name": "stdout",
          "text": [
            "(Epoch 26) TRAIN LOSS:0.2879 ACC:0.90 F1:0.52 REC:0.53 PRE:0.61 LR:0.000003\n"
          ]
        },
        {
          "output_type": "stream",
          "name": "stderr",
          "text": [
            "VALID LOSS:0.2865 ACC:0.90 F1:0.52 REC:0.53 PRE:0.61: 100%|██████████| 15/15 [00:00<00:00, 18.11it/s]\n"
          ]
        },
        {
          "output_type": "stream",
          "name": "stdout",
          "text": [
            "(Epoch 26) VALID LOSS:0.2865 ACC:0.89 F1:0.50 REC:0.51 PRE:0.48\n"
          ]
        },
        {
          "output_type": "stream",
          "name": "stderr",
          "text": [
            "(Epoch 27) TRAIN LOSS:0.2861 LR:0.000003: 100%|██████████| 58/58 [00:09<00:00,  6.08it/s]\n"
          ]
        },
        {
          "output_type": "stream",
          "name": "stdout",
          "text": [
            "(Epoch 27) TRAIN LOSS:0.2861 ACC:0.90 F1:0.54 REC:0.55 PRE:0.62 LR:0.000003\n"
          ]
        },
        {
          "output_type": "stream",
          "name": "stderr",
          "text": [
            "VALID LOSS:0.2863 ACC:0.90 F1:0.54 REC:0.55 PRE:0.62: 100%|██████████| 15/15 [00:00<00:00, 18.30it/s]\n"
          ]
        },
        {
          "output_type": "stream",
          "name": "stdout",
          "text": [
            "(Epoch 27) VALID LOSS:0.2863 ACC:0.89 F1:0.51 REC:0.53 PRE:0.49\n"
          ]
        },
        {
          "output_type": "stream",
          "name": "stderr",
          "text": [
            "(Epoch 28) TRAIN LOSS:0.2779 LR:0.000003: 100%|██████████| 58/58 [00:09<00:00,  6.13it/s]\n"
          ]
        },
        {
          "output_type": "stream",
          "name": "stdout",
          "text": [
            "(Epoch 28) TRAIN LOSS:0.2779 ACC:0.90 F1:0.53 REC:0.54 PRE:0.73 LR:0.000003\n"
          ]
        },
        {
          "output_type": "stream",
          "name": "stderr",
          "text": [
            "VALID LOSS:0.2864 ACC:0.90 F1:0.53 REC:0.54 PRE:0.73: 100%|██████████| 15/15 [00:00<00:00, 18.31it/s]\n"
          ]
        },
        {
          "output_type": "stream",
          "name": "stdout",
          "text": [
            "(Epoch 28) VALID LOSS:0.2864 ACC:0.90 F1:0.53 REC:0.56 PRE:0.50\n"
          ]
        },
        {
          "output_type": "stream",
          "name": "stderr",
          "text": [
            "(Epoch 29) TRAIN LOSS:0.2796 LR:0.000003: 100%|██████████| 58/58 [00:09<00:00,  6.15it/s]\n"
          ]
        },
        {
          "output_type": "stream",
          "name": "stdout",
          "text": [
            "(Epoch 29) TRAIN LOSS:0.2796 ACC:0.90 F1:0.54 REC:0.54 PRE:0.61 LR:0.000003\n"
          ]
        },
        {
          "output_type": "stream",
          "name": "stderr",
          "text": [
            "VALID LOSS:0.2846 ACC:0.90 F1:0.54 REC:0.54 PRE:0.61: 100%|██████████| 15/15 [00:00<00:00, 17.95it/s]\n"
          ]
        },
        {
          "output_type": "stream",
          "name": "stdout",
          "text": [
            "(Epoch 29) VALID LOSS:0.2846 ACC:0.89 F1:0.50 REC:0.52 PRE:0.48\n"
          ]
        },
        {
          "output_type": "stream",
          "name": "stderr",
          "text": [
            "(Epoch 30) TRAIN LOSS:0.2792 LR:0.000003: 100%|██████████| 58/58 [00:09<00:00,  6.24it/s]\n"
          ]
        },
        {
          "output_type": "stream",
          "name": "stdout",
          "text": [
            "(Epoch 30) TRAIN LOSS:0.2792 ACC:0.90 F1:0.52 REC:0.53 PRE:0.54 LR:0.000003\n"
          ]
        },
        {
          "output_type": "stream",
          "name": "stderr",
          "text": [
            "VALID LOSS:0.2835 ACC:0.90 F1:0.52 REC:0.53 PRE:0.54: 100%|██████████| 15/15 [00:00<00:00, 15.59it/s]\n"
          ]
        },
        {
          "output_type": "stream",
          "name": "stdout",
          "text": [
            "(Epoch 30) VALID LOSS:0.2835 ACC:0.89 F1:0.50 REC:0.52 PRE:0.48\n"
          ]
        },
        {
          "output_type": "stream",
          "name": "stderr",
          "text": [
            "(Epoch 31) TRAIN LOSS:0.2778 LR:0.000003: 100%|██████████| 58/58 [00:09<00:00,  5.99it/s]\n"
          ]
        },
        {
          "output_type": "stream",
          "name": "stdout",
          "text": [
            "(Epoch 31) TRAIN LOSS:0.2778 ACC:0.90 F1:0.52 REC:0.54 PRE:0.50 LR:0.000003\n"
          ]
        },
        {
          "output_type": "stream",
          "name": "stderr",
          "text": [
            "VALID LOSS:0.2910 ACC:0.90 F1:0.52 REC:0.54 PRE:0.50: 100%|██████████| 15/15 [00:00<00:00, 17.87it/s]\n"
          ]
        },
        {
          "output_type": "stream",
          "name": "stdout",
          "text": [
            "(Epoch 31) VALID LOSS:0.2910 ACC:0.91 F1:0.55 REC:0.60 PRE:0.51\n"
          ]
        },
        {
          "output_type": "stream",
          "name": "stderr",
          "text": [
            "(Epoch 32) TRAIN LOSS:0.2799 LR:0.000003: 100%|██████████| 58/58 [00:09<00:00,  6.09it/s]\n"
          ]
        },
        {
          "output_type": "stream",
          "name": "stdout",
          "text": [
            "(Epoch 32) TRAIN LOSS:0.2799 ACC:0.90 F1:0.55 REC:0.56 PRE:0.70 LR:0.000003\n"
          ]
        },
        {
          "output_type": "stream",
          "name": "stderr",
          "text": [
            "VALID LOSS:0.2818 ACC:0.90 F1:0.55 REC:0.56 PRE:0.70: 100%|██████████| 15/15 [00:00<00:00, 18.11it/s]\n"
          ]
        },
        {
          "output_type": "stream",
          "name": "stdout",
          "text": [
            "(Epoch 32) VALID LOSS:0.2818 ACC:0.89 F1:0.51 REC:0.53 PRE:0.49\n"
          ]
        },
        {
          "output_type": "stream",
          "name": "stderr",
          "text": [
            "(Epoch 33) TRAIN LOSS:0.2776 LR:0.000003: 100%|██████████| 58/58 [00:09<00:00,  6.15it/s]\n"
          ]
        },
        {
          "output_type": "stream",
          "name": "stdout",
          "text": [
            "(Epoch 33) TRAIN LOSS:0.2776 ACC:0.90 F1:0.53 REC:0.56 PRE:0.62 LR:0.000003\n"
          ]
        },
        {
          "output_type": "stream",
          "name": "stderr",
          "text": [
            "VALID LOSS:0.2819 ACC:0.90 F1:0.53 REC:0.56 PRE:0.62: 100%|██████████| 15/15 [00:00<00:00, 17.83it/s]\n"
          ]
        },
        {
          "output_type": "stream",
          "name": "stdout",
          "text": [
            "(Epoch 33) VALID LOSS:0.2819 ACC:0.89 F1:0.50 REC:0.52 PRE:0.48\n"
          ]
        },
        {
          "output_type": "stream",
          "name": "stderr",
          "text": [
            "(Epoch 34) TRAIN LOSS:0.2723 LR:0.000003: 100%|██████████| 58/58 [00:09<00:00,  6.21it/s]\n"
          ]
        },
        {
          "output_type": "stream",
          "name": "stdout",
          "text": [
            "(Epoch 34) TRAIN LOSS:0.2723 ACC:0.90 F1:0.53 REC:0.54 PRE:0.60 LR:0.000003\n"
          ]
        },
        {
          "output_type": "stream",
          "name": "stderr",
          "text": [
            "VALID LOSS:0.2821 ACC:0.90 F1:0.53 REC:0.54 PRE:0.60: 100%|██████████| 15/15 [00:00<00:00, 18.02it/s]\n"
          ]
        },
        {
          "output_type": "stream",
          "name": "stdout",
          "text": [
            "(Epoch 34) VALID LOSS:0.2821 ACC:0.89 F1:0.50 REC:0.52 PRE:0.49\n"
          ]
        },
        {
          "output_type": "stream",
          "name": "stderr",
          "text": [
            "(Epoch 35) TRAIN LOSS:0.2714 LR:0.000003: 100%|██████████| 58/58 [00:09<00:00,  6.09it/s]\n"
          ]
        },
        {
          "output_type": "stream",
          "name": "stdout",
          "text": [
            "(Epoch 35) TRAIN LOSS:0.2714 ACC:0.90 F1:0.54 REC:0.55 PRE:0.84 LR:0.000003\n"
          ]
        },
        {
          "output_type": "stream",
          "name": "stderr",
          "text": [
            "VALID LOSS:0.2811 ACC:0.90 F1:0.54 REC:0.55 PRE:0.84: 100%|██████████| 15/15 [00:00<00:00, 18.54it/s]\n"
          ]
        },
        {
          "output_type": "stream",
          "name": "stdout",
          "text": [
            "(Epoch 35) VALID LOSS:0.2811 ACC:0.90 F1:0.51 REC:0.54 PRE:0.49\n"
          ]
        },
        {
          "output_type": "stream",
          "name": "stderr",
          "text": [
            "(Epoch 36) TRAIN LOSS:0.2676 LR:0.000003: 100%|██████████| 58/58 [00:09<00:00,  6.10it/s]\n"
          ]
        },
        {
          "output_type": "stream",
          "name": "stdout",
          "text": [
            "(Epoch 36) TRAIN LOSS:0.2676 ACC:0.90 F1:0.53 REC:0.55 PRE:0.57 LR:0.000003\n"
          ]
        },
        {
          "output_type": "stream",
          "name": "stderr",
          "text": [
            "VALID LOSS:0.2810 ACC:0.90 F1:0.53 REC:0.55 PRE:0.57: 100%|██████████| 15/15 [00:00<00:00, 15.98it/s]\n"
          ]
        },
        {
          "output_type": "stream",
          "name": "stdout",
          "text": [
            "(Epoch 36) VALID LOSS:0.2810 ACC:0.90 F1:0.54 REC:0.59 PRE:0.51\n"
          ]
        },
        {
          "output_type": "stream",
          "name": "stderr",
          "text": [
            "(Epoch 37) TRAIN LOSS:0.2696 LR:0.000003: 100%|██████████| 58/58 [00:09<00:00,  6.14it/s]\n"
          ]
        },
        {
          "output_type": "stream",
          "name": "stdout",
          "text": [
            "(Epoch 37) TRAIN LOSS:0.2696 ACC:0.90 F1:0.54 REC:0.55 PRE:0.64 LR:0.000003\n"
          ]
        },
        {
          "output_type": "stream",
          "name": "stderr",
          "text": [
            "VALID LOSS:0.2816 ACC:0.90 F1:0.54 REC:0.55 PRE:0.64: 100%|██████████| 15/15 [00:00<00:00, 17.53it/s]\n"
          ]
        },
        {
          "output_type": "stream",
          "name": "stdout",
          "text": [
            "(Epoch 37) VALID LOSS:0.2816 ACC:0.90 F1:0.54 REC:0.59 PRE:0.51\n"
          ]
        },
        {
          "output_type": "stream",
          "name": "stderr",
          "text": [
            "(Epoch 38) TRAIN LOSS:0.2709 LR:0.000003: 100%|██████████| 58/58 [00:09<00:00,  6.06it/s]\n"
          ]
        },
        {
          "output_type": "stream",
          "name": "stdout",
          "text": [
            "(Epoch 38) TRAIN LOSS:0.2709 ACC:0.91 F1:0.56 REC:0.57 PRE:0.77 LR:0.000003\n"
          ]
        },
        {
          "output_type": "stream",
          "name": "stderr",
          "text": [
            "VALID LOSS:0.2807 ACC:0.91 F1:0.56 REC:0.57 PRE:0.77: 100%|██████████| 15/15 [00:00<00:00, 17.73it/s]\n"
          ]
        },
        {
          "output_type": "stream",
          "name": "stdout",
          "text": [
            "(Epoch 38) VALID LOSS:0.2807 ACC:0.89 F1:0.50 REC:0.51 PRE:0.48\n"
          ]
        },
        {
          "output_type": "stream",
          "name": "stderr",
          "text": [
            "(Epoch 39) TRAIN LOSS:0.2725 LR:0.000003: 100%|██████████| 58/58 [00:09<00:00,  6.05it/s]\n"
          ]
        },
        {
          "output_type": "stream",
          "name": "stdout",
          "text": [
            "(Epoch 39) TRAIN LOSS:0.2725 ACC:0.90 F1:0.53 REC:0.56 PRE:0.51 LR:0.000003\n"
          ]
        },
        {
          "output_type": "stream",
          "name": "stderr",
          "text": [
            "VALID LOSS:0.2797 ACC:0.90 F1:0.53 REC:0.56 PRE:0.51: 100%|██████████| 15/15 [00:00<00:00, 17.55it/s]\n"
          ]
        },
        {
          "output_type": "stream",
          "name": "stdout",
          "text": [
            "(Epoch 39) VALID LOSS:0.2797 ACC:0.90 F1:0.52 REC:0.55 PRE:0.50\n"
          ]
        },
        {
          "output_type": "stream",
          "name": "stderr",
          "text": [
            "(Epoch 40) TRAIN LOSS:0.2650 LR:0.000003: 100%|██████████| 58/58 [00:09<00:00,  6.20it/s]\n"
          ]
        },
        {
          "output_type": "stream",
          "name": "stdout",
          "text": [
            "(Epoch 40) TRAIN LOSS:0.2650 ACC:0.91 F1:0.56 REC:0.56 PRE:0.66 LR:0.000003\n"
          ]
        },
        {
          "output_type": "stream",
          "name": "stderr",
          "text": [
            "VALID LOSS:0.2803 ACC:0.91 F1:0.56 REC:0.56 PRE:0.66: 100%|██████████| 15/15 [00:00<00:00, 18.00it/s]\n"
          ]
        },
        {
          "output_type": "stream",
          "name": "stdout",
          "text": [
            "(Epoch 40) VALID LOSS:0.2803 ACC:0.90 F1:0.53 REC:0.57 PRE:0.50\n"
          ]
        },
        {
          "output_type": "stream",
          "name": "stderr",
          "text": [
            "(Epoch 41) TRAIN LOSS:0.2668 LR:0.000003: 100%|██████████| 58/58 [00:09<00:00,  6.09it/s]\n"
          ]
        },
        {
          "output_type": "stream",
          "name": "stdout",
          "text": [
            "(Epoch 41) TRAIN LOSS:0.2668 ACC:0.91 F1:0.54 REC:0.56 PRE:0.85 LR:0.000003\n"
          ]
        },
        {
          "output_type": "stream",
          "name": "stderr",
          "text": [
            "VALID LOSS:0.2794 ACC:0.91 F1:0.54 REC:0.56 PRE:0.85: 100%|██████████| 15/15 [00:00<00:00, 18.10it/s]\n"
          ]
        },
        {
          "output_type": "stream",
          "name": "stdout",
          "text": [
            "(Epoch 41) VALID LOSS:0.2794 ACC:0.89 F1:0.51 REC:0.54 PRE:0.49\n"
          ]
        },
        {
          "output_type": "stream",
          "name": "stderr",
          "text": [
            "(Epoch 42) TRAIN LOSS:0.2682 LR:0.000003: 100%|██████████| 58/58 [00:09<00:00,  6.09it/s]\n"
          ]
        },
        {
          "output_type": "stream",
          "name": "stdout",
          "text": [
            "(Epoch 42) TRAIN LOSS:0.2682 ACC:0.90 F1:0.54 REC:0.55 PRE:0.68 LR:0.000003\n"
          ]
        },
        {
          "output_type": "stream",
          "name": "stderr",
          "text": [
            "VALID LOSS:0.2818 ACC:0.90 F1:0.54 REC:0.55 PRE:0.68: 100%|██████████| 15/15 [00:00<00:00, 16.56it/s]\n"
          ]
        },
        {
          "output_type": "stream",
          "name": "stdout",
          "text": [
            "(Epoch 42) VALID LOSS:0.2818 ACC:0.90 F1:0.53 REC:0.58 PRE:0.50\n"
          ]
        },
        {
          "output_type": "stream",
          "name": "stderr",
          "text": [
            "(Epoch 43) TRAIN LOSS:0.2630 LR:0.000003: 100%|██████████| 58/58 [00:09<00:00,  6.10it/s]\n"
          ]
        },
        {
          "output_type": "stream",
          "name": "stdout",
          "text": [
            "(Epoch 43) TRAIN LOSS:0.2630 ACC:0.91 F1:0.56 REC:0.57 PRE:0.68 LR:0.000003\n"
          ]
        },
        {
          "output_type": "stream",
          "name": "stderr",
          "text": [
            "VALID LOSS:0.2805 ACC:0.91 F1:0.56 REC:0.57 PRE:0.68: 100%|██████████| 15/15 [00:00<00:00, 15.44it/s]\n"
          ]
        },
        {
          "output_type": "stream",
          "name": "stdout",
          "text": [
            "(Epoch 43) VALID LOSS:0.2805 ACC:0.89 F1:0.50 REC:0.51 PRE:0.49\n"
          ]
        },
        {
          "output_type": "stream",
          "name": "stderr",
          "text": [
            "(Epoch 44) TRAIN LOSS:0.2620 LR:0.000003: 100%|██████████| 58/58 [00:09<00:00,  6.05it/s]\n"
          ]
        },
        {
          "output_type": "stream",
          "name": "stdout",
          "text": [
            "(Epoch 44) TRAIN LOSS:0.2620 ACC:0.90 F1:0.53 REC:0.55 PRE:0.84 LR:0.000003\n"
          ]
        },
        {
          "output_type": "stream",
          "name": "stderr",
          "text": [
            "VALID LOSS:0.2790 ACC:0.90 F1:0.53 REC:0.55 PRE:0.84: 100%|██████████| 15/15 [00:00<00:00, 18.08it/s]\n"
          ]
        },
        {
          "output_type": "stream",
          "name": "stdout",
          "text": [
            "(Epoch 44) VALID LOSS:0.2790 ACC:0.90 F1:0.51 REC:0.54 PRE:0.49\n"
          ]
        },
        {
          "output_type": "stream",
          "name": "stderr",
          "text": [
            "(Epoch 45) TRAIN LOSS:0.2657 LR:0.000003: 100%|██████████| 58/58 [00:09<00:00,  6.10it/s]\n"
          ]
        },
        {
          "output_type": "stream",
          "name": "stdout",
          "text": [
            "(Epoch 45) TRAIN LOSS:0.2657 ACC:0.90 F1:0.53 REC:0.55 PRE:0.51 LR:0.000003\n"
          ]
        },
        {
          "output_type": "stream",
          "name": "stderr",
          "text": [
            "VALID LOSS:0.2805 ACC:0.90 F1:0.53 REC:0.55 PRE:0.51: 100%|██████████| 15/15 [00:00<00:00, 17.87it/s]\n"
          ]
        },
        {
          "output_type": "stream",
          "name": "stdout",
          "text": [
            "(Epoch 45) VALID LOSS:0.2805 ACC:0.89 F1:0.50 REC:0.51 PRE:0.48\n"
          ]
        },
        {
          "output_type": "stream",
          "name": "stderr",
          "text": [
            "(Epoch 46) TRAIN LOSS:0.2631 LR:0.000003: 100%|██████████| 58/58 [00:09<00:00,  6.10it/s]\n"
          ]
        },
        {
          "output_type": "stream",
          "name": "stdout",
          "text": [
            "(Epoch 46) TRAIN LOSS:0.2631 ACC:0.91 F1:0.54 REC:0.56 PRE:0.52 LR:0.000003\n"
          ]
        },
        {
          "output_type": "stream",
          "name": "stderr",
          "text": [
            "VALID LOSS:0.2789 ACC:0.91 F1:0.54 REC:0.56 PRE:0.52: 100%|██████████| 15/15 [00:00<00:00, 18.15it/s]\n"
          ]
        },
        {
          "output_type": "stream",
          "name": "stdout",
          "text": [
            "(Epoch 46) VALID LOSS:0.2789 ACC:0.90 F1:0.52 REC:0.55 PRE:0.49\n"
          ]
        },
        {
          "output_type": "stream",
          "name": "stderr",
          "text": [
            "(Epoch 47) TRAIN LOSS:0.2667 LR:0.000003: 100%|██████████| 58/58 [00:09<00:00,  6.08it/s]\n"
          ]
        },
        {
          "output_type": "stream",
          "name": "stdout",
          "text": [
            "(Epoch 47) TRAIN LOSS:0.2667 ACC:0.90 F1:0.54 REC:0.56 PRE:0.84 LR:0.000003\n"
          ]
        },
        {
          "output_type": "stream",
          "name": "stderr",
          "text": [
            "VALID LOSS:0.2870 ACC:0.90 F1:0.54 REC:0.56 PRE:0.84: 100%|██████████| 15/15 [00:00<00:00, 17.89it/s]\n"
          ]
        },
        {
          "output_type": "stream",
          "name": "stdout",
          "text": [
            "(Epoch 47) VALID LOSS:0.2870 ACC:0.89 F1:0.49 REC:0.49 PRE:0.49\n"
          ]
        },
        {
          "output_type": "stream",
          "name": "stderr",
          "text": [
            "(Epoch 48) TRAIN LOSS:0.2694 LR:0.000003: 100%|██████████| 58/58 [00:09<00:00,  6.06it/s]\n"
          ]
        },
        {
          "output_type": "stream",
          "name": "stdout",
          "text": [
            "(Epoch 48) TRAIN LOSS:0.2694 ACC:0.90 F1:0.53 REC:0.55 PRE:0.51 LR:0.000003\n"
          ]
        },
        {
          "output_type": "stream",
          "name": "stderr",
          "text": [
            "VALID LOSS:0.2791 ACC:0.90 F1:0.53 REC:0.55 PRE:0.51: 100%|██████████| 15/15 [00:00<00:00, 18.17it/s]\n"
          ]
        },
        {
          "output_type": "stream",
          "name": "stdout",
          "text": [
            "(Epoch 48) VALID LOSS:0.2791 ACC:0.89 F1:0.50 REC:0.52 PRE:0.48\n"
          ]
        },
        {
          "output_type": "stream",
          "name": "stderr",
          "text": [
            "(Epoch 49) TRAIN LOSS:0.2643 LR:0.000003: 100%|██████████| 58/58 [00:09<00:00,  6.18it/s]\n"
          ]
        },
        {
          "output_type": "stream",
          "name": "stdout",
          "text": [
            "(Epoch 49) TRAIN LOSS:0.2643 ACC:0.91 F1:0.54 REC:0.56 PRE:0.63 LR:0.000003\n"
          ]
        },
        {
          "output_type": "stream",
          "name": "stderr",
          "text": [
            "VALID LOSS:0.2815 ACC:0.91 F1:0.54 REC:0.56 PRE:0.63: 100%|██████████| 15/15 [00:00<00:00, 15.44it/s]\n"
          ]
        },
        {
          "output_type": "stream",
          "name": "stdout",
          "text": [
            "(Epoch 49) VALID LOSS:0.2815 ACC:0.89 F1:0.49 REC:0.50 PRE:0.49\n"
          ]
        },
        {
          "output_type": "stream",
          "name": "stderr",
          "text": [
            "(Epoch 50) TRAIN LOSS:0.2625 LR:0.000003: 100%|██████████| 58/58 [00:09<00:00,  6.04it/s]\n"
          ]
        },
        {
          "output_type": "stream",
          "name": "stdout",
          "text": [
            "(Epoch 50) TRAIN LOSS:0.2625 ACC:0.90 F1:0.53 REC:0.55 PRE:0.67 LR:0.000003\n"
          ]
        },
        {
          "output_type": "stream",
          "name": "stderr",
          "text": [
            "VALID LOSS:0.2791 ACC:0.90 F1:0.53 REC:0.55 PRE:0.67: 100%|██████████| 15/15 [00:00<00:00, 17.99it/s]\n"
          ]
        },
        {
          "output_type": "stream",
          "name": "stdout",
          "text": [
            "(Epoch 50) VALID LOSS:0.2791 ACC:0.89 F1:0.51 REC:0.53 PRE:0.49\n"
          ]
        },
        {
          "output_type": "stream",
          "name": "stderr",
          "text": [
            "(Epoch 51) TRAIN LOSS:0.2612 LR:0.000000: 100%|██████████| 58/58 [00:09<00:00,  6.06it/s]\n"
          ]
        },
        {
          "output_type": "stream",
          "name": "stdout",
          "text": [
            "(Epoch 51) TRAIN LOSS:0.2612 ACC:0.91 F1:0.54 REC:0.56 PRE:0.68 LR:0.000000\n"
          ]
        },
        {
          "output_type": "stream",
          "name": "stderr",
          "text": [
            "VALID LOSS:0.2793 ACC:0.91 F1:0.54 REC:0.56 PRE:0.68: 100%|██████████| 15/15 [00:00<00:00, 18.16it/s]\n"
          ]
        },
        {
          "output_type": "stream",
          "name": "stdout",
          "text": [
            "(Epoch 51) VALID LOSS:0.2793 ACC:0.89 F1:0.51 REC:0.53 PRE:0.49\n"
          ]
        },
        {
          "output_type": "stream",
          "name": "stderr",
          "text": [
            "(Epoch 52) TRAIN LOSS:0.2621 LR:0.000000: 100%|██████████| 58/58 [00:09<00:00,  6.06it/s]\n"
          ]
        },
        {
          "output_type": "stream",
          "name": "stdout",
          "text": [
            "(Epoch 52) TRAIN LOSS:0.2621 ACC:0.90 F1:0.54 REC:0.56 PRE:0.73 LR:0.000000\n"
          ]
        },
        {
          "output_type": "stream",
          "name": "stderr",
          "text": [
            "VALID LOSS:0.2794 ACC:0.90 F1:0.54 REC:0.56 PRE:0.73: 100%|██████████| 15/15 [00:00<00:00, 17.90it/s]\n"
          ]
        },
        {
          "output_type": "stream",
          "name": "stdout",
          "text": [
            "(Epoch 52) VALID LOSS:0.2794 ACC:0.89 F1:0.50 REC:0.52 PRE:0.48\n"
          ]
        },
        {
          "output_type": "stream",
          "name": "stderr",
          "text": [
            "(Epoch 53) TRAIN LOSS:0.2600 LR:0.000000: 100%|██████████| 58/58 [00:09<00:00,  6.09it/s]\n"
          ]
        },
        {
          "output_type": "stream",
          "name": "stdout",
          "text": [
            "(Epoch 53) TRAIN LOSS:0.2600 ACC:0.91 F1:0.53 REC:0.55 PRE:0.51 LR:0.000000\n"
          ]
        },
        {
          "output_type": "stream",
          "name": "stderr",
          "text": [
            "VALID LOSS:0.2794 ACC:0.91 F1:0.53 REC:0.55 PRE:0.51: 100%|██████████| 15/15 [00:00<00:00, 18.12it/s]\n"
          ]
        },
        {
          "output_type": "stream",
          "name": "stdout",
          "text": [
            "(Epoch 53) VALID LOSS:0.2794 ACC:0.89 F1:0.50 REC:0.52 PRE:0.48\n"
          ]
        },
        {
          "output_type": "stream",
          "name": "stderr",
          "text": [
            "(Epoch 54) TRAIN LOSS:0.2588 LR:0.000000: 100%|██████████| 58/58 [00:09<00:00,  6.14it/s]\n"
          ]
        },
        {
          "output_type": "stream",
          "name": "stdout",
          "text": [
            "(Epoch 54) TRAIN LOSS:0.2588 ACC:0.91 F1:0.53 REC:0.55 PRE:0.68 LR:0.000000\n"
          ]
        },
        {
          "output_type": "stream",
          "name": "stderr",
          "text": [
            "VALID LOSS:0.2794 ACC:0.91 F1:0.53 REC:0.55 PRE:0.68: 100%|██████████| 15/15 [00:00<00:00, 18.02it/s]\n"
          ]
        },
        {
          "output_type": "stream",
          "name": "stdout",
          "text": [
            "(Epoch 54) VALID LOSS:0.2794 ACC:0.89 F1:0.50 REC:0.52 PRE:0.48\n"
          ]
        },
        {
          "output_type": "stream",
          "name": "stderr",
          "text": [
            "(Epoch 55) TRAIN LOSS:0.2606 LR:0.000000: 100%|██████████| 58/58 [00:09<00:00,  6.13it/s]\n"
          ]
        },
        {
          "output_type": "stream",
          "name": "stdout",
          "text": [
            "(Epoch 55) TRAIN LOSS:0.2606 ACC:0.90 F1:0.53 REC:0.55 PRE:0.62 LR:0.000000\n"
          ]
        },
        {
          "output_type": "stream",
          "name": "stderr",
          "text": [
            "VALID LOSS:0.2794 ACC:0.90 F1:0.53 REC:0.55 PRE:0.62: 100%|██████████| 15/15 [00:00<00:00, 16.21it/s]\n"
          ]
        },
        {
          "output_type": "stream",
          "name": "stdout",
          "text": [
            "(Epoch 55) VALID LOSS:0.2794 ACC:0.89 F1:0.50 REC:0.52 PRE:0.48\n"
          ]
        },
        {
          "output_type": "stream",
          "name": "stderr",
          "text": [
            "(Epoch 56) TRAIN LOSS:0.2574 LR:0.000000: 100%|██████████| 58/58 [00:09<00:00,  6.23it/s]\n"
          ]
        },
        {
          "output_type": "stream",
          "name": "stdout",
          "text": [
            "(Epoch 56) TRAIN LOSS:0.2574 ACC:0.91 F1:0.57 REC:0.58 PRE:0.79 LR:0.000000\n"
          ]
        },
        {
          "output_type": "stream",
          "name": "stderr",
          "text": [
            "VALID LOSS:0.2794 ACC:0.91 F1:0.57 REC:0.58 PRE:0.79: 100%|██████████| 15/15 [00:00<00:00, 17.00it/s]\n"
          ]
        },
        {
          "output_type": "stream",
          "name": "stdout",
          "text": [
            "(Epoch 56) VALID LOSS:0.2794 ACC:0.89 F1:0.50 REC:0.52 PRE:0.48\n"
          ]
        },
        {
          "output_type": "stream",
          "name": "stderr",
          "text": [
            "(Epoch 57) TRAIN LOSS:0.2591 LR:0.000000: 100%|██████████| 58/58 [00:09<00:00,  6.02it/s]\n"
          ]
        },
        {
          "output_type": "stream",
          "name": "stdout",
          "text": [
            "(Epoch 57) TRAIN LOSS:0.2591 ACC:0.91 F1:0.53 REC:0.56 PRE:0.51 LR:0.000000\n"
          ]
        },
        {
          "output_type": "stream",
          "name": "stderr",
          "text": [
            "VALID LOSS:0.2794 ACC:0.91 F1:0.53 REC:0.56 PRE:0.51: 100%|██████████| 15/15 [00:00<00:00, 18.00it/s]\n"
          ]
        },
        {
          "output_type": "stream",
          "name": "stdout",
          "text": [
            "(Epoch 57) VALID LOSS:0.2794 ACC:0.89 F1:0.50 REC:0.52 PRE:0.48\n"
          ]
        },
        {
          "output_type": "stream",
          "name": "stderr",
          "text": [
            "(Epoch 58) TRAIN LOSS:0.2639 LR:0.000000: 100%|██████████| 58/58 [00:09<00:00,  6.14it/s]\n"
          ]
        },
        {
          "output_type": "stream",
          "name": "stdout",
          "text": [
            "(Epoch 58) TRAIN LOSS:0.2639 ACC:0.91 F1:0.54 REC:0.55 PRE:0.85 LR:0.000000\n"
          ]
        },
        {
          "output_type": "stream",
          "name": "stderr",
          "text": [
            "VALID LOSS:0.2794 ACC:0.91 F1:0.54 REC:0.55 PRE:0.85: 100%|██████████| 15/15 [00:00<00:00, 18.06it/s]\n"
          ]
        },
        {
          "output_type": "stream",
          "name": "stdout",
          "text": [
            "(Epoch 58) VALID LOSS:0.2794 ACC:0.89 F1:0.50 REC:0.52 PRE:0.48\n"
          ]
        },
        {
          "output_type": "stream",
          "name": "stderr",
          "text": [
            "(Epoch 59) TRAIN LOSS:0.2599 LR:0.000000: 100%|██████████| 58/58 [00:09<00:00,  6.07it/s]\n"
          ]
        },
        {
          "output_type": "stream",
          "name": "stdout",
          "text": [
            "(Epoch 59) TRAIN LOSS:0.2599 ACC:0.90 F1:0.54 REC:0.55 PRE:0.68 LR:0.000000\n"
          ]
        },
        {
          "output_type": "stream",
          "name": "stderr",
          "text": [
            "VALID LOSS:0.2794 ACC:0.90 F1:0.54 REC:0.55 PRE:0.68: 100%|██████████| 15/15 [00:00<00:00, 18.12it/s]\n"
          ]
        },
        {
          "output_type": "stream",
          "name": "stdout",
          "text": [
            "(Epoch 59) VALID LOSS:0.2794 ACC:0.89 F1:0.50 REC:0.52 PRE:0.48\n"
          ]
        },
        {
          "output_type": "stream",
          "name": "stderr",
          "text": [
            "(Epoch 60) TRAIN LOSS:0.2624 LR:0.000000: 100%|██████████| 58/58 [00:09<00:00,  6.09it/s]\n"
          ]
        },
        {
          "output_type": "stream",
          "name": "stdout",
          "text": [
            "(Epoch 60) TRAIN LOSS:0.2624 ACC:0.91 F1:0.55 REC:0.57 PRE:0.85 LR:0.000000\n"
          ]
        },
        {
          "output_type": "stream",
          "name": "stderr",
          "text": [
            "VALID LOSS:0.2794 ACC:0.91 F1:0.55 REC:0.57 PRE:0.85: 100%|██████████| 15/15 [00:00<00:00, 18.09it/s]\n"
          ]
        },
        {
          "output_type": "stream",
          "name": "stdout",
          "text": [
            "(Epoch 60) VALID LOSS:0.2794 ACC:0.89 F1:0.50 REC:0.52 PRE:0.48\n"
          ]
        },
        {
          "output_type": "stream",
          "name": "stderr",
          "text": [
            "(Epoch 61) TRAIN LOSS:0.2590 LR:0.000000: 100%|██████████| 58/58 [00:09<00:00,  6.12it/s]\n"
          ]
        },
        {
          "output_type": "stream",
          "name": "stdout",
          "text": [
            "(Epoch 61) TRAIN LOSS:0.2590 ACC:0.91 F1:0.56 REC:0.58 PRE:0.86 LR:0.000000\n"
          ]
        },
        {
          "output_type": "stream",
          "name": "stderr",
          "text": [
            "VALID LOSS:0.2794 ACC:0.91 F1:0.56 REC:0.58 PRE:0.86: 100%|██████████| 15/15 [00:00<00:00, 18.17it/s]\n"
          ]
        },
        {
          "output_type": "stream",
          "name": "stdout",
          "text": [
            "(Epoch 61) VALID LOSS:0.2794 ACC:0.89 F1:0.50 REC:0.52 PRE:0.48\n"
          ]
        },
        {
          "output_type": "stream",
          "name": "stderr",
          "text": [
            "(Epoch 62) TRAIN LOSS:0.2599 LR:0.000000: 100%|██████████| 58/58 [00:09<00:00,  6.08it/s]\n"
          ]
        },
        {
          "output_type": "stream",
          "name": "stdout",
          "text": [
            "(Epoch 62) TRAIN LOSS:0.2599 ACC:0.90 F1:0.53 REC:0.55 PRE:0.51 LR:0.000000\n"
          ]
        },
        {
          "output_type": "stream",
          "name": "stderr",
          "text": [
            "VALID LOSS:0.2794 ACC:0.90 F1:0.53 REC:0.55 PRE:0.51: 100%|██████████| 15/15 [00:00<00:00, 15.65it/s]\n"
          ]
        },
        {
          "output_type": "stream",
          "name": "stdout",
          "text": [
            "(Epoch 62) VALID LOSS:0.2794 ACC:0.89 F1:0.50 REC:0.52 PRE:0.48\n"
          ]
        },
        {
          "output_type": "stream",
          "name": "stderr",
          "text": [
            "(Epoch 63) TRAIN LOSS:0.2583 LR:0.000000: 100%|██████████| 58/58 [00:09<00:00,  6.08it/s]\n"
          ]
        },
        {
          "output_type": "stream",
          "name": "stdout",
          "text": [
            "(Epoch 63) TRAIN LOSS:0.2583 ACC:0.91 F1:0.54 REC:0.56 PRE:0.52 LR:0.000000\n"
          ]
        },
        {
          "output_type": "stream",
          "name": "stderr",
          "text": [
            "VALID LOSS:0.2794 ACC:0.91 F1:0.54 REC:0.56 PRE:0.52: 100%|██████████| 15/15 [00:00<00:00, 18.03it/s]\n"
          ]
        },
        {
          "output_type": "stream",
          "name": "stdout",
          "text": [
            "(Epoch 63) VALID LOSS:0.2794 ACC:0.89 F1:0.50 REC:0.52 PRE:0.48\n"
          ]
        },
        {
          "output_type": "stream",
          "name": "stderr",
          "text": [
            "(Epoch 64) TRAIN LOSS:0.2598 LR:0.000000: 100%|██████████| 58/58 [00:09<00:00,  6.07it/s]\n"
          ]
        },
        {
          "output_type": "stream",
          "name": "stdout",
          "text": [
            "(Epoch 64) TRAIN LOSS:0.2598 ACC:0.91 F1:0.55 REC:0.57 PRE:0.68 LR:0.000000\n"
          ]
        },
        {
          "output_type": "stream",
          "name": "stderr",
          "text": [
            "VALID LOSS:0.2794 ACC:0.91 F1:0.55 REC:0.57 PRE:0.68: 100%|██████████| 15/15 [00:00<00:00, 18.13it/s]\n"
          ]
        },
        {
          "output_type": "stream",
          "name": "stdout",
          "text": [
            "(Epoch 64) VALID LOSS:0.2794 ACC:0.89 F1:0.50 REC:0.52 PRE:0.48\n"
          ]
        },
        {
          "output_type": "stream",
          "name": "stderr",
          "text": [
            "(Epoch 65) TRAIN LOSS:0.2599 LR:0.000000: 100%|██████████| 58/58 [00:09<00:00,  6.08it/s]\n"
          ]
        },
        {
          "output_type": "stream",
          "name": "stdout",
          "text": [
            "(Epoch 65) TRAIN LOSS:0.2599 ACC:0.91 F1:0.53 REC:0.56 PRE:0.51 LR:0.000000\n"
          ]
        },
        {
          "output_type": "stream",
          "name": "stderr",
          "text": [
            "VALID LOSS:0.2794 ACC:0.91 F1:0.53 REC:0.56 PRE:0.51: 100%|██████████| 15/15 [00:00<00:00, 18.10it/s]\n"
          ]
        },
        {
          "output_type": "stream",
          "name": "stdout",
          "text": [
            "(Epoch 65) VALID LOSS:0.2794 ACC:0.89 F1:0.50 REC:0.52 PRE:0.48\n"
          ]
        },
        {
          "output_type": "stream",
          "name": "stderr",
          "text": [
            "(Epoch 66) TRAIN LOSS:0.2572 LR:0.000000: 100%|██████████| 58/58 [00:09<00:00,  6.08it/s]\n"
          ]
        },
        {
          "output_type": "stream",
          "name": "stdout",
          "text": [
            "(Epoch 66) TRAIN LOSS:0.2572 ACC:0.91 F1:0.53 REC:0.55 PRE:0.51 LR:0.000000\n"
          ]
        },
        {
          "output_type": "stream",
          "name": "stderr",
          "text": [
            "VALID LOSS:0.2794 ACC:0.91 F1:0.53 REC:0.55 PRE:0.51: 100%|██████████| 15/15 [00:00<00:00, 18.06it/s]\n"
          ]
        },
        {
          "output_type": "stream",
          "name": "stdout",
          "text": [
            "(Epoch 66) VALID LOSS:0.2794 ACC:0.89 F1:0.50 REC:0.52 PRE:0.48\n"
          ]
        },
        {
          "output_type": "stream",
          "name": "stderr",
          "text": [
            "(Epoch 67) TRAIN LOSS:0.2620 LR:0.000000: 100%|██████████| 58/58 [00:09<00:00,  6.10it/s]\n"
          ]
        },
        {
          "output_type": "stream",
          "name": "stdout",
          "text": [
            "(Epoch 67) TRAIN LOSS:0.2620 ACC:0.91 F1:0.54 REC:0.56 PRE:0.85 LR:0.000000\n"
          ]
        },
        {
          "output_type": "stream",
          "name": "stderr",
          "text": [
            "VALID LOSS:0.2794 ACC:0.91 F1:0.54 REC:0.56 PRE:0.85: 100%|██████████| 15/15 [00:00<00:00, 18.20it/s]\n"
          ]
        },
        {
          "output_type": "stream",
          "name": "stdout",
          "text": [
            "(Epoch 67) VALID LOSS:0.2794 ACC:0.89 F1:0.50 REC:0.52 PRE:0.48\n"
          ]
        },
        {
          "output_type": "stream",
          "name": "stderr",
          "text": [
            "(Epoch 68) TRAIN LOSS:0.2620 LR:0.000000: 100%|██████████| 58/58 [00:09<00:00,  6.13it/s]\n"
          ]
        },
        {
          "output_type": "stream",
          "name": "stdout",
          "text": [
            "(Epoch 68) TRAIN LOSS:0.2620 ACC:0.91 F1:0.54 REC:0.57 PRE:0.52 LR:0.000000\n"
          ]
        },
        {
          "output_type": "stream",
          "name": "stderr",
          "text": [
            "VALID LOSS:0.2794 ACC:0.91 F1:0.54 REC:0.57 PRE:0.52: 100%|██████████| 15/15 [00:00<00:00, 16.12it/s]\n"
          ]
        },
        {
          "output_type": "stream",
          "name": "stdout",
          "text": [
            "(Epoch 68) VALID LOSS:0.2794 ACC:0.89 F1:0.50 REC:0.52 PRE:0.48\n"
          ]
        },
        {
          "output_type": "stream",
          "name": "stderr",
          "text": [
            "(Epoch 69) TRAIN LOSS:0.2625 LR:0.000000: 100%|██████████| 58/58 [00:09<00:00,  6.11it/s]\n"
          ]
        },
        {
          "output_type": "stream",
          "name": "stdout",
          "text": [
            "(Epoch 69) TRAIN LOSS:0.2625 ACC:0.91 F1:0.54 REC:0.56 PRE:0.85 LR:0.000000\n"
          ]
        },
        {
          "output_type": "stream",
          "name": "stderr",
          "text": [
            "VALID LOSS:0.2794 ACC:0.91 F1:0.54 REC:0.56 PRE:0.85: 100%|██████████| 15/15 [00:00<00:00, 17.37it/s]\n"
          ]
        },
        {
          "output_type": "stream",
          "name": "stdout",
          "text": [
            "(Epoch 69) VALID LOSS:0.2794 ACC:0.89 F1:0.50 REC:0.52 PRE:0.48\n"
          ]
        },
        {
          "output_type": "stream",
          "name": "stderr",
          "text": [
            "(Epoch 70) TRAIN LOSS:0.2603 LR:0.000000: 100%|██████████| 58/58 [00:09<00:00,  6.13it/s]\n"
          ]
        },
        {
          "output_type": "stream",
          "name": "stdout",
          "text": [
            "(Epoch 70) TRAIN LOSS:0.2603 ACC:0.91 F1:0.55 REC:0.56 PRE:0.68 LR:0.000000\n"
          ]
        },
        {
          "output_type": "stream",
          "name": "stderr",
          "text": [
            "VALID LOSS:0.2794 ACC:0.91 F1:0.55 REC:0.56 PRE:0.68: 100%|██████████| 15/15 [00:00<00:00, 18.32it/s]\n"
          ]
        },
        {
          "output_type": "stream",
          "name": "stdout",
          "text": [
            "(Epoch 70) VALID LOSS:0.2794 ACC:0.89 F1:0.50 REC:0.52 PRE:0.48\n"
          ]
        },
        {
          "output_type": "stream",
          "name": "stderr",
          "text": [
            "(Epoch 71) TRAIN LOSS:0.2610 LR:0.000000: 100%|██████████| 58/58 [00:09<00:00,  6.06it/s]\n"
          ]
        },
        {
          "output_type": "stream",
          "name": "stdout",
          "text": [
            "(Epoch 71) TRAIN LOSS:0.2610 ACC:0.91 F1:0.53 REC:0.56 PRE:0.51 LR:0.000000\n"
          ]
        },
        {
          "output_type": "stream",
          "name": "stderr",
          "text": [
            "VALID LOSS:0.2794 ACC:0.91 F1:0.53 REC:0.56 PRE:0.51: 100%|██████████| 15/15 [00:00<00:00, 18.09it/s]\n"
          ]
        },
        {
          "output_type": "stream",
          "name": "stdout",
          "text": [
            "(Epoch 71) VALID LOSS:0.2794 ACC:0.89 F1:0.50 REC:0.52 PRE:0.48\n"
          ]
        },
        {
          "output_type": "stream",
          "name": "stderr",
          "text": [
            "(Epoch 72) TRAIN LOSS:0.2597 LR:0.000000: 100%|██████████| 58/58 [00:09<00:00,  6.08it/s]\n"
          ]
        },
        {
          "output_type": "stream",
          "name": "stdout",
          "text": [
            "(Epoch 72) TRAIN LOSS:0.2597 ACC:0.91 F1:0.54 REC:0.56 PRE:0.68 LR:0.000000\n"
          ]
        },
        {
          "output_type": "stream",
          "name": "stderr",
          "text": [
            "VALID LOSS:0.2794 ACC:0.91 F1:0.54 REC:0.56 PRE:0.68: 100%|██████████| 15/15 [00:00<00:00, 18.08it/s]\n"
          ]
        },
        {
          "output_type": "stream",
          "name": "stdout",
          "text": [
            "(Epoch 72) VALID LOSS:0.2794 ACC:0.89 F1:0.50 REC:0.52 PRE:0.48\n"
          ]
        },
        {
          "output_type": "stream",
          "name": "stderr",
          "text": [
            "(Epoch 73) TRAIN LOSS:0.2617 LR:0.000000: 100%|██████████| 58/58 [00:09<00:00,  6.05it/s]\n"
          ]
        },
        {
          "output_type": "stream",
          "name": "stdout",
          "text": [
            "(Epoch 73) TRAIN LOSS:0.2617 ACC:0.91 F1:0.54 REC:0.56 PRE:0.85 LR:0.000000\n"
          ]
        },
        {
          "output_type": "stream",
          "name": "stderr",
          "text": [
            "VALID LOSS:0.2794 ACC:0.91 F1:0.54 REC:0.56 PRE:0.85: 100%|██████████| 15/15 [00:00<00:00, 18.00it/s]\n"
          ]
        },
        {
          "output_type": "stream",
          "name": "stdout",
          "text": [
            "(Epoch 73) VALID LOSS:0.2794 ACC:0.89 F1:0.50 REC:0.52 PRE:0.48\n"
          ]
        },
        {
          "output_type": "stream",
          "name": "stderr",
          "text": [
            "(Epoch 74) TRAIN LOSS:0.2603 LR:0.000000: 100%|██████████| 58/58 [00:09<00:00,  6.08it/s]\n"
          ]
        },
        {
          "output_type": "stream",
          "name": "stdout",
          "text": [
            "(Epoch 74) TRAIN LOSS:0.2603 ACC:0.91 F1:0.54 REC:0.56 PRE:0.84 LR:0.000000\n"
          ]
        },
        {
          "output_type": "stream",
          "name": "stderr",
          "text": [
            "VALID LOSS:0.2794 ACC:0.91 F1:0.54 REC:0.56 PRE:0.84: 100%|██████████| 15/15 [00:00<00:00, 17.38it/s]\n"
          ]
        },
        {
          "output_type": "stream",
          "name": "stdout",
          "text": [
            "(Epoch 74) VALID LOSS:0.2794 ACC:0.89 F1:0.50 REC:0.52 PRE:0.48\n"
          ]
        },
        {
          "output_type": "stream",
          "name": "stderr",
          "text": [
            "(Epoch 75) TRAIN LOSS:0.2610 LR:0.000000: 100%|██████████| 58/58 [00:09<00:00,  6.09it/s]\n"
          ]
        },
        {
          "output_type": "stream",
          "name": "stdout",
          "text": [
            "(Epoch 75) TRAIN LOSS:0.2610 ACC:0.91 F1:0.54 REC:0.57 PRE:0.52 LR:0.000000\n"
          ]
        },
        {
          "output_type": "stream",
          "name": "stderr",
          "text": [
            "VALID LOSS:0.2794 ACC:0.91 F1:0.54 REC:0.57 PRE:0.52: 100%|██████████| 15/15 [00:00<00:00, 15.61it/s]\n"
          ]
        },
        {
          "output_type": "stream",
          "name": "stdout",
          "text": [
            "(Epoch 75) VALID LOSS:0.2794 ACC:0.89 F1:0.50 REC:0.52 PRE:0.48\n"
          ]
        },
        {
          "output_type": "stream",
          "name": "stderr",
          "text": [
            "(Epoch 76) TRAIN LOSS:0.2586 LR:0.000000: 100%|██████████| 58/58 [00:09<00:00,  6.09it/s]\n"
          ]
        },
        {
          "output_type": "stream",
          "name": "stdout",
          "text": [
            "(Epoch 76) TRAIN LOSS:0.2586 ACC:0.91 F1:0.53 REC:0.56 PRE:0.51 LR:0.000000\n"
          ]
        },
        {
          "output_type": "stream",
          "name": "stderr",
          "text": [
            "VALID LOSS:0.2794 ACC:0.91 F1:0.53 REC:0.56 PRE:0.51: 100%|██████████| 15/15 [00:00<00:00, 17.95it/s]\n"
          ]
        },
        {
          "output_type": "stream",
          "name": "stdout",
          "text": [
            "(Epoch 76) VALID LOSS:0.2794 ACC:0.89 F1:0.50 REC:0.52 PRE:0.48\n"
          ]
        },
        {
          "output_type": "stream",
          "name": "stderr",
          "text": [
            "(Epoch 77) TRAIN LOSS:0.2566 LR:0.000000: 100%|██████████| 58/58 [00:09<00:00,  6.05it/s]\n"
          ]
        },
        {
          "output_type": "stream",
          "name": "stdout",
          "text": [
            "(Epoch 77) TRAIN LOSS:0.2566 ACC:0.91 F1:0.56 REC:0.57 PRE:0.77 LR:0.000000\n"
          ]
        },
        {
          "output_type": "stream",
          "name": "stderr",
          "text": [
            "VALID LOSS:0.2794 ACC:0.91 F1:0.56 REC:0.57 PRE:0.77: 100%|██████████| 15/15 [00:00<00:00, 18.14it/s]\n"
          ]
        },
        {
          "output_type": "stream",
          "name": "stdout",
          "text": [
            "(Epoch 77) VALID LOSS:0.2794 ACC:0.89 F1:0.50 REC:0.52 PRE:0.48\n"
          ]
        },
        {
          "output_type": "stream",
          "name": "stderr",
          "text": [
            "(Epoch 78) TRAIN LOSS:0.2613 LR:0.000000: 100%|██████████| 58/58 [00:10<00:00,  5.36it/s]\n"
          ]
        },
        {
          "output_type": "stream",
          "name": "stdout",
          "text": [
            "(Epoch 78) TRAIN LOSS:0.2613 ACC:0.90 F1:0.53 REC:0.55 PRE:0.51 LR:0.000000\n"
          ]
        },
        {
          "output_type": "stream",
          "name": "stderr",
          "text": [
            "VALID LOSS:0.2794 ACC:0.90 F1:0.53 REC:0.55 PRE:0.51: 100%|██████████| 15/15 [00:01<00:00, 13.05it/s]\n"
          ]
        },
        {
          "output_type": "stream",
          "name": "stdout",
          "text": [
            "(Epoch 78) VALID LOSS:0.2794 ACC:0.89 F1:0.50 REC:0.52 PRE:0.48\n"
          ]
        },
        {
          "output_type": "stream",
          "name": "stderr",
          "text": [
            "(Epoch 79) TRAIN LOSS:0.2629 LR:0.000000: 100%|██████████| 58/58 [00:10<00:00,  5.44it/s]\n"
          ]
        },
        {
          "output_type": "stream",
          "name": "stdout",
          "text": [
            "(Epoch 79) TRAIN LOSS:0.2629 ACC:0.91 F1:0.53 REC:0.56 PRE:0.51 LR:0.000000\n"
          ]
        },
        {
          "output_type": "stream",
          "name": "stderr",
          "text": [
            "VALID LOSS:0.2794 ACC:0.91 F1:0.53 REC:0.56 PRE:0.51: 100%|██████████| 15/15 [00:01<00:00, 13.53it/s]\n"
          ]
        },
        {
          "output_type": "stream",
          "name": "stdout",
          "text": [
            "(Epoch 79) VALID LOSS:0.2794 ACC:0.89 F1:0.50 REC:0.52 PRE:0.48\n"
          ]
        },
        {
          "output_type": "stream",
          "name": "stderr",
          "text": [
            "(Epoch 80) TRAIN LOSS:0.2612 LR:0.000000: 100%|██████████| 58/58 [00:09<00:00,  6.07it/s]\n"
          ]
        },
        {
          "output_type": "stream",
          "name": "stdout",
          "text": [
            "(Epoch 80) TRAIN LOSS:0.2612 ACC:0.90 F1:0.52 REC:0.54 PRE:0.51 LR:0.000000\n"
          ]
        },
        {
          "output_type": "stream",
          "name": "stderr",
          "text": [
            "VALID LOSS:0.2794 ACC:0.90 F1:0.52 REC:0.54 PRE:0.51: 100%|██████████| 15/15 [00:00<00:00, 18.37it/s]\n"
          ]
        },
        {
          "output_type": "stream",
          "name": "stdout",
          "text": [
            "(Epoch 80) VALID LOSS:0.2794 ACC:0.89 F1:0.50 REC:0.52 PRE:0.48\n"
          ]
        },
        {
          "output_type": "stream",
          "name": "stderr",
          "text": [
            "(Epoch 81) TRAIN LOSS:0.2606 LR:0.000000: 100%|██████████| 58/58 [00:09<00:00,  6.09it/s]\n"
          ]
        },
        {
          "output_type": "stream",
          "name": "stdout",
          "text": [
            "(Epoch 81) TRAIN LOSS:0.2606 ACC:0.91 F1:0.54 REC:0.56 PRE:0.85 LR:0.000000\n"
          ]
        },
        {
          "output_type": "stream",
          "name": "stderr",
          "text": [
            "VALID LOSS:0.2794 ACC:0.91 F1:0.54 REC:0.56 PRE:0.85: 100%|██████████| 15/15 [00:00<00:00, 18.01it/s]\n"
          ]
        },
        {
          "output_type": "stream",
          "name": "stdout",
          "text": [
            "(Epoch 81) VALID LOSS:0.2794 ACC:0.89 F1:0.50 REC:0.52 PRE:0.48\n"
          ]
        },
        {
          "output_type": "stream",
          "name": "stderr",
          "text": [
            "(Epoch 82) TRAIN LOSS:0.2575 LR:0.000000: 100%|██████████| 58/58 [00:09<00:00,  6.20it/s]\n"
          ]
        },
        {
          "output_type": "stream",
          "name": "stdout",
          "text": [
            "(Epoch 82) TRAIN LOSS:0.2575 ACC:0.91 F1:0.54 REC:0.57 PRE:0.85 LR:0.000000\n"
          ]
        },
        {
          "output_type": "stream",
          "name": "stderr",
          "text": [
            "VALID LOSS:0.2794 ACC:0.91 F1:0.54 REC:0.57 PRE:0.85: 100%|██████████| 15/15 [00:00<00:00, 15.86it/s]\n"
          ]
        },
        {
          "output_type": "stream",
          "name": "stdout",
          "text": [
            "(Epoch 82) VALID LOSS:0.2794 ACC:0.89 F1:0.50 REC:0.52 PRE:0.48\n"
          ]
        },
        {
          "output_type": "stream",
          "name": "stderr",
          "text": [
            "(Epoch 83) TRAIN LOSS:0.2625 LR:0.000000: 100%|██████████| 58/58 [00:09<00:00,  6.05it/s]\n"
          ]
        },
        {
          "output_type": "stream",
          "name": "stdout",
          "text": [
            "(Epoch 83) TRAIN LOSS:0.2625 ACC:0.90 F1:0.53 REC:0.55 PRE:0.68 LR:0.000000\n"
          ]
        },
        {
          "output_type": "stream",
          "name": "stderr",
          "text": [
            "VALID LOSS:0.2794 ACC:0.90 F1:0.53 REC:0.55 PRE:0.68: 100%|██████████| 15/15 [00:00<00:00, 17.92it/s]\n"
          ]
        },
        {
          "output_type": "stream",
          "name": "stdout",
          "text": [
            "(Epoch 83) VALID LOSS:0.2794 ACC:0.89 F1:0.50 REC:0.52 PRE:0.48\n"
          ]
        },
        {
          "output_type": "stream",
          "name": "stderr",
          "text": [
            "(Epoch 84) TRAIN LOSS:0.2572 LR:0.000000: 100%|██████████| 58/58 [00:09<00:00,  6.06it/s]\n"
          ]
        },
        {
          "output_type": "stream",
          "name": "stdout",
          "text": [
            "(Epoch 84) TRAIN LOSS:0.2572 ACC:0.91 F1:0.54 REC:0.56 PRE:0.62 LR:0.000000\n"
          ]
        },
        {
          "output_type": "stream",
          "name": "stderr",
          "text": [
            "VALID LOSS:0.2794 ACC:0.91 F1:0.54 REC:0.56 PRE:0.62: 100%|██████████| 15/15 [00:00<00:00, 18.30it/s]\n"
          ]
        },
        {
          "output_type": "stream",
          "name": "stdout",
          "text": [
            "(Epoch 84) VALID LOSS:0.2794 ACC:0.89 F1:0.50 REC:0.52 PRE:0.48\n"
          ]
        },
        {
          "output_type": "stream",
          "name": "stderr",
          "text": [
            "(Epoch 85) TRAIN LOSS:0.2582 LR:0.000000: 100%|██████████| 58/58 [00:09<00:00,  6.04it/s]\n"
          ]
        },
        {
          "output_type": "stream",
          "name": "stdout",
          "text": [
            "(Epoch 85) TRAIN LOSS:0.2582 ACC:0.91 F1:0.55 REC:0.57 PRE:0.85 LR:0.000000\n"
          ]
        },
        {
          "output_type": "stream",
          "name": "stderr",
          "text": [
            "VALID LOSS:0.2794 ACC:0.91 F1:0.55 REC:0.57 PRE:0.85: 100%|██████████| 15/15 [00:00<00:00, 17.94it/s]\n"
          ]
        },
        {
          "output_type": "stream",
          "name": "stdout",
          "text": [
            "(Epoch 85) VALID LOSS:0.2794 ACC:0.89 F1:0.50 REC:0.52 PRE:0.48\n"
          ]
        },
        {
          "output_type": "stream",
          "name": "stderr",
          "text": [
            "(Epoch 86) TRAIN LOSS:0.2620 LR:0.000000: 100%|██████████| 58/58 [00:09<00:00,  6.13it/s]\n"
          ]
        },
        {
          "output_type": "stream",
          "name": "stdout",
          "text": [
            "(Epoch 86) TRAIN LOSS:0.2620 ACC:0.91 F1:0.54 REC:0.57 PRE:0.68 LR:0.000000\n"
          ]
        },
        {
          "output_type": "stream",
          "name": "stderr",
          "text": [
            "VALID LOSS:0.2794 ACC:0.91 F1:0.54 REC:0.57 PRE:0.68: 100%|██████████| 15/15 [00:00<00:00, 18.04it/s]\n"
          ]
        },
        {
          "output_type": "stream",
          "name": "stdout",
          "text": [
            "(Epoch 86) VALID LOSS:0.2794 ACC:0.89 F1:0.50 REC:0.52 PRE:0.48\n"
          ]
        },
        {
          "output_type": "stream",
          "name": "stderr",
          "text": [
            "(Epoch 87) TRAIN LOSS:0.2616 LR:0.000000: 100%|██████████| 58/58 [00:09<00:00,  5.89it/s]\n"
          ]
        },
        {
          "output_type": "stream",
          "name": "stdout",
          "text": [
            "(Epoch 87) TRAIN LOSS:0.2616 ACC:0.90 F1:0.54 REC:0.55 PRE:0.73 LR:0.000000\n"
          ]
        },
        {
          "output_type": "stream",
          "name": "stderr",
          "text": [
            "VALID LOSS:0.2794 ACC:0.90 F1:0.54 REC:0.55 PRE:0.73: 100%|██████████| 15/15 [00:01<00:00, 13.82it/s]\n"
          ]
        },
        {
          "output_type": "stream",
          "name": "stdout",
          "text": [
            "(Epoch 87) VALID LOSS:0.2794 ACC:0.89 F1:0.50 REC:0.52 PRE:0.48\n"
          ]
        },
        {
          "output_type": "stream",
          "name": "stderr",
          "text": [
            "(Epoch 88) TRAIN LOSS:0.2634 LR:0.000000: 100%|██████████| 58/58 [00:09<00:00,  6.02it/s]\n"
          ]
        },
        {
          "output_type": "stream",
          "name": "stdout",
          "text": [
            "(Epoch 88) TRAIN LOSS:0.2634 ACC:0.91 F1:0.54 REC:0.57 PRE:0.51 LR:0.000000\n"
          ]
        },
        {
          "output_type": "stream",
          "name": "stderr",
          "text": [
            "VALID LOSS:0.2794 ACC:0.91 F1:0.54 REC:0.57 PRE:0.51: 100%|██████████| 15/15 [00:00<00:00, 18.09it/s]\n"
          ]
        },
        {
          "output_type": "stream",
          "name": "stdout",
          "text": [
            "(Epoch 88) VALID LOSS:0.2794 ACC:0.89 F1:0.50 REC:0.52 PRE:0.48\n"
          ]
        },
        {
          "output_type": "stream",
          "name": "stderr",
          "text": [
            "(Epoch 89) TRAIN LOSS:0.2587 LR:0.000000: 100%|██████████| 58/58 [00:09<00:00,  6.05it/s]\n"
          ]
        },
        {
          "output_type": "stream",
          "name": "stdout",
          "text": [
            "(Epoch 89) TRAIN LOSS:0.2587 ACC:0.91 F1:0.54 REC:0.56 PRE:0.85 LR:0.000000\n"
          ]
        },
        {
          "output_type": "stream",
          "name": "stderr",
          "text": [
            "VALID LOSS:0.2794 ACC:0.91 F1:0.54 REC:0.56 PRE:0.85: 100%|██████████| 15/15 [00:00<00:00, 15.62it/s]\n"
          ]
        },
        {
          "output_type": "stream",
          "name": "stdout",
          "text": [
            "(Epoch 89) VALID LOSS:0.2794 ACC:0.89 F1:0.50 REC:0.52 PRE:0.48\n"
          ]
        },
        {
          "output_type": "stream",
          "name": "stderr",
          "text": [
            "(Epoch 90) TRAIN LOSS:0.2593 LR:0.000000: 100%|██████████| 58/58 [00:09<00:00,  6.10it/s]\n"
          ]
        },
        {
          "output_type": "stream",
          "name": "stdout",
          "text": [
            "(Epoch 90) TRAIN LOSS:0.2593 ACC:0.90 F1:0.54 REC:0.55 PRE:0.85 LR:0.000000\n"
          ]
        },
        {
          "output_type": "stream",
          "name": "stderr",
          "text": [
            "VALID LOSS:0.2794 ACC:0.90 F1:0.54 REC:0.55 PRE:0.85: 100%|██████████| 15/15 [00:00<00:00, 17.19it/s]\n"
          ]
        },
        {
          "output_type": "stream",
          "name": "stdout",
          "text": [
            "(Epoch 90) VALID LOSS:0.2794 ACC:0.89 F1:0.50 REC:0.52 PRE:0.48\n"
          ]
        },
        {
          "output_type": "stream",
          "name": "stderr",
          "text": [
            "(Epoch 91) TRAIN LOSS:0.2589 LR:0.000000: 100%|██████████| 58/58 [00:09<00:00,  6.07it/s]\n"
          ]
        },
        {
          "output_type": "stream",
          "name": "stdout",
          "text": [
            "(Epoch 91) TRAIN LOSS:0.2589 ACC:0.90 F1:0.53 REC:0.55 PRE:0.67 LR:0.000000\n"
          ]
        },
        {
          "output_type": "stream",
          "name": "stderr",
          "text": [
            "VALID LOSS:0.2794 ACC:0.90 F1:0.53 REC:0.55 PRE:0.67: 100%|██████████| 15/15 [00:00<00:00, 17.66it/s]\n"
          ]
        },
        {
          "output_type": "stream",
          "name": "stdout",
          "text": [
            "(Epoch 91) VALID LOSS:0.2794 ACC:0.89 F1:0.50 REC:0.52 PRE:0.48\n"
          ]
        },
        {
          "output_type": "stream",
          "name": "stderr",
          "text": [
            "(Epoch 92) TRAIN LOSS:0.2586 LR:0.000000: 100%|██████████| 58/58 [00:09<00:00,  6.08it/s]\n"
          ]
        },
        {
          "output_type": "stream",
          "name": "stdout",
          "text": [
            "(Epoch 92) TRAIN LOSS:0.2586 ACC:0.91 F1:0.54 REC:0.57 PRE:0.52 LR:0.000000\n"
          ]
        },
        {
          "output_type": "stream",
          "name": "stderr",
          "text": [
            "VALID LOSS:0.2794 ACC:0.91 F1:0.54 REC:0.57 PRE:0.52: 100%|██████████| 15/15 [00:00<00:00, 17.99it/s]\n"
          ]
        },
        {
          "output_type": "stream",
          "name": "stdout",
          "text": [
            "(Epoch 92) VALID LOSS:0.2794 ACC:0.89 F1:0.50 REC:0.52 PRE:0.48\n"
          ]
        },
        {
          "output_type": "stream",
          "name": "stderr",
          "text": [
            "(Epoch 93) TRAIN LOSS:0.2589 LR:0.000000: 100%|██████████| 58/58 [00:09<00:00,  6.08it/s]\n"
          ]
        },
        {
          "output_type": "stream",
          "name": "stdout",
          "text": [
            "(Epoch 93) TRAIN LOSS:0.2589 ACC:0.91 F1:0.54 REC:0.56 PRE:0.84 LR:0.000000\n"
          ]
        },
        {
          "output_type": "stream",
          "name": "stderr",
          "text": [
            "VALID LOSS:0.2794 ACC:0.91 F1:0.54 REC:0.56 PRE:0.84: 100%|██████████| 15/15 [00:00<00:00, 18.37it/s]\n"
          ]
        },
        {
          "output_type": "stream",
          "name": "stdout",
          "text": [
            "(Epoch 93) VALID LOSS:0.2794 ACC:0.89 F1:0.50 REC:0.52 PRE:0.48\n"
          ]
        },
        {
          "output_type": "stream",
          "name": "stderr",
          "text": [
            "(Epoch 94) TRAIN LOSS:0.2633 LR:0.000000: 100%|██████████| 58/58 [00:09<00:00,  6.09it/s]\n"
          ]
        },
        {
          "output_type": "stream",
          "name": "stdout",
          "text": [
            "(Epoch 94) TRAIN LOSS:0.2633 ACC:0.91 F1:0.54 REC:0.56 PRE:0.51 LR:0.000000\n"
          ]
        },
        {
          "output_type": "stream",
          "name": "stderr",
          "text": [
            "VALID LOSS:0.2794 ACC:0.91 F1:0.54 REC:0.56 PRE:0.51: 100%|██████████| 15/15 [00:00<00:00, 17.91it/s]\n"
          ]
        },
        {
          "output_type": "stream",
          "name": "stdout",
          "text": [
            "(Epoch 94) VALID LOSS:0.2794 ACC:0.89 F1:0.50 REC:0.52 PRE:0.48\n"
          ]
        },
        {
          "output_type": "stream",
          "name": "stderr",
          "text": [
            "(Epoch 95) TRAIN LOSS:0.2594 LR:0.000000: 100%|██████████| 58/58 [00:09<00:00,  6.02it/s]\n"
          ]
        },
        {
          "output_type": "stream",
          "name": "stdout",
          "text": [
            "(Epoch 95) TRAIN LOSS:0.2594 ACC:0.91 F1:0.54 REC:0.55 PRE:0.85 LR:0.000000\n"
          ]
        },
        {
          "output_type": "stream",
          "name": "stderr",
          "text": [
            "VALID LOSS:0.2794 ACC:0.91 F1:0.54 REC:0.55 PRE:0.85: 100%|██████████| 15/15 [00:00<00:00, 17.32it/s]\n"
          ]
        },
        {
          "output_type": "stream",
          "name": "stdout",
          "text": [
            "(Epoch 95) VALID LOSS:0.2794 ACC:0.89 F1:0.50 REC:0.52 PRE:0.48\n"
          ]
        },
        {
          "output_type": "stream",
          "name": "stderr",
          "text": [
            "(Epoch 96) TRAIN LOSS:0.2578 LR:0.000000: 100%|██████████| 58/58 [00:09<00:00,  6.13it/s]\n"
          ]
        },
        {
          "output_type": "stream",
          "name": "stdout",
          "text": [
            "(Epoch 96) TRAIN LOSS:0.2578 ACC:0.91 F1:0.55 REC:0.57 PRE:0.52 LR:0.000000\n"
          ]
        },
        {
          "output_type": "stream",
          "name": "stderr",
          "text": [
            "VALID LOSS:0.2794 ACC:0.91 F1:0.55 REC:0.57 PRE:0.52: 100%|██████████| 15/15 [00:00<00:00, 15.20it/s]\n"
          ]
        },
        {
          "output_type": "stream",
          "name": "stdout",
          "text": [
            "(Epoch 96) VALID LOSS:0.2794 ACC:0.89 F1:0.50 REC:0.52 PRE:0.48\n"
          ]
        },
        {
          "output_type": "stream",
          "name": "stderr",
          "text": [
            "(Epoch 97) TRAIN LOSS:0.2589 LR:0.000000: 100%|██████████| 58/58 [00:09<00:00,  6.05it/s]\n"
          ]
        },
        {
          "output_type": "stream",
          "name": "stdout",
          "text": [
            "(Epoch 97) TRAIN LOSS:0.2589 ACC:0.91 F1:0.54 REC:0.56 PRE:0.84 LR:0.000000\n"
          ]
        },
        {
          "output_type": "stream",
          "name": "stderr",
          "text": [
            "VALID LOSS:0.2794 ACC:0.91 F1:0.54 REC:0.56 PRE:0.84: 100%|██████████| 15/15 [00:00<00:00, 17.42it/s]\n"
          ]
        },
        {
          "output_type": "stream",
          "name": "stdout",
          "text": [
            "(Epoch 97) VALID LOSS:0.2794 ACC:0.89 F1:0.50 REC:0.52 PRE:0.48\n"
          ]
        },
        {
          "output_type": "stream",
          "name": "stderr",
          "text": [
            "(Epoch 98) TRAIN LOSS:0.2619 LR:0.000000: 100%|██████████| 58/58 [00:09<00:00,  6.07it/s]\n"
          ]
        },
        {
          "output_type": "stream",
          "name": "stdout",
          "text": [
            "(Epoch 98) TRAIN LOSS:0.2619 ACC:0.90 F1:0.53 REC:0.55 PRE:0.67 LR:0.000000\n"
          ]
        },
        {
          "output_type": "stream",
          "name": "stderr",
          "text": [
            "VALID LOSS:0.2794 ACC:0.90 F1:0.53 REC:0.55 PRE:0.67: 100%|██████████| 15/15 [00:00<00:00, 18.23it/s]\n"
          ]
        },
        {
          "output_type": "stream",
          "name": "stdout",
          "text": [
            "(Epoch 98) VALID LOSS:0.2794 ACC:0.89 F1:0.50 REC:0.52 PRE:0.48\n"
          ]
        },
        {
          "output_type": "stream",
          "name": "stderr",
          "text": [
            "(Epoch 99) TRAIN LOSS:0.2614 LR:0.000000: 100%|██████████| 58/58 [00:09<00:00,  6.11it/s]\n"
          ]
        },
        {
          "output_type": "stream",
          "name": "stdout",
          "text": [
            "(Epoch 99) TRAIN LOSS:0.2614 ACC:0.91 F1:0.55 REC:0.57 PRE:0.63 LR:0.000000\n"
          ]
        },
        {
          "output_type": "stream",
          "name": "stderr",
          "text": [
            "VALID LOSS:0.2794 ACC:0.91 F1:0.55 REC:0.57 PRE:0.63: 100%|██████████| 15/15 [00:00<00:00, 17.66it/s]\n"
          ]
        },
        {
          "output_type": "stream",
          "name": "stdout",
          "text": [
            "(Epoch 99) VALID LOSS:0.2794 ACC:0.89 F1:0.50 REC:0.52 PRE:0.48\n"
          ]
        },
        {
          "output_type": "stream",
          "name": "stderr",
          "text": [
            "(Epoch 100) TRAIN LOSS:0.2602 LR:0.000000: 100%|██████████| 58/58 [00:09<00:00,  6.10it/s]\n"
          ]
        },
        {
          "output_type": "stream",
          "name": "stdout",
          "text": [
            "(Epoch 100) TRAIN LOSS:0.2602 ACC:0.90 F1:0.53 REC:0.55 PRE:0.51 LR:0.000000\n"
          ]
        },
        {
          "output_type": "stream",
          "name": "stderr",
          "text": [
            "VALID LOSS:0.2794 ACC:0.90 F1:0.53 REC:0.55 PRE:0.51: 100%|██████████| 15/15 [00:00<00:00, 17.63it/s]"
          ]
        },
        {
          "output_type": "stream",
          "name": "stdout",
          "text": [
            "(Epoch 100) VALID LOSS:0.2794 ACC:0.89 F1:0.50 REC:0.52 PRE:0.48\n"
          ]
        },
        {
          "output_type": "stream",
          "name": "stderr",
          "text": [
            "\n"
          ]
        }
      ],
      "source": [
        "epochs = 100\n",
        "\n",
        "train_loss_values = []\n",
        "test_loss_values = []\n",
        "train_metrics_values = []\n",
        "test_metrics_values = []\n",
        "\n",
        "for epoch in range(epochs):\n",
        "    model.train()\n",
        "\n",
        "    total_train_loss = 0\n",
        "    list_hyp, list_label = [], []\n",
        "\n",
        "    train_pbar = tqdm(train_dataloader, leave=True, total=len(train_dataloader))\n",
        "    for i, batch_data in enumerate(train_pbar):\n",
        "        # Forward model\n",
        "        loss, batch_hyp, batch_label = forward_sequence_classification(\n",
        "            model, batch_data[:-1], i2w=i2w, device=\"cuda\"\n",
        "        )\n",
        "\n",
        "        # Update model\n",
        "        optimizer.zero_grad()\n",
        "        loss.backward()\n",
        "        optimizer.step()\n",
        "\n",
        "        total_train_loss = total_train_loss + loss.item()\n",
        "\n",
        "        # Calculate metrics\n",
        "        list_hyp += batch_hyp\n",
        "        list_label += batch_label\n",
        "\n",
        "        train_pbar.set_description(f\"(Epoch {epoch+1}) TRAIN LOSS:{total_train_loss / (i+1):.4f} LR:{get_lr(optimizer):.6f}\")\n",
        "\n",
        "    # Calculate train metric\n",
        "    metrics = document_sentiment_metrics_fn(list_hyp, list_label)\n",
        "    print(f\"(Epoch {epoch+1}) TRAIN LOSS:{total_train_loss / (i+1):.4f} {metrics_to_string(metrics)} LR:{get_lr(optimizer):.6f}\")\n",
        "    train_loss_values.append(total_train_loss)\n",
        "    train_metrics_values.append(metrics['ACC'])\n",
        "\n",
        "    # Evaluate on validation\n",
        "    model.eval()\n",
        "\n",
        "    total_loss, total_correct, total_labels = 0, 0, 0\n",
        "    list_hyp, list_label = [], []\n",
        "\n",
        "    test_pbar = tqdm(test_dataloader, leave=True, total=len(test_dataloader))\n",
        "    with torch.inference_mode():\n",
        "        for i, batch_data in enumerate(test_pbar):\n",
        "            batch_seq = batch_data[-1]\n",
        "            loss, batch_hyp, batch_label = forward_sequence_classification(\n",
        "                model, batch_data[:-1], i2w=i2w, device=\"cuda\"\n",
        "            )\n",
        "\n",
        "            # Calculate total loss\n",
        "            valid_loss = loss.item()\n",
        "            total_loss = total_loss + valid_loss\n",
        "\n",
        "            # Calculate evaluation metrics\n",
        "            list_hyp += batch_hyp\n",
        "            list_label += batch_label\n",
        "            test_pbar.set_description(f\"VALID LOSS:{total_loss / (i+1):.4f} {metrics_to_string(metrics)}\")\n",
        "\n",
        "    # Update model\n",
        "    scheduler.step(total_loss)\n",
        "\n",
        "    metrics = document_sentiment_metrics_fn(list_hyp, list_label)\n",
        "    print(f\"(Epoch {epoch+1}) VALID LOSS:{total_loss / (i+1):.4f} {metrics_to_string(metrics)}\")\n",
        "    test_loss_values.append(total_loss)\n",
        "    test_metrics_values.append(metrics['ACC'])"
      ]
    },
    {
      "cell_type": "code",
      "execution_count": 22,
      "metadata": {
        "id": "5LCoXTmQDpqC"
      },
      "outputs": [],
      "source": [
        "model.save_pretrained(save_directory=\"indobert-sentiment-analysis\")"
      ]
    },
    {
      "cell_type": "code",
      "source": [
        "plt.figure(figsize=(8, 4), dpi=150)\n",
        "plt.plot(range(epochs), train_loss_values, label=\"Train loss\")\n",
        "plt.plot(range(epochs), test_loss_values, label=\"Test loss\")\n",
        "plt.legend()"
      ],
      "metadata": {
        "colab": {
          "base_uri": "https://localhost:8080/",
          "height": 524
        },
        "id": "SXt0hNgIWiMn",
        "outputId": "4ccdf907-c7da-4b9d-aba2-a472b5c53eac"
      },
      "execution_count": 23,
      "outputs": [
        {
          "output_type": "execute_result",
          "data": {
            "text/plain": [
              "<matplotlib.legend.Legend at 0x794a29ef2590>"
            ]
          },
          "metadata": {},
          "execution_count": 23
        },
        {
          "output_type": "display_data",
          "data": {
            "text/plain": [
              "<Figure size 1200x600 with 1 Axes>"
            ],
            "image/png": "[encoded data removed]"
          },
          "metadata": {}
        }
      ]
    },
    {
      "cell_type": "code",
      "source": [
        "plt.figure(figsize=(8, 4), dpi=150)\n",
        "plt.plot(range(epochs), train_metrics_values, label=\"Train accuracy\")\n",
        "plt.plot(range(epochs), test_metrics_values, label=\"Test accuracy\")\n",
        "plt.legend()"
      ],
      "metadata": {
        "colab": {
          "base_uri": "https://localhost:8080/",
          "height": 521
        },
        "id": "OskKLdWjWxIc",
        "outputId": "d276576d-b843-4b30-cce8-bc7f421979c7"
      },
      "execution_count": 24,
      "outputs": [
        {
          "output_type": "execute_result",
          "data": {
            "text/plain": [
              "<matplotlib.legend.Legend at 0x794a205f3130>"
            ]
          },
          "metadata": {},
          "execution_count": 24
        },
        {
          "output_type": "display_data",
          "data": {
            "text/plain": [
              "<Figure size 1200x600 with 1 Axes>"
            ],
            "image/png": "[encoded data removed]"
          },
          "metadata": {}
        }
      ]
    },
    {
      "cell_type": "code",
      "execution_count": 25,
      "metadata": {
        "colab": {
          "base_uri": "https://localhost:8080/"
        },
        "id": "_-RCE-1ZDpqC",
        "outputId": "61454ecc-cb06-4d0b-eb36-411e5cf3abb7"
      },
      "outputs": [
        {
          "output_type": "stream",
          "name": "stderr",
          "text": [
            "100%|██████████| 15/15 [00:00<00:00, 16.89it/s]\n"
          ]
        }
      ],
      "source": [
        "model.eval()\n",
        "with torch.inference_mode():\n",
        "    total_loss, total_correct, total_labels = 0, 0, 0\n",
        "    list_hyp, list_label = [], []\n",
        "\n",
        "    pbar = tqdm(test_dataloader, leave=True, total=len(test_dataloader))\n",
        "    for i, batch_data in enumerate(pbar):\n",
        "        _, batch_hyp, batch_label = forward_sequence_classification(\n",
        "            model, batch_data[:-1], i2w=i2w, device=\"cuda\"\n",
        "        )\n",
        "        list_hyp.extend(batch_hyp)\n",
        "        list_label.extend(batch_label)\n",
        "\n",
        "# Save prediction\n",
        "results_df = pd.DataFrame({\"sentiment\": list_hyp, \"label\": list_label}).reset_index(\n",
        "    drop=True\n",
        ")\n",
        "results_df.to_csv(\"pred.csv\", index=False)"
      ]
    },
    {
      "cell_type": "code",
      "source": [
        "cm = torchmetrics.ConfusionMatrix(task='multiclass', num_classes=3)"
      ],
      "metadata": {
        "id": "4pK0bnamOyvA"
      },
      "execution_count": 26,
      "outputs": []
    },
    {
      "cell_type": "code",
      "source": [
        "y_pred = torch.tensor(\n",
        "    list(\n",
        "        map(lambda y: 0 if y == 'positive' else 1 if y == 'neutral' else 2 , list_hyp)\n",
        "    )\n",
        ")\n",
        "ground_truth = torch.tensor(\n",
        "    list(\n",
        "        map(lambda y: 0 if y == 'positive' else 1 if y == 'neutral' else 2 , list_label)\n",
        "    )\n",
        ")\n",
        "\n",
        "conf_mat = cm(y_pred, ground_truth)"
      ],
      "metadata": {
        "id": "X0RLQwZiRO5r"
      },
      "execution_count": 27,
      "outputs": []
    },
    {
      "cell_type": "code",
      "source": [
        "plt.figure(figsize=(10, 7), dpi=150)\n",
        "sns.heatmap(\n",
        "    conf_mat,\n",
        "    annot=True,\n",
        "    fmt=\"d\",\n",
        "    cmap=\"Blues\",\n",
        "    xticklabels=w2i,\n",
        "    yticklabels=w2i,\n",
        ")"
      ],
      "metadata": {
        "colab": {
          "base_uri": "https://localhost:8080/",
          "height": 744
        },
        "id": "mIyagen4RTpp",
        "outputId": "10c9f5a9-a1d9-4350-eefe-6e91354fefff"
      },
      "execution_count": 28,
      "outputs": [
        {
          "output_type": "execute_result",
          "data": {
            "text/plain": [
              "<Axes: >"
            ]
          },
          "metadata": {},
          "execution_count": 28
        },
        {
          "output_type": "display_data",
          "data": {
            "text/plain": [
              "<Figure size 1500x1050 with 2 Axes>"
            ],
            "image/png": "[encoded data removed]"
          },
          "metadata": {}
        }
      ]
    },
    {
      "cell_type": "code",
      "source": [
        "document_sentiment_metrics_fn(list_hyp, list_label)"
      ],
      "metadata": {
        "colab": {
          "base_uri": "https://localhost:8080/"
        },
        "id": "CyBRUwFTR9yO",
        "outputId": "c786ea75-9bcd-43e0-9649-a9658d25e312"
      },
      "execution_count": 29,
      "outputs": [
        {
          "output_type": "execute_result",
          "data": {
            "text/plain": [
              "{'ACC': 0.8920086393088553,\n",
              " 'F1': 0.5017479908763404,\n",
              " 'REC': 0.5211111111111112,\n",
              " 'PRE': 0.48390464933018124}"
            ]
          },
          "metadata": {},
          "execution_count": 29
        }
      ]
    },
    {
      "cell_type": "code",
      "source": [],
      "metadata": {
        "id": "7ul06c9ehQiS"
      },
      "execution_count": 29,
      "outputs": []
    },
    {
      "cell_type": "code",
      "source": [],
      "metadata": {
        "id": "ytZ8emXzf8GZ"
      },
      "execution_count": 29,
      "outputs": []
    }
  ],
  "metadata": {
    "kernelspec": {
      "display_name": "Python 3",
      "name": "python3"
    },
    "language_info": {
      "codemirror_mode": {
        "name": "ipython",
        "version": 3
      },
      "file_extension": ".py",
      "mimetype": "text/x-python",
      "name": "python",
      "nbconvert_exporter": "python",
      "pygments_lexer": "ipython3",
      "version": "3.9.0"
    },
    "colab": {
      "provenance": [],
      "gpuType": "T4"
    },
    "accelerator": "GPU",
    "widgets": {
      "application/vnd.jupyter.widget-state+json": {
        "b7d9ee595693486dbe35ed834a57adeb": {
          "model_module": "@jupyter-widgets/controls",
          "model_name": "HBoxModel",
          "model_module_version": "1.5.0",
          "state": {
            "_dom_classes": [],
            "_model_module": "@jupyter-widgets/controls",
            "_model_module_version": "1.5.0",
            "_model_name": "HBoxModel",
            "_view_count": null,
            "_view_module": "@jupyter-widgets/controls",
            "_view_module_version": "1.5.0",
            "_view_name": "HBoxView",
            "box_style": "",
            "children": [
              "IPY_MODEL_cfc47994212f4adb9a986f1b5be2cf37",
              "IPY_MODEL_e82851c5fe294c0687542aea299c7b75",
              "IPY_MODEL_162a00feb0764ed2854c355281c6fcbe"
            ],
            "layout": "IPY_MODEL_f4359eb16bd54f29b9af6aaab3f678dd"
          }
        },
        "cfc47994212f4adb9a986f1b5be2cf37": {
          "model_module": "@jupyter-widgets/controls",
          "model_name": "HTMLModel",
          "model_module_version": "1.5.0",
          "state": {
            "_dom_classes": [],
            "_model_module": "@jupyter-widgets/controls",
            "_model_module_version": "1.5.0",
            "_model_name": "HTMLModel",
            "_view_count": null,
            "_view_module": "@jupyter-widgets/controls",
            "_view_module_version": "1.5.0",
            "_view_name": "HTMLView",
            "description": "",
            "description_tooltip": null,
            "layout": "IPY_MODEL_ac40b27ad92d4482922fa1b760865dbb",
            "placeholder": "​",
            "style": "IPY_MODEL_0b516516a11441ddb769d85c9300dfe2",
            "value": "tokenizer_config.json: 100%"
          }
        },
        "e82851c5fe294c0687542aea299c7b75": {
          "model_module": "@jupyter-widgets/controls",
          "model_name": "FloatProgressModel",
          "model_module_version": "1.5.0",
          "state": {
            "_dom_classes": [],
            "_model_module": "@jupyter-widgets/controls",
            "_model_module_version": "1.5.0",
            "_model_name": "FloatProgressModel",
            "_view_count": null,
            "_view_module": "@jupyter-widgets/controls",
            "_view_module_version": "1.5.0",
            "_view_name": "ProgressView",
            "bar_style": "success",
            "description": "",
            "description_tooltip": null,
            "layout": "IPY_MODEL_e6b7b3d87533401f8d4f902ed83c5721",
            "max": 2,
            "min": 0,
            "orientation": "horizontal",
            "style": "IPY_MODEL_4d472f3b2725435180bfa288a5753e81",
            "value": 2
          }
        },
        "162a00feb0764ed2854c355281c6fcbe": {
          "model_module": "@jupyter-widgets/controls",
          "model_name": "HTMLModel",
          "model_module_version": "1.5.0",
          "state": {
            "_dom_classes": [],
            "_model_module": "@jupyter-widgets/controls",
            "_model_module_version": "1.5.0",
            "_model_name": "HTMLModel",
            "_view_count": null,
            "_view_module": "@jupyter-widgets/controls",
            "_view_module_version": "1.5.0",
            "_view_name": "HTMLView",
            "description": "",
            "description_tooltip": null,
            "layout": "IPY_MODEL_744e3d53342a43e5b1b78ba1bf69e5ad",
            "placeholder": "​",
            "style": "IPY_MODEL_1a8398ce103b4cdf88591e991c21d49b",
            "value": " 2.00/2.00 [00:00&lt;00:00, 122B/s]"
          }
        },
        "f4359eb16bd54f29b9af6aaab3f678dd": {
          "model_module": "@jupyter-widgets/base",
          "model_name": "LayoutModel",
          "model_module_version": "1.2.0",
          "state": {
            "_model_module": "@jupyter-widgets/base",
            "_model_module_version": "1.2.0",
            "_model_name": "LayoutModel",
            "_view_count": null,
            "_view_module": "@jupyter-widgets/base",
            "_view_module_version": "1.2.0",
            "_view_name": "LayoutView",
            "align_content": null,
            "align_items": null,
            "align_self": null,
            "border": null,
            "bottom": null,
            "display": null,
            "flex": null,
            "flex_flow": null,
            "grid_area": null,
            "grid_auto_columns": null,
            "grid_auto_flow": null,
            "grid_auto_rows": null,
            "grid_column": null,
            "grid_gap": null,
            "grid_row": null,
            "grid_template_areas": null,
            "grid_template_columns": null,
            "grid_template_rows": null,
            "height": null,
            "justify_content": null,
            "justify_items": null,
            "left": null,
            "margin": null,
            "max_height": null,
            "max_width": null,
            "min_height": null,
            "min_width": null,
            "object_fit": null,
            "object_position": null,
            "order": null,
            "overflow": null,
            "overflow_x": null,
            "overflow_y": null,
            "padding": null,
            "right": null,
            "top": null,
            "visibility": null,
            "width": null
          }
        },
        "ac40b27ad92d4482922fa1b760865dbb": {
          "model_module": "@jupyter-widgets/base",
          "model_name": "LayoutModel",
          "model_module_version": "1.2.0",
          "state": {
            "_model_module": "@jupyter-widgets/base",
            "_model_module_version": "1.2.0",
            "_model_name": "LayoutModel",
            "_view_count": null,
            "_view_module": "@jupyter-widgets/base",
            "_view_module_version": "1.2.0",
            "_view_name": "LayoutView",
            "align_content": null,
            "align_items": null,
            "align_self": null,
            "border": null,
            "bottom": null,
            "display": null,
            "flex": null,
            "flex_flow": null,
            "grid_area": null,
            "grid_auto_columns": null,
            "grid_auto_flow": null,
            "grid_auto_rows": null,
            "grid_column": null,
            "grid_gap": null,
            "grid_row": null,
            "grid_template_areas": null,
            "grid_template_columns": null,
            "grid_template_rows": null,
            "height": null,
            "justify_content": null,
            "justify_items": null,
            "left": null,
            "margin": null,
            "max_height": null,
            "max_width": null,
            "min_height": null,
            "min_width": null,
            "object_fit": null,
            "object_position": null,
            "order": null,
            "overflow": null,
            "overflow_x": null,
            "overflow_y": null,
            "padding": null,
            "right": null,
            "top": null,
            "visibility": null,
            "width": null
          }
        },
        "0b516516a11441ddb769d85c9300dfe2": {
          "model_module": "@jupyter-widgets/controls",
          "model_name": "DescriptionStyleModel",
          "model_module_version": "1.5.0",
          "state": {
            "_model_module": "@jupyter-widgets/controls",
            "_model_module_version": "1.5.0",
            "_model_name": "DescriptionStyleModel",
            "_view_count": null,
            "_view_module": "@jupyter-widgets/base",
            "_view_module_version": "1.2.0",
            "_view_name": "StyleView",
            "description_width": ""
          }
        },
        "e6b7b3d87533401f8d4f902ed83c5721": {
          "model_module": "@jupyter-widgets/base",
          "model_name": "LayoutModel",
          "model_module_version": "1.2.0",
          "state": {
            "_model_module": "@jupyter-widgets/base",
            "_model_module_version": "1.2.0",
            "_model_name": "LayoutModel",
            "_view_count": null,
            "_view_module": "@jupyter-widgets/base",
            "_view_module_version": "1.2.0",
            "_view_name": "LayoutView",
            "align_content": null,
            "align_items": null,
            "align_self": null,
            "border": null,
            "bottom": null,
            "display": null,
            "flex": null,
            "flex_flow": null,
            "grid_area": null,
            "grid_auto_columns": null,
            "grid_auto_flow": null,
            "grid_auto_rows": null,
            "grid_column": null,
            "grid_gap": null,
            "grid_row": null,
            "grid_template_areas": null,
            "grid_template_columns": null,
            "grid_template_rows": null,
            "height": null,
            "justify_content": null,
            "justify_items": null,
            "left": null,
            "margin": null,
            "max_height": null,
            "max_width": null,
            "min_height": null,
            "min_width": null,
            "object_fit": null,
            "object_position": null,
            "order": null,
            "overflow": null,
            "overflow_x": null,
            "overflow_y": null,
            "padding": null,
            "right": null,
            "top": null,
            "visibility": null,
            "width": null
          }
        },
        "4d472f3b2725435180bfa288a5753e81": {
          "model_module": "@jupyter-widgets/controls",
          "model_name": "ProgressStyleModel",
          "model_module_version": "1.5.0",
          "state": {
            "_model_module": "@jupyter-widgets/controls",
            "_model_module_version": "1.5.0",
            "_model_name": "ProgressStyleModel",
            "_view_count": null,
            "_view_module": "@jupyter-widgets/base",
            "_view_module_version": "1.2.0",
            "_view_name": "StyleView",
            "bar_color": null,
            "description_width": ""
          }
        },
        "744e3d53342a43e5b1b78ba1bf69e5ad": {
          "model_module": "@jupyter-widgets/base",
          "model_name": "LayoutModel",
          "model_module_version": "1.2.0",
          "state": {
            "_model_module": "@jupyter-widgets/base",
            "_model_module_version": "1.2.0",
            "_model_name": "LayoutModel",
            "_view_count": null,
            "_view_module": "@jupyter-widgets/base",
            "_view_module_version": "1.2.0",
            "_view_name": "LayoutView",
            "align_content": null,
            "align_items": null,
            "align_self": null,
            "border": null,
            "bottom": null,
            "display": null,
            "flex": null,
            "flex_flow": null,
            "grid_area": null,
            "grid_auto_columns": null,
            "grid_auto_flow": null,
            "grid_auto_rows": null,
            "grid_column": null,
            "grid_gap": null,
            "grid_row": null,
            "grid_template_areas": null,
            "grid_template_columns": null,
            "grid_template_rows": null,
            "height": null,
            "justify_content": null,
            "justify_items": null,
            "left": null,
            "margin": null,
            "max_height": null,
            "max_width": null,
            "min_height": null,
            "min_width": null,
            "object_fit": null,
            "object_position": null,
            "order": null,
            "overflow": null,
            "overflow_x": null,
            "overflow_y": null,
            "padding": null,
            "right": null,
            "top": null,
            "visibility": null,
            "width": null
          }
        },
        "1a8398ce103b4cdf88591e991c21d49b": {
          "model_module": "@jupyter-widgets/controls",
          "model_name": "DescriptionStyleModel",
          "model_module_version": "1.5.0",
          "state": {
            "_model_module": "@jupyter-widgets/controls",
            "_model_module_version": "1.5.0",
            "_model_name": "DescriptionStyleModel",
            "_view_count": null,
            "_view_module": "@jupyter-widgets/base",
            "_view_module_version": "1.2.0",
            "_view_name": "StyleView",
            "description_width": ""
          }
        },
        "bb4fac38efb6457384c1b3ab6bb3e4bd": {
          "model_module": "@jupyter-widgets/controls",
          "model_name": "HBoxModel",
          "model_module_version": "1.5.0",
          "state": {
            "_dom_classes": [],
            "_model_module": "@jupyter-widgets/controls",
            "_model_module_version": "1.5.0",
            "_model_name": "HBoxModel",
            "_view_count": null,
            "_view_module": "@jupyter-widgets/controls",
            "_view_module_version": "1.5.0",
            "_view_name": "HBoxView",
            "box_style": "",
            "children": [
              "IPY_MODEL_b2ccd5475776484d9d429364a97a30fb",
              "IPY_MODEL_7f17a5665ffe41eeb2a595f0f27a4aae",
              "IPY_MODEL_65240d31e0c84b36983739c26738e1f1"
            ],
            "layout": "IPY_MODEL_69d5470e595245baa096625e5a35c8f1"
          }
        },
        "b2ccd5475776484d9d429364a97a30fb": {
          "model_module": "@jupyter-widgets/controls",
          "model_name": "HTMLModel",
          "model_module_version": "1.5.0",
          "state": {
            "_dom_classes": [],
            "_model_module": "@jupyter-widgets/controls",
            "_model_module_version": "1.5.0",
            "_model_name": "HTMLModel",
            "_view_count": null,
            "_view_module": "@jupyter-widgets/controls",
            "_view_module_version": "1.5.0",
            "_view_name": "HTMLView",
            "description": "",
            "description_tooltip": null,
            "layout": "IPY_MODEL_a20581119b4c49e998c7ddeb7e0ed22d",
            "placeholder": "​",
            "style": "IPY_MODEL_b098087bd8ad4a4d96e1f35febcf9f21",
            "value": "vocab.txt: 100%"
          }
        },
        "7f17a5665ffe41eeb2a595f0f27a4aae": {
          "model_module": "@jupyter-widgets/controls",
          "model_name": "FloatProgressModel",
          "model_module_version": "1.5.0",
          "state": {
            "_dom_classes": [],
            "_model_module": "@jupyter-widgets/controls",
            "_model_module_version": "1.5.0",
            "_model_name": "FloatProgressModel",
            "_view_count": null,
            "_view_module": "@jupyter-widgets/controls",
            "_view_module_version": "1.5.0",
            "_view_name": "ProgressView",
            "bar_style": "success",
            "description": "",
            "description_tooltip": null,
            "layout": "IPY_MODEL_9b12f3674ca346338cc3f6ad72f43784",
            "max": 229167,
            "min": 0,
            "orientation": "horizontal",
            "style": "IPY_MODEL_2cc52d1f20ae4e2fbd669a890daabe8a",
            "value": 229167
          }
        },
        "65240d31e0c84b36983739c26738e1f1": {
          "model_module": "@jupyter-widgets/controls",
          "model_name": "HTMLModel",
          "model_module_version": "1.5.0",
          "state": {
            "_dom_classes": [],
            "_model_module": "@jupyter-widgets/controls",
            "_model_module_version": "1.5.0",
            "_model_name": "HTMLModel",
            "_view_count": null,
            "_view_module": "@jupyter-widgets/controls",
            "_view_module_version": "1.5.0",
            "_view_name": "HTMLView",
            "description": "",
            "description_tooltip": null,
            "layout": "IPY_MODEL_8d20e900c49042b095b4707f0aee5a32",
            "placeholder": "​",
            "style": "IPY_MODEL_45c9594879774003b12c9d40f74b9c7e",
            "value": " 229k/229k [00:00&lt;00:00, 1.77MB/s]"
          }
        },
        "69d5470e595245baa096625e5a35c8f1": {
          "model_module": "@jupyter-widgets/base",
          "model_name": "LayoutModel",
          "model_module_version": "1.2.0",
          "state": {
            "_model_module": "@jupyter-widgets/base",
            "_model_module_version": "1.2.0",
            "_model_name": "LayoutModel",
            "_view_count": null,
            "_view_module": "@jupyter-widgets/base",
            "_view_module_version": "1.2.0",
            "_view_name": "LayoutView",
            "align_content": null,
            "align_items": null,
            "align_self": null,
            "border": null,
            "bottom": null,
            "display": null,
            "flex": null,
            "flex_flow": null,
            "grid_area": null,
            "grid_auto_columns": null,
            "grid_auto_flow": null,
            "grid_auto_rows": null,
            "grid_column": null,
            "grid_gap": null,
            "grid_row": null,
            "grid_template_areas": null,
            "grid_template_columns": null,
            "grid_template_rows": null,
            "height": null,
            "justify_content": null,
            "justify_items": null,
            "left": null,
            "margin": null,
            "max_height": null,
            "max_width": null,
            "min_height": null,
            "min_width": null,
            "object_fit": null,
            "object_position": null,
            "order": null,
            "overflow": null,
            "overflow_x": null,
            "overflow_y": null,
            "padding": null,
            "right": null,
            "top": null,
            "visibility": null,
            "width": null
          }
        },
        "a20581119b4c49e998c7ddeb7e0ed22d": {
          "model_module": "@jupyter-widgets/base",
          "model_name": "LayoutModel",
          "model_module_version": "1.2.0",
          "state": {
            "_model_module": "@jupyter-widgets/base",
            "_model_module_version": "1.2.0",
            "_model_name": "LayoutModel",
            "_view_count": null,
            "_view_module": "@jupyter-widgets/base",
            "_view_module_version": "1.2.0",
            "_view_name": "LayoutView",
            "align_content": null,
            "align_items": null,
            "align_self": null,
            "border": null,
            "bottom": null,
            "display": null,
            "flex": null,
            "flex_flow": null,
            "grid_area": null,
            "grid_auto_columns": null,
            "grid_auto_flow": null,
            "grid_auto_rows": null,
            "grid_column": null,
            "grid_gap": null,
            "grid_row": null,
            "grid_template_areas": null,
            "grid_template_columns": null,
            "grid_template_rows": null,
            "height": null,
            "justify_content": null,
            "justify_items": null,
            "left": null,
            "margin": null,
            "max_height": null,
            "max_width": null,
            "min_height": null,
            "min_width": null,
            "object_fit": null,
            "object_position": null,
            "order": null,
            "overflow": null,
            "overflow_x": null,
            "overflow_y": null,
            "padding": null,
            "right": null,
            "top": null,
            "visibility": null,
            "width": null
          }
        },
        "b098087bd8ad4a4d96e1f35febcf9f21": {
          "model_module": "@jupyter-widgets/controls",
          "model_name": "DescriptionStyleModel",
          "model_module_version": "1.5.0",
          "state": {
            "_model_module": "@jupyter-widgets/controls",
            "_model_module_version": "1.5.0",
            "_model_name": "DescriptionStyleModel",
            "_view_count": null,
            "_view_module": "@jupyter-widgets/base",
            "_view_module_version": "1.2.0",
            "_view_name": "StyleView",
            "description_width": ""
          }
        },
        "9b12f3674ca346338cc3f6ad72f43784": {
          "model_module": "@jupyter-widgets/base",
          "model_name": "LayoutModel",
          "model_module_version": "1.2.0",
          "state": {
            "_model_module": "@jupyter-widgets/base",
            "_model_module_version": "1.2.0",
            "_model_name": "LayoutModel",
            "_view_count": null,
            "_view_module": "@jupyter-widgets/base",
            "_view_module_version": "1.2.0",
            "_view_name": "LayoutView",
            "align_content": null,
            "align_items": null,
            "align_self": null,
            "border": null,
            "bottom": null,
            "display": null,
            "flex": null,
            "flex_flow": null,
            "grid_area": null,
            "grid_auto_columns": null,
            "grid_auto_flow": null,
            "grid_auto_rows": null,
            "grid_column": null,
            "grid_gap": null,
            "grid_row": null,
            "grid_template_areas": null,
            "grid_template_columns": null,
            "grid_template_rows": null,
            "height": null,
            "justify_content": null,
            "justify_items": null,
            "left": null,
            "margin": null,
            "max_height": null,
            "max_width": null,
            "min_height": null,
            "min_width": null,
            "object_fit": null,
            "object_position": null,
            "order": null,
            "overflow": null,
            "overflow_x": null,
            "overflow_y": null,
            "padding": null,
            "right": null,
            "top": null,
            "visibility": null,
            "width": null
          }
        },
        "2cc52d1f20ae4e2fbd669a890daabe8a": {
          "model_module": "@jupyter-widgets/controls",
          "model_name": "ProgressStyleModel",
          "model_module_version": "1.5.0",
          "state": {
            "_model_module": "@jupyter-widgets/controls",
            "_model_module_version": "1.5.0",
            "_model_name": "ProgressStyleModel",
            "_view_count": null,
            "_view_module": "@jupyter-widgets/base",
            "_view_module_version": "1.2.0",
            "_view_name": "StyleView",
            "bar_color": null,
            "description_width": ""
          }
        },
        "8d20e900c49042b095b4707f0aee5a32": {
          "model_module": "@jupyter-widgets/base",
          "model_name": "LayoutModel",
          "model_module_version": "1.2.0",
          "state": {
            "_model_module": "@jupyter-widgets/base",
            "_model_module_version": "1.2.0",
            "_model_name": "LayoutModel",
            "_view_count": null,
            "_view_module": "@jupyter-widgets/base",
            "_view_module_version": "1.2.0",
            "_view_name": "LayoutView",
            "align_content": null,
            "align_items": null,
            "align_self": null,
            "border": null,
            "bottom": null,
            "display": null,
            "flex": null,
            "flex_flow": null,
            "grid_area": null,
            "grid_auto_columns": null,
            "grid_auto_flow": null,
            "grid_auto_rows": null,
            "grid_column": null,
            "grid_gap": null,
            "grid_row": null,
            "grid_template_areas": null,
            "grid_template_columns": null,
            "grid_template_rows": null,
            "height": null,
            "justify_content": null,
            "justify_items": null,
            "left": null,
            "margin": null,
            "max_height": null,
            "max_width": null,
            "min_height": null,
            "min_width": null,
            "object_fit": null,
            "object_position": null,
            "order": null,
            "overflow": null,
            "overflow_x": null,
            "overflow_y": null,
            "padding": null,
            "right": null,
            "top": null,
            "visibility": null,
            "width": null
          }
        },
        "45c9594879774003b12c9d40f74b9c7e": {
          "model_module": "@jupyter-widgets/controls",
          "model_name": "DescriptionStyleModel",
          "model_module_version": "1.5.0",
          "state": {
            "_model_module": "@jupyter-widgets/controls",
            "_model_module_version": "1.5.0",
            "_model_name": "DescriptionStyleModel",
            "_view_count": null,
            "_view_module": "@jupyter-widgets/base",
            "_view_module_version": "1.2.0",
            "_view_name": "StyleView",
            "description_width": ""
          }
        },
        "d462132515264959a2020abbd488f7df": {
          "model_module": "@jupyter-widgets/controls",
          "model_name": "HBoxModel",
          "model_module_version": "1.5.0",
          "state": {
            "_dom_classes": [],
            "_model_module": "@jupyter-widgets/controls",
            "_model_module_version": "1.5.0",
            "_model_name": "HBoxModel",
            "_view_count": null,
            "_view_module": "@jupyter-widgets/controls",
            "_view_module_version": "1.5.0",
            "_view_name": "HBoxView",
            "box_style": "",
            "children": [
              "IPY_MODEL_bb19899d2e394794b5430f2855a9f876",
              "IPY_MODEL_e65a9a42f2da403da98830c89acc14b6",
              "IPY_MODEL_24dab90b5e414305905900de94e321e1"
            ],
            "layout": "IPY_MODEL_c16b045be4eb49d593679b55fb02aee6"
          }
        },
        "bb19899d2e394794b5430f2855a9f876": {
          "model_module": "@jupyter-widgets/controls",
          "model_name": "HTMLModel",
          "model_module_version": "1.5.0",
          "state": {
            "_dom_classes": [],
            "_model_module": "@jupyter-widgets/controls",
            "_model_module_version": "1.5.0",
            "_model_name": "HTMLModel",
            "_view_count": null,
            "_view_module": "@jupyter-widgets/controls",
            "_view_module_version": "1.5.0",
            "_view_name": "HTMLView",
            "description": "",
            "description_tooltip": null,
            "layout": "IPY_MODEL_37b44e912e0e44088a0eed005abde705",
            "placeholder": "​",
            "style": "IPY_MODEL_b2a8e2dfdd964d53b4ce11de7999454d",
            "value": "special_tokens_map.json: 100%"
          }
        },
        "e65a9a42f2da403da98830c89acc14b6": {
          "model_module": "@jupyter-widgets/controls",
          "model_name": "FloatProgressModel",
          "model_module_version": "1.5.0",
          "state": {
            "_dom_classes": [],
            "_model_module": "@jupyter-widgets/controls",
            "_model_module_version": "1.5.0",
            "_model_name": "FloatProgressModel",
            "_view_count": null,
            "_view_module": "@jupyter-widgets/controls",
            "_view_module_version": "1.5.0",
            "_view_name": "ProgressView",
            "bar_style": "success",
            "description": "",
            "description_tooltip": null,
            "layout": "IPY_MODEL_a4277b2833da432387ca5497f40070b5",
            "max": 112,
            "min": 0,
            "orientation": "horizontal",
            "style": "IPY_MODEL_dcef7c750ec14abf9e2714190254efbe",
            "value": 112
          }
        },
        "24dab90b5e414305905900de94e321e1": {
          "model_module": "@jupyter-widgets/controls",
          "model_name": "HTMLModel",
          "model_module_version": "1.5.0",
          "state": {
            "_dom_classes": [],
            "_model_module": "@jupyter-widgets/controls",
            "_model_module_version": "1.5.0",
            "_model_name": "HTMLModel",
            "_view_count": null,
            "_view_module": "@jupyter-widgets/controls",
            "_view_module_version": "1.5.0",
            "_view_name": "HTMLView",
            "description": "",
            "description_tooltip": null,
            "layout": "IPY_MODEL_fbc22777f90e4a9186ef20fc2b8a9644",
            "placeholder": "​",
            "style": "IPY_MODEL_834660b46d5741aba1263803689c61d1",
            "value": " 112/112 [00:00&lt;00:00, 3.45kB/s]"
          }
        },
        "c16b045be4eb49d593679b55fb02aee6": {
          "model_module": "@jupyter-widgets/base",
          "model_name": "LayoutModel",
          "model_module_version": "1.2.0",
          "state": {
            "_model_module": "@jupyter-widgets/base",
            "_model_module_version": "1.2.0",
            "_model_name": "LayoutModel",
            "_view_count": null,
            "_view_module": "@jupyter-widgets/base",
            "_view_module_version": "1.2.0",
            "_view_name": "LayoutView",
            "align_content": null,
            "align_items": null,
            "align_self": null,
            "border": null,
            "bottom": null,
            "display": null,
            "flex": null,
            "flex_flow": null,
            "grid_area": null,
            "grid_auto_columns": null,
            "grid_auto_flow": null,
            "grid_auto_rows": null,
            "grid_column": null,
            "grid_gap": null,
            "grid_row": null,
            "grid_template_areas": null,
            "grid_template_columns": null,
            "grid_template_rows": null,
            "height": null,
            "justify_content": null,
            "justify_items": null,
            "left": null,
            "margin": null,
            "max_height": null,
            "max_width": null,
            "min_height": null,
            "min_width": null,
            "object_fit": null,
            "object_position": null,
            "order": null,
            "overflow": null,
            "overflow_x": null,
            "overflow_y": null,
            "padding": null,
            "right": null,
            "top": null,
            "visibility": null,
            "width": null
          }
        },
        "37b44e912e0e44088a0eed005abde705": {
          "model_module": "@jupyter-widgets/base",
          "model_name": "LayoutModel",
          "model_module_version": "1.2.0",
          "state": {
            "_model_module": "@jupyter-widgets/base",
            "_model_module_version": "1.2.0",
            "_model_name": "LayoutModel",
            "_view_count": null,
            "_view_module": "@jupyter-widgets/base",
            "_view_module_version": "1.2.0",
            "_view_name": "LayoutView",
            "align_content": null,
            "align_items": null,
            "align_self": null,
            "border": null,
            "bottom": null,
            "display": null,
            "flex": null,
            "flex_flow": null,
            "grid_area": null,
            "grid_auto_columns": null,
            "grid_auto_flow": null,
            "grid_auto_rows": null,
            "grid_column": null,
            "grid_gap": null,
            "grid_row": null,
            "grid_template_areas": null,
            "grid_template_columns": null,
            "grid_template_rows": null,
            "height": null,
            "justify_content": null,
            "justify_items": null,
            "left": null,
            "margin": null,
            "max_height": null,
            "max_width": null,
            "min_height": null,
            "min_width": null,
            "object_fit": null,
            "object_position": null,
            "order": null,
            "overflow": null,
            "overflow_x": null,
            "overflow_y": null,
            "padding": null,
            "right": null,
            "top": null,
            "visibility": null,
            "width": null
          }
        },
        "b2a8e2dfdd964d53b4ce11de7999454d": {
          "model_module": "@jupyter-widgets/controls",
          "model_name": "DescriptionStyleModel",
          "model_module_version": "1.5.0",
          "state": {
            "_model_module": "@jupyter-widgets/controls",
            "_model_module_version": "1.5.0",
            "_model_name": "DescriptionStyleModel",
            "_view_count": null,
            "_view_module": "@jupyter-widgets/base",
            "_view_module_version": "1.2.0",
            "_view_name": "StyleView",
            "description_width": ""
          }
        },
        "a4277b2833da432387ca5497f40070b5": {
          "model_module": "@jupyter-widgets/base",
          "model_name": "LayoutModel",
          "model_module_version": "1.2.0",
          "state": {
            "_model_module": "@jupyter-widgets/base",
            "_model_module_version": "1.2.0",
            "_model_name": "LayoutModel",
            "_view_count": null,
            "_view_module": "@jupyter-widgets/base",
            "_view_module_version": "1.2.0",
            "_view_name": "LayoutView",
            "align_content": null,
            "align_items": null,
            "align_self": null,
            "border": null,
            "bottom": null,
            "display": null,
            "flex": null,
            "flex_flow": null,
            "grid_area": null,
            "grid_auto_columns": null,
            "grid_auto_flow": null,
            "grid_auto_rows": null,
            "grid_column": null,
            "grid_gap": null,
            "grid_row": null,
            "grid_template_areas": null,
            "grid_template_columns": null,
            "grid_template_rows": null,
            "height": null,
            "justify_content": null,
            "justify_items": null,
            "left": null,
            "margin": null,
            "max_height": null,
            "max_width": null,
            "min_height": null,
            "min_width": null,
            "object_fit": null,
            "object_position": null,
            "order": null,
            "overflow": null,
            "overflow_x": null,
            "overflow_y": null,
            "padding": null,
            "right": null,
            "top": null,
            "visibility": null,
            "width": null
          }
        },
        "dcef7c750ec14abf9e2714190254efbe": {
          "model_module": "@jupyter-widgets/controls",
          "model_name": "ProgressStyleModel",
          "model_module_version": "1.5.0",
          "state": {
            "_model_module": "@jupyter-widgets/controls",
            "_model_module_version": "1.5.0",
            "_model_name": "ProgressStyleModel",
            "_view_count": null,
            "_view_module": "@jupyter-widgets/base",
            "_view_module_version": "1.2.0",
            "_view_name": "StyleView",
            "bar_color": null,
            "description_width": ""
          }
        },
        "fbc22777f90e4a9186ef20fc2b8a9644": {
          "model_module": "@jupyter-widgets/base",
          "model_name": "LayoutModel",
          "model_module_version": "1.2.0",
          "state": {
            "_model_module": "@jupyter-widgets/base",
            "_model_module_version": "1.2.0",
            "_model_name": "LayoutModel",
            "_view_count": null,
            "_view_module": "@jupyter-widgets/base",
            "_view_module_version": "1.2.0",
            "_view_name": "LayoutView",
            "align_content": null,
            "align_items": null,
            "align_self": null,
            "border": null,
            "bottom": null,
            "display": null,
            "flex": null,
            "flex_flow": null,
            "grid_area": null,
            "grid_auto_columns": null,
            "grid_auto_flow": null,
            "grid_auto_rows": null,
            "grid_column": null,
            "grid_gap": null,
            "grid_row": null,
            "grid_template_areas": null,
            "grid_template_columns": null,
            "grid_template_rows": null,
            "height": null,
            "justify_content": null,
            "justify_items": null,
            "left": null,
            "margin": null,
            "max_height": null,
            "max_width": null,
            "min_height": null,
            "min_width": null,
            "object_fit": null,
            "object_position": null,
            "order": null,
            "overflow": null,
            "overflow_x": null,
            "overflow_y": null,
            "padding": null,
            "right": null,
            "top": null,
            "visibility": null,
            "width": null
          }
        },
        "834660b46d5741aba1263803689c61d1": {
          "model_module": "@jupyter-widgets/controls",
          "model_name": "DescriptionStyleModel",
          "model_module_version": "1.5.0",
          "state": {
            "_model_module": "@jupyter-widgets/controls",
            "_model_module_version": "1.5.0",
            "_model_name": "DescriptionStyleModel",
            "_view_count": null,
            "_view_module": "@jupyter-widgets/base",
            "_view_module_version": "1.2.0",
            "_view_name": "StyleView",
            "description_width": ""
          }
        },
        "fb80beff859743e1b87472813e833219": {
          "model_module": "@jupyter-widgets/controls",
          "model_name": "HBoxModel",
          "model_module_version": "1.5.0",
          "state": {
            "_dom_classes": [],
            "_model_module": "@jupyter-widgets/controls",
            "_model_module_version": "1.5.0",
            "_model_name": "HBoxModel",
            "_view_count": null,
            "_view_module": "@jupyter-widgets/controls",
            "_view_module_version": "1.5.0",
            "_view_name": "HBoxView",
            "box_style": "",
            "children": [
              "IPY_MODEL_e766a64dee6b424ab8012c54e597694f",
              "IPY_MODEL_b62745c56b7543538c2b7da22e9e7a89",
              "IPY_MODEL_fd8f25e4c56f4e35bb683fd3719d6f69"
            ],
            "layout": "IPY_MODEL_dcff38a934c04060822212fe37f0d9df"
          }
        },
        "e766a64dee6b424ab8012c54e597694f": {
          "model_module": "@jupyter-widgets/controls",
          "model_name": "HTMLModel",
          "model_module_version": "1.5.0",
          "state": {
            "_dom_classes": [],
            "_model_module": "@jupyter-widgets/controls",
            "_model_module_version": "1.5.0",
            "_model_name": "HTMLModel",
            "_view_count": null,
            "_view_module": "@jupyter-widgets/controls",
            "_view_module_version": "1.5.0",
            "_view_name": "HTMLView",
            "description": "",
            "description_tooltip": null,
            "layout": "IPY_MODEL_2e5a117a6a84498b8e7316d186b50a9c",
            "placeholder": "​",
            "style": "IPY_MODEL_f767d2f9991649efbf5347ff139155f5",
            "value": "config.json: 100%"
          }
        },
        "b62745c56b7543538c2b7da22e9e7a89": {
          "model_module": "@jupyter-widgets/controls",
          "model_name": "FloatProgressModel",
          "model_module_version": "1.5.0",
          "state": {
            "_dom_classes": [],
            "_model_module": "@jupyter-widgets/controls",
            "_model_module_version": "1.5.0",
            "_model_name": "FloatProgressModel",
            "_view_count": null,
            "_view_module": "@jupyter-widgets/controls",
            "_view_module_version": "1.5.0",
            "_view_name": "ProgressView",
            "bar_style": "success",
            "description": "",
            "description_tooltip": null,
            "layout": "IPY_MODEL_c03aa5a49792413ba6eeec5bd46a5546",
            "max": 1534,
            "min": 0,
            "orientation": "horizontal",
            "style": "IPY_MODEL_6b69353451a24cc88d62dd8b2061ae16",
            "value": 1534
          }
        },
        "fd8f25e4c56f4e35bb683fd3719d6f69": {
          "model_module": "@jupyter-widgets/controls",
          "model_name": "HTMLModel",
          "model_module_version": "1.5.0",
          "state": {
            "_dom_classes": [],
            "_model_module": "@jupyter-widgets/controls",
            "_model_module_version": "1.5.0",
            "_model_name": "HTMLModel",
            "_view_count": null,
            "_view_module": "@jupyter-widgets/controls",
            "_view_module_version": "1.5.0",
            "_view_name": "HTMLView",
            "description": "",
            "description_tooltip": null,
            "layout": "IPY_MODEL_ac0a1abd44aa40a7845d2baa436cebd7",
            "placeholder": "​",
            "style": "IPY_MODEL_4b7a00e57185413296ad62c7f6baa74c",
            "value": " 1.53k/1.53k [00:00&lt;00:00, 103kB/s]"
          }
        },
        "dcff38a934c04060822212fe37f0d9df": {
          "model_module": "@jupyter-widgets/base",
          "model_name": "LayoutModel",
          "model_module_version": "1.2.0",
          "state": {
            "_model_module": "@jupyter-widgets/base",
            "_model_module_version": "1.2.0",
            "_model_name": "LayoutModel",
            "_view_count": null,
            "_view_module": "@jupyter-widgets/base",
            "_view_module_version": "1.2.0",
            "_view_name": "LayoutView",
            "align_content": null,
            "align_items": null,
            "align_self": null,
            "border": null,
            "bottom": null,
            "display": null,
            "flex": null,
            "flex_flow": null,
            "grid_area": null,
            "grid_auto_columns": null,
            "grid_auto_flow": null,
            "grid_auto_rows": null,
            "grid_column": null,
            "grid_gap": null,
            "grid_row": null,
            "grid_template_areas": null,
            "grid_template_columns": null,
            "grid_template_rows": null,
            "height": null,
            "justify_content": null,
            "justify_items": null,
            "left": null,
            "margin": null,
            "max_height": null,
            "max_width": null,
            "min_height": null,
            "min_width": null,
            "object_fit": null,
            "object_position": null,
            "order": null,
            "overflow": null,
            "overflow_x": null,
            "overflow_y": null,
            "padding": null,
            "right": null,
            "top": null,
            "visibility": null,
            "width": null
          }
        },
        "2e5a117a6a84498b8e7316d186b50a9c": {
          "model_module": "@jupyter-widgets/base",
          "model_name": "LayoutModel",
          "model_module_version": "1.2.0",
          "state": {
            "_model_module": "@jupyter-widgets/base",
            "_model_module_version": "1.2.0",
            "_model_name": "LayoutModel",
            "_view_count": null,
            "_view_module": "@jupyter-widgets/base",
            "_view_module_version": "1.2.0",
            "_view_name": "LayoutView",
            "align_content": null,
            "align_items": null,
            "align_self": null,
            "border": null,
            "bottom": null,
            "display": null,
            "flex": null,
            "flex_flow": null,
            "grid_area": null,
            "grid_auto_columns": null,
            "grid_auto_flow": null,
            "grid_auto_rows": null,
            "grid_column": null,
            "grid_gap": null,
            "grid_row": null,
            "grid_template_areas": null,
            "grid_template_columns": null,
            "grid_template_rows": null,
            "height": null,
            "justify_content": null,
            "justify_items": null,
            "left": null,
            "margin": null,
            "max_height": null,
            "max_width": null,
            "min_height": null,
            "min_width": null,
            "object_fit": null,
            "object_position": null,
            "order": null,
            "overflow": null,
            "overflow_x": null,
            "overflow_y": null,
            "padding": null,
            "right": null,
            "top": null,
            "visibility": null,
            "width": null
          }
        },
        "f767d2f9991649efbf5347ff139155f5": {
          "model_module": "@jupyter-widgets/controls",
          "model_name": "DescriptionStyleModel",
          "model_module_version": "1.5.0",
          "state": {
            "_model_module": "@jupyter-widgets/controls",
            "_model_module_version": "1.5.0",
            "_model_name": "DescriptionStyleModel",
            "_view_count": null,
            "_view_module": "@jupyter-widgets/base",
            "_view_module_version": "1.2.0",
            "_view_name": "StyleView",
            "description_width": ""
          }
        },
        "c03aa5a49792413ba6eeec5bd46a5546": {
          "model_module": "@jupyter-widgets/base",
          "model_name": "LayoutModel",
          "model_module_version": "1.2.0",
          "state": {
            "_model_module": "@jupyter-widgets/base",
            "_model_module_version": "1.2.0",
            "_model_name": "LayoutModel",
            "_view_count": null,
            "_view_module": "@jupyter-widgets/base",
            "_view_module_version": "1.2.0",
            "_view_name": "LayoutView",
            "align_content": null,
            "align_items": null,
            "align_self": null,
            "border": null,
            "bottom": null,
            "display": null,
            "flex": null,
            "flex_flow": null,
            "grid_area": null,
            "grid_auto_columns": null,
            "grid_auto_flow": null,
            "grid_auto_rows": null,
            "grid_column": null,
            "grid_gap": null,
            "grid_row": null,
            "grid_template_areas": null,
            "grid_template_columns": null,
            "grid_template_rows": null,
            "height": null,
            "justify_content": null,
            "justify_items": null,
            "left": null,
            "margin": null,
            "max_height": null,
            "max_width": null,
            "min_height": null,
            "min_width": null,
            "object_fit": null,
            "object_position": null,
            "order": null,
            "overflow": null,
            "overflow_x": null,
            "overflow_y": null,
            "padding": null,
            "right": null,
            "top": null,
            "visibility": null,
            "width": null
          }
        },
        "6b69353451a24cc88d62dd8b2061ae16": {
          "model_module": "@jupyter-widgets/controls",
          "model_name": "ProgressStyleModel",
          "model_module_version": "1.5.0",
          "state": {
            "_model_module": "@jupyter-widgets/controls",
            "_model_module_version": "1.5.0",
            "_model_name": "ProgressStyleModel",
            "_view_count": null,
            "_view_module": "@jupyter-widgets/base",
            "_view_module_version": "1.2.0",
            "_view_name": "StyleView",
            "bar_color": null,
            "description_width": ""
          }
        },
        "ac0a1abd44aa40a7845d2baa436cebd7": {
          "model_module": "@jupyter-widgets/base",
          "model_name": "LayoutModel",
          "model_module_version": "1.2.0",
          "state": {
            "_model_module": "@jupyter-widgets/base",
            "_model_module_version": "1.2.0",
            "_model_name": "LayoutModel",
            "_view_count": null,
            "_view_module": "@jupyter-widgets/base",
            "_view_module_version": "1.2.0",
            "_view_name": "LayoutView",
            "align_content": null,
            "align_items": null,
            "align_self": null,
            "border": null,
            "bottom": null,
            "display": null,
            "flex": null,
            "flex_flow": null,
            "grid_area": null,
            "grid_auto_columns": null,
            "grid_auto_flow": null,
            "grid_auto_rows": null,
            "grid_column": null,
            "grid_gap": null,
            "grid_row": null,
            "grid_template_areas": null,
            "grid_template_columns": null,
            "grid_template_rows": null,
            "height": null,
            "justify_content": null,
            "justify_items": null,
            "left": null,
            "margin": null,
            "max_height": null,
            "max_width": null,
            "min_height": null,
            "min_width": null,
            "object_fit": null,
            "object_position": null,
            "order": null,
            "overflow": null,
            "overflow_x": null,
            "overflow_y": null,
            "padding": null,
            "right": null,
            "top": null,
            "visibility": null,
            "width": null
          }
        },
        "4b7a00e57185413296ad62c7f6baa74c": {
          "model_module": "@jupyter-widgets/controls",
          "model_name": "DescriptionStyleModel",
          "model_module_version": "1.5.0",
          "state": {
            "_model_module": "@jupyter-widgets/controls",
            "_model_module_version": "1.5.0",
            "_model_name": "DescriptionStyleModel",
            "_view_count": null,
            "_view_module": "@jupyter-widgets/base",
            "_view_module_version": "1.2.0",
            "_view_name": "StyleView",
            "description_width": ""
          }
        },
        "b93e57fc73cd4e5aa7f51e3af8a89fd7": {
          "model_module": "@jupyter-widgets/controls",
          "model_name": "HBoxModel",
          "model_module_version": "1.5.0",
          "state": {
            "_dom_classes": [],
            "_model_module": "@jupyter-widgets/controls",
            "_model_module_version": "1.5.0",
            "_model_name": "HBoxModel",
            "_view_count": null,
            "_view_module": "@jupyter-widgets/controls",
            "_view_module_version": "1.5.0",
            "_view_name": "HBoxView",
            "box_style": "",
            "children": [
              "IPY_MODEL_e0e12d9e55824d009bec55d3eef77a0b",
              "IPY_MODEL_a4a8534513a4474ba0c19298527535e6",
              "IPY_MODEL_d945bc55e0cd4f9cab00bf74d30f253a"
            ],
            "layout": "IPY_MODEL_6f0689bdce5c459eb26d3c967d78bf8b"
          }
        },
        "e0e12d9e55824d009bec55d3eef77a0b": {
          "model_module": "@jupyter-widgets/controls",
          "model_name": "HTMLModel",
          "model_module_version": "1.5.0",
          "state": {
            "_dom_classes": [],
            "_model_module": "@jupyter-widgets/controls",
            "_model_module_version": "1.5.0",
            "_model_name": "HTMLModel",
            "_view_count": null,
            "_view_module": "@jupyter-widgets/controls",
            "_view_module_version": "1.5.0",
            "_view_name": "HTMLView",
            "description": "",
            "description_tooltip": null,
            "layout": "IPY_MODEL_a732f0f4ed394702a623343c4003d37a",
            "placeholder": "​",
            "style": "IPY_MODEL_df4cc0aca68a46deb2ec16701031c543",
            "value": "pytorch_model.bin: 100%"
          }
        },
        "a4a8534513a4474ba0c19298527535e6": {
          "model_module": "@jupyter-widgets/controls",
          "model_name": "FloatProgressModel",
          "model_module_version": "1.5.0",
          "state": {
            "_dom_classes": [],
            "_model_module": "@jupyter-widgets/controls",
            "_model_module_version": "1.5.0",
            "_model_name": "FloatProgressModel",
            "_view_count": null,
            "_view_module": "@jupyter-widgets/controls",
            "_view_module_version": "1.5.0",
            "_view_name": "ProgressView",
            "bar_style": "success",
            "description": "",
            "description_tooltip": null,
            "layout": "IPY_MODEL_c736ea42605846dfbcbc4b2c334440bc",
            "max": 497810400,
            "min": 0,
            "orientation": "horizontal",
            "style": "IPY_MODEL_446a3556f6ab4a86aad670132d2a3759",
            "value": 497810400
          }
        },
        "d945bc55e0cd4f9cab00bf74d30f253a": {
          "model_module": "@jupyter-widgets/controls",
          "model_name": "HTMLModel",
          "model_module_version": "1.5.0",
          "state": {
            "_dom_classes": [],
            "_model_module": "@jupyter-widgets/controls",
            "_model_module_version": "1.5.0",
            "_model_name": "HTMLModel",
            "_view_count": null,
            "_view_module": "@jupyter-widgets/controls",
            "_view_module_version": "1.5.0",
            "_view_name": "HTMLView",
            "description": "",
            "description_tooltip": null,
            "layout": "IPY_MODEL_3dec5ac6d38d4b27b0f8b25a0f040508",
            "placeholder": "​",
            "style": "IPY_MODEL_0a90c72dc5a64274b5060ddba1fb5ef1",
            "value": " 498M/498M [00:02&lt;00:00, 163MB/s]"
          }
        },
        "6f0689bdce5c459eb26d3c967d78bf8b": {
          "model_module": "@jupyter-widgets/base",
          "model_name": "LayoutModel",
          "model_module_version": "1.2.0",
          "state": {
            "_model_module": "@jupyter-widgets/base",
            "_model_module_version": "1.2.0",
            "_model_name": "LayoutModel",
            "_view_count": null,
            "_view_module": "@jupyter-widgets/base",
            "_view_module_version": "1.2.0",
            "_view_name": "LayoutView",
            "align_content": null,
            "align_items": null,
            "align_self": null,
            "border": null,
            "bottom": null,
            "display": null,
            "flex": null,
            "flex_flow": null,
            "grid_area": null,
            "grid_auto_columns": null,
            "grid_auto_flow": null,
            "grid_auto_rows": null,
            "grid_column": null,
            "grid_gap": null,
            "grid_row": null,
            "grid_template_areas": null,
            "grid_template_columns": null,
            "grid_template_rows": null,
            "height": null,
            "justify_content": null,
            "justify_items": null,
            "left": null,
            "margin": null,
            "max_height": null,
            "max_width": null,
            "min_height": null,
            "min_width": null,
            "object_fit": null,
            "object_position": null,
            "order": null,
            "overflow": null,
            "overflow_x": null,
            "overflow_y": null,
            "padding": null,
            "right": null,
            "top": null,
            "visibility": null,
            "width": null
          }
        },
        "a732f0f4ed394702a623343c4003d37a": {
          "model_module": "@jupyter-widgets/base",
          "model_name": "LayoutModel",
          "model_module_version": "1.2.0",
          "state": {
            "_model_module": "@jupyter-widgets/base",
            "_model_module_version": "1.2.0",
            "_model_name": "LayoutModel",
            "_view_count": null,
            "_view_module": "@jupyter-widgets/base",
            "_view_module_version": "1.2.0",
            "_view_name": "LayoutView",
            "align_content": null,
            "align_items": null,
            "align_self": null,
            "border": null,
            "bottom": null,
            "display": null,
            "flex": null,
            "flex_flow": null,
            "grid_area": null,
            "grid_auto_columns": null,
            "grid_auto_flow": null,
            "grid_auto_rows": null,
            "grid_column": null,
            "grid_gap": null,
            "grid_row": null,
            "grid_template_areas": null,
            "grid_template_columns": null,
            "grid_template_rows": null,
            "height": null,
            "justify_content": null,
            "justify_items": null,
            "left": null,
            "margin": null,
            "max_height": null,
            "max_width": null,
            "min_height": null,
            "min_width": null,
            "object_fit": null,
            "object_position": null,
            "order": null,
            "overflow": null,
            "overflow_x": null,
            "overflow_y": null,
            "padding": null,
            "right": null,
            "top": null,
            "visibility": null,
            "width": null
          }
        },
        "df4cc0aca68a46deb2ec16701031c543": {
          "model_module": "@jupyter-widgets/controls",
          "model_name": "DescriptionStyleModel",
          "model_module_version": "1.5.0",
          "state": {
            "_model_module": "@jupyter-widgets/controls",
            "_model_module_version": "1.5.0",
            "_model_name": "DescriptionStyleModel",
            "_view_count": null,
            "_view_module": "@jupyter-widgets/base",
            "_view_module_version": "1.2.0",
            "_view_name": "StyleView",
            "description_width": ""
          }
        },
        "c736ea42605846dfbcbc4b2c334440bc": {
          "model_module": "@jupyter-widgets/base",
          "model_name": "LayoutModel",
          "model_module_version": "1.2.0",
          "state": {
            "_model_module": "@jupyter-widgets/base",
            "_model_module_version": "1.2.0",
            "_model_name": "LayoutModel",
            "_view_count": null,
            "_view_module": "@jupyter-widgets/base",
            "_view_module_version": "1.2.0",
            "_view_name": "LayoutView",
            "align_content": null,
            "align_items": null,
            "align_self": null,
            "border": null,
            "bottom": null,
            "display": null,
            "flex": null,
            "flex_flow": null,
            "grid_area": null,
            "grid_auto_columns": null,
            "grid_auto_flow": null,
            "grid_auto_rows": null,
            "grid_column": null,
            "grid_gap": null,
            "grid_row": null,
            "grid_template_areas": null,
            "grid_template_columns": null,
            "grid_template_rows": null,
            "height": null,
            "justify_content": null,
            "justify_items": null,
            "left": null,
            "margin": null,
            "max_height": null,
            "max_width": null,
            "min_height": null,
            "min_width": null,
            "object_fit": null,
            "object_position": null,
            "order": null,
            "overflow": null,
            "overflow_x": null,
            "overflow_y": null,
            "padding": null,
            "right": null,
            "top": null,
            "visibility": null,
            "width": null
          }
        },
        "446a3556f6ab4a86aad670132d2a3759": {
          "model_module": "@jupyter-widgets/controls",
          "model_name": "ProgressStyleModel",
          "model_module_version": "1.5.0",
          "state": {
            "_model_module": "@jupyter-widgets/controls",
            "_model_module_version": "1.5.0",
            "_model_name": "ProgressStyleModel",
            "_view_count": null,
            "_view_module": "@jupyter-widgets/base",
            "_view_module_version": "1.2.0",
            "_view_name": "StyleView",
            "bar_color": null,
            "description_width": ""
          }
        },
        "3dec5ac6d38d4b27b0f8b25a0f040508": {
          "model_module": "@jupyter-widgets/base",
          "model_name": "LayoutModel",
          "model_module_version": "1.2.0",
          "state": {
            "_model_module": "@jupyter-widgets/base",
            "_model_module_version": "1.2.0",
            "_model_name": "LayoutModel",
            "_view_count": null,
            "_view_module": "@jupyter-widgets/base",
            "_view_module_version": "1.2.0",
            "_view_name": "LayoutView",
            "align_content": null,
            "align_items": null,
            "align_self": null,
            "border": null,
            "bottom": null,
            "display": null,
            "flex": null,
            "flex_flow": null,
            "grid_area": null,
            "grid_auto_columns": null,
            "grid_auto_flow": null,
            "grid_auto_rows": null,
            "grid_column": null,
            "grid_gap": null,
            "grid_row": null,
            "grid_template_areas": null,
            "grid_template_columns": null,
            "grid_template_rows": null,
            "height": null,
            "justify_content": null,
            "justify_items": null,
            "left": null,
            "margin": null,
            "max_height": null,
            "max_width": null,
            "min_height": null,
            "min_width": null,
            "object_fit": null,
            "object_position": null,
            "order": null,
            "overflow": null,
            "overflow_x": null,
            "overflow_y": null,
            "padding": null,
            "right": null,
            "top": null,
            "visibility": null,
            "width": null
          }
        },
        "0a90c72dc5a64274b5060ddba1fb5ef1": {
          "model_module": "@jupyter-widgets/controls",
          "model_name": "DescriptionStyleModel",
          "model_module_version": "1.5.0",
          "state": {
            "_model_module": "@jupyter-widgets/controls",
            "_model_module_version": "1.5.0",
            "_model_name": "DescriptionStyleModel",
            "_view_count": null,
            "_view_module": "@jupyter-widgets/base",
            "_view_module_version": "1.2.0",
            "_view_name": "StyleView",
            "description_width": ""
          }
        }
      }
    }
  },
  "nbformat": 4,
  "nbformat_minor": 0
}