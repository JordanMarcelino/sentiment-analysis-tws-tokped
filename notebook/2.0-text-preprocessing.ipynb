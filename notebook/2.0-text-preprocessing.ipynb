{
 "cells": [
  {
   "cell_type": "code",
   "execution_count": 36,
   "metadata": {},
   "outputs": [
    {
     "name": "stderr",
     "output_type": "stream",
     "text": [
      "[nltk_data] Downloading package stopwords to\n",
      "[nltk_data]     C:\\Users\\hp\\AppData\\Roaming\\nltk_data...\n",
      "[nltk_data]   Package stopwords is already up-to-date!\n"
     ]
    },
    {
     "data": {
      "text/plain": [
       "True"
      ]
     },
     "execution_count": 36,
     "metadata": {},
     "output_type": "execute_result"
    }
   ],
   "source": [
    "import json\n",
    "import re\n",
    "\n",
    "import nltk\n",
    "import pandas as pd\n",
    "from nltk.corpus import stopwords\n",
    "from Sastrawi.Stemmer.StemmerFactory import StemmerFactory\n",
    "from Sastrawi.StopWordRemover.StopWordRemoverFactory import StopWordRemoverFactory\n",
    "from sklearn.base import TransformerMixin\n",
    "from sklearn.pipeline import Pipeline\n",
    "from sklearn.preprocessing import FunctionTransformer\n",
    "\n",
    "nltk.download(\"stopwords\")"
   ]
  },
  {
   "cell_type": "code",
   "execution_count": 37,
   "metadata": {},
   "outputs": [],
   "source": [
    "class RegexRemover(TransformerMixin):\n",
    "    def __init__(self) -> None:\n",
    "        self.patterns = [\n",
    "            r\"[^\\w\\s]|_|[¹²³⁴⁵⁶⁷⁸⁹]\",  # Remove all special characters / punctuations\n",
    "            r\"\\d+\",  # Remove all numbers\n",
    "            r\"[\\U0001F600-\\U0001F64F\\U0001F300-\\U0001F5FF\\U0001F680-\\U0001F6FF\\U0001F700-\\U0001F77F\\U0001F780-\\U0001F7FF\\U0001F800-\\U0001F8FF\\U0001F900-\\U0001F9FF\\U0001FA00-\\U0001FA6F\\U0001FA70-\\U0001FAFF\\U00002702-\\U000027B0\\U00002639\\U0000263A]+\",  # Remove all emoji / emoticon\n",
    "        ]\n",
    "\n",
    "    def remove_patterns(self, text: str) -> str:\n",
    "        for pattern in self.patterns:\n",
    "            text = re.sub(pattern, \" \", text)\n",
    "        return text\n",
    "\n",
    "    def fit(self, df: pd.DataFrame, y=None):\n",
    "        return self\n",
    "\n",
    "    def transform(self, df: pd.DataFrame, y=None) -> pd.DataFrame:\n",
    "        df_pre = df.copy()\n",
    "        df_pre[\"clean_comment\"] = df_pre[\"comment\"].apply(self.remove_patterns)\n",
    "        return df_pre"
   ]
  },
  {
   "cell_type": "code",
   "execution_count": 38,
   "metadata": {},
   "outputs": [],
   "source": [
    "class TypoFixer(TransformerMixin):\n",
    "    def __init__(self) -> None:\n",
    "        with open(\"../data/typo_mapper.json\", \"r\") as file:\n",
    "            typo_mapper = json.load(file)\n",
    "        self.typo_mapper = {\n",
    "            key.lower(): value.lower() for key, value in typo_mapper.items()\n",
    "        }\n",
    "\n",
    "    def fix_typo(self, text: str) -> str:\n",
    "        new_text = []\n",
    "\n",
    "        for word in text.split(\" \"):\n",
    "            if word.lower() in self.typo_mapper:\n",
    "                new_text.append(self.typo_mapper[word.lower()])\n",
    "            else:\n",
    "                new_text.append(word.lower())\n",
    "\n",
    "        new_text = \" \".join(new_text)\n",
    "        new_text = re.sub(r\" +\", \" \", new_text)\n",
    "\n",
    "        return new_text\n",
    "\n",
    "    def fit(self, df: pd.DataFrame, y=None):\n",
    "        return self\n",
    "\n",
    "    def transform(self, df: pd.DataFrame, y=None) -> pd.DataFrame:\n",
    "        df_pre = df.copy()\n",
    "        df_pre[\"clean_comment\"] = df_pre[\"clean_comment\"].apply(self.fix_typo)\n",
    "        return df_pre"
   ]
  },
  {
   "cell_type": "code",
   "execution_count": 39,
   "metadata": {},
   "outputs": [],
   "source": [
    "class StopWordRemover(TransformerMixin):\n",
    "    def __init__(self) -> None:\n",
    "        self.stop_word_remover = StopWordRemoverFactory().create_stop_word_remover()\n",
    "        self.stop_word_remover.get_dictionary().add(\"nya\")\n",
    "        self.stop_word_remover.get_dictionary().add_words(stopwords.words(\"indonesian\"))\n",
    "\n",
    "    def fit(self, df: pd.DataFrame, y=None):\n",
    "        return self\n",
    "\n",
    "    def transform(self, df: pd.DataFrame, y=None) -> pd.DataFrame:\n",
    "        df_pre = df.copy()\n",
    "        df_pre[\"clean_comment\"] = df_pre[\"clean_comment\"].apply(\n",
    "            self.stop_word_remover.remove\n",
    "        )\n",
    "        return df_pre"
   ]
  },
  {
   "cell_type": "code",
   "execution_count": 40,
   "metadata": {},
   "outputs": [],
   "source": [
    "class Stemmer(TransformerMixin):\n",
    "    def __init__(self) -> None:\n",
    "        self.stemmer = StemmerFactory().create_stemmer()\n",
    "\n",
    "    def fit(self, df: pd.DataFrame, y=None):\n",
    "        return self\n",
    "\n",
    "    def transform(self, df: pd.DataFrame, y=None) -> pd.DataFrame:\n",
    "        df_pre = df.copy()\n",
    "        df_pre[\"clean_comment\"] = df_pre[\"clean_comment\"].apply(self.stemmer.stem)\n",
    "        return df_pre"
   ]
  },
  {
   "cell_type": "code",
   "execution_count": 41,
   "metadata": {},
   "outputs": [],
   "source": [
    "def to_lower_strip(df: pd.DataFrame) -> pd.DataFrame:\n",
    "    df_pre = df.copy()\n",
    "    df_pre.loc[:, \"comment\"] = df_pre[\"comment\"].apply(lambda x: x.lower().strip())\n",
    "\n",
    "    return df_pre\n",
    "\n",
    "\n",
    "def remove_one_letter(df: pd.DataFrame) -> pd.DataFrame:\n",
    "    df_pre = df.copy()\n",
    "\n",
    "    def _remove_one_letter(text: str):\n",
    "        words = text.split(\" \")\n",
    "        for word in words:\n",
    "            if len(word) == 1:\n",
    "                words.remove(word)\n",
    "\n",
    "        return \" \".join(words)\n",
    "\n",
    "    df_pre[\"clean_comment\"] = df_pre[\"clean_comment\"].apply(_remove_one_letter)\n",
    "\n",
    "    return df_pre"
   ]
  },
  {
   "cell_type": "code",
   "execution_count": 42,
   "metadata": {},
   "outputs": [],
   "source": [
    "pipeline = Pipeline(\n",
    "    [\n",
    "        (\"lower_case_strip\", FunctionTransformer(func=to_lower_strip)),\n",
    "        (\"regex_remover\", RegexRemover()),\n",
    "        (\"fix_typo\", TypoFixer()),\n",
    "        (\"stop_word_remover\", StopWordRemover()),\n",
    "        (\"stemmer\", Stemmer()),\n",
    "        (\"remove_one_letter\", FunctionTransformer(func=remove_one_letter)),\n",
    "    ]\n",
    ")"
   ]
  },
  {
   "cell_type": "code",
   "execution_count": 43,
   "metadata": {},
   "outputs": [],
   "source": [
    "df = pd.read_csv(\"../data/tws-sentiment.csv\")"
   ]
  },
  {
   "cell_type": "code",
   "execution_count": 44,
   "metadata": {},
   "outputs": [],
   "source": [
    "clean_df = pipeline.fit_transform(df)"
   ]
  },
  {
   "cell_type": "code",
   "execution_count": 45,
   "metadata": {},
   "outputs": [
    {
     "data": {
      "text/html": [
       "<div>\n",
       "<style scoped>\n",
       "    .dataframe tbody tr th:only-of-type {\n",
       "        vertical-align: middle;\n",
       "    }\n",
       "\n",
       "    .dataframe tbody tr th {\n",
       "        vertical-align: top;\n",
       "    }\n",
       "\n",
       "    .dataframe thead th {\n",
       "        text-align: right;\n",
       "    }\n",
       "</style>\n",
       "<table border=\"1\" class=\"dataframe\">\n",
       "  <thead>\n",
       "    <tr style=\"text-align: right;\">\n",
       "      <th></th>\n",
       "      <th>rating</th>\n",
       "      <th>comment</th>\n",
       "      <th>sentiment</th>\n",
       "      <th>clean_comment</th>\n",
       "    </tr>\n",
       "  </thead>\n",
       "  <tbody>\n",
       "    <tr>\n",
       "      <th>0</th>\n",
       "      <td>5</td>\n",
       "      <td>bagus</td>\n",
       "      <td>positive</td>\n",
       "      <td>bagus</td>\n",
       "    </tr>\n",
       "    <tr>\n",
       "      <th>1</th>\n",
       "      <td>3</td>\n",
       "      <td>1tidak menyala</td>\n",
       "      <td>neutral</td>\n",
       "      <td>nyala</td>\n",
       "    </tr>\n",
       "    <tr>\n",
       "      <th>2</th>\n",
       "      <td>5</td>\n",
       "      <td>puas brangnya sesusai</td>\n",
       "      <td>positive</td>\n",
       "      <td>puas barang sesuai</td>\n",
       "    </tr>\n",
       "    <tr>\n",
       "      <th>3</th>\n",
       "      <td>5</td>\n",
       "      <td>lumayan lah walaupun bass nya kurang</td>\n",
       "      <td>positive</td>\n",
       "      <td>lumayan bass kurang</td>\n",
       "    </tr>\n",
       "    <tr>\n",
       "      <th>4</th>\n",
       "      <td>4</td>\n",
       "      <td>barang udah sampai, packing bagus, barang mulu...</td>\n",
       "      <td>positive</td>\n",
       "      <td>barang udah packing bagus barang mulus lagi ca...</td>\n",
       "    </tr>\n",
       "    <tr>\n",
       "      <th>...</th>\n",
       "      <td>...</td>\n",
       "      <td>...</td>\n",
       "      <td>...</td>\n",
       "      <td>...</td>\n",
       "    </tr>\n",
       "    <tr>\n",
       "      <th>2333</th>\n",
       "      <td>5</td>\n",
       "      <td>berfungsi ke 2 nya. suara sesuai harga lumayanlah</td>\n",
       "      <td>positive</td>\n",
       "      <td>fungsi nya suara sesuai harga lumayan</td>\n",
       "    </tr>\n",
       "    <tr>\n",
       "      <th>2334</th>\n",
       "      <td>5</td>\n",
       "      <td>mantap</td>\n",
       "      <td>positive</td>\n",
       "      <td>mantap</td>\n",
       "    </tr>\n",
       "    <tr>\n",
       "      <th>2335</th>\n",
       "      <td>5</td>\n",
       "      <td>bagus</td>\n",
       "      <td>positive</td>\n",
       "      <td>bagus</td>\n",
       "    </tr>\n",
       "    <tr>\n",
       "      <th>2336</th>\n",
       "      <td>5</td>\n",
       "      <td>baik</td>\n",
       "      <td>positive</td>\n",
       "      <td></td>\n",
       "    </tr>\n",
       "    <tr>\n",
       "      <th>2337</th>\n",
       "      <td>5</td>\n",
       "      <td>berfungsi dengan baik setelah diberi penjelasa...</td>\n",
       "      <td>positive</td>\n",
       "      <td>fungsi baik beri jelas masalah</td>\n",
       "    </tr>\n",
       "  </tbody>\n",
       "</table>\n",
       "<p>2338 rows × 4 columns</p>\n",
       "</div>"
      ],
      "text/plain": [
       "      rating                                            comment sentiment  \\\n",
       "0          5                                              bagus  positive   \n",
       "1          3                                     1tidak menyala   neutral   \n",
       "2          5                              puas brangnya sesusai  positive   \n",
       "3          5               lumayan lah walaupun bass nya kurang  positive   \n",
       "4          4  barang udah sampai, packing bagus, barang mulu...  positive   \n",
       "...      ...                                                ...       ...   \n",
       "2333       5  berfungsi ke 2 nya. suara sesuai harga lumayanlah  positive   \n",
       "2334       5                                             mantap  positive   \n",
       "2335       5                                              bagus  positive   \n",
       "2336       5                                               baik  positive   \n",
       "2337       5  berfungsi dengan baik setelah diberi penjelasa...  positive   \n",
       "\n",
       "                                          clean_comment  \n",
       "0                                                 bagus  \n",
       "1                                                 nyala  \n",
       "2                                    puas barang sesuai  \n",
       "3                                   lumayan bass kurang  \n",
       "4     barang udah packing bagus barang mulus lagi ca...  \n",
       "...                                                 ...  \n",
       "2333              fungsi nya suara sesuai harga lumayan  \n",
       "2334                                             mantap  \n",
       "2335                                              bagus  \n",
       "2336                                                     \n",
       "2337                     fungsi baik beri jelas masalah  \n",
       "\n",
       "[2338 rows x 4 columns]"
      ]
     },
     "execution_count": 45,
     "metadata": {},
     "output_type": "execute_result"
    }
   ],
   "source": [
    "clean_df"
   ]
  },
  {
   "cell_type": "code",
   "execution_count": 46,
   "metadata": {},
   "outputs": [],
   "source": [
    "clean_df.to_csv(\"../data/tws-clean.csv\", index=False)"
   ]
  },
  {
   "cell_type": "code",
   "execution_count": null,
   "metadata": {},
   "outputs": [],
   "source": []
  }
 ],
 "metadata": {
  "kernelspec": {
   "display_name": ".venv",
   "language": "python",
   "name": "python3"
  },
  "language_info": {
   "codemirror_mode": {
    "name": "ipython",
    "version": 3
   },
   "file_extension": ".py",
   "mimetype": "text/x-python",
   "name": "python",
   "nbconvert_exporter": "python",
   "pygments_lexer": "ipython3",
   "version": "3.9.0"
  }
 },
 "nbformat": 4,
 "nbformat_minor": 2
}
