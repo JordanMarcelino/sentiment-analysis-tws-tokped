{
 "cells": [
  {
   "cell_type": "code",
   "execution_count": 27,
   "metadata": {},
   "outputs": [
    {
     "name": "stderr",
     "output_type": "stream",
     "text": [
      "[nltk_data] Downloading package stopwords to\n",
      "[nltk_data]     C:\\Users\\hp\\AppData\\Roaming\\nltk_data...\n",
      "[nltk_data]   Package stopwords is already up-to-date!\n"
     ]
    },
    {
     "data": {
      "text/plain": [
       "True"
      ]
     },
     "execution_count": 27,
     "metadata": {},
     "output_type": "execute_result"
    }
   ],
   "source": [
    "import json\n",
    "import re\n",
    "\n",
    "import nltk\n",
    "import numpy as np\n",
    "import pandas as pd\n",
    "from Sastrawi.Stemmer.StemmerFactory import StemmerFactory\n",
    "from Sastrawi.StopWordRemover.StopWordRemoverFactory import StopWordRemoverFactory\n",
    "from sklearn.base import TransformerMixin\n",
    "from sklearn.model_selection import train_test_split\n",
    "from sklearn.pipeline import Pipeline\n",
    "from sklearn.preprocessing import FunctionTransformer\n",
    "\n",
    "nltk.download(\"stopwords\")"
   ]
  },
  {
   "cell_type": "code",
   "execution_count": 28,
   "metadata": {},
   "outputs": [],
   "source": [
    "class RegexRemover(TransformerMixin):\n",
    "    def __init__(self) -> None:\n",
    "        self.patterns = [\n",
    "            r\"[^\\w\\s]|_|[¹²³⁴⁵⁶⁷⁸⁹]\",  # Remove all special characters / punctuations\n",
    "            r\"\\d+\",  # Remove all numbers\n",
    "            r\"[\\U0001F600-\\U0001F64F\\U0001F300-\\U0001F5FF\\U0001F680-\\U0001F6FF\\U0001F700-\\U0001F77F\\U0001F780-\\U0001F7FF\\U0001F800-\\U0001F8FF\\U0001F900-\\U0001F9FF\\U0001FA00-\\U0001FA6F\\U0001FA70-\\U0001FAFF\\U00002702-\\U000027B0\\U00002639\\U0000263A]+\",  # Remove all emoji / emoticon\n",
    "        ]\n",
    "\n",
    "    def remove_patterns(self, text: str) -> str:\n",
    "        for pattern in self.patterns:\n",
    "            text = re.sub(pattern, \" \", text)\n",
    "        return text\n",
    "\n",
    "    def fit(self, df: pd.DataFrame, y=None):\n",
    "        return self\n",
    "\n",
    "    def transform(self, df: pd.DataFrame, y=None) -> pd.DataFrame:\n",
    "        df[\"clean_comment\"] = df[\"comment\"].apply(self.remove_patterns)\n",
    "\n",
    "        return df"
   ]
  },
  {
   "cell_type": "code",
   "execution_count": 29,
   "metadata": {},
   "outputs": [],
   "source": [
    "class TypoFixer(TransformerMixin):\n",
    "    def __init__(self) -> None:\n",
    "        with open(\"../data/typo_mapper.json\", \"r\") as file:\n",
    "            typo_mapper = json.load(file)\n",
    "        self.typo_mapper = {\n",
    "            key.lower(): value.lower() for key, value in typo_mapper.items()\n",
    "        }\n",
    "\n",
    "    def fix_typo(self, text: str) -> str:\n",
    "        new_text = []\n",
    "\n",
    "        for word in text.split(\" \"):\n",
    "            if word.lower() in self.typo_mapper:\n",
    "                new_text.append(self.typo_mapper[word.lower()])\n",
    "            else:\n",
    "                new_text.append(word.lower())\n",
    "\n",
    "        new_text = \" \".join(new_text)\n",
    "        new_text = re.sub(r\" +\", \" \", new_text)\n",
    "\n",
    "        return new_text\n",
    "\n",
    "    def fit(self, df: pd.DataFrame, y=None):\n",
    "        return self\n",
    "\n",
    "    def transform(self, df: pd.DataFrame, y=None) -> pd.DataFrame:\n",
    "        df[\"clean_comment\"] = df[\"clean_comment\"].apply(self.fix_typo)\n",
    "\n",
    "        return df"
   ]
  },
  {
   "cell_type": "code",
   "execution_count": 30,
   "metadata": {},
   "outputs": [],
   "source": [
    "class StopWordRemover(TransformerMixin):\n",
    "    def __init__(self) -> None:\n",
    "        stop_word_remover = StopWordRemoverFactory().create_stop_word_remover()\n",
    "\n",
    "        stop_words_list = stop_word_remover.get_dictionary().words\n",
    "        # stop_words_list.extend(stopwords.words(\"indonesian\"))\n",
    "\n",
    "        excluded_word = [\n",
    "            \"tidak\",\n",
    "            \"bukan\",\n",
    "            \"usah\",\n",
    "            \"ok\",\n",
    "            \"baik\",\n",
    "            \"belum\",\n",
    "            \"bekerja\",\n",
    "            \"bisa\",\n",
    "        ]\n",
    "        self.stop_words_list = [\n",
    "            word\n",
    "            for word in stop_words_list\n",
    "            if not any(exclude in word for exclude in excluded_word)\n",
    "        ]\n",
    "\n",
    "    def remove(self, text: str) -> str:\n",
    "        new_text = []\n",
    "\n",
    "        for word in text.split(\" \"):\n",
    "            if word in self.stop_words_list:\n",
    "                continue\n",
    "            new_text.append(word)\n",
    "\n",
    "        return \" \".join(new_text)\n",
    "\n",
    "    def fit(self, df: pd.DataFrame, y=None):\n",
    "        return self\n",
    "\n",
    "    def transform(self, df: pd.DataFrame, y=None) -> pd.DataFrame:\n",
    "        df[\"clean_comment\"] = df[\"clean_comment\"].apply(self.remove)\n",
    "        return df"
   ]
  },
  {
   "cell_type": "code",
   "execution_count": 31,
   "metadata": {},
   "outputs": [],
   "source": [
    "class Stemmer(TransformerMixin):\n",
    "    def __init__(self) -> None:\n",
    "        self.stemmer = StemmerFactory().create_stemmer()\n",
    "\n",
    "    def fit(self, df: pd.DataFrame, y=None):\n",
    "        return self\n",
    "\n",
    "    def transform(self, df: pd.DataFrame, y=None) -> pd.DataFrame:\n",
    "        df[\"clean_comment\"] = df[\"clean_comment\"].apply(self.stemmer.stem)\n",
    "\n",
    "        return df"
   ]
  },
  {
   "cell_type": "code",
   "execution_count": 32,
   "metadata": {},
   "outputs": [],
   "source": [
    "def to_lower_strip(df: pd.DataFrame) -> pd.DataFrame:\n",
    "    df[\"comment\"] = df[\"comment\"].apply(lambda x: x.lower().strip())\n",
    "\n",
    "    return df\n",
    "\n",
    "\n",
    "def remove_one_letter(df: pd.DataFrame) -> pd.DataFrame:\n",
    "    def _remove_one_letter(text: str):\n",
    "        words = text.split(\" \")\n",
    "        for word in words:\n",
    "            if len(word) == 1:\n",
    "                words.remove(word)\n",
    "\n",
    "        return \" \".join(words)\n",
    "\n",
    "    df[\"clean_comment\"] = df[\"clean_comment\"].apply(_remove_one_letter)\n",
    "\n",
    "    return df"
   ]
  },
  {
   "cell_type": "code",
   "execution_count": 33,
   "metadata": {},
   "outputs": [],
   "source": [
    "pipeline = Pipeline(\n",
    "    [\n",
    "        (\"lower_case_strip\", FunctionTransformer(func=to_lower_strip)),\n",
    "        (\"regex_remover\", RegexRemover()),\n",
    "        (\"fix_typo\", TypoFixer()),\n",
    "        (\"stemmer\", Stemmer()),\n",
    "        (\"stop_word_remover\", StopWordRemover()),\n",
    "        (\"remove_one_letter\", FunctionTransformer(func=remove_one_letter)),\n",
    "    ]\n",
    ")"
   ]
  },
  {
   "cell_type": "code",
   "execution_count": 34,
   "metadata": {},
   "outputs": [],
   "source": [
    "df = pd.read_csv(\"../data/tws-sentiment.csv\")"
   ]
  },
  {
   "cell_type": "code",
   "execution_count": 35,
   "metadata": {},
   "outputs": [],
   "source": [
    "clean_df = pipeline.fit_transform(df)"
   ]
  },
  {
   "cell_type": "code",
   "execution_count": 36,
   "metadata": {},
   "outputs": [],
   "source": [
    "clean_df[\"clean_comment\"] = clean_df[\"clean_comment\"].replace(\"\", np.NaN)"
   ]
  },
  {
   "cell_type": "code",
   "execution_count": 37,
   "metadata": {},
   "outputs": [
    {
     "data": {
      "text/plain": [
       "rating            0\n",
       "comment           0\n",
       "sentiment         0\n",
       "clean_comment    23\n",
       "dtype: int64"
      ]
     },
     "execution_count": 37,
     "metadata": {},
     "output_type": "execute_result"
    }
   ],
   "source": [
    "clean_df.isna().sum()"
   ]
  },
  {
   "cell_type": "code",
   "execution_count": 38,
   "metadata": {},
   "outputs": [],
   "source": [
    "clean_df = clean_df.dropna()"
   ]
  },
  {
   "cell_type": "code",
   "execution_count": 39,
   "metadata": {},
   "outputs": [
    {
     "data": {
      "text/plain": [
       "rating           0\n",
       "comment          0\n",
       "sentiment        0\n",
       "clean_comment    0\n",
       "dtype: int64"
      ]
     },
     "execution_count": 39,
     "metadata": {},
     "output_type": "execute_result"
    }
   ],
   "source": [
    "clean_df.isna().sum()"
   ]
  },
  {
   "cell_type": "code",
   "execution_count": 40,
   "metadata": {},
   "outputs": [
    {
     "data": {
      "text/html": [
       "<div>\n",
       "<style scoped>\n",
       "    .dataframe tbody tr th:only-of-type {\n",
       "        vertical-align: middle;\n",
       "    }\n",
       "\n",
       "    .dataframe tbody tr th {\n",
       "        vertical-align: top;\n",
       "    }\n",
       "\n",
       "    .dataframe thead th {\n",
       "        text-align: right;\n",
       "    }\n",
       "</style>\n",
       "<table border=\"1\" class=\"dataframe\">\n",
       "  <thead>\n",
       "    <tr style=\"text-align: right;\">\n",
       "      <th></th>\n",
       "      <th>rating</th>\n",
       "      <th>comment</th>\n",
       "      <th>sentiment</th>\n",
       "      <th>clean_comment</th>\n",
       "    </tr>\n",
       "  </thead>\n",
       "  <tbody>\n",
       "    <tr>\n",
       "      <th>0</th>\n",
       "      <td>5</td>\n",
       "      <td>bagus</td>\n",
       "      <td>positive</td>\n",
       "      <td>bagus</td>\n",
       "    </tr>\n",
       "    <tr>\n",
       "      <th>1</th>\n",
       "      <td>3</td>\n",
       "      <td>1tidak menyala</td>\n",
       "      <td>neutral</td>\n",
       "      <td>tidak nyala</td>\n",
       "    </tr>\n",
       "    <tr>\n",
       "      <th>2</th>\n",
       "      <td>5</td>\n",
       "      <td>puas brangnya sesusai</td>\n",
       "      <td>positive</td>\n",
       "      <td>puas barang sesuai</td>\n",
       "    </tr>\n",
       "    <tr>\n",
       "      <th>3</th>\n",
       "      <td>5</td>\n",
       "      <td>lumayan lah walaupun bass nya kurang</td>\n",
       "      <td>positive</td>\n",
       "      <td>lumayan walaupun bass nya kurang</td>\n",
       "    </tr>\n",
       "    <tr>\n",
       "      <th>4</th>\n",
       "      <td>4</td>\n",
       "      <td>barang udah sampai, packing bagus, barang mulu...</td>\n",
       "      <td>positive</td>\n",
       "      <td>barang udah packing bagus barang mulus cas cum...</td>\n",
       "    </tr>\n",
       "    <tr>\n",
       "      <th>...</th>\n",
       "      <td>...</td>\n",
       "      <td>...</td>\n",
       "      <td>...</td>\n",
       "      <td>...</td>\n",
       "    </tr>\n",
       "    <tr>\n",
       "      <th>2333</th>\n",
       "      <td>5</td>\n",
       "      <td>berfungsi ke 2 nya. suara sesuai harga lumayanlah</td>\n",
       "      <td>positive</td>\n",
       "      <td>fungsi nya suara sesuai harga lumayan</td>\n",
       "    </tr>\n",
       "    <tr>\n",
       "      <th>2334</th>\n",
       "      <td>5</td>\n",
       "      <td>mantap</td>\n",
       "      <td>positive</td>\n",
       "      <td>mantap</td>\n",
       "    </tr>\n",
       "    <tr>\n",
       "      <th>2335</th>\n",
       "      <td>5</td>\n",
       "      <td>bagus</td>\n",
       "      <td>positive</td>\n",
       "      <td>bagus</td>\n",
       "    </tr>\n",
       "    <tr>\n",
       "      <th>2336</th>\n",
       "      <td>5</td>\n",
       "      <td>baik</td>\n",
       "      <td>positive</td>\n",
       "      <td>baik</td>\n",
       "    </tr>\n",
       "    <tr>\n",
       "      <th>2337</th>\n",
       "      <td>5</td>\n",
       "      <td>berfungsi dengan baik setelah diberi penjelasa...</td>\n",
       "      <td>positive</td>\n",
       "      <td>fungsi baik beri jelas masalah</td>\n",
       "    </tr>\n",
       "  </tbody>\n",
       "</table>\n",
       "<p>2315 rows × 4 columns</p>\n",
       "</div>"
      ],
      "text/plain": [
       "      rating                                            comment sentiment  \\\n",
       "0          5                                              bagus  positive   \n",
       "1          3                                     1tidak menyala   neutral   \n",
       "2          5                              puas brangnya sesusai  positive   \n",
       "3          5               lumayan lah walaupun bass nya kurang  positive   \n",
       "4          4  barang udah sampai, packing bagus, barang mulu...  positive   \n",
       "...      ...                                                ...       ...   \n",
       "2333       5  berfungsi ke 2 nya. suara sesuai harga lumayanlah  positive   \n",
       "2334       5                                             mantap  positive   \n",
       "2335       5                                              bagus  positive   \n",
       "2336       5                                               baik  positive   \n",
       "2337       5  berfungsi dengan baik setelah diberi penjelasa...  positive   \n",
       "\n",
       "                                          clean_comment  \n",
       "0                                                 bagus  \n",
       "1                                           tidak nyala  \n",
       "2                                    puas barang sesuai  \n",
       "3                      lumayan walaupun bass nya kurang  \n",
       "4     barang udah packing bagus barang mulus cas cum...  \n",
       "...                                                 ...  \n",
       "2333              fungsi nya suara sesuai harga lumayan  \n",
       "2334                                             mantap  \n",
       "2335                                              bagus  \n",
       "2336                                               baik  \n",
       "2337                     fungsi baik beri jelas masalah  \n",
       "\n",
       "[2315 rows x 4 columns]"
      ]
     },
     "execution_count": 40,
     "metadata": {},
     "output_type": "execute_result"
    }
   ],
   "source": [
    "clean_df"
   ]
  },
  {
   "cell_type": "code",
   "execution_count": 41,
   "metadata": {},
   "outputs": [
    {
     "name": "stdout",
     "output_type": "stream",
     "text": [
      "Sebelum preprocessing:\n",
      "baterai cepat ngedrop\n",
      "==================================================\n",
      "Setelah preprocessing:\n",
      "baterai cepat ngedrop\n",
      "==================================================\n"
     ]
    }
   ],
   "source": [
    "index = clean_df.sample(1).index\n",
    "\n",
    "before = clean_df.loc[index][\"comment\"].values[0]\n",
    "after = clean_df.loc[index][\"clean_comment\"].values[0]\n",
    "\n",
    "print(f\"Sebelum preprocessing:\\n{before}\\n{'=' * 50}\")\n",
    "print(f\"Setelah preprocessing:\\n{after}\\n{'=' * 50}\")"
   ]
  },
  {
   "cell_type": "code",
   "execution_count": 42,
   "metadata": {},
   "outputs": [
    {
     "data": {
      "text/html": [
       "<div>\n",
       "<style scoped>\n",
       "    .dataframe tbody tr th:only-of-type {\n",
       "        vertical-align: middle;\n",
       "    }\n",
       "\n",
       "    .dataframe tbody tr th {\n",
       "        vertical-align: top;\n",
       "    }\n",
       "\n",
       "    .dataframe thead th {\n",
       "        text-align: right;\n",
       "    }\n",
       "</style>\n",
       "<table border=\"1\" class=\"dataframe\">\n",
       "  <thead>\n",
       "    <tr style=\"text-align: right;\">\n",
       "      <th></th>\n",
       "      <th>text</th>\n",
       "      <th>sentiment</th>\n",
       "    </tr>\n",
       "  </thead>\n",
       "  <tbody>\n",
       "    <tr>\n",
       "      <th>0</th>\n",
       "      <td>bagus</td>\n",
       "      <td>positive</td>\n",
       "    </tr>\n",
       "    <tr>\n",
       "      <th>1</th>\n",
       "      <td>tidak nyala</td>\n",
       "      <td>neutral</td>\n",
       "    </tr>\n",
       "    <tr>\n",
       "      <th>2</th>\n",
       "      <td>puas barang sesuai</td>\n",
       "      <td>positive</td>\n",
       "    </tr>\n",
       "    <tr>\n",
       "      <th>3</th>\n",
       "      <td>lumayan walaupun bass nya kurang</td>\n",
       "      <td>positive</td>\n",
       "    </tr>\n",
       "    <tr>\n",
       "      <th>4</th>\n",
       "      <td>barang udah packing bagus barang mulus cas cum...</td>\n",
       "      <td>positive</td>\n",
       "    </tr>\n",
       "  </tbody>\n",
       "</table>\n",
       "</div>"
      ],
      "text/plain": [
       "                                                text sentiment\n",
       "0                                              bagus  positive\n",
       "1                                        tidak nyala   neutral\n",
       "2                                 puas barang sesuai  positive\n",
       "3                   lumayan walaupun bass nya kurang  positive\n",
       "4  barang udah packing bagus barang mulus cas cum...  positive"
      ]
     },
     "execution_count": 42,
     "metadata": {},
     "output_type": "execute_result"
    }
   ],
   "source": [
    "final_df = clean_df[[\"clean_comment\", \"sentiment\"]]\n",
    "final_df = final_df.rename(columns={\"clean_comment\": \"text\"})\n",
    "\n",
    "final_df.head()"
   ]
  },
  {
   "cell_type": "code",
   "execution_count": 43,
   "metadata": {},
   "outputs": [],
   "source": [
    "num_positives = (final_df[\"sentiment\"] == \"positive\").sum()\n",
    "\n",
    "positives = final_df[final_df[\"sentiment\"] == \"positive\"]\n",
    "neutrals = final_df[final_df[\"sentiment\"] == \"negative\"].sample(\n",
    "    num_positives, replace=True\n",
    ")\n",
    "negatives = final_df[final_df[\"sentiment\"] == \"neutral\"].sample(\n",
    "    num_positives, replace=True\n",
    ")\n",
    "\n",
    "over_sampled = pd.concat([positives, neutrals, negatives], axis=0).reset_index(\n",
    "    drop=True\n",
    ")"
   ]
  },
  {
   "cell_type": "code",
   "execution_count": 44,
   "metadata": {},
   "outputs": [],
   "source": [
    "# X = final_df[\"text\"]\n",
    "# y = final_df[\"sentiment\"]\n",
    "\n",
    "X = over_sampled[\"text\"]\n",
    "\n",
    "y = over_sampled[\"sentiment\"]"
   ]
  },
  {
   "cell_type": "code",
   "execution_count": 45,
   "metadata": {},
   "outputs": [],
   "source": [
    "X_train, X_test, y_train, y_test = train_test_split(\n",
    "    X, y, test_size=0.2, random_state=2024, stratify=y\n",
    ")"
   ]
  },
  {
   "cell_type": "code",
   "execution_count": 46,
   "metadata": {},
   "outputs": [],
   "source": [
    "train_df = pd.concat([X_train, y_train], axis=1).reset_index(drop=True)\n",
    "test_df = pd.concat([X_test, y_test], axis=1).reset_index(drop=True)"
   ]
  },
  {
   "cell_type": "code",
   "execution_count": 47,
   "metadata": {},
   "outputs": [],
   "source": [
    "train_df.to_csv(\"../data/tws-train.csv\", index=False)\n",
    "test_df.to_csv(\"../data/tws-test.csv\", index=False)"
   ]
  },
  {
   "cell_type": "code",
   "execution_count": null,
   "metadata": {},
   "outputs": [],
   "source": []
  }
 ],
 "metadata": {
  "kernelspec": {
   "display_name": ".venv",
   "language": "python",
   "name": "python3"
  },
  "language_info": {
   "codemirror_mode": {
    "name": "ipython",
    "version": 3
   },
   "file_extension": ".py",
   "mimetype": "text/x-python",
   "name": "python",
   "nbconvert_exporter": "python",
   "pygments_lexer": "ipython3",
   "version": "3.9.0"
  }
 },
 "nbformat": 4,
 "nbformat_minor": 2
}
