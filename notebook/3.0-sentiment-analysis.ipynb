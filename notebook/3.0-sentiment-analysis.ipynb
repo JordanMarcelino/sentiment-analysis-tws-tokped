{
 "cells": [
  {
   "cell_type": "code",
   "execution_count": 1,
   "metadata": {},
   "outputs": [],
   "source": [
    "import pandas as pd"
   ]
  },
  {
   "cell_type": "code",
   "execution_count": 63,
   "metadata": {},
   "outputs": [],
   "source": [
    "df = pd.read_csv(\"../data/tws-clean.csv\")"
   ]
  },
  {
   "cell_type": "code",
   "execution_count": 64,
   "metadata": {},
   "outputs": [
    {
     "data": {
      "text/html": [
       "<div>\n",
       "<style scoped>\n",
       "    .dataframe tbody tr th:only-of-type {\n",
       "        vertical-align: middle;\n",
       "    }\n",
       "\n",
       "    .dataframe tbody tr th {\n",
       "        vertical-align: top;\n",
       "    }\n",
       "\n",
       "    .dataframe thead th {\n",
       "        text-align: right;\n",
       "    }\n",
       "</style>\n",
       "<table border=\"1\" class=\"dataframe\">\n",
       "  <thead>\n",
       "    <tr style=\"text-align: right;\">\n",
       "      <th></th>\n",
       "      <th>comment</th>\n",
       "      <th>clean_comment</th>\n",
       "    </tr>\n",
       "  </thead>\n",
       "  <tbody>\n",
       "    <tr>\n",
       "      <th>0</th>\n",
       "      <td>bagus</td>\n",
       "      <td>bagus</td>\n",
       "    </tr>\n",
       "    <tr>\n",
       "      <th>1</th>\n",
       "      <td>1tidak menyala</td>\n",
       "      <td>tidak nyala</td>\n",
       "    </tr>\n",
       "    <tr>\n",
       "      <th>2</th>\n",
       "      <td>puas brangnya sesusai</td>\n",
       "      <td>puas barang sesuai</td>\n",
       "    </tr>\n",
       "    <tr>\n",
       "      <th>3</th>\n",
       "      <td>lumayan lah walaupun bass nya kurang</td>\n",
       "      <td>lumayan walaupun bass kurang</td>\n",
       "    </tr>\n",
       "    <tr>\n",
       "      <th>4</th>\n",
       "      <td>barang udah sampai, packing bagus, barang mulu...</td>\n",
       "      <td>barang udah packing bagus barang mulus lagi ca...</td>\n",
       "    </tr>\n",
       "    <tr>\n",
       "      <th>...</th>\n",
       "      <td>...</td>\n",
       "      <td>...</td>\n",
       "    </tr>\n",
       "    <tr>\n",
       "      <th>2312</th>\n",
       "      <td>berfungsi ke 2 nya. suara sesuai harga lumayanlah</td>\n",
       "      <td>fungsi nya suara sesuai harga lumayan</td>\n",
       "    </tr>\n",
       "    <tr>\n",
       "      <th>2313</th>\n",
       "      <td>mantap</td>\n",
       "      <td>mantap</td>\n",
       "    </tr>\n",
       "    <tr>\n",
       "      <th>2314</th>\n",
       "      <td>bagus</td>\n",
       "      <td>bagus</td>\n",
       "    </tr>\n",
       "    <tr>\n",
       "      <th>2315</th>\n",
       "      <td>baik</td>\n",
       "      <td>baik</td>\n",
       "    </tr>\n",
       "    <tr>\n",
       "      <th>2316</th>\n",
       "      <td>berfungsi dengan baik setelah diberi penjelasa...</td>\n",
       "      <td>fungsi baik beri jelas masalah</td>\n",
       "    </tr>\n",
       "  </tbody>\n",
       "</table>\n",
       "<p>2317 rows × 2 columns</p>\n",
       "</div>"
      ],
      "text/plain": [
       "                                                comment  \\\n",
       "0                                                 bagus   \n",
       "1                                        1tidak menyala   \n",
       "2                                 puas brangnya sesusai   \n",
       "3                  lumayan lah walaupun bass nya kurang   \n",
       "4     barang udah sampai, packing bagus, barang mulu...   \n",
       "...                                                 ...   \n",
       "2312  berfungsi ke 2 nya. suara sesuai harga lumayanlah   \n",
       "2313                                             mantap   \n",
       "2314                                              bagus   \n",
       "2315                                               baik   \n",
       "2316  berfungsi dengan baik setelah diberi penjelasa...   \n",
       "\n",
       "                                          clean_comment  \n",
       "0                                                 bagus  \n",
       "1                                           tidak nyala  \n",
       "2                                    puas barang sesuai  \n",
       "3                          lumayan walaupun bass kurang  \n",
       "4     barang udah packing bagus barang mulus lagi ca...  \n",
       "...                                                 ...  \n",
       "2312              fungsi nya suara sesuai harga lumayan  \n",
       "2313                                             mantap  \n",
       "2314                                              bagus  \n",
       "2315                                               baik  \n",
       "2316                     fungsi baik beri jelas masalah  \n",
       "\n",
       "[2317 rows x 2 columns]"
      ]
     },
     "execution_count": 64,
     "metadata": {},
     "output_type": "execute_result"
    }
   ],
   "source": [
    "df[[\"comment\", \"clean_comment\"]]"
   ]
  },
  {
   "cell_type": "code",
   "execution_count": 69,
   "metadata": {},
   "outputs": [
    {
     "name": "stdout",
     "output_type": "stream",
     "text": [
      "Sebelum preprocessing:\n",
      "sudah dicoba. bagus suaranya. top. hanya saja ukuran nya agak gede utk telinga ku\n",
      "==================================================\n",
      "Setelah preprocessing:\n",
      "coba bagus suara baik saja ukur agak besar telinga ku\n",
      "==================================================\n"
     ]
    }
   ],
   "source": [
    "index = df.sample(1).index\n",
    "\n",
    "before = df.loc[index][\"comment\"].values[0]\n",
    "after = df.loc[index][\"clean_comment\"].values[0]\n",
    "\n",
    "print(f\"Sebelum preprocessing:\\n{before}\\n{'=' * 50}\")\n",
    "print(f\"Setelah preprocessing:\\n{after}\\n{'=' * 50}\")\n"
   ]
  },
  {
   "cell_type": "code",
   "execution_count": null,
   "metadata": {},
   "outputs": [],
   "source": []
  },
  {
   "cell_type": "code",
   "execution_count": null,
   "metadata": {},
   "outputs": [],
   "source": []
  }
 ],
 "metadata": {
  "kernelspec": {
   "display_name": ".venv",
   "language": "python",
   "name": "python3"
  },
  "language_info": {
   "codemirror_mode": {
    "name": "ipython",
    "version": 3
   },
   "file_extension": ".py",
   "mimetype": "text/x-python",
   "name": "python",
   "nbconvert_exporter": "python",
   "pygments_lexer": "ipython3",
   "version": "3.9.0"
  }
 },
 "nbformat": 4,
 "nbformat_minor": 2
}
