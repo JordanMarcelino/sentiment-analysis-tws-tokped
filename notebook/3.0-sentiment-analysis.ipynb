{
  "cells": [
    {
      "cell_type": "code",
      "source": [
        "!pip install torchinfo torchmetrics transformers -q"
      ],
      "metadata": {
        "id": "yXqcp4MaDr-y",
        "colab": {
          "base_uri": "https://localhost:8080/"
        },
        "outputId": "8d04a773-ea3d-4bdb-c8f2-74b95c48d7b3"
      },
      "execution_count": 1,
      "outputs": [
        {
          "output_type": "stream",
          "name": "stdout",
          "text": [
            "\u001b[2K     \u001b[90m━━━━━━━━━━━━━━━━━━━━━━━━━━━━━━━━━━━━━━━━\u001b[0m \u001b[32m841.5/841.5 kB\u001b[0m \u001b[31m7.0 MB/s\u001b[0m eta \u001b[36m0:00:00\u001b[0m\n",
            "\u001b[2K     \u001b[90m━━━━━━━━━━━━━━━━━━━━━━━━━━━━━━━━━━━━━━━━\u001b[0m \u001b[32m23.7/23.7 MB\u001b[0m \u001b[31m39.0 MB/s\u001b[0m eta \u001b[36m0:00:00\u001b[0m\n",
            "\u001b[2K     \u001b[90m━━━━━━━━━━━━━━━━━━━━━━━━━━━━━━━━━━━━━━━━\u001b[0m \u001b[32m823.6/823.6 kB\u001b[0m \u001b[31m38.9 MB/s\u001b[0m eta \u001b[36m0:00:00\u001b[0m\n",
            "\u001b[2K     \u001b[90m━━━━━━━━━━━━━━━━━━━━━━━━━━━━━━━━━━━━━━━━\u001b[0m \u001b[32m14.1/14.1 MB\u001b[0m \u001b[31m55.7 MB/s\u001b[0m eta \u001b[36m0:00:00\u001b[0m\n",
            "\u001b[2K     \u001b[90m━━━━━━━━━━━━━━━━━━━━━━━━━━━━━━━━━━━━━━━━\u001b[0m \u001b[32m731.7/731.7 MB\u001b[0m \u001b[31m1.8 MB/s\u001b[0m eta \u001b[36m0:00:00\u001b[0m\n",
            "\u001b[2K     \u001b[90m━━━━━━━━━━━━━━━━━━━━━━━━━━━━━━━━━━━━━━━━\u001b[0m \u001b[32m410.6/410.6 MB\u001b[0m \u001b[31m1.7 MB/s\u001b[0m eta \u001b[36m0:00:00\u001b[0m\n",
            "\u001b[2K     \u001b[90m━━━━━━━━━━━━━━━━━━━━━━━━━━━━━━━━━━━━━━━━\u001b[0m \u001b[32m121.6/121.6 MB\u001b[0m \u001b[31m8.4 MB/s\u001b[0m eta \u001b[36m0:00:00\u001b[0m\n",
            "\u001b[2K     \u001b[90m━━━━━━━━━━━━━━━━━━━━━━━━━━━━━━━━━━━━━━━━\u001b[0m \u001b[32m56.5/56.5 MB\u001b[0m \u001b[31m12.1 MB/s\u001b[0m eta \u001b[36m0:00:00\u001b[0m\n",
            "\u001b[2K     \u001b[90m━━━━━━━━━━━━━━━━━━━━━━━━━━━━━━━━━━━━━━━━\u001b[0m \u001b[32m124.2/124.2 MB\u001b[0m \u001b[31m8.2 MB/s\u001b[0m eta \u001b[36m0:00:00\u001b[0m\n",
            "\u001b[2K     \u001b[90m━━━━━━━━━━━━━━━━━━━━━━━━━━━━━━━━━━━━━━━━\u001b[0m \u001b[32m196.0/196.0 MB\u001b[0m \u001b[31m2.2 MB/s\u001b[0m eta \u001b[36m0:00:00\u001b[0m\n",
            "\u001b[2K     \u001b[90m━━━━━━━━━━━━━━━━━━━━━━━━━━━━━━━━━━━━━━━━\u001b[0m \u001b[32m166.0/166.0 MB\u001b[0m \u001b[31m7.2 MB/s\u001b[0m eta \u001b[36m0:00:00\u001b[0m\n",
            "\u001b[2K     \u001b[90m━━━━━━━━━━━━━━━━━━━━━━━━━━━━━━━━━━━━━━━━\u001b[0m \u001b[32m99.1/99.1 kB\u001b[0m \u001b[31m14.1 MB/s\u001b[0m eta \u001b[36m0:00:00\u001b[0m\n",
            "\u001b[2K     \u001b[90m━━━━━━━━━━━━━━━━━━━━━━━━━━━━━━━━━━━━━━━━\u001b[0m \u001b[32m21.1/21.1 MB\u001b[0m \u001b[31m76.6 MB/s\u001b[0m eta \u001b[36m0:00:00\u001b[0m\n",
            "\u001b[?25h"
          ]
        }
      ]
    },
    {
      "cell_type": "code",
      "execution_count": 2,
      "metadata": {
        "id": "HmJtGZztDpp4"
      },
      "outputs": [],
      "source": [
        "import os\n",
        "import random\n",
        "import warnings\n",
        "\n",
        "import matplotlib.pyplot as plt\n",
        "import numpy as np\n",
        "import pandas as pd\n",
        "import seaborn as sns\n",
        "import torch\n",
        "import torchmetrics\n",
        "from sklearn.metrics import accuracy_score, f1_score, precision_score, recall_score\n",
        "from torch import nn, optim\n",
        "from torch.utils.data.dataloader import DataLoader\n",
        "from torch.utils.data.dataset import Dataset\n",
        "from torchinfo import summary\n",
        "from tqdm import tqdm\n",
        "from transformers import BertConfig, BertForSequenceClassification, BertTokenizer\n",
        "\n",
        "warnings.filterwarnings('ignore')"
      ]
    },
    {
      "cell_type": "code",
      "source": [
        "torch.__version__"
      ],
      "metadata": {
        "colab": {
          "base_uri": "https://localhost:8080/",
          "height": 35
        },
        "id": "Lt2-WDUiD-cM",
        "outputId": "ee6f6d9e-8f3e-4d3a-e847-a9007c40fb90"
      },
      "execution_count": 3,
      "outputs": [
        {
          "output_type": "execute_result",
          "data": {
            "text/plain": [
              "'2.2.1+cu121'"
            ],
            "application/vnd.google.colaboratory.intrinsic+json": {
              "type": "string"
            }
          },
          "metadata": {},
          "execution_count": 3
        }
      ]
    },
    {
      "cell_type": "code",
      "source": [
        "!nvidia-smi"
      ],
      "metadata": {
        "colab": {
          "base_uri": "https://localhost:8080/"
        },
        "id": "rlCKhxXJEBfZ",
        "outputId": "45bbaef5-9e49-456c-f8f6-044f14ff76f1"
      },
      "execution_count": 4,
      "outputs": [
        {
          "output_type": "stream",
          "name": "stdout",
          "text": [
            "Mon Apr  8 15:24:03 2024       \n",
            "+---------------------------------------------------------------------------------------+\n",
            "| NVIDIA-SMI 535.104.05             Driver Version: 535.104.05   CUDA Version: 12.2     |\n",
            "|-----------------------------------------+----------------------+----------------------+\n",
            "| GPU  Name                 Persistence-M | Bus-Id        Disp.A | Volatile Uncorr. ECC |\n",
            "| Fan  Temp   Perf          Pwr:Usage/Cap |         Memory-Usage | GPU-Util  Compute M. |\n",
            "|                                         |                      |               MIG M. |\n",
            "|=========================================+======================+======================|\n",
            "|   0  Tesla T4                       Off | 00000000:00:04.0 Off |                    0 |\n",
            "| N/A   34C    P8               8W /  70W |      0MiB / 15360MiB |      0%      Default |\n",
            "|                                         |                      |                  N/A |\n",
            "+-----------------------------------------+----------------------+----------------------+\n",
            "                                                                                         \n",
            "+---------------------------------------------------------------------------------------+\n",
            "| Processes:                                                                            |\n",
            "|  GPU   GI   CI        PID   Type   Process name                            GPU Memory |\n",
            "|        ID   ID                                                             Usage      |\n",
            "|=======================================================================================|\n",
            "|  No running processes found                                                           |\n",
            "+---------------------------------------------------------------------------------------+\n"
          ]
        }
      ]
    },
    {
      "cell_type": "code",
      "execution_count": 5,
      "metadata": {
        "id": "2TvYeKRWDpp5"
      },
      "outputs": [],
      "source": [
        "def set_seed(seed: int = 42):\n",
        "    random.seed(seed)\n",
        "    np.random.seed(seed)\n",
        "    torch.manual_seed(seed)\n",
        "    torch.cuda.manual_seed(seed)\n",
        "\n",
        "\n",
        "def count_param(module: nn.Module, trainable=False) -> int:\n",
        "    if trainable:\n",
        "        return sum(p.numel() for p in module.parameters() if p.requires_grad)\n",
        "    else:\n",
        "        return sum(p.numel() for p in module.parameters())\n",
        "\n",
        "\n",
        "def get_lr(optimizer: optim.Optimizer):\n",
        "    for param_group in optimizer.param_groups:\n",
        "        return param_group[\"lr\"]\n",
        "\n",
        "\n",
        "def freeze_layers(layers: nn.Module) -> None:\n",
        "    for layer in layers.parameters():\n",
        "        layer.requires_grad = False\n",
        "\n",
        "\n",
        "def metrics_to_string(metric_dict: dict) -> str:\n",
        "    string_list = []\n",
        "    for key, value in metric_dict.items():\n",
        "        string_list.append(\"{}:{:.2f}\".format(key, value))\n",
        "    return \" \".join(string_list)"
      ]
    },
    {
      "cell_type": "code",
      "execution_count": 6,
      "metadata": {
        "id": "WoOrR7U8Dpp6"
      },
      "outputs": [],
      "source": [
        "set_seed(2024)"
      ]
    },
    {
      "cell_type": "code",
      "execution_count": 7,
      "metadata": {
        "colab": {
          "base_uri": "https://localhost:8080/",
          "height": 35
        },
        "id": "WaF6fLCwDpp7",
        "outputId": "4b946f26-ec6b-497d-c0db-041af45625ca"
      },
      "outputs": [
        {
          "output_type": "execute_result",
          "data": {
            "text/plain": [
              "'cuda'"
            ],
            "application/vnd.google.colaboratory.intrinsic+json": {
              "type": "string"
            }
          },
          "metadata": {},
          "execution_count": 7
        }
      ],
      "source": [
        "device = \"cuda\" if torch.cuda.is_available() else \"cpu\"\n",
        "\n",
        "device"
      ]
    },
    {
      "cell_type": "code",
      "execution_count": 8,
      "metadata": {
        "id": "CNqT4Ru2Dpp7"
      },
      "outputs": [],
      "source": [
        "class DocumentSentimentDataset(Dataset):\n",
        "    # Static constant variable\n",
        "    LABEL2INDEX = {\"positive\": 0, \"neutral\": 1, \"negative\": 2}\n",
        "    INDEX2LABEL = {0: \"positive\", 1: \"neutral\", 2: \"negative\"}\n",
        "    NUM_LABELS = 3\n",
        "\n",
        "    def load_dataset(self, path):\n",
        "        df = pd.read_csv(path)\n",
        "        df.columns = [\"text\", \"sentiment\"]\n",
        "        df[\"sentiment\"] = df[\"sentiment\"].apply(lambda lab: self.LABEL2INDEX[lab])\n",
        "        return df\n",
        "\n",
        "    def __init__(\n",
        "        self,\n",
        "        dataset_path: str,\n",
        "        tokenizer: BertTokenizer,\n",
        "        no_special_token=False,\n",
        "        *args,\n",
        "        **kwargs,\n",
        "    ):\n",
        "        self.data = self.load_dataset(dataset_path)\n",
        "        self.tokenizer = tokenizer\n",
        "        self.no_special_token = no_special_token\n",
        "\n",
        "    def __getitem__(self, index):\n",
        "        data = self.data.loc[index, :]\n",
        "        text, sentiment = data[\"text\"], data[\"sentiment\"]\n",
        "        subwords = self.tokenizer.encode(\n",
        "            text, add_special_tokens=not self.no_special_token\n",
        "        )\n",
        "        return np.array(subwords), np.array(sentiment), data[\"text\"]\n",
        "\n",
        "    def __len__(self):\n",
        "        return len(self.data)"
      ]
    },
    {
      "cell_type": "code",
      "execution_count": 9,
      "metadata": {
        "id": "7cr-kq2PDpp8"
      },
      "outputs": [],
      "source": [
        "class DocumentSentimentDataLoader(DataLoader):\n",
        "    def __init__(self, max_seq_len=512, *args, **kwargs):\n",
        "        super(DocumentSentimentDataLoader, self).__init__(*args, **kwargs)\n",
        "        self.collate_fn = self._collate_fn\n",
        "        self.max_seq_len = max_seq_len\n",
        "\n",
        "    def _collate_fn(self, batch):\n",
        "        batch_size = len(batch)\n",
        "        max_seq_len = max(map(lambda x: len(x[0]), batch))\n",
        "        max_seq_len = min(self.max_seq_len, max_seq_len)\n",
        "\n",
        "        subword_batch = np.zeros((batch_size, max_seq_len), dtype=np.int64)\n",
        "        mask_batch = np.zeros((batch_size, max_seq_len), dtype=np.float32)\n",
        "        sentiment_batch = np.zeros((batch_size, 1), dtype=np.int64)\n",
        "\n",
        "        seq_list = []\n",
        "        for i, (subwords, sentiment, raw_seq) in enumerate(batch):\n",
        "            subwords = subwords[:max_seq_len]\n",
        "            subword_batch[i, : len(subwords)] = subwords\n",
        "            mask_batch[i, : len(subwords)] = 1\n",
        "            sentiment_batch[i, 0] = sentiment\n",
        "\n",
        "            seq_list.append(raw_seq)\n",
        "\n",
        "        return subword_batch, mask_batch, sentiment_batch, seq_list"
      ]
    },
    {
      "cell_type": "code",
      "execution_count": 10,
      "metadata": {
        "colab": {
          "base_uri": "https://localhost:8080/",
          "height": 232,
          "referenced_widgets": [
            "e566dadcac1247bdacbf6efa02393202",
            "a9bc82483e044307b2d7114b1a1fbd52",
            "c57f77808c7340c8b419dc1bbdb981ce",
            "dcf0397cfb914d7a9277ad6961a8cac1",
            "65b94492cfcb40519928c2b35db332e0",
            "aa6ab160b3c54d42b051ed53c57b0b9b",
            "3be30a8dfc8f4bd29908b8b92ad282f1",
            "49d0d17963e2474cb24efcc4491ca0d9",
            "c7c0f4a039044334b98a9d1c4b9215b8",
            "e9dba2806e604e1dad6f87a3ac88d581",
            "d8bb6f70e70d449a84f69a90e57609ac",
            "c419d0000aaa41a59e56690eb44cf59e",
            "6d4d8dd7e96a404c99015514276d30d5",
            "9d9a1f1876ef4d5fb13ee75914cff32c",
            "6889afe709db4ed480ea49579ed94369",
            "218e0d7eb6f1460e8326971c699eb398",
            "8837e2b262224d488c1fa67d3ca61072",
            "519a304e0012496b9f49f1765883489d",
            "b983798599f44d9f9fb5ed996cd50215",
            "22616501a2d34768a8055f2b2f1c17a1",
            "d5424b6cd8b54e12addc5aa1c3ce34e9",
            "d6783c0482e54c83b9a9ce65f4a6c6cc",
            "365d0d5ff5b14d3aa5ef39700332ba14",
            "09d3222256584ad7b683337246a94242",
            "c5cb70500d3a450abe858ea359ddfe3c",
            "e015621959ea4ed8857c4f6a548b98e6",
            "6e1b54708e424a9d88542013f0c3e14c",
            "ed9e92275c0a4c61ae5978509c88e75d",
            "5f931b50f4af4691914bac3c908051e2",
            "1ee00ce557d145c3bbce4c9883acdf9f",
            "e66bd20cb52348ef89d42108c548511d",
            "5dc3a473cb6b466ead2bd0f06d1f0ca9",
            "8f8aea5bb33b4103a92ec3f5b769075a",
            "3ba5150da51442e8848c9ce89d68e467",
            "c729b735ee44474693cf79d4a17959b1",
            "f6296f778a354c45b98b30e61e65da95",
            "f3cedb97a1794d7883f22308ef6b25e9",
            "f4e1c646272642de99e3fa45760f7b99",
            "5644f90fb024442295587d82e2de49a3",
            "16b3ab5ede6843829966497351237bbf",
            "52dc8701b96247e9ae2e889ff0e89443",
            "0c52ac7c2bf1460babe3f6ecd27a52d2",
            "97fdeccfbc1846408f911293dcdcf41b",
            "faa1246bee89491ea7f24d0491d864f6",
            "b081ffb47fcf4da7a117e4896af44d60",
            "fb4cbe60e1c745cdb31de2cb4533abc4",
            "c01f920b1f424b81ac00a90f7be0d948",
            "59fcff4719664734850b23125d7befdc",
            "31942c4989b84501bb9eeb45b43cc383",
            "fd2db825903948dda124d29861ab6989",
            "360279b335204dcdbbf41f776d263ff1",
            "44b49c1f2ec04207a4e93487d263ccb4",
            "1762c9c053d846c988c697a5e6d96d91",
            "06d95048ef854fa39dbdd232f4e59035",
            "80e36d3c1a184284b0c260fc674c2abf"
          ]
        },
        "id": "MTZM6yTsDpp9",
        "outputId": "265200eb-e58b-47a6-d081-6ade321049ad"
      },
      "outputs": [
        {
          "output_type": "display_data",
          "data": {
            "text/plain": [
              "tokenizer_config.json:   0%|          | 0.00/2.00 [00:00<?, ?B/s]"
            ],
            "application/vnd.jupyter.widget-view+json": {
              "version_major": 2,
              "version_minor": 0,
              "model_id": "e566dadcac1247bdacbf6efa02393202"
            }
          },
          "metadata": {}
        },
        {
          "output_type": "display_data",
          "data": {
            "text/plain": [
              "vocab.txt:   0%|          | 0.00/229k [00:00<?, ?B/s]"
            ],
            "application/vnd.jupyter.widget-view+json": {
              "version_major": 2,
              "version_minor": 0,
              "model_id": "c419d0000aaa41a59e56690eb44cf59e"
            }
          },
          "metadata": {}
        },
        {
          "output_type": "display_data",
          "data": {
            "text/plain": [
              "special_tokens_map.json:   0%|          | 0.00/112 [00:00<?, ?B/s]"
            ],
            "application/vnd.jupyter.widget-view+json": {
              "version_major": 2,
              "version_minor": 0,
              "model_id": "365d0d5ff5b14d3aa5ef39700332ba14"
            }
          },
          "metadata": {}
        },
        {
          "output_type": "display_data",
          "data": {
            "text/plain": [
              "config.json:   0%|          | 0.00/1.53k [00:00<?, ?B/s]"
            ],
            "application/vnd.jupyter.widget-view+json": {
              "version_major": 2,
              "version_minor": 0,
              "model_id": "3ba5150da51442e8848c9ce89d68e467"
            }
          },
          "metadata": {}
        },
        {
          "output_type": "display_data",
          "data": {
            "text/plain": [
              "pytorch_model.bin:   0%|          | 0.00/498M [00:00<?, ?B/s]"
            ],
            "application/vnd.jupyter.widget-view+json": {
              "version_major": 2,
              "version_minor": 0,
              "model_id": "b081ffb47fcf4da7a117e4896af44d60"
            }
          },
          "metadata": {}
        },
        {
          "output_type": "stream",
          "name": "stderr",
          "text": [
            "Some weights of BertForSequenceClassification were not initialized from the model checkpoint at indobenchmark/indobert-base-p1 and are newly initialized: ['classifier.bias', 'classifier.weight']\n",
            "You should probably TRAIN this model on a down-stream task to be able to use it for predictions and inference.\n"
          ]
        }
      ],
      "source": [
        "tokenizer = BertTokenizer.from_pretrained(\"indobenchmark/indobert-base-p1\")\n",
        "config = BertConfig.from_pretrained(\"indobenchmark/indobert-base-p1\")\n",
        "config.num_labels = 3\n",
        "\n",
        "\n",
        "model = BertForSequenceClassification.from_pretrained(\n",
        "    \"indobenchmark/indobert-base-p1\", config=config\n",
        ").to(device)"
      ]
    },
    {
      "cell_type": "code",
      "execution_count": 11,
      "metadata": {
        "id": "gWVni9adDpp9"
      },
      "outputs": [],
      "source": [
        "# freeze_layers(model.bert.embeddings)\n",
        "# freeze_layers(model.bert.encoder.layer[:-3])\n",
        "# freeze_layers(model.bert.encoder)"
      ]
    },
    {
      "cell_type": "code",
      "execution_count": 12,
      "metadata": {
        "colab": {
          "base_uri": "https://localhost:8080/"
        },
        "id": "GFyb0yTtDpp-",
        "outputId": "bdf06230-2d38-420a-99cf-1a07290845bd"
      },
      "outputs": [
        {
          "output_type": "stream",
          "name": "stderr",
          "text": [
            "We strongly recommend passing in an `attention_mask` since your input_ids may be padded. See https://huggingface.co/docs/transformers/troubleshooting#incorrect-output-when-padding-tokens-arent-masked.\n"
          ]
        },
        {
          "output_type": "execute_result",
          "data": {
            "text/plain": [
              "======================================================================================================================================\n",
              "Layer (type (var_name))                                                Input Shape      Output Shape     Param #          Trainable\n",
              "======================================================================================================================================\n",
              "BertForSequenceClassification (BertForSequenceClassification)          [1, 7]           [1, 3]           --               True\n",
              "├─BertModel (bert)                                                     [1, 7]           [1, 768]         --               True\n",
              "│    └─BertEmbeddings (embeddings)                                     --               [1, 7, 768]      --               True\n",
              "│    │    └─Embedding (word_embeddings)                                [1, 7]           [1, 7, 768]      38,400,000       True\n",
              "│    │    └─Embedding (token_type_embeddings)                          [1, 7]           [1, 7, 768]      1,536            True\n",
              "│    │    └─Embedding (position_embeddings)                            [1, 7]           [1, 7, 768]      393,216          True\n",
              "│    │    └─LayerNorm (LayerNorm)                                      [1, 7, 768]      [1, 7, 768]      1,536            True\n",
              "│    │    └─Dropout (dropout)                                          [1, 7, 768]      [1, 7, 768]      --               --\n",
              "│    └─BertEncoder (encoder)                                           [1, 7, 768]      [1, 7, 768]      --               True\n",
              "│    │    └─ModuleList (layer)                                         --               --               85,054,464       True\n",
              "│    └─BertPooler (pooler)                                             [1, 7, 768]      [1, 768]         --               True\n",
              "│    │    └─Linear (dense)                                             [1, 768]         [1, 768]         590,592          True\n",
              "│    │    └─Tanh (activation)                                          [1, 768]         [1, 768]         --               --\n",
              "├─Dropout (dropout)                                                    [1, 768]         [1, 768]         --               --\n",
              "├─Linear (classifier)                                                  [1, 768]         [1, 3]           2,307            True\n",
              "======================================================================================================================================\n",
              "Total params: 124,443,651\n",
              "Trainable params: 124,443,651\n",
              "Non-trainable params: 0\n",
              "Total mult-adds (M): 124.44\n",
              "======================================================================================================================================\n",
              "Input size (MB): 0.00\n",
              "Forward/backward pass size (MB): 5.86\n",
              "Params size (MB): 497.77\n",
              "Estimated Total Size (MB): 503.63\n",
              "======================================================================================================================================"
            ]
          },
          "metadata": {},
          "execution_count": 12
        }
      ],
      "source": [
        "summary(\n",
        "    model=model,\n",
        "    input_size=(1, 7),\n",
        "    dtypes=[torch.long],\n",
        "    col_names=[\"input_size\", \"output_size\", \"num_params\", \"trainable\"],\n",
        "    col_width=16,\n",
        "    row_settings=[\"var_names\"],\n",
        ")"
      ]
    },
    {
      "cell_type": "code",
      "execution_count": 13,
      "metadata": {
        "id": "bPcYiR2aDpp_"
      },
      "outputs": [],
      "source": [
        "train_path = \"tws-train.csv\"\n",
        "test_path = \"tws-test.csv\""
      ]
    },
    {
      "cell_type": "code",
      "execution_count": 14,
      "metadata": {
        "id": "ovwAjEbfDpqA"
      },
      "outputs": [],
      "source": [
        "train_dataset = DocumentSentimentDataset(train_path, tokenizer, lowercase=True)\n",
        "test_dataset = DocumentSentimentDataset(test_path, tokenizer, lowercase=True)"
      ]
    },
    {
      "cell_type": "code",
      "execution_count": 15,
      "metadata": {
        "id": "aOyzARHsDpqA"
      },
      "outputs": [],
      "source": [
        "BATCH_SIZE = 32\n",
        "NUM_WORKERS = os.cpu_count()\n",
        "\n",
        "train_dataloader = DocumentSentimentDataLoader(\n",
        "    dataset=train_dataset,\n",
        "    max_seq_len=512,\n",
        "    batch_size=BATCH_SIZE,\n",
        "    shuffle=True,\n",
        "    num_workers=NUM_WORKERS,\n",
        "    pin_memory=True,\n",
        ")\n",
        "\n",
        "test_dataloader = DocumentSentimentDataLoader(\n",
        "    dataset=test_dataset,\n",
        "    max_seq_len=512,\n",
        "    batch_size=BATCH_SIZE,\n",
        "    shuffle=False,\n",
        "    num_workers=NUM_WORKERS,\n",
        "    pin_memory=True,\n",
        ")"
      ]
    },
    {
      "cell_type": "code",
      "source": [
        "NUM_WORKERS"
      ],
      "metadata": {
        "colab": {
          "base_uri": "https://localhost:8080/"
        },
        "id": "7VdChUmsEXIh",
        "outputId": "a974d407-d500-4ff8-c283-0ac6a4a166d4"
      },
      "execution_count": 16,
      "outputs": [
        {
          "output_type": "execute_result",
          "data": {
            "text/plain": [
              "2"
            ]
          },
          "metadata": {},
          "execution_count": 16
        }
      ]
    },
    {
      "cell_type": "code",
      "execution_count": 17,
      "metadata": {
        "colab": {
          "base_uri": "https://localhost:8080/"
        },
        "id": "aeV2sLORDpqB",
        "outputId": "96561454-c159-4b9a-8a9b-042bdfdcaa55"
      },
      "outputs": [
        {
          "output_type": "execute_result",
          "data": {
            "text/plain": [
              "({'positive': 0, 'neutral': 1, 'negative': 2},\n",
              " {0: 'positive', 1: 'neutral', 2: 'negative'})"
            ]
          },
          "metadata": {},
          "execution_count": 17
        }
      ],
      "source": [
        "w2i, i2w = DocumentSentimentDataset.LABEL2INDEX, DocumentSentimentDataset.INDEX2LABEL\n",
        "w2i, i2w"
      ]
    },
    {
      "cell_type": "code",
      "execution_count": 18,
      "metadata": {
        "id": "STWVAHQvDpqB"
      },
      "outputs": [],
      "source": [
        "# Forward function for sequence classification\n",
        "def forward_sequence_classification(\n",
        "    model: BertForSequenceClassification,\n",
        "    batch_data,\n",
        "    i2w,\n",
        "    is_test=False,\n",
        "    device=device,\n",
        "    **kwargs,\n",
        "):\n",
        "    # Unpack batch data\n",
        "    if len(batch_data) == 3:\n",
        "        (subword_batch, mask_batch, label_batch) = batch_data\n",
        "        token_type_batch = None\n",
        "    elif len(batch_data) == 4:\n",
        "        (subword_batch, mask_batch, token_type_batch, label_batch) = batch_data\n",
        "\n",
        "    # Prepare input & label\n",
        "    subword_batch = torch.LongTensor(subword_batch)\n",
        "    mask_batch = torch.FloatTensor(mask_batch)\n",
        "    token_type_batch = (\n",
        "        torch.LongTensor(token_type_batch) if token_type_batch is not None else None\n",
        "    )\n",
        "    label_batch = torch.LongTensor(label_batch)\n",
        "\n",
        "    if device == \"cuda\":\n",
        "        subword_batch = subword_batch.cuda()\n",
        "        mask_batch = mask_batch.cuda()\n",
        "        token_type_batch = (\n",
        "            token_type_batch.cuda() if token_type_batch is not None else None\n",
        "        )\n",
        "        label_batch = label_batch.cuda()\n",
        "\n",
        "    # Forward model\n",
        "    outputs = model(\n",
        "        subword_batch,\n",
        "        attention_mask=mask_batch,\n",
        "        token_type_ids=token_type_batch,\n",
        "        labels=label_batch,\n",
        "    )\n",
        "    loss, logits = outputs[:2]\n",
        "\n",
        "    # generate prediction & label list\n",
        "    list_hyp = []\n",
        "    list_label = []\n",
        "    hyp = torch.topk(logits, 1)[1]\n",
        "    for j in range(len(hyp)):\n",
        "        list_hyp.append(i2w[hyp[j].item()])\n",
        "        list_label.append(i2w[label_batch[j][0].item()])\n",
        "\n",
        "    return loss, list_hyp, list_label"
      ]
    },
    {
      "cell_type": "code",
      "execution_count": 19,
      "metadata": {
        "id": "kYMyGPOVDpqB"
      },
      "outputs": [],
      "source": [
        "def document_sentiment_metrics_fn(list_hyp, list_label):\n",
        "    metrics = {}\n",
        "    metrics[\"ACC\"] = accuracy_score(list_label, list_hyp)\n",
        "    metrics[\"F1\"] = f1_score(list_label, list_hyp, average=\"macro\")\n",
        "    metrics[\"REC\"] = recall_score(list_label, list_hyp, average=\"macro\")\n",
        "    metrics[\"PRE\"] = precision_score(list_label, list_hyp, average=\"macro\")\n",
        "    return metrics"
      ]
    },
    {
      "cell_type": "code",
      "execution_count": 20,
      "metadata": {
        "id": "bbmXnpClDpqB"
      },
      "outputs": [],
      "source": [
        "optimizer = optim.Adam(\n",
        "    model.parameters(),\n",
        "    lr=3e-6,\n",
        "    weight_decay=0.3,\n",
        ")\n",
        "scheduler = torch.optim.lr_scheduler.ReduceLROnPlateau(optimizer, mode='min', factor=0.1, patience=3, threshold=0.0001, threshold_mode='abs')"
      ]
    },
    {
      "cell_type": "code",
      "execution_count": 21,
      "metadata": {
        "colab": {
          "base_uri": "https://localhost:8080/"
        },
        "id": "4v6C5cWLDpqB",
        "outputId": "02213564-3eda-4a71-e806-7c8d2405016a"
      },
      "outputs": [
        {
          "output_type": "stream",
          "name": "stderr",
          "text": [
            "(Epoch 1) TRAIN LOSS:1.0865 LR:0.000003: 100%|██████████| 150/150 [00:27<00:00,  5.42it/s]\n"
          ]
        },
        {
          "output_type": "stream",
          "name": "stdout",
          "text": [
            "(Epoch 1) TRAIN LOSS:1.0865 ACC:0.39 F1:0.35 REC:0.39 PRE:0.49 LR:0.000003\n"
          ]
        },
        {
          "output_type": "stream",
          "name": "stderr",
          "text": [
            "VALID LOSS:1.0175 ACC:0.39 F1:0.35 REC:0.39 PRE:0.49: 100%|██████████| 38/38 [00:02<00:00, 17.15it/s]\n"
          ]
        },
        {
          "output_type": "stream",
          "name": "stdout",
          "text": [
            "(Epoch 1) VALID LOSS:1.0175 ACC:0.50 F1:0.49 REC:0.50 PRE:0.54\n"
          ]
        },
        {
          "output_type": "stream",
          "name": "stderr",
          "text": [
            "(Epoch 2) TRAIN LOSS:0.9533 LR:0.000003: 100%|██████████| 150/150 [00:23<00:00,  6.42it/s]\n"
          ]
        },
        {
          "output_type": "stream",
          "name": "stdout",
          "text": [
            "(Epoch 2) TRAIN LOSS:0.9533 ACC:0.56 F1:0.56 REC:0.56 PRE:0.58 LR:0.000003\n"
          ]
        },
        {
          "output_type": "stream",
          "name": "stderr",
          "text": [
            "VALID LOSS:0.8809 ACC:0.56 F1:0.56 REC:0.56 PRE:0.58: 100%|██████████| 38/38 [00:01<00:00, 22.01it/s]\n"
          ]
        },
        {
          "output_type": "stream",
          "name": "stdout",
          "text": [
            "(Epoch 2) VALID LOSS:0.8809 ACC:0.65 F1:0.65 REC:0.65 PRE:0.67\n"
          ]
        },
        {
          "output_type": "stream",
          "name": "stderr",
          "text": [
            "(Epoch 3) TRAIN LOSS:0.8306 LR:0.000003: 100%|██████████| 150/150 [00:23<00:00,  6.43it/s]\n"
          ]
        },
        {
          "output_type": "stream",
          "name": "stdout",
          "text": [
            "(Epoch 3) TRAIN LOSS:0.8306 ACC:0.64 F1:0.64 REC:0.64 PRE:0.64 LR:0.000003\n"
          ]
        },
        {
          "output_type": "stream",
          "name": "stderr",
          "text": [
            "VALID LOSS:0.7848 ACC:0.64 F1:0.64 REC:0.64 PRE:0.64: 100%|██████████| 38/38 [00:01<00:00, 21.66it/s]\n"
          ]
        },
        {
          "output_type": "stream",
          "name": "stdout",
          "text": [
            "(Epoch 3) VALID LOSS:0.7848 ACC:0.68 F1:0.68 REC:0.68 PRE:0.68\n"
          ]
        },
        {
          "output_type": "stream",
          "name": "stderr",
          "text": [
            "(Epoch 4) TRAIN LOSS:0.7529 LR:0.000003: 100%|██████████| 150/150 [00:23<00:00,  6.37it/s]\n"
          ]
        },
        {
          "output_type": "stream",
          "name": "stdout",
          "text": [
            "(Epoch 4) TRAIN LOSS:0.7529 ACC:0.69 F1:0.69 REC:0.69 PRE:0.69 LR:0.000003\n"
          ]
        },
        {
          "output_type": "stream",
          "name": "stderr",
          "text": [
            "VALID LOSS:0.7323 ACC:0.69 F1:0.69 REC:0.69 PRE:0.69: 100%|██████████| 38/38 [00:01<00:00, 21.43it/s]\n"
          ]
        },
        {
          "output_type": "stream",
          "name": "stdout",
          "text": [
            "(Epoch 4) VALID LOSS:0.7323 ACC:0.72 F1:0.72 REC:0.72 PRE:0.72\n"
          ]
        },
        {
          "output_type": "stream",
          "name": "stderr",
          "text": [
            "(Epoch 5) TRAIN LOSS:0.7066 LR:0.000003: 100%|██████████| 150/150 [00:24<00:00,  6.15it/s]\n"
          ]
        },
        {
          "output_type": "stream",
          "name": "stdout",
          "text": [
            "(Epoch 5) TRAIN LOSS:0.7066 ACC:0.72 F1:0.72 REC:0.72 PRE:0.72 LR:0.000003\n"
          ]
        },
        {
          "output_type": "stream",
          "name": "stderr",
          "text": [
            "VALID LOSS:0.6966 ACC:0.72 F1:0.72 REC:0.72 PRE:0.72: 100%|██████████| 38/38 [00:01<00:00, 21.18it/s]\n"
          ]
        },
        {
          "output_type": "stream",
          "name": "stdout",
          "text": [
            "(Epoch 5) VALID LOSS:0.6966 ACC:0.73 F1:0.73 REC:0.73 PRE:0.73\n"
          ]
        },
        {
          "output_type": "stream",
          "name": "stderr",
          "text": [
            "(Epoch 6) TRAIN LOSS:0.6702 LR:0.000003: 100%|██████████| 150/150 [00:24<00:00,  6.01it/s]\n"
          ]
        },
        {
          "output_type": "stream",
          "name": "stdout",
          "text": [
            "(Epoch 6) TRAIN LOSS:0.6702 ACC:0.74 F1:0.74 REC:0.74 PRE:0.74 LR:0.000003\n"
          ]
        },
        {
          "output_type": "stream",
          "name": "stderr",
          "text": [
            "VALID LOSS:0.6625 ACC:0.74 F1:0.74 REC:0.74 PRE:0.74: 100%|██████████| 38/38 [00:02<00:00, 18.17it/s]\n"
          ]
        },
        {
          "output_type": "stream",
          "name": "stdout",
          "text": [
            "(Epoch 6) VALID LOSS:0.6625 ACC:0.73 F1:0.73 REC:0.73 PRE:0.73\n"
          ]
        },
        {
          "output_type": "stream",
          "name": "stderr",
          "text": [
            "(Epoch 7) TRAIN LOSS:0.6336 LR:0.000003: 100%|██████████| 150/150 [00:24<00:00,  6.12it/s]\n"
          ]
        },
        {
          "output_type": "stream",
          "name": "stdout",
          "text": [
            "(Epoch 7) TRAIN LOSS:0.6336 ACC:0.76 F1:0.76 REC:0.76 PRE:0.76 LR:0.000003\n"
          ]
        },
        {
          "output_type": "stream",
          "name": "stderr",
          "text": [
            "VALID LOSS:0.6348 ACC:0.76 F1:0.76 REC:0.76 PRE:0.76: 100%|██████████| 38/38 [00:01<00:00, 20.69it/s]\n"
          ]
        },
        {
          "output_type": "stream",
          "name": "stdout",
          "text": [
            "(Epoch 7) VALID LOSS:0.6348 ACC:0.75 F1:0.75 REC:0.75 PRE:0.76\n"
          ]
        },
        {
          "output_type": "stream",
          "name": "stderr",
          "text": [
            "(Epoch 8) TRAIN LOSS:0.6082 LR:0.000003: 100%|██████████| 150/150 [00:25<00:00,  5.79it/s]\n"
          ]
        },
        {
          "output_type": "stream",
          "name": "stdout",
          "text": [
            "(Epoch 8) TRAIN LOSS:0.6082 ACC:0.77 F1:0.77 REC:0.77 PRE:0.77 LR:0.000003\n"
          ]
        },
        {
          "output_type": "stream",
          "name": "stderr",
          "text": [
            "VALID LOSS:0.6132 ACC:0.77 F1:0.77 REC:0.77 PRE:0.77: 100%|██████████| 38/38 [00:02<00:00, 16.22it/s]\n"
          ]
        },
        {
          "output_type": "stream",
          "name": "stdout",
          "text": [
            "(Epoch 8) VALID LOSS:0.6132 ACC:0.77 F1:0.77 REC:0.77 PRE:0.78\n"
          ]
        },
        {
          "output_type": "stream",
          "name": "stderr",
          "text": [
            "(Epoch 9) TRAIN LOSS:0.5777 LR:0.000003: 100%|██████████| 150/150 [00:24<00:00,  6.05it/s]\n"
          ]
        },
        {
          "output_type": "stream",
          "name": "stdout",
          "text": [
            "(Epoch 9) TRAIN LOSS:0.5777 ACC:0.79 F1:0.79 REC:0.79 PRE:0.79 LR:0.000003\n"
          ]
        },
        {
          "output_type": "stream",
          "name": "stderr",
          "text": [
            "VALID LOSS:0.5827 ACC:0.79 F1:0.79 REC:0.79 PRE:0.79: 100%|██████████| 38/38 [00:01<00:00, 21.10it/s]\n"
          ]
        },
        {
          "output_type": "stream",
          "name": "stdout",
          "text": [
            "(Epoch 9) VALID LOSS:0.5827 ACC:0.79 F1:0.79 REC:0.79 PRE:0.79\n"
          ]
        },
        {
          "output_type": "stream",
          "name": "stderr",
          "text": [
            "(Epoch 10) TRAIN LOSS:0.5527 LR:0.000003: 100%|██████████| 150/150 [00:24<00:00,  6.17it/s]\n"
          ]
        },
        {
          "output_type": "stream",
          "name": "stdout",
          "text": [
            "(Epoch 10) TRAIN LOSS:0.5527 ACC:0.80 F1:0.80 REC:0.80 PRE:0.80 LR:0.000003\n"
          ]
        },
        {
          "output_type": "stream",
          "name": "stderr",
          "text": [
            "VALID LOSS:0.5590 ACC:0.80 F1:0.80 REC:0.80 PRE:0.80: 100%|██████████| 38/38 [00:01<00:00, 21.25it/s]\n"
          ]
        },
        {
          "output_type": "stream",
          "name": "stdout",
          "text": [
            "(Epoch 10) VALID LOSS:0.5590 ACC:0.80 F1:0.80 REC:0.80 PRE:0.81\n"
          ]
        },
        {
          "output_type": "stream",
          "name": "stderr",
          "text": [
            "(Epoch 11) TRAIN LOSS:0.5287 LR:0.000003: 100%|██████████| 150/150 [00:24<00:00,  6.15it/s]\n"
          ]
        },
        {
          "output_type": "stream",
          "name": "stdout",
          "text": [
            "(Epoch 11) TRAIN LOSS:0.5287 ACC:0.81 F1:0.81 REC:0.81 PRE:0.81 LR:0.000003\n"
          ]
        },
        {
          "output_type": "stream",
          "name": "stderr",
          "text": [
            "VALID LOSS:0.5323 ACC:0.81 F1:0.81 REC:0.81 PRE:0.81: 100%|██████████| 38/38 [00:02<00:00, 18.44it/s]\n"
          ]
        },
        {
          "output_type": "stream",
          "name": "stdout",
          "text": [
            "(Epoch 11) VALID LOSS:0.5323 ACC:0.82 F1:0.83 REC:0.82 PRE:0.83\n"
          ]
        },
        {
          "output_type": "stream",
          "name": "stderr",
          "text": [
            "(Epoch 12) TRAIN LOSS:0.5018 LR:0.000003: 100%|██████████| 150/150 [00:24<00:00,  6.14it/s]\n"
          ]
        },
        {
          "output_type": "stream",
          "name": "stdout",
          "text": [
            "(Epoch 12) TRAIN LOSS:0.5018 ACC:0.83 F1:0.83 REC:0.83 PRE:0.83 LR:0.000003\n"
          ]
        },
        {
          "output_type": "stream",
          "name": "stderr",
          "text": [
            "VALID LOSS:0.5082 ACC:0.83 F1:0.83 REC:0.83 PRE:0.83: 100%|██████████| 38/38 [00:01<00:00, 19.84it/s]\n"
          ]
        },
        {
          "output_type": "stream",
          "name": "stdout",
          "text": [
            "(Epoch 12) VALID LOSS:0.5082 ACC:0.83 F1:0.83 REC:0.83 PRE:0.83\n"
          ]
        },
        {
          "output_type": "stream",
          "name": "stderr",
          "text": [
            "(Epoch 13) TRAIN LOSS:0.4801 LR:0.000003: 100%|██████████| 150/150 [00:24<00:00,  6.16it/s]\n"
          ]
        },
        {
          "output_type": "stream",
          "name": "stdout",
          "text": [
            "(Epoch 13) TRAIN LOSS:0.4801 ACC:0.84 F1:0.84 REC:0.84 PRE:0.84 LR:0.000003\n"
          ]
        },
        {
          "output_type": "stream",
          "name": "stderr",
          "text": [
            "VALID LOSS:0.4910 ACC:0.84 F1:0.84 REC:0.84 PRE:0.84: 100%|██████████| 38/38 [00:01<00:00, 20.76it/s]\n"
          ]
        },
        {
          "output_type": "stream",
          "name": "stdout",
          "text": [
            "(Epoch 13) VALID LOSS:0.4910 ACC:0.83 F1:0.83 REC:0.83 PRE:0.85\n"
          ]
        },
        {
          "output_type": "stream",
          "name": "stderr",
          "text": [
            "(Epoch 14) TRAIN LOSS:0.4621 LR:0.000003: 100%|██████████| 150/150 [00:24<00:00,  6.16it/s]\n"
          ]
        },
        {
          "output_type": "stream",
          "name": "stdout",
          "text": [
            "(Epoch 14) TRAIN LOSS:0.4621 ACC:0.85 F1:0.85 REC:0.85 PRE:0.85 LR:0.000003\n"
          ]
        },
        {
          "output_type": "stream",
          "name": "stderr",
          "text": [
            "VALID LOSS:0.4618 ACC:0.85 F1:0.85 REC:0.85 PRE:0.85: 100%|██████████| 38/38 [00:01<00:00, 20.89it/s]\n"
          ]
        },
        {
          "output_type": "stream",
          "name": "stdout",
          "text": [
            "(Epoch 14) VALID LOSS:0.4618 ACC:0.85 F1:0.85 REC:0.85 PRE:0.86\n"
          ]
        },
        {
          "output_type": "stream",
          "name": "stderr",
          "text": [
            "(Epoch 15) TRAIN LOSS:0.4362 LR:0.000003: 100%|██████████| 150/150 [00:24<00:00,  6.14it/s]\n"
          ]
        },
        {
          "output_type": "stream",
          "name": "stdout",
          "text": [
            "(Epoch 15) TRAIN LOSS:0.4362 ACC:0.87 F1:0.87 REC:0.87 PRE:0.87 LR:0.000003\n"
          ]
        },
        {
          "output_type": "stream",
          "name": "stderr",
          "text": [
            "VALID LOSS:0.4437 ACC:0.87 F1:0.87 REC:0.87 PRE:0.87: 100%|██████████| 38/38 [00:01<00:00, 20.97it/s]\n"
          ]
        },
        {
          "output_type": "stream",
          "name": "stdout",
          "text": [
            "(Epoch 15) VALID LOSS:0.4437 ACC:0.86 F1:0.86 REC:0.86 PRE:0.87\n"
          ]
        },
        {
          "output_type": "stream",
          "name": "stderr",
          "text": [
            "(Epoch 16) TRAIN LOSS:0.4153 LR:0.000003: 100%|██████████| 150/150 [00:24<00:00,  6.17it/s]\n"
          ]
        },
        {
          "output_type": "stream",
          "name": "stdout",
          "text": [
            "(Epoch 16) TRAIN LOSS:0.4153 ACC:0.88 F1:0.88 REC:0.88 PRE:0.88 LR:0.000003\n"
          ]
        },
        {
          "output_type": "stream",
          "name": "stderr",
          "text": [
            "VALID LOSS:0.4183 ACC:0.88 F1:0.88 REC:0.88 PRE:0.88: 100%|██████████| 38/38 [00:01<00:00, 21.14it/s]\n"
          ]
        },
        {
          "output_type": "stream",
          "name": "stdout",
          "text": [
            "(Epoch 16) VALID LOSS:0.4183 ACC:0.87 F1:0.87 REC:0.87 PRE:0.88\n"
          ]
        },
        {
          "output_type": "stream",
          "name": "stderr",
          "text": [
            "(Epoch 17) TRAIN LOSS:0.4011 LR:0.000003: 100%|██████████| 150/150 [00:24<00:00,  6.20it/s]\n"
          ]
        },
        {
          "output_type": "stream",
          "name": "stdout",
          "text": [
            "(Epoch 17) TRAIN LOSS:0.4011 ACC:0.88 F1:0.88 REC:0.88 PRE:0.88 LR:0.000003\n"
          ]
        },
        {
          "output_type": "stream",
          "name": "stderr",
          "text": [
            "VALID LOSS:0.4022 ACC:0.88 F1:0.88 REC:0.88 PRE:0.88: 100%|██████████| 38/38 [00:01<00:00, 20.11it/s]\n"
          ]
        },
        {
          "output_type": "stream",
          "name": "stdout",
          "text": [
            "(Epoch 17) VALID LOSS:0.4022 ACC:0.89 F1:0.89 REC:0.89 PRE:0.89\n"
          ]
        },
        {
          "output_type": "stream",
          "name": "stderr",
          "text": [
            "(Epoch 18) TRAIN LOSS:0.3856 LR:0.000003: 100%|██████████| 150/150 [00:24<00:00,  6.16it/s]\n"
          ]
        },
        {
          "output_type": "stream",
          "name": "stdout",
          "text": [
            "(Epoch 18) TRAIN LOSS:0.3856 ACC:0.89 F1:0.89 REC:0.89 PRE:0.89 LR:0.000003\n"
          ]
        },
        {
          "output_type": "stream",
          "name": "stderr",
          "text": [
            "VALID LOSS:0.3941 ACC:0.89 F1:0.89 REC:0.89 PRE:0.89: 100%|██████████| 38/38 [00:02<00:00, 18.28it/s]\n"
          ]
        },
        {
          "output_type": "stream",
          "name": "stdout",
          "text": [
            "(Epoch 18) VALID LOSS:0.3941 ACC:0.88 F1:0.88 REC:0.88 PRE:0.88\n"
          ]
        },
        {
          "output_type": "stream",
          "name": "stderr",
          "text": [
            "(Epoch 19) TRAIN LOSS:0.3702 LR:0.000003: 100%|██████████| 150/150 [00:24<00:00,  6.09it/s]\n"
          ]
        },
        {
          "output_type": "stream",
          "name": "stdout",
          "text": [
            "(Epoch 19) TRAIN LOSS:0.3702 ACC:0.89 F1:0.89 REC:0.89 PRE:0.89 LR:0.000003\n"
          ]
        },
        {
          "output_type": "stream",
          "name": "stderr",
          "text": [
            "VALID LOSS:0.3726 ACC:0.89 F1:0.89 REC:0.89 PRE:0.89: 100%|██████████| 38/38 [00:01<00:00, 20.79it/s]\n"
          ]
        },
        {
          "output_type": "stream",
          "name": "stdout",
          "text": [
            "(Epoch 19) VALID LOSS:0.3726 ACC:0.89 F1:0.89 REC:0.89 PRE:0.90\n"
          ]
        },
        {
          "output_type": "stream",
          "name": "stderr",
          "text": [
            "(Epoch 20) TRAIN LOSS:0.3602 LR:0.000003: 100%|██████████| 150/150 [00:24<00:00,  6.14it/s]\n"
          ]
        },
        {
          "output_type": "stream",
          "name": "stdout",
          "text": [
            "(Epoch 20) TRAIN LOSS:0.3602 ACC:0.90 F1:0.90 REC:0.90 PRE:0.90 LR:0.000003\n"
          ]
        },
        {
          "output_type": "stream",
          "name": "stderr",
          "text": [
            "VALID LOSS:0.3616 ACC:0.90 F1:0.90 REC:0.90 PRE:0.90: 100%|██████████| 38/38 [00:01<00:00, 21.13it/s]\n"
          ]
        },
        {
          "output_type": "stream",
          "name": "stdout",
          "text": [
            "(Epoch 20) VALID LOSS:0.3616 ACC:0.89 F1:0.89 REC:0.89 PRE:0.90\n"
          ]
        },
        {
          "output_type": "stream",
          "name": "stderr",
          "text": [
            "(Epoch 21) TRAIN LOSS:0.3510 LR:0.000003: 100%|██████████| 150/150 [00:24<00:00,  6.16it/s]\n"
          ]
        },
        {
          "output_type": "stream",
          "name": "stdout",
          "text": [
            "(Epoch 21) TRAIN LOSS:0.3510 ACC:0.90 F1:0.90 REC:0.90 PRE:0.90 LR:0.000003\n"
          ]
        },
        {
          "output_type": "stream",
          "name": "stderr",
          "text": [
            "VALID LOSS:0.3474 ACC:0.90 F1:0.90 REC:0.90 PRE:0.90: 100%|██████████| 38/38 [00:01<00:00, 20.90it/s]\n"
          ]
        },
        {
          "output_type": "stream",
          "name": "stdout",
          "text": [
            "(Epoch 21) VALID LOSS:0.3474 ACC:0.90 F1:0.90 REC:0.90 PRE:0.90\n"
          ]
        },
        {
          "output_type": "stream",
          "name": "stderr",
          "text": [
            "(Epoch 22) TRAIN LOSS:0.3426 LR:0.000003: 100%|██████████| 150/150 [00:24<00:00,  6.14it/s]\n"
          ]
        },
        {
          "output_type": "stream",
          "name": "stdout",
          "text": [
            "(Epoch 22) TRAIN LOSS:0.3426 ACC:0.91 F1:0.91 REC:0.91 PRE:0.91 LR:0.000003\n"
          ]
        },
        {
          "output_type": "stream",
          "name": "stderr",
          "text": [
            "VALID LOSS:0.3527 ACC:0.91 F1:0.91 REC:0.91 PRE:0.91: 100%|██████████| 38/38 [00:01<00:00, 20.96it/s]\n"
          ]
        },
        {
          "output_type": "stream",
          "name": "stdout",
          "text": [
            "(Epoch 22) VALID LOSS:0.3527 ACC:0.90 F1:0.90 REC:0.90 PRE:0.90\n"
          ]
        },
        {
          "output_type": "stream",
          "name": "stderr",
          "text": [
            "(Epoch 23) TRAIN LOSS:0.3328 LR:0.000003: 100%|██████████| 150/150 [00:24<00:00,  6.17it/s]\n"
          ]
        },
        {
          "output_type": "stream",
          "name": "stdout",
          "text": [
            "(Epoch 23) TRAIN LOSS:0.3328 ACC:0.90 F1:0.90 REC:0.90 PRE:0.90 LR:0.000003\n"
          ]
        },
        {
          "output_type": "stream",
          "name": "stderr",
          "text": [
            "VALID LOSS:0.3309 ACC:0.90 F1:0.90 REC:0.90 PRE:0.90: 100%|██████████| 38/38 [00:01<00:00, 20.95it/s]\n"
          ]
        },
        {
          "output_type": "stream",
          "name": "stdout",
          "text": [
            "(Epoch 23) VALID LOSS:0.3309 ACC:0.91 F1:0.91 REC:0.91 PRE:0.91\n"
          ]
        },
        {
          "output_type": "stream",
          "name": "stderr",
          "text": [
            "(Epoch 24) TRAIN LOSS:0.3339 LR:0.000003: 100%|██████████| 150/150 [00:24<00:00,  6.20it/s]\n"
          ]
        },
        {
          "output_type": "stream",
          "name": "stdout",
          "text": [
            "(Epoch 24) TRAIN LOSS:0.3339 ACC:0.90 F1:0.90 REC:0.90 PRE:0.90 LR:0.000003\n"
          ]
        },
        {
          "output_type": "stream",
          "name": "stderr",
          "text": [
            "VALID LOSS:0.3337 ACC:0.90 F1:0.90 REC:0.90 PRE:0.90: 100%|██████████| 38/38 [00:01<00:00, 19.13it/s]\n"
          ]
        },
        {
          "output_type": "stream",
          "name": "stdout",
          "text": [
            "(Epoch 24) VALID LOSS:0.3337 ACC:0.90 F1:0.90 REC:0.90 PRE:0.91\n"
          ]
        },
        {
          "output_type": "stream",
          "name": "stderr",
          "text": [
            "(Epoch 25) TRAIN LOSS:0.3246 LR:0.000003: 100%|██████████| 150/150 [00:24<00:00,  6.10it/s]\n"
          ]
        },
        {
          "output_type": "stream",
          "name": "stdout",
          "text": [
            "(Epoch 25) TRAIN LOSS:0.3246 ACC:0.91 F1:0.91 REC:0.91 PRE:0.91 LR:0.000003\n"
          ]
        },
        {
          "output_type": "stream",
          "name": "stderr",
          "text": [
            "VALID LOSS:0.3177 ACC:0.91 F1:0.91 REC:0.91 PRE:0.91: 100%|██████████| 38/38 [00:01<00:00, 19.80it/s]\n"
          ]
        },
        {
          "output_type": "stream",
          "name": "stdout",
          "text": [
            "(Epoch 25) VALID LOSS:0.3177 ACC:0.91 F1:0.91 REC:0.91 PRE:0.91\n"
          ]
        },
        {
          "output_type": "stream",
          "name": "stderr",
          "text": [
            "(Epoch 26) TRAIN LOSS:0.3215 LR:0.000003: 100%|██████████| 150/150 [00:24<00:00,  6.13it/s]\n"
          ]
        },
        {
          "output_type": "stream",
          "name": "stdout",
          "text": [
            "(Epoch 26) TRAIN LOSS:0.3215 ACC:0.91 F1:0.91 REC:0.91 PRE:0.91 LR:0.000003\n"
          ]
        },
        {
          "output_type": "stream",
          "name": "stderr",
          "text": [
            "VALID LOSS:0.3155 ACC:0.91 F1:0.91 REC:0.91 PRE:0.91: 100%|██████████| 38/38 [00:01<00:00, 20.88it/s]\n"
          ]
        },
        {
          "output_type": "stream",
          "name": "stdout",
          "text": [
            "(Epoch 26) VALID LOSS:0.3155 ACC:0.90 F1:0.90 REC:0.90 PRE:0.91\n"
          ]
        },
        {
          "output_type": "stream",
          "name": "stderr",
          "text": [
            "(Epoch 27) TRAIN LOSS:0.3185 LR:0.000003: 100%|██████████| 150/150 [00:24<00:00,  6.11it/s]\n"
          ]
        },
        {
          "output_type": "stream",
          "name": "stdout",
          "text": [
            "(Epoch 27) TRAIN LOSS:0.3185 ACC:0.91 F1:0.91 REC:0.91 PRE:0.91 LR:0.000003\n"
          ]
        },
        {
          "output_type": "stream",
          "name": "stderr",
          "text": [
            "VALID LOSS:0.3349 ACC:0.91 F1:0.91 REC:0.91 PRE:0.91: 100%|██████████| 38/38 [00:01<00:00, 20.97it/s]\n"
          ]
        },
        {
          "output_type": "stream",
          "name": "stdout",
          "text": [
            "(Epoch 27) VALID LOSS:0.3349 ACC:0.90 F1:0.90 REC:0.90 PRE:0.90\n"
          ]
        },
        {
          "output_type": "stream",
          "name": "stderr",
          "text": [
            "(Epoch 28) TRAIN LOSS:0.3147 LR:0.000003: 100%|██████████| 150/150 [00:24<00:00,  6.15it/s]\n"
          ]
        },
        {
          "output_type": "stream",
          "name": "stdout",
          "text": [
            "(Epoch 28) TRAIN LOSS:0.3147 ACC:0.91 F1:0.91 REC:0.91 PRE:0.91 LR:0.000003\n"
          ]
        },
        {
          "output_type": "stream",
          "name": "stderr",
          "text": [
            "VALID LOSS:0.3168 ACC:0.91 F1:0.91 REC:0.91 PRE:0.91: 100%|██████████| 38/38 [00:01<00:00, 20.98it/s]\n"
          ]
        },
        {
          "output_type": "stream",
          "name": "stdout",
          "text": [
            "(Epoch 28) VALID LOSS:0.3168 ACC:0.91 F1:0.91 REC:0.91 PRE:0.91\n"
          ]
        },
        {
          "output_type": "stream",
          "name": "stderr",
          "text": [
            "(Epoch 29) TRAIN LOSS:0.3167 LR:0.000003: 100%|██████████| 150/150 [00:24<00:00,  6.17it/s]\n"
          ]
        },
        {
          "output_type": "stream",
          "name": "stdout",
          "text": [
            "(Epoch 29) TRAIN LOSS:0.3167 ACC:0.91 F1:0.91 REC:0.91 PRE:0.91 LR:0.000003\n"
          ]
        },
        {
          "output_type": "stream",
          "name": "stderr",
          "text": [
            "VALID LOSS:0.3074 ACC:0.91 F1:0.91 REC:0.91 PRE:0.91: 100%|██████████| 38/38 [00:01<00:00, 20.69it/s]\n"
          ]
        },
        {
          "output_type": "stream",
          "name": "stdout",
          "text": [
            "(Epoch 29) VALID LOSS:0.3074 ACC:0.91 F1:0.91 REC:0.91 PRE:0.91\n"
          ]
        },
        {
          "output_type": "stream",
          "name": "stderr",
          "text": [
            "(Epoch 30) TRAIN LOSS:0.3104 LR:0.000003: 100%|██████████| 150/150 [00:24<00:00,  6.13it/s]\n"
          ]
        },
        {
          "output_type": "stream",
          "name": "stdout",
          "text": [
            "(Epoch 30) TRAIN LOSS:0.3104 ACC:0.91 F1:0.91 REC:0.91 PRE:0.91 LR:0.000003\n"
          ]
        },
        {
          "output_type": "stream",
          "name": "stderr",
          "text": [
            "VALID LOSS:0.3231 ACC:0.91 F1:0.91 REC:0.91 PRE:0.91: 100%|██████████| 38/38 [00:02<00:00, 18.96it/s]\n"
          ]
        },
        {
          "output_type": "stream",
          "name": "stdout",
          "text": [
            "(Epoch 30) VALID LOSS:0.3231 ACC:0.90 F1:0.90 REC:0.90 PRE:0.90\n"
          ]
        },
        {
          "output_type": "stream",
          "name": "stderr",
          "text": [
            "(Epoch 31) TRAIN LOSS:0.3158 LR:0.000003: 100%|██████████| 150/150 [00:24<00:00,  6.09it/s]\n"
          ]
        },
        {
          "output_type": "stream",
          "name": "stdout",
          "text": [
            "(Epoch 31) TRAIN LOSS:0.3158 ACC:0.91 F1:0.91 REC:0.91 PRE:0.91 LR:0.000003\n"
          ]
        },
        {
          "output_type": "stream",
          "name": "stderr",
          "text": [
            "VALID LOSS:0.3038 ACC:0.91 F1:0.91 REC:0.91 PRE:0.91: 100%|██████████| 38/38 [00:01<00:00, 19.40it/s]\n"
          ]
        },
        {
          "output_type": "stream",
          "name": "stdout",
          "text": [
            "(Epoch 31) VALID LOSS:0.3038 ACC:0.91 F1:0.91 REC:0.91 PRE:0.91\n"
          ]
        },
        {
          "output_type": "stream",
          "name": "stderr",
          "text": [
            "(Epoch 32) TRAIN LOSS:0.3155 LR:0.000003: 100%|██████████| 150/150 [00:24<00:00,  6.11it/s]\n"
          ]
        },
        {
          "output_type": "stream",
          "name": "stdout",
          "text": [
            "(Epoch 32) TRAIN LOSS:0.3155 ACC:0.91 F1:0.91 REC:0.91 PRE:0.91 LR:0.000003\n"
          ]
        },
        {
          "output_type": "stream",
          "name": "stderr",
          "text": [
            "VALID LOSS:0.3068 ACC:0.91 F1:0.91 REC:0.91 PRE:0.91: 100%|██████████| 38/38 [00:01<00:00, 20.87it/s]\n"
          ]
        },
        {
          "output_type": "stream",
          "name": "stdout",
          "text": [
            "(Epoch 32) VALID LOSS:0.3068 ACC:0.91 F1:0.91 REC:0.91 PRE:0.91\n"
          ]
        },
        {
          "output_type": "stream",
          "name": "stderr",
          "text": [
            "(Epoch 33) TRAIN LOSS:0.3170 LR:0.000003: 100%|██████████| 150/150 [00:24<00:00,  6.12it/s]\n"
          ]
        },
        {
          "output_type": "stream",
          "name": "stdout",
          "text": [
            "(Epoch 33) TRAIN LOSS:0.3170 ACC:0.91 F1:0.91 REC:0.91 PRE:0.91 LR:0.000003\n"
          ]
        },
        {
          "output_type": "stream",
          "name": "stderr",
          "text": [
            "VALID LOSS:0.3040 ACC:0.91 F1:0.91 REC:0.91 PRE:0.91: 100%|██████████| 38/38 [00:01<00:00, 20.84it/s]\n"
          ]
        },
        {
          "output_type": "stream",
          "name": "stdout",
          "text": [
            "(Epoch 33) VALID LOSS:0.3040 ACC:0.91 F1:0.91 REC:0.91 PRE:0.91\n"
          ]
        },
        {
          "output_type": "stream",
          "name": "stderr",
          "text": [
            "(Epoch 34) TRAIN LOSS:0.3134 LR:0.000003: 100%|██████████| 150/150 [00:24<00:00,  6.13it/s]\n"
          ]
        },
        {
          "output_type": "stream",
          "name": "stdout",
          "text": [
            "(Epoch 34) TRAIN LOSS:0.3134 ACC:0.91 F1:0.91 REC:0.91 PRE:0.91 LR:0.000003\n"
          ]
        },
        {
          "output_type": "stream",
          "name": "stderr",
          "text": [
            "VALID LOSS:0.3093 ACC:0.91 F1:0.91 REC:0.91 PRE:0.91: 100%|██████████| 38/38 [00:01<00:00, 20.93it/s]\n"
          ]
        },
        {
          "output_type": "stream",
          "name": "stdout",
          "text": [
            "(Epoch 34) VALID LOSS:0.3093 ACC:0.90 F1:0.90 REC:0.90 PRE:0.90\n"
          ]
        },
        {
          "output_type": "stream",
          "name": "stderr",
          "text": [
            "(Epoch 35) TRAIN LOSS:0.3162 LR:0.000003: 100%|██████████| 150/150 [00:24<00:00,  6.24it/s]\n"
          ]
        },
        {
          "output_type": "stream",
          "name": "stdout",
          "text": [
            "(Epoch 35) TRAIN LOSS:0.3162 ACC:0.91 F1:0.91 REC:0.91 PRE:0.91 LR:0.000003\n"
          ]
        },
        {
          "output_type": "stream",
          "name": "stderr",
          "text": [
            "VALID LOSS:0.3113 ACC:0.91 F1:0.91 REC:0.91 PRE:0.91: 100%|██████████| 38/38 [00:01<00:00, 20.93it/s]\n"
          ]
        },
        {
          "output_type": "stream",
          "name": "stdout",
          "text": [
            "(Epoch 35) VALID LOSS:0.3113 ACC:0.90 F1:0.90 REC:0.90 PRE:0.90\n"
          ]
        },
        {
          "output_type": "stream",
          "name": "stderr",
          "text": [
            "(Epoch 36) TRAIN LOSS:0.3171 LR:0.000003: 100%|██████████| 150/150 [00:24<00:00,  6.14it/s]\n"
          ]
        },
        {
          "output_type": "stream",
          "name": "stdout",
          "text": [
            "(Epoch 36) TRAIN LOSS:0.3171 ACC:0.91 F1:0.91 REC:0.91 PRE:0.91 LR:0.000003\n"
          ]
        },
        {
          "output_type": "stream",
          "name": "stderr",
          "text": [
            "VALID LOSS:0.3370 ACC:0.91 F1:0.91 REC:0.91 PRE:0.91: 100%|██████████| 38/38 [00:01<00:00, 20.12it/s]\n"
          ]
        },
        {
          "output_type": "stream",
          "name": "stdout",
          "text": [
            "(Epoch 36) VALID LOSS:0.3370 ACC:0.89 F1:0.89 REC:0.89 PRE:0.90\n"
          ]
        },
        {
          "output_type": "stream",
          "name": "stderr",
          "text": [
            "(Epoch 37) TRAIN LOSS:0.3187 LR:0.000003: 100%|██████████| 150/150 [00:24<00:00,  6.12it/s]\n"
          ]
        },
        {
          "output_type": "stream",
          "name": "stdout",
          "text": [
            "(Epoch 37) TRAIN LOSS:0.3187 ACC:0.91 F1:0.91 REC:0.91 PRE:0.91 LR:0.000003\n"
          ]
        },
        {
          "output_type": "stream",
          "name": "stderr",
          "text": [
            "VALID LOSS:0.3132 ACC:0.91 F1:0.91 REC:0.91 PRE:0.91: 100%|██████████| 38/38 [00:02<00:00, 18.93it/s]\n"
          ]
        },
        {
          "output_type": "stream",
          "name": "stdout",
          "text": [
            "(Epoch 37) VALID LOSS:0.3132 ACC:0.90 F1:0.90 REC:0.90 PRE:0.90\n"
          ]
        },
        {
          "output_type": "stream",
          "name": "stderr",
          "text": [
            "(Epoch 38) TRAIN LOSS:0.3178 LR:0.000003: 100%|██████████| 150/150 [00:24<00:00,  6.13it/s]\n"
          ]
        },
        {
          "output_type": "stream",
          "name": "stdout",
          "text": [
            "(Epoch 38) TRAIN LOSS:0.3178 ACC:0.91 F1:0.91 REC:0.91 PRE:0.91 LR:0.000003\n"
          ]
        },
        {
          "output_type": "stream",
          "name": "stderr",
          "text": [
            "VALID LOSS:0.3027 ACC:0.91 F1:0.91 REC:0.91 PRE:0.91: 100%|██████████| 38/38 [00:01<00:00, 20.92it/s]\n"
          ]
        },
        {
          "output_type": "stream",
          "name": "stdout",
          "text": [
            "(Epoch 38) VALID LOSS:0.3027 ACC:0.91 F1:0.91 REC:0.91 PRE:0.91\n"
          ]
        },
        {
          "output_type": "stream",
          "name": "stderr",
          "text": [
            "(Epoch 39) TRAIN LOSS:0.3153 LR:0.000003: 100%|██████████| 150/150 [00:24<00:00,  6.14it/s]\n"
          ]
        },
        {
          "output_type": "stream",
          "name": "stdout",
          "text": [
            "(Epoch 39) TRAIN LOSS:0.3153 ACC:0.91 F1:0.91 REC:0.91 PRE:0.91 LR:0.000003\n"
          ]
        },
        {
          "output_type": "stream",
          "name": "stderr",
          "text": [
            "VALID LOSS:0.3147 ACC:0.91 F1:0.91 REC:0.91 PRE:0.91: 100%|██████████| 38/38 [00:01<00:00, 20.86it/s]\n"
          ]
        },
        {
          "output_type": "stream",
          "name": "stdout",
          "text": [
            "(Epoch 39) VALID LOSS:0.3147 ACC:0.90 F1:0.90 REC:0.90 PRE:0.90\n"
          ]
        },
        {
          "output_type": "stream",
          "name": "stderr",
          "text": [
            "(Epoch 40) TRAIN LOSS:0.3171 LR:0.000003: 100%|██████████| 150/150 [00:24<00:00,  6.16it/s]\n"
          ]
        },
        {
          "output_type": "stream",
          "name": "stdout",
          "text": [
            "(Epoch 40) TRAIN LOSS:0.3171 ACC:0.91 F1:0.91 REC:0.91 PRE:0.91 LR:0.000003\n"
          ]
        },
        {
          "output_type": "stream",
          "name": "stderr",
          "text": [
            "VALID LOSS:0.3150 ACC:0.91 F1:0.91 REC:0.91 PRE:0.91: 100%|██████████| 38/38 [00:01<00:00, 20.74it/s]\n"
          ]
        },
        {
          "output_type": "stream",
          "name": "stdout",
          "text": [
            "(Epoch 40) VALID LOSS:0.3150 ACC:0.90 F1:0.90 REC:0.90 PRE:0.90\n"
          ]
        },
        {
          "output_type": "stream",
          "name": "stderr",
          "text": [
            "(Epoch 41) TRAIN LOSS:0.3178 LR:0.000003: 100%|██████████| 150/150 [00:24<00:00,  6.11it/s]\n"
          ]
        },
        {
          "output_type": "stream",
          "name": "stdout",
          "text": [
            "(Epoch 41) TRAIN LOSS:0.3178 ACC:0.90 F1:0.90 REC:0.90 PRE:0.91 LR:0.000003\n"
          ]
        },
        {
          "output_type": "stream",
          "name": "stderr",
          "text": [
            "VALID LOSS:0.3055 ACC:0.90 F1:0.90 REC:0.90 PRE:0.91: 100%|██████████| 38/38 [00:01<00:00, 20.81it/s]\n"
          ]
        },
        {
          "output_type": "stream",
          "name": "stdout",
          "text": [
            "(Epoch 41) VALID LOSS:0.3055 ACC:0.90 F1:0.90 REC:0.90 PRE:0.90\n"
          ]
        },
        {
          "output_type": "stream",
          "name": "stderr",
          "text": [
            "(Epoch 42) TRAIN LOSS:0.3175 LR:0.000003: 100%|██████████| 150/150 [00:24<00:00,  6.13it/s]\n"
          ]
        },
        {
          "output_type": "stream",
          "name": "stdout",
          "text": [
            "(Epoch 42) TRAIN LOSS:0.3175 ACC:0.91 F1:0.91 REC:0.91 PRE:0.91 LR:0.000003\n"
          ]
        },
        {
          "output_type": "stream",
          "name": "stderr",
          "text": [
            "VALID LOSS:0.3266 ACC:0.91 F1:0.91 REC:0.91 PRE:0.91: 100%|██████████| 38/38 [00:02<00:00, 18.75it/s]\n"
          ]
        },
        {
          "output_type": "stream",
          "name": "stdout",
          "text": [
            "(Epoch 42) VALID LOSS:0.3266 ACC:0.90 F1:0.90 REC:0.90 PRE:0.90\n"
          ]
        },
        {
          "output_type": "stream",
          "name": "stderr",
          "text": [
            "(Epoch 43) TRAIN LOSS:0.3211 LR:0.000003: 100%|██████████| 150/150 [00:24<00:00,  6.12it/s]\n"
          ]
        },
        {
          "output_type": "stream",
          "name": "stdout",
          "text": [
            "(Epoch 43) TRAIN LOSS:0.3211 ACC:0.90 F1:0.90 REC:0.90 PRE:0.91 LR:0.000003\n"
          ]
        },
        {
          "output_type": "stream",
          "name": "stderr",
          "text": [
            "VALID LOSS:0.3067 ACC:0.90 F1:0.90 REC:0.90 PRE:0.91: 100%|██████████| 38/38 [00:01<00:00, 19.88it/s]\n"
          ]
        },
        {
          "output_type": "stream",
          "name": "stdout",
          "text": [
            "(Epoch 43) VALID LOSS:0.3067 ACC:0.89 F1:0.89 REC:0.89 PRE:0.90\n"
          ]
        },
        {
          "output_type": "stream",
          "name": "stderr",
          "text": [
            "(Epoch 44) TRAIN LOSS:0.3181 LR:0.000003: 100%|██████████| 150/150 [00:24<00:00,  6.10it/s]\n"
          ]
        },
        {
          "output_type": "stream",
          "name": "stdout",
          "text": [
            "(Epoch 44) TRAIN LOSS:0.3181 ACC:0.91 F1:0.91 REC:0.91 PRE:0.91 LR:0.000003\n"
          ]
        },
        {
          "output_type": "stream",
          "name": "stderr",
          "text": [
            "VALID LOSS:0.3126 ACC:0.91 F1:0.91 REC:0.91 PRE:0.91: 100%|██████████| 38/38 [00:01<00:00, 20.80it/s]\n"
          ]
        },
        {
          "output_type": "stream",
          "name": "stdout",
          "text": [
            "(Epoch 44) VALID LOSS:0.3126 ACC:0.90 F1:0.90 REC:0.90 PRE:0.90\n"
          ]
        },
        {
          "output_type": "stream",
          "name": "stderr",
          "text": [
            "(Epoch 45) TRAIN LOSS:0.3231 LR:0.000003: 100%|██████████| 150/150 [00:24<00:00,  6.12it/s]\n"
          ]
        },
        {
          "output_type": "stream",
          "name": "stdout",
          "text": [
            "(Epoch 45) TRAIN LOSS:0.3231 ACC:0.91 F1:0.91 REC:0.91 PRE:0.91 LR:0.000003\n"
          ]
        },
        {
          "output_type": "stream",
          "name": "stderr",
          "text": [
            "VALID LOSS:0.3017 ACC:0.91 F1:0.91 REC:0.91 PRE:0.91: 100%|██████████| 38/38 [00:01<00:00, 20.98it/s]\n"
          ]
        },
        {
          "output_type": "stream",
          "name": "stdout",
          "text": [
            "(Epoch 45) VALID LOSS:0.3017 ACC:0.91 F1:0.91 REC:0.91 PRE:0.91\n"
          ]
        },
        {
          "output_type": "stream",
          "name": "stderr",
          "text": [
            "(Epoch 46) TRAIN LOSS:0.3155 LR:0.000003: 100%|██████████| 150/150 [00:24<00:00,  6.12it/s]\n"
          ]
        },
        {
          "output_type": "stream",
          "name": "stdout",
          "text": [
            "(Epoch 46) TRAIN LOSS:0.3155 ACC:0.91 F1:0.91 REC:0.91 PRE:0.91 LR:0.000003\n"
          ]
        },
        {
          "output_type": "stream",
          "name": "stderr",
          "text": [
            "VALID LOSS:0.3379 ACC:0.91 F1:0.91 REC:0.91 PRE:0.91: 100%|██████████| 38/38 [00:01<00:00, 20.64it/s]\n"
          ]
        },
        {
          "output_type": "stream",
          "name": "stdout",
          "text": [
            "(Epoch 46) VALID LOSS:0.3379 ACC:0.87 F1:0.87 REC:0.87 PRE:0.88\n"
          ]
        },
        {
          "output_type": "stream",
          "name": "stderr",
          "text": [
            "(Epoch 47) TRAIN LOSS:0.3265 LR:0.000003: 100%|██████████| 150/150 [00:24<00:00,  6.10it/s]\n"
          ]
        },
        {
          "output_type": "stream",
          "name": "stdout",
          "text": [
            "(Epoch 47) TRAIN LOSS:0.3265 ACC:0.90 F1:0.90 REC:0.90 PRE:0.90 LR:0.000003\n"
          ]
        },
        {
          "output_type": "stream",
          "name": "stderr",
          "text": [
            "VALID LOSS:0.3123 ACC:0.90 F1:0.90 REC:0.90 PRE:0.90: 100%|██████████| 38/38 [00:01<00:00, 20.73it/s]\n"
          ]
        },
        {
          "output_type": "stream",
          "name": "stdout",
          "text": [
            "(Epoch 47) VALID LOSS:0.3123 ACC:0.89 F1:0.89 REC:0.89 PRE:0.90\n"
          ]
        },
        {
          "output_type": "stream",
          "name": "stderr",
          "text": [
            "(Epoch 48) TRAIN LOSS:0.3232 LR:0.000003: 100%|██████████| 150/150 [00:24<00:00,  6.09it/s]\n"
          ]
        },
        {
          "output_type": "stream",
          "name": "stdout",
          "text": [
            "(Epoch 48) TRAIN LOSS:0.3232 ACC:0.90 F1:0.90 REC:0.90 PRE:0.91 LR:0.000003\n"
          ]
        },
        {
          "output_type": "stream",
          "name": "stderr",
          "text": [
            "VALID LOSS:0.3008 ACC:0.90 F1:0.90 REC:0.90 PRE:0.91: 100%|██████████| 38/38 [00:01<00:00, 19.28it/s]\n"
          ]
        },
        {
          "output_type": "stream",
          "name": "stdout",
          "text": [
            "(Epoch 48) VALID LOSS:0.3008 ACC:0.91 F1:0.91 REC:0.91 PRE:0.91\n"
          ]
        },
        {
          "output_type": "stream",
          "name": "stderr",
          "text": [
            "(Epoch 49) TRAIN LOSS:0.3183 LR:0.000003: 100%|██████████| 150/150 [00:24<00:00,  6.10it/s]\n"
          ]
        },
        {
          "output_type": "stream",
          "name": "stdout",
          "text": [
            "(Epoch 49) TRAIN LOSS:0.3183 ACC:0.91 F1:0.91 REC:0.91 PRE:0.91 LR:0.000003\n"
          ]
        },
        {
          "output_type": "stream",
          "name": "stderr",
          "text": [
            "VALID LOSS:0.3035 ACC:0.91 F1:0.91 REC:0.91 PRE:0.91: 100%|██████████| 38/38 [00:01<00:00, 19.52it/s]\n"
          ]
        },
        {
          "output_type": "stream",
          "name": "stdout",
          "text": [
            "(Epoch 49) VALID LOSS:0.3035 ACC:0.90 F1:0.90 REC:0.90 PRE:0.90\n"
          ]
        },
        {
          "output_type": "stream",
          "name": "stderr",
          "text": [
            "(Epoch 50) TRAIN LOSS:0.3225 LR:0.000003: 100%|██████████| 150/150 [00:24<00:00,  6.13it/s]\n"
          ]
        },
        {
          "output_type": "stream",
          "name": "stdout",
          "text": [
            "(Epoch 50) TRAIN LOSS:0.3225 ACC:0.91 F1:0.91 REC:0.91 PRE:0.91 LR:0.000003\n"
          ]
        },
        {
          "output_type": "stream",
          "name": "stderr",
          "text": [
            "VALID LOSS:0.3017 ACC:0.91 F1:0.91 REC:0.91 PRE:0.91: 100%|██████████| 38/38 [00:01<00:00, 20.76it/s]\n"
          ]
        },
        {
          "output_type": "stream",
          "name": "stdout",
          "text": [
            "(Epoch 50) VALID LOSS:0.3017 ACC:0.91 F1:0.91 REC:0.91 PRE:0.91\n"
          ]
        },
        {
          "output_type": "stream",
          "name": "stderr",
          "text": [
            "(Epoch 51) TRAIN LOSS:0.3249 LR:0.000003: 100%|██████████| 150/150 [00:24<00:00,  6.11it/s]\n"
          ]
        },
        {
          "output_type": "stream",
          "name": "stdout",
          "text": [
            "(Epoch 51) TRAIN LOSS:0.3249 ACC:0.90 F1:0.90 REC:0.90 PRE:0.90 LR:0.000003\n"
          ]
        },
        {
          "output_type": "stream",
          "name": "stderr",
          "text": [
            "VALID LOSS:0.3212 ACC:0.90 F1:0.90 REC:0.90 PRE:0.90: 100%|██████████| 38/38 [00:01<00:00, 21.11it/s]\n"
          ]
        },
        {
          "output_type": "stream",
          "name": "stdout",
          "text": [
            "(Epoch 51) VALID LOSS:0.3212 ACC:0.88 F1:0.88 REC:0.88 PRE:0.89\n"
          ]
        },
        {
          "output_type": "stream",
          "name": "stderr",
          "text": [
            "(Epoch 52) TRAIN LOSS:0.3313 LR:0.000003: 100%|██████████| 150/150 [00:24<00:00,  6.11it/s]\n"
          ]
        },
        {
          "output_type": "stream",
          "name": "stdout",
          "text": [
            "(Epoch 52) TRAIN LOSS:0.3313 ACC:0.90 F1:0.90 REC:0.90 PRE:0.90 LR:0.000003\n"
          ]
        },
        {
          "output_type": "stream",
          "name": "stderr",
          "text": [
            "VALID LOSS:0.3026 ACC:0.90 F1:0.90 REC:0.90 PRE:0.90: 100%|██████████| 38/38 [00:01<00:00, 20.50it/s]\n"
          ]
        },
        {
          "output_type": "stream",
          "name": "stdout",
          "text": [
            "(Epoch 52) VALID LOSS:0.3026 ACC:0.91 F1:0.91 REC:0.91 PRE:0.91\n"
          ]
        },
        {
          "output_type": "stream",
          "name": "stderr",
          "text": [
            "(Epoch 53) TRAIN LOSS:0.3222 LR:0.000003: 100%|██████████| 150/150 [00:24<00:00,  6.08it/s]\n"
          ]
        },
        {
          "output_type": "stream",
          "name": "stdout",
          "text": [
            "(Epoch 53) TRAIN LOSS:0.3222 ACC:0.91 F1:0.91 REC:0.91 PRE:0.91 LR:0.000003\n"
          ]
        },
        {
          "output_type": "stream",
          "name": "stderr",
          "text": [
            "VALID LOSS:0.3034 ACC:0.91 F1:0.91 REC:0.91 PRE:0.91: 100%|██████████| 38/38 [00:01<00:00, 20.97it/s]\n"
          ]
        },
        {
          "output_type": "stream",
          "name": "stdout",
          "text": [
            "(Epoch 53) VALID LOSS:0.3034 ACC:0.90 F1:0.90 REC:0.90 PRE:0.90\n"
          ]
        },
        {
          "output_type": "stream",
          "name": "stderr",
          "text": [
            "(Epoch 54) TRAIN LOSS:0.3280 LR:0.000003: 100%|██████████| 150/150 [00:24<00:00,  6.11it/s]\n"
          ]
        },
        {
          "output_type": "stream",
          "name": "stdout",
          "text": [
            "(Epoch 54) TRAIN LOSS:0.3280 ACC:0.91 F1:0.91 REC:0.91 PRE:0.91 LR:0.000003\n"
          ]
        },
        {
          "output_type": "stream",
          "name": "stderr",
          "text": [
            "VALID LOSS:0.3094 ACC:0.91 F1:0.91 REC:0.91 PRE:0.91: 100%|██████████| 38/38 [00:02<00:00, 18.48it/s]\n"
          ]
        },
        {
          "output_type": "stream",
          "name": "stdout",
          "text": [
            "(Epoch 54) VALID LOSS:0.3094 ACC:0.89 F1:0.89 REC:0.89 PRE:0.90\n"
          ]
        },
        {
          "output_type": "stream",
          "name": "stderr",
          "text": [
            "(Epoch 55) TRAIN LOSS:0.3320 LR:0.000003: 100%|██████████| 150/150 [00:24<00:00,  6.10it/s]\n"
          ]
        },
        {
          "output_type": "stream",
          "name": "stdout",
          "text": [
            "(Epoch 55) TRAIN LOSS:0.3320 ACC:0.90 F1:0.90 REC:0.90 PRE:0.90 LR:0.000003\n"
          ]
        },
        {
          "output_type": "stream",
          "name": "stderr",
          "text": [
            "VALID LOSS:0.2999 ACC:0.90 F1:0.90 REC:0.90 PRE:0.90: 100%|██████████| 38/38 [00:01<00:00, 20.03it/s]\n"
          ]
        },
        {
          "output_type": "stream",
          "name": "stdout",
          "text": [
            "(Epoch 55) VALID LOSS:0.2999 ACC:0.91 F1:0.91 REC:0.91 PRE:0.91\n"
          ]
        },
        {
          "output_type": "stream",
          "name": "stderr",
          "text": [
            "(Epoch 56) TRAIN LOSS:0.3306 LR:0.000003: 100%|██████████| 150/150 [00:24<00:00,  6.14it/s]\n"
          ]
        },
        {
          "output_type": "stream",
          "name": "stdout",
          "text": [
            "(Epoch 56) TRAIN LOSS:0.3306 ACC:0.91 F1:0.91 REC:0.91 PRE:0.91 LR:0.000003\n"
          ]
        },
        {
          "output_type": "stream",
          "name": "stderr",
          "text": [
            "VALID LOSS:0.3029 ACC:0.91 F1:0.91 REC:0.91 PRE:0.91: 100%|██████████| 38/38 [00:01<00:00, 20.84it/s]\n"
          ]
        },
        {
          "output_type": "stream",
          "name": "stdout",
          "text": [
            "(Epoch 56) VALID LOSS:0.3029 ACC:0.90 F1:0.90 REC:0.90 PRE:0.90\n"
          ]
        },
        {
          "output_type": "stream",
          "name": "stderr",
          "text": [
            "(Epoch 57) TRAIN LOSS:0.3357 LR:0.000003: 100%|██████████| 150/150 [00:24<00:00,  6.14it/s]\n"
          ]
        },
        {
          "output_type": "stream",
          "name": "stdout",
          "text": [
            "(Epoch 57) TRAIN LOSS:0.3357 ACC:0.90 F1:0.90 REC:0.90 PRE:0.90 LR:0.000003\n"
          ]
        },
        {
          "output_type": "stream",
          "name": "stderr",
          "text": [
            "VALID LOSS:0.3073 ACC:0.90 F1:0.90 REC:0.90 PRE:0.90: 100%|██████████| 38/38 [00:01<00:00, 20.71it/s]\n"
          ]
        },
        {
          "output_type": "stream",
          "name": "stdout",
          "text": [
            "(Epoch 57) VALID LOSS:0.3073 ACC:0.91 F1:0.91 REC:0.91 PRE:0.91\n"
          ]
        },
        {
          "output_type": "stream",
          "name": "stderr",
          "text": [
            "(Epoch 58) TRAIN LOSS:0.3335 LR:0.000003: 100%|██████████| 150/150 [00:24<00:00,  6.12it/s]\n"
          ]
        },
        {
          "output_type": "stream",
          "name": "stdout",
          "text": [
            "(Epoch 58) TRAIN LOSS:0.3335 ACC:0.90 F1:0.90 REC:0.90 PRE:0.91 LR:0.000003\n"
          ]
        },
        {
          "output_type": "stream",
          "name": "stderr",
          "text": [
            "VALID LOSS:0.3083 ACC:0.90 F1:0.90 REC:0.90 PRE:0.91: 100%|██████████| 38/38 [00:01<00:00, 20.87it/s]\n"
          ]
        },
        {
          "output_type": "stream",
          "name": "stdout",
          "text": [
            "(Epoch 58) VALID LOSS:0.3083 ACC:0.90 F1:0.90 REC:0.90 PRE:0.91\n"
          ]
        },
        {
          "output_type": "stream",
          "name": "stderr",
          "text": [
            "(Epoch 59) TRAIN LOSS:0.3329 LR:0.000003: 100%|██████████| 150/150 [00:24<00:00,  6.13it/s]\n"
          ]
        },
        {
          "output_type": "stream",
          "name": "stdout",
          "text": [
            "(Epoch 59) TRAIN LOSS:0.3329 ACC:0.91 F1:0.91 REC:0.91 PRE:0.91 LR:0.000003\n"
          ]
        },
        {
          "output_type": "stream",
          "name": "stderr",
          "text": [
            "VALID LOSS:0.3117 ACC:0.91 F1:0.91 REC:0.91 PRE:0.91: 100%|██████████| 38/38 [00:01<00:00, 20.88it/s]\n"
          ]
        },
        {
          "output_type": "stream",
          "name": "stdout",
          "text": [
            "(Epoch 59) VALID LOSS:0.3117 ACC:0.90 F1:0.90 REC:0.90 PRE:0.90\n"
          ]
        },
        {
          "output_type": "stream",
          "name": "stderr",
          "text": [
            "(Epoch 60) TRAIN LOSS:0.3358 LR:0.000003: 100%|██████████| 150/150 [00:24<00:00,  6.14it/s]\n"
          ]
        },
        {
          "output_type": "stream",
          "name": "stdout",
          "text": [
            "(Epoch 60) TRAIN LOSS:0.3358 ACC:0.90 F1:0.90 REC:0.90 PRE:0.90 LR:0.000003\n"
          ]
        },
        {
          "output_type": "stream",
          "name": "stderr",
          "text": [
            "VALID LOSS:0.3231 ACC:0.90 F1:0.90 REC:0.90 PRE:0.90: 100%|██████████| 38/38 [00:01<00:00, 19.04it/s]\n"
          ]
        },
        {
          "output_type": "stream",
          "name": "stdout",
          "text": [
            "(Epoch 60) VALID LOSS:0.3231 ACC:0.89 F1:0.89 REC:0.89 PRE:0.90\n"
          ]
        },
        {
          "output_type": "stream",
          "name": "stderr",
          "text": [
            "(Epoch 61) TRAIN LOSS:0.3408 LR:0.000003: 100%|██████████| 150/150 [00:24<00:00,  6.13it/s]\n"
          ]
        },
        {
          "output_type": "stream",
          "name": "stdout",
          "text": [
            "(Epoch 61) TRAIN LOSS:0.3408 ACC:0.90 F1:0.90 REC:0.90 PRE:0.90 LR:0.000003\n"
          ]
        },
        {
          "output_type": "stream",
          "name": "stderr",
          "text": [
            "VALID LOSS:0.3194 ACC:0.90 F1:0.90 REC:0.90 PRE:0.90: 100%|██████████| 38/38 [00:01<00:00, 19.02it/s]\n"
          ]
        },
        {
          "output_type": "stream",
          "name": "stdout",
          "text": [
            "(Epoch 61) VALID LOSS:0.3194 ACC:0.90 F1:0.90 REC:0.90 PRE:0.90\n"
          ]
        },
        {
          "output_type": "stream",
          "name": "stderr",
          "text": [
            "(Epoch 62) TRAIN LOSS:0.3342 LR:0.000003: 100%|██████████| 150/150 [00:24<00:00,  6.11it/s]\n"
          ]
        },
        {
          "output_type": "stream",
          "name": "stdout",
          "text": [
            "(Epoch 62) TRAIN LOSS:0.3342 ACC:0.90 F1:0.90 REC:0.90 PRE:0.90 LR:0.000003\n"
          ]
        },
        {
          "output_type": "stream",
          "name": "stderr",
          "text": [
            "VALID LOSS:0.3192 ACC:0.90 F1:0.90 REC:0.90 PRE:0.90: 100%|██████████| 38/38 [00:01<00:00, 20.77it/s]\n"
          ]
        },
        {
          "output_type": "stream",
          "name": "stdout",
          "text": [
            "(Epoch 62) VALID LOSS:0.3192 ACC:0.90 F1:0.90 REC:0.90 PRE:0.90\n"
          ]
        },
        {
          "output_type": "stream",
          "name": "stderr",
          "text": [
            "(Epoch 63) TRAIN LOSS:0.3415 LR:0.000003: 100%|██████████| 150/150 [00:24<00:00,  6.11it/s]\n"
          ]
        },
        {
          "output_type": "stream",
          "name": "stdout",
          "text": [
            "(Epoch 63) TRAIN LOSS:0.3415 ACC:0.90 F1:0.90 REC:0.90 PRE:0.90 LR:0.000003\n"
          ]
        },
        {
          "output_type": "stream",
          "name": "stderr",
          "text": [
            "VALID LOSS:0.3161 ACC:0.90 F1:0.90 REC:0.90 PRE:0.90: 100%|██████████| 38/38 [00:01<00:00, 21.09it/s]\n"
          ]
        },
        {
          "output_type": "stream",
          "name": "stdout",
          "text": [
            "(Epoch 63) VALID LOSS:0.3161 ACC:0.90 F1:0.90 REC:0.90 PRE:0.90\n"
          ]
        },
        {
          "output_type": "stream",
          "name": "stderr",
          "text": [
            "(Epoch 64) TRAIN LOSS:0.3392 LR:0.000003: 100%|██████████| 150/150 [00:24<00:00,  6.16it/s]\n"
          ]
        },
        {
          "output_type": "stream",
          "name": "stdout",
          "text": [
            "(Epoch 64) TRAIN LOSS:0.3392 ACC:0.90 F1:0.90 REC:0.90 PRE:0.90 LR:0.000003\n"
          ]
        },
        {
          "output_type": "stream",
          "name": "stderr",
          "text": [
            "VALID LOSS:0.3605 ACC:0.90 F1:0.90 REC:0.90 PRE:0.90: 100%|██████████| 38/38 [00:01<00:00, 20.76it/s]\n"
          ]
        },
        {
          "output_type": "stream",
          "name": "stdout",
          "text": [
            "(Epoch 64) VALID LOSS:0.3605 ACC:0.87 F1:0.87 REC:0.87 PRE:0.88\n"
          ]
        },
        {
          "output_type": "stream",
          "name": "stderr",
          "text": [
            "(Epoch 65) TRAIN LOSS:0.3476 LR:0.000003: 100%|██████████| 150/150 [00:24<00:00,  6.06it/s]\n"
          ]
        },
        {
          "output_type": "stream",
          "name": "stdout",
          "text": [
            "(Epoch 65) TRAIN LOSS:0.3476 ACC:0.90 F1:0.90 REC:0.90 PRE:0.90 LR:0.000003\n"
          ]
        },
        {
          "output_type": "stream",
          "name": "stderr",
          "text": [
            "VALID LOSS:0.3296 ACC:0.90 F1:0.90 REC:0.90 PRE:0.90: 100%|██████████| 38/38 [00:01<00:00, 20.88it/s]\n"
          ]
        },
        {
          "output_type": "stream",
          "name": "stdout",
          "text": [
            "(Epoch 65) VALID LOSS:0.3296 ACC:0.89 F1:0.89 REC:0.89 PRE:0.90\n"
          ]
        },
        {
          "output_type": "stream",
          "name": "stderr",
          "text": [
            "(Epoch 66) TRAIN LOSS:0.3412 LR:0.000003: 100%|██████████| 150/150 [00:24<00:00,  6.10it/s]\n"
          ]
        },
        {
          "output_type": "stream",
          "name": "stdout",
          "text": [
            "(Epoch 66) TRAIN LOSS:0.3412 ACC:0.91 F1:0.91 REC:0.91 PRE:0.91 LR:0.000003\n"
          ]
        },
        {
          "output_type": "stream",
          "name": "stderr",
          "text": [
            "VALID LOSS:0.3178 ACC:0.91 F1:0.91 REC:0.91 PRE:0.91: 100%|██████████| 38/38 [00:01<00:00, 19.23it/s]\n"
          ]
        },
        {
          "output_type": "stream",
          "name": "stdout",
          "text": [
            "(Epoch 66) VALID LOSS:0.3178 ACC:0.90 F1:0.90 REC:0.90 PRE:0.90\n"
          ]
        },
        {
          "output_type": "stream",
          "name": "stderr",
          "text": [
            "(Epoch 67) TRAIN LOSS:0.3362 LR:0.000000: 100%|██████████| 150/150 [00:24<00:00,  6.17it/s]\n"
          ]
        },
        {
          "output_type": "stream",
          "name": "stdout",
          "text": [
            "(Epoch 67) TRAIN LOSS:0.3362 ACC:0.91 F1:0.91 REC:0.91 PRE:0.91 LR:0.000000\n"
          ]
        },
        {
          "output_type": "stream",
          "name": "stderr",
          "text": [
            "VALID LOSS:0.3140 ACC:0.91 F1:0.91 REC:0.91 PRE:0.91: 100%|██████████| 38/38 [00:01<00:00, 19.57it/s]\n"
          ]
        },
        {
          "output_type": "stream",
          "name": "stdout",
          "text": [
            "(Epoch 67) VALID LOSS:0.3140 ACC:0.90 F1:0.90 REC:0.90 PRE:0.90\n"
          ]
        },
        {
          "output_type": "stream",
          "name": "stderr",
          "text": [
            "(Epoch 68) TRAIN LOSS:0.3346 LR:0.000000: 100%|██████████| 150/150 [00:24<00:00,  6.17it/s]\n"
          ]
        },
        {
          "output_type": "stream",
          "name": "stdout",
          "text": [
            "(Epoch 68) TRAIN LOSS:0.3346 ACC:0.91 F1:0.91 REC:0.91 PRE:0.91 LR:0.000000\n"
          ]
        },
        {
          "output_type": "stream",
          "name": "stderr",
          "text": [
            "VALID LOSS:0.3147 ACC:0.91 F1:0.91 REC:0.91 PRE:0.91: 100%|██████████| 38/38 [00:01<00:00, 20.93it/s]\n"
          ]
        },
        {
          "output_type": "stream",
          "name": "stdout",
          "text": [
            "(Epoch 68) VALID LOSS:0.3147 ACC:0.90 F1:0.90 REC:0.90 PRE:0.90\n"
          ]
        },
        {
          "output_type": "stream",
          "name": "stderr",
          "text": [
            "(Epoch 69) TRAIN LOSS:0.3347 LR:0.000000: 100%|██████████| 150/150 [00:24<00:00,  6.13it/s]\n"
          ]
        },
        {
          "output_type": "stream",
          "name": "stdout",
          "text": [
            "(Epoch 69) TRAIN LOSS:0.3347 ACC:0.91 F1:0.91 REC:0.91 PRE:0.91 LR:0.000000\n"
          ]
        },
        {
          "output_type": "stream",
          "name": "stderr",
          "text": [
            "VALID LOSS:0.3137 ACC:0.91 F1:0.91 REC:0.91 PRE:0.91: 100%|██████████| 38/38 [00:01<00:00, 20.83it/s]\n"
          ]
        },
        {
          "output_type": "stream",
          "name": "stdout",
          "text": [
            "(Epoch 69) VALID LOSS:0.3137 ACC:0.90 F1:0.90 REC:0.90 PRE:0.90\n"
          ]
        },
        {
          "output_type": "stream",
          "name": "stderr",
          "text": [
            "(Epoch 70) TRAIN LOSS:0.3350 LR:0.000000: 100%|██████████| 150/150 [00:24<00:00,  6.12it/s]\n"
          ]
        },
        {
          "output_type": "stream",
          "name": "stdout",
          "text": [
            "(Epoch 70) TRAIN LOSS:0.3350 ACC:0.91 F1:0.91 REC:0.91 PRE:0.91 LR:0.000000\n"
          ]
        },
        {
          "output_type": "stream",
          "name": "stderr",
          "text": [
            "VALID LOSS:0.3147 ACC:0.91 F1:0.91 REC:0.91 PRE:0.91: 100%|██████████| 38/38 [00:01<00:00, 21.02it/s]\n"
          ]
        },
        {
          "output_type": "stream",
          "name": "stdout",
          "text": [
            "(Epoch 70) VALID LOSS:0.3147 ACC:0.91 F1:0.91 REC:0.91 PRE:0.91\n"
          ]
        },
        {
          "output_type": "stream",
          "name": "stderr",
          "text": [
            "(Epoch 71) TRAIN LOSS:0.3391 LR:0.000000: 100%|██████████| 150/150 [00:24<00:00,  6.14it/s]\n"
          ]
        },
        {
          "output_type": "stream",
          "name": "stdout",
          "text": [
            "(Epoch 71) TRAIN LOSS:0.3391 ACC:0.90 F1:0.90 REC:0.90 PRE:0.90 LR:0.000000\n"
          ]
        },
        {
          "output_type": "stream",
          "name": "stderr",
          "text": [
            "VALID LOSS:0.3147 ACC:0.90 F1:0.90 REC:0.90 PRE:0.90: 100%|██████████| 38/38 [00:01<00:00, 21.25it/s]\n"
          ]
        },
        {
          "output_type": "stream",
          "name": "stdout",
          "text": [
            "(Epoch 71) VALID LOSS:0.3147 ACC:0.90 F1:0.90 REC:0.90 PRE:0.90\n"
          ]
        },
        {
          "output_type": "stream",
          "name": "stderr",
          "text": [
            "(Epoch 72) TRAIN LOSS:0.3336 LR:0.000000: 100%|██████████| 150/150 [00:24<00:00,  6.16it/s]\n"
          ]
        },
        {
          "output_type": "stream",
          "name": "stdout",
          "text": [
            "(Epoch 72) TRAIN LOSS:0.3336 ACC:0.91 F1:0.91 REC:0.91 PRE:0.91 LR:0.000000\n"
          ]
        },
        {
          "output_type": "stream",
          "name": "stderr",
          "text": [
            "VALID LOSS:0.3140 ACC:0.91 F1:0.91 REC:0.91 PRE:0.91: 100%|██████████| 38/38 [00:01<00:00, 20.25it/s]\n"
          ]
        },
        {
          "output_type": "stream",
          "name": "stdout",
          "text": [
            "(Epoch 72) VALID LOSS:0.3140 ACC:0.90 F1:0.90 REC:0.90 PRE:0.90\n"
          ]
        },
        {
          "output_type": "stream",
          "name": "stderr",
          "text": [
            "(Epoch 73) TRAIN LOSS:0.3366 LR:0.000000: 100%|██████████| 150/150 [00:24<00:00,  6.12it/s]\n"
          ]
        },
        {
          "output_type": "stream",
          "name": "stdout",
          "text": [
            "(Epoch 73) TRAIN LOSS:0.3366 ACC:0.91 F1:0.91 REC:0.91 PRE:0.91 LR:0.000000\n"
          ]
        },
        {
          "output_type": "stream",
          "name": "stderr",
          "text": [
            "VALID LOSS:0.3132 ACC:0.91 F1:0.91 REC:0.91 PRE:0.91: 100%|██████████| 38/38 [00:02<00:00, 18.97it/s]\n"
          ]
        },
        {
          "output_type": "stream",
          "name": "stdout",
          "text": [
            "(Epoch 73) VALID LOSS:0.3132 ACC:0.90 F1:0.90 REC:0.90 PRE:0.90\n"
          ]
        },
        {
          "output_type": "stream",
          "name": "stderr",
          "text": [
            "(Epoch 74) TRAIN LOSS:0.3371 LR:0.000000: 100%|██████████| 150/150 [00:24<00:00,  6.14it/s]\n"
          ]
        },
        {
          "output_type": "stream",
          "name": "stdout",
          "text": [
            "(Epoch 74) TRAIN LOSS:0.3371 ACC:0.91 F1:0.91 REC:0.91 PRE:0.91 LR:0.000000\n"
          ]
        },
        {
          "output_type": "stream",
          "name": "stderr",
          "text": [
            "VALID LOSS:0.3138 ACC:0.91 F1:0.91 REC:0.91 PRE:0.91: 100%|██████████| 38/38 [00:01<00:00, 20.99it/s]\n"
          ]
        },
        {
          "output_type": "stream",
          "name": "stdout",
          "text": [
            "(Epoch 74) VALID LOSS:0.3138 ACC:0.90 F1:0.90 REC:0.90 PRE:0.90\n"
          ]
        },
        {
          "output_type": "stream",
          "name": "stderr",
          "text": [
            "(Epoch 75) TRAIN LOSS:0.3377 LR:0.000000: 100%|██████████| 150/150 [00:24<00:00,  6.16it/s]\n"
          ]
        },
        {
          "output_type": "stream",
          "name": "stdout",
          "text": [
            "(Epoch 75) TRAIN LOSS:0.3377 ACC:0.91 F1:0.91 REC:0.91 PRE:0.91 LR:0.000000\n"
          ]
        },
        {
          "output_type": "stream",
          "name": "stderr",
          "text": [
            "VALID LOSS:0.3137 ACC:0.91 F1:0.91 REC:0.91 PRE:0.91: 100%|██████████| 38/38 [00:01<00:00, 21.04it/s]\n"
          ]
        },
        {
          "output_type": "stream",
          "name": "stdout",
          "text": [
            "(Epoch 75) VALID LOSS:0.3137 ACC:0.91 F1:0.91 REC:0.91 PRE:0.91\n"
          ]
        },
        {
          "output_type": "stream",
          "name": "stderr",
          "text": [
            "(Epoch 76) TRAIN LOSS:0.3341 LR:0.000000: 100%|██████████| 150/150 [00:24<00:00,  6.16it/s]\n"
          ]
        },
        {
          "output_type": "stream",
          "name": "stdout",
          "text": [
            "(Epoch 76) TRAIN LOSS:0.3341 ACC:0.91 F1:0.91 REC:0.91 PRE:0.91 LR:0.000000\n"
          ]
        },
        {
          "output_type": "stream",
          "name": "stderr",
          "text": [
            "VALID LOSS:0.3147 ACC:0.91 F1:0.91 REC:0.91 PRE:0.91: 100%|██████████| 38/38 [00:01<00:00, 20.91it/s]\n"
          ]
        },
        {
          "output_type": "stream",
          "name": "stdout",
          "text": [
            "(Epoch 76) VALID LOSS:0.3147 ACC:0.91 F1:0.91 REC:0.91 PRE:0.91\n"
          ]
        },
        {
          "output_type": "stream",
          "name": "stderr",
          "text": [
            "(Epoch 77) TRAIN LOSS:0.3367 LR:0.000000: 100%|██████████| 150/150 [00:24<00:00,  6.12it/s]\n"
          ]
        },
        {
          "output_type": "stream",
          "name": "stdout",
          "text": [
            "(Epoch 77) TRAIN LOSS:0.3367 ACC:0.91 F1:0.91 REC:0.91 PRE:0.91 LR:0.000000\n"
          ]
        },
        {
          "output_type": "stream",
          "name": "stderr",
          "text": [
            "VALID LOSS:0.3145 ACC:0.91 F1:0.91 REC:0.91 PRE:0.91: 100%|██████████| 38/38 [00:01<00:00, 20.82it/s]\n"
          ]
        },
        {
          "output_type": "stream",
          "name": "stdout",
          "text": [
            "(Epoch 77) VALID LOSS:0.3145 ACC:0.90 F1:0.90 REC:0.90 PRE:0.90\n"
          ]
        },
        {
          "output_type": "stream",
          "name": "stderr",
          "text": [
            "(Epoch 78) TRAIN LOSS:0.3326 LR:0.000000: 100%|██████████| 150/150 [00:24<00:00,  6.15it/s]\n"
          ]
        },
        {
          "output_type": "stream",
          "name": "stdout",
          "text": [
            "(Epoch 78) TRAIN LOSS:0.3326 ACC:0.92 F1:0.92 REC:0.92 PRE:0.92 LR:0.000000\n"
          ]
        },
        {
          "output_type": "stream",
          "name": "stderr",
          "text": [
            "VALID LOSS:0.3142 ACC:0.92 F1:0.92 REC:0.92 PRE:0.92: 100%|██████████| 38/38 [00:01<00:00, 21.00it/s]\n"
          ]
        },
        {
          "output_type": "stream",
          "name": "stdout",
          "text": [
            "(Epoch 78) VALID LOSS:0.3142 ACC:0.90 F1:0.90 REC:0.90 PRE:0.90\n"
          ]
        },
        {
          "output_type": "stream",
          "name": "stderr",
          "text": [
            "(Epoch 79) TRAIN LOSS:0.3377 LR:0.000000: 100%|██████████| 150/150 [00:24<00:00,  6.18it/s]\n"
          ]
        },
        {
          "output_type": "stream",
          "name": "stdout",
          "text": [
            "(Epoch 79) TRAIN LOSS:0.3377 ACC:0.91 F1:0.91 REC:0.91 PRE:0.91 LR:0.000000\n"
          ]
        },
        {
          "output_type": "stream",
          "name": "stderr",
          "text": [
            "VALID LOSS:0.3145 ACC:0.91 F1:0.91 REC:0.91 PRE:0.91: 100%|██████████| 38/38 [00:01<00:00, 19.90it/s]\n"
          ]
        },
        {
          "output_type": "stream",
          "name": "stdout",
          "text": [
            "(Epoch 79) VALID LOSS:0.3145 ACC:0.90 F1:0.90 REC:0.90 PRE:0.90\n"
          ]
        },
        {
          "output_type": "stream",
          "name": "stderr",
          "text": [
            "(Epoch 80) TRAIN LOSS:0.3328 LR:0.000000: 100%|██████████| 150/150 [00:24<00:00,  6.11it/s]\n"
          ]
        },
        {
          "output_type": "stream",
          "name": "stdout",
          "text": [
            "(Epoch 80) TRAIN LOSS:0.3328 ACC:0.91 F1:0.91 REC:0.91 PRE:0.91 LR:0.000000\n"
          ]
        },
        {
          "output_type": "stream",
          "name": "stderr",
          "text": [
            "VALID LOSS:0.3145 ACC:0.91 F1:0.91 REC:0.91 PRE:0.91: 100%|██████████| 38/38 [00:02<00:00, 18.71it/s]\n"
          ]
        },
        {
          "output_type": "stream",
          "name": "stdout",
          "text": [
            "(Epoch 80) VALID LOSS:0.3145 ACC:0.90 F1:0.90 REC:0.90 PRE:0.90\n"
          ]
        },
        {
          "output_type": "stream",
          "name": "stderr",
          "text": [
            "(Epoch 81) TRAIN LOSS:0.3341 LR:0.000000: 100%|██████████| 150/150 [00:24<00:00,  6.15it/s]\n"
          ]
        },
        {
          "output_type": "stream",
          "name": "stdout",
          "text": [
            "(Epoch 81) TRAIN LOSS:0.3341 ACC:0.91 F1:0.91 REC:0.91 PRE:0.91 LR:0.000000\n"
          ]
        },
        {
          "output_type": "stream",
          "name": "stderr",
          "text": [
            "VALID LOSS:0.3148 ACC:0.91 F1:0.91 REC:0.91 PRE:0.91: 100%|██████████| 38/38 [00:01<00:00, 21.16it/s]\n"
          ]
        },
        {
          "output_type": "stream",
          "name": "stdout",
          "text": [
            "(Epoch 81) VALID LOSS:0.3148 ACC:0.90 F1:0.90 REC:0.90 PRE:0.90\n"
          ]
        },
        {
          "output_type": "stream",
          "name": "stderr",
          "text": [
            "(Epoch 82) TRAIN LOSS:0.3384 LR:0.000000: 100%|██████████| 150/150 [00:24<00:00,  6.20it/s]\n"
          ]
        },
        {
          "output_type": "stream",
          "name": "stdout",
          "text": [
            "(Epoch 82) TRAIN LOSS:0.3384 ACC:0.91 F1:0.91 REC:0.91 PRE:0.91 LR:0.000000\n"
          ]
        },
        {
          "output_type": "stream",
          "name": "stderr",
          "text": [
            "VALID LOSS:0.3147 ACC:0.91 F1:0.91 REC:0.91 PRE:0.91: 100%|██████████| 38/38 [00:01<00:00, 21.02it/s]\n"
          ]
        },
        {
          "output_type": "stream",
          "name": "stdout",
          "text": [
            "(Epoch 82) VALID LOSS:0.3147 ACC:0.90 F1:0.90 REC:0.90 PRE:0.90\n"
          ]
        },
        {
          "output_type": "stream",
          "name": "stderr",
          "text": [
            "(Epoch 83) TRAIN LOSS:0.3358 LR:0.000000: 100%|██████████| 150/150 [00:24<00:00,  6.20it/s]\n"
          ]
        },
        {
          "output_type": "stream",
          "name": "stdout",
          "text": [
            "(Epoch 83) TRAIN LOSS:0.3358 ACC:0.91 F1:0.91 REC:0.91 PRE:0.91 LR:0.000000\n"
          ]
        },
        {
          "output_type": "stream",
          "name": "stderr",
          "text": [
            "VALID LOSS:0.3145 ACC:0.91 F1:0.91 REC:0.91 PRE:0.91: 100%|██████████| 38/38 [00:01<00:00, 20.87it/s]\n"
          ]
        },
        {
          "output_type": "stream",
          "name": "stdout",
          "text": [
            "(Epoch 83) VALID LOSS:0.3145 ACC:0.90 F1:0.90 REC:0.90 PRE:0.90\n"
          ]
        },
        {
          "output_type": "stream",
          "name": "stderr",
          "text": [
            "(Epoch 84) TRAIN LOSS:0.3385 LR:0.000000: 100%|██████████| 150/150 [00:24<00:00,  6.15it/s]\n"
          ]
        },
        {
          "output_type": "stream",
          "name": "stdout",
          "text": [
            "(Epoch 84) TRAIN LOSS:0.3385 ACC:0.91 F1:0.91 REC:0.91 PRE:0.91 LR:0.000000\n"
          ]
        },
        {
          "output_type": "stream",
          "name": "stderr",
          "text": [
            "VALID LOSS:0.3144 ACC:0.91 F1:0.91 REC:0.91 PRE:0.91: 100%|██████████| 38/38 [00:01<00:00, 21.05it/s]\n"
          ]
        },
        {
          "output_type": "stream",
          "name": "stdout",
          "text": [
            "(Epoch 84) VALID LOSS:0.3144 ACC:0.90 F1:0.90 REC:0.90 PRE:0.90\n"
          ]
        },
        {
          "output_type": "stream",
          "name": "stderr",
          "text": [
            "(Epoch 85) TRAIN LOSS:0.3337 LR:0.000000: 100%|██████████| 150/150 [00:24<00:00,  6.18it/s]\n"
          ]
        },
        {
          "output_type": "stream",
          "name": "stdout",
          "text": [
            "(Epoch 85) TRAIN LOSS:0.3337 ACC:0.91 F1:0.91 REC:0.91 PRE:0.91 LR:0.000000\n"
          ]
        },
        {
          "output_type": "stream",
          "name": "stderr",
          "text": [
            "VALID LOSS:0.3145 ACC:0.91 F1:0.91 REC:0.91 PRE:0.91: 100%|██████████| 38/38 [00:01<00:00, 21.06it/s]\n"
          ]
        },
        {
          "output_type": "stream",
          "name": "stdout",
          "text": [
            "(Epoch 85) VALID LOSS:0.3145 ACC:0.90 F1:0.90 REC:0.90 PRE:0.90\n"
          ]
        },
        {
          "output_type": "stream",
          "name": "stderr",
          "text": [
            "(Epoch 86) TRAIN LOSS:0.3362 LR:0.000000: 100%|██████████| 150/150 [00:24<00:00,  6.16it/s]\n"
          ]
        },
        {
          "output_type": "stream",
          "name": "stdout",
          "text": [
            "(Epoch 86) TRAIN LOSS:0.3362 ACC:0.91 F1:0.91 REC:0.91 PRE:0.91 LR:0.000000\n"
          ]
        },
        {
          "output_type": "stream",
          "name": "stderr",
          "text": [
            "VALID LOSS:0.3145 ACC:0.91 F1:0.91 REC:0.91 PRE:0.91: 100%|██████████| 38/38 [00:01<00:00, 19.46it/s]\n"
          ]
        },
        {
          "output_type": "stream",
          "name": "stdout",
          "text": [
            "(Epoch 86) VALID LOSS:0.3145 ACC:0.90 F1:0.90 REC:0.90 PRE:0.90\n"
          ]
        },
        {
          "output_type": "stream",
          "name": "stderr",
          "text": [
            "(Epoch 87) TRAIN LOSS:0.3363 LR:0.000000: 100%|██████████| 150/150 [00:24<00:00,  6.13it/s]\n"
          ]
        },
        {
          "output_type": "stream",
          "name": "stdout",
          "text": [
            "(Epoch 87) TRAIN LOSS:0.3363 ACC:0.91 F1:0.91 REC:0.91 PRE:0.91 LR:0.000000\n"
          ]
        },
        {
          "output_type": "stream",
          "name": "stderr",
          "text": [
            "VALID LOSS:0.3148 ACC:0.91 F1:0.91 REC:0.91 PRE:0.91: 100%|██████████| 38/38 [00:01<00:00, 19.66it/s]\n"
          ]
        },
        {
          "output_type": "stream",
          "name": "stdout",
          "text": [
            "(Epoch 87) VALID LOSS:0.3148 ACC:0.90 F1:0.90 REC:0.90 PRE:0.90\n"
          ]
        },
        {
          "output_type": "stream",
          "name": "stderr",
          "text": [
            "(Epoch 88) TRAIN LOSS:0.3347 LR:0.000000: 100%|██████████| 150/150 [00:24<00:00,  6.13it/s]\n"
          ]
        },
        {
          "output_type": "stream",
          "name": "stdout",
          "text": [
            "(Epoch 88) TRAIN LOSS:0.3347 ACC:0.91 F1:0.91 REC:0.91 PRE:0.91 LR:0.000000\n"
          ]
        },
        {
          "output_type": "stream",
          "name": "stderr",
          "text": [
            "VALID LOSS:0.3149 ACC:0.91 F1:0.91 REC:0.91 PRE:0.91: 100%|██████████| 38/38 [00:01<00:00, 20.95it/s]\n"
          ]
        },
        {
          "output_type": "stream",
          "name": "stdout",
          "text": [
            "(Epoch 88) VALID LOSS:0.3149 ACC:0.90 F1:0.90 REC:0.90 PRE:0.90\n"
          ]
        },
        {
          "output_type": "stream",
          "name": "stderr",
          "text": [
            "(Epoch 89) TRAIN LOSS:0.3355 LR:0.000000: 100%|██████████| 150/150 [00:24<00:00,  6.17it/s]\n"
          ]
        },
        {
          "output_type": "stream",
          "name": "stdout",
          "text": [
            "(Epoch 89) TRAIN LOSS:0.3355 ACC:0.91 F1:0.91 REC:0.91 PRE:0.91 LR:0.000000\n"
          ]
        },
        {
          "output_type": "stream",
          "name": "stderr",
          "text": [
            "VALID LOSS:0.3149 ACC:0.91 F1:0.91 REC:0.91 PRE:0.91: 100%|██████████| 38/38 [00:01<00:00, 20.83it/s]\n"
          ]
        },
        {
          "output_type": "stream",
          "name": "stdout",
          "text": [
            "(Epoch 89) VALID LOSS:0.3149 ACC:0.90 F1:0.90 REC:0.90 PRE:0.90\n"
          ]
        },
        {
          "output_type": "stream",
          "name": "stderr",
          "text": [
            "(Epoch 90) TRAIN LOSS:0.3370 LR:0.000000: 100%|██████████| 150/150 [00:24<00:00,  6.19it/s]\n"
          ]
        },
        {
          "output_type": "stream",
          "name": "stdout",
          "text": [
            "(Epoch 90) TRAIN LOSS:0.3370 ACC:0.91 F1:0.91 REC:0.91 PRE:0.91 LR:0.000000\n"
          ]
        },
        {
          "output_type": "stream",
          "name": "stderr",
          "text": [
            "VALID LOSS:0.3149 ACC:0.91 F1:0.91 REC:0.91 PRE:0.91: 100%|██████████| 38/38 [00:01<00:00, 20.83it/s]\n"
          ]
        },
        {
          "output_type": "stream",
          "name": "stdout",
          "text": [
            "(Epoch 90) VALID LOSS:0.3149 ACC:0.90 F1:0.90 REC:0.90 PRE:0.90\n"
          ]
        },
        {
          "output_type": "stream",
          "name": "stderr",
          "text": [
            "(Epoch 91) TRAIN LOSS:0.3348 LR:0.000000: 100%|██████████| 150/150 [00:24<00:00,  6.16it/s]\n"
          ]
        },
        {
          "output_type": "stream",
          "name": "stdout",
          "text": [
            "(Epoch 91) TRAIN LOSS:0.3348 ACC:0.91 F1:0.91 REC:0.91 PRE:0.91 LR:0.000000\n"
          ]
        },
        {
          "output_type": "stream",
          "name": "stderr",
          "text": [
            "VALID LOSS:0.3148 ACC:0.91 F1:0.91 REC:0.91 PRE:0.91: 100%|██████████| 38/38 [00:01<00:00, 21.02it/s]\n"
          ]
        },
        {
          "output_type": "stream",
          "name": "stdout",
          "text": [
            "(Epoch 91) VALID LOSS:0.3148 ACC:0.90 F1:0.90 REC:0.90 PRE:0.90\n"
          ]
        },
        {
          "output_type": "stream",
          "name": "stderr",
          "text": [
            "(Epoch 92) TRAIN LOSS:0.3330 LR:0.000000: 100%|██████████| 150/150 [00:24<00:00,  6.13it/s]\n"
          ]
        },
        {
          "output_type": "stream",
          "name": "stdout",
          "text": [
            "(Epoch 92) TRAIN LOSS:0.3330 ACC:0.91 F1:0.91 REC:0.91 PRE:0.91 LR:0.000000\n"
          ]
        },
        {
          "output_type": "stream",
          "name": "stderr",
          "text": [
            "VALID LOSS:0.3148 ACC:0.91 F1:0.91 REC:0.91 PRE:0.91: 100%|██████████| 38/38 [00:01<00:00, 21.10it/s]\n"
          ]
        },
        {
          "output_type": "stream",
          "name": "stdout",
          "text": [
            "(Epoch 92) VALID LOSS:0.3148 ACC:0.90 F1:0.90 REC:0.90 PRE:0.90\n"
          ]
        },
        {
          "output_type": "stream",
          "name": "stderr",
          "text": [
            "(Epoch 93) TRAIN LOSS:0.3346 LR:0.000000: 100%|██████████| 150/150 [00:24<00:00,  6.17it/s]\n"
          ]
        },
        {
          "output_type": "stream",
          "name": "stdout",
          "text": [
            "(Epoch 93) TRAIN LOSS:0.3346 ACC:0.91 F1:0.91 REC:0.91 PRE:0.91 LR:0.000000\n"
          ]
        },
        {
          "output_type": "stream",
          "name": "stderr",
          "text": [
            "VALID LOSS:0.3147 ACC:0.91 F1:0.91 REC:0.91 PRE:0.91: 100%|██████████| 38/38 [00:01<00:00, 19.47it/s]\n"
          ]
        },
        {
          "output_type": "stream",
          "name": "stdout",
          "text": [
            "(Epoch 93) VALID LOSS:0.3147 ACC:0.90 F1:0.90 REC:0.90 PRE:0.90\n"
          ]
        },
        {
          "output_type": "stream",
          "name": "stderr",
          "text": [
            "(Epoch 94) TRAIN LOSS:0.3369 LR:0.000000: 100%|██████████| 150/150 [00:24<00:00,  6.14it/s]\n"
          ]
        },
        {
          "output_type": "stream",
          "name": "stdout",
          "text": [
            "(Epoch 94) TRAIN LOSS:0.3369 ACC:0.91 F1:0.91 REC:0.91 PRE:0.91 LR:0.000000\n"
          ]
        },
        {
          "output_type": "stream",
          "name": "stderr",
          "text": [
            "VALID LOSS:0.3148 ACC:0.91 F1:0.91 REC:0.91 PRE:0.91: 100%|██████████| 38/38 [00:01<00:00, 19.65it/s]\n"
          ]
        },
        {
          "output_type": "stream",
          "name": "stdout",
          "text": [
            "(Epoch 94) VALID LOSS:0.3148 ACC:0.90 F1:0.90 REC:0.90 PRE:0.90\n"
          ]
        },
        {
          "output_type": "stream",
          "name": "stderr",
          "text": [
            "(Epoch 95) TRAIN LOSS:0.3350 LR:0.000000: 100%|██████████| 150/150 [00:24<00:00,  6.16it/s]\n"
          ]
        },
        {
          "output_type": "stream",
          "name": "stdout",
          "text": [
            "(Epoch 95) TRAIN LOSS:0.3350 ACC:0.91 F1:0.91 REC:0.91 PRE:0.91 LR:0.000000\n"
          ]
        },
        {
          "output_type": "stream",
          "name": "stderr",
          "text": [
            "VALID LOSS:0.3147 ACC:0.91 F1:0.91 REC:0.91 PRE:0.91: 100%|██████████| 38/38 [00:01<00:00, 21.06it/s]\n"
          ]
        },
        {
          "output_type": "stream",
          "name": "stdout",
          "text": [
            "(Epoch 95) VALID LOSS:0.3147 ACC:0.90 F1:0.90 REC:0.90 PRE:0.90\n"
          ]
        },
        {
          "output_type": "stream",
          "name": "stderr",
          "text": [
            "(Epoch 96) TRAIN LOSS:0.3377 LR:0.000000: 100%|██████████| 150/150 [00:24<00:00,  6.19it/s]\n"
          ]
        },
        {
          "output_type": "stream",
          "name": "stdout",
          "text": [
            "(Epoch 96) TRAIN LOSS:0.3377 ACC:0.91 F1:0.91 REC:0.91 PRE:0.91 LR:0.000000\n"
          ]
        },
        {
          "output_type": "stream",
          "name": "stderr",
          "text": [
            "VALID LOSS:0.3147 ACC:0.91 F1:0.91 REC:0.91 PRE:0.91: 100%|██████████| 38/38 [00:01<00:00, 21.02it/s]\n"
          ]
        },
        {
          "output_type": "stream",
          "name": "stdout",
          "text": [
            "(Epoch 96) VALID LOSS:0.3147 ACC:0.90 F1:0.90 REC:0.90 PRE:0.90\n"
          ]
        },
        {
          "output_type": "stream",
          "name": "stderr",
          "text": [
            "(Epoch 97) TRAIN LOSS:0.3373 LR:0.000000: 100%|██████████| 150/150 [00:24<00:00,  6.19it/s]\n"
          ]
        },
        {
          "output_type": "stream",
          "name": "stdout",
          "text": [
            "(Epoch 97) TRAIN LOSS:0.3373 ACC:0.91 F1:0.91 REC:0.91 PRE:0.91 LR:0.000000\n"
          ]
        },
        {
          "output_type": "stream",
          "name": "stderr",
          "text": [
            "VALID LOSS:0.3147 ACC:0.91 F1:0.91 REC:0.91 PRE:0.91: 100%|██████████| 38/38 [00:01<00:00, 20.56it/s]\n"
          ]
        },
        {
          "output_type": "stream",
          "name": "stdout",
          "text": [
            "(Epoch 97) VALID LOSS:0.3147 ACC:0.90 F1:0.90 REC:0.90 PRE:0.90\n"
          ]
        },
        {
          "output_type": "stream",
          "name": "stderr",
          "text": [
            "(Epoch 98) TRAIN LOSS:0.3360 LR:0.000000: 100%|██████████| 150/150 [00:24<00:00,  6.18it/s]\n"
          ]
        },
        {
          "output_type": "stream",
          "name": "stdout",
          "text": [
            "(Epoch 98) TRAIN LOSS:0.3360 ACC:0.91 F1:0.91 REC:0.91 PRE:0.91 LR:0.000000\n"
          ]
        },
        {
          "output_type": "stream",
          "name": "stderr",
          "text": [
            "VALID LOSS:0.3147 ACC:0.91 F1:0.91 REC:0.91 PRE:0.91: 100%|██████████| 38/38 [00:01<00:00, 21.02it/s]\n"
          ]
        },
        {
          "output_type": "stream",
          "name": "stdout",
          "text": [
            "(Epoch 98) VALID LOSS:0.3147 ACC:0.90 F1:0.90 REC:0.90 PRE:0.90\n"
          ]
        },
        {
          "output_type": "stream",
          "name": "stderr",
          "text": [
            "(Epoch 99) TRAIN LOSS:0.3367 LR:0.000000: 100%|██████████| 150/150 [00:24<00:00,  6.12it/s]\n"
          ]
        },
        {
          "output_type": "stream",
          "name": "stdout",
          "text": [
            "(Epoch 99) TRAIN LOSS:0.3367 ACC:0.91 F1:0.91 REC:0.91 PRE:0.91 LR:0.000000\n"
          ]
        },
        {
          "output_type": "stream",
          "name": "stderr",
          "text": [
            "VALID LOSS:0.3146 ACC:0.91 F1:0.91 REC:0.91 PRE:0.91: 100%|██████████| 38/38 [00:01<00:00, 20.64it/s]\n"
          ]
        },
        {
          "output_type": "stream",
          "name": "stdout",
          "text": [
            "(Epoch 99) VALID LOSS:0.3146 ACC:0.90 F1:0.90 REC:0.90 PRE:0.90\n"
          ]
        },
        {
          "output_type": "stream",
          "name": "stderr",
          "text": [
            "(Epoch 100) TRAIN LOSS:0.3363 LR:0.000000: 100%|██████████| 150/150 [00:24<00:00,  6.16it/s]\n"
          ]
        },
        {
          "output_type": "stream",
          "name": "stdout",
          "text": [
            "(Epoch 100) TRAIN LOSS:0.3363 ACC:0.91 F1:0.91 REC:0.91 PRE:0.91 LR:0.000000\n"
          ]
        },
        {
          "output_type": "stream",
          "name": "stderr",
          "text": [
            "VALID LOSS:0.3147 ACC:0.91 F1:0.91 REC:0.91 PRE:0.91: 100%|██████████| 38/38 [00:02<00:00, 18.05it/s]\n"
          ]
        },
        {
          "output_type": "stream",
          "name": "stdout",
          "text": [
            "(Epoch 100) VALID LOSS:0.3147 ACC:0.90 F1:0.90 REC:0.90 PRE:0.90\n"
          ]
        }
      ],
      "source": [
        "epochs = 100\n",
        "\n",
        "train_loss_values = []\n",
        "test_loss_values = []\n",
        "train_metrics_values = []\n",
        "test_metrics_values = []\n",
        "\n",
        "for epoch in range(epochs):\n",
        "    model.train()\n",
        "\n",
        "    total_train_loss = 0\n",
        "    list_hyp, list_label = [], []\n",
        "\n",
        "    train_pbar = tqdm(train_dataloader, leave=True, total=len(train_dataloader))\n",
        "    for i, batch_data in enumerate(train_pbar):\n",
        "        # Forward model\n",
        "        loss, batch_hyp, batch_label = forward_sequence_classification(\n",
        "            model, batch_data[:-1], i2w=i2w, device=\"cuda\"\n",
        "        )\n",
        "\n",
        "        # Update model\n",
        "        optimizer.zero_grad()\n",
        "        loss.backward()\n",
        "        optimizer.step()\n",
        "\n",
        "        total_train_loss = total_train_loss + loss.item()\n",
        "\n",
        "        # Calculate metrics\n",
        "        list_hyp += batch_hyp\n",
        "        list_label += batch_label\n",
        "\n",
        "        train_pbar.set_description(f\"(Epoch {epoch+1}) TRAIN LOSS:{total_train_loss / (i+1):.4f} LR:{get_lr(optimizer):.6f}\")\n",
        "\n",
        "    # Calculate train metric\n",
        "    metrics = document_sentiment_metrics_fn(list_hyp, list_label)\n",
        "    print(f\"(Epoch {epoch+1}) TRAIN LOSS:{total_train_loss / (i+1):.4f} {metrics_to_string(metrics)} LR:{get_lr(optimizer):.6f}\")\n",
        "    train_loss_values.append(total_train_loss)\n",
        "    train_metrics_values.append(metrics['ACC'])\n",
        "\n",
        "    # Evaluate on validation\n",
        "    model.eval()\n",
        "\n",
        "    total_loss, total_correct, total_labels = 0, 0, 0\n",
        "    list_hyp, list_label = [], []\n",
        "\n",
        "    test_pbar = tqdm(test_dataloader, leave=True, total=len(test_dataloader))\n",
        "    with torch.inference_mode():\n",
        "        for i, batch_data in enumerate(test_pbar):\n",
        "            batch_seq = batch_data[-1]\n",
        "            loss, batch_hyp, batch_label = forward_sequence_classification(\n",
        "                model, batch_data[:-1], i2w=i2w, device=\"cuda\"\n",
        "            )\n",
        "\n",
        "            # Calculate total loss\n",
        "            valid_loss = loss.item()\n",
        "            total_loss = total_loss + valid_loss\n",
        "\n",
        "            # Calculate evaluation metrics\n",
        "            list_hyp += batch_hyp\n",
        "            list_label += batch_label\n",
        "            test_pbar.set_description(f\"VALID LOSS:{total_loss / (i+1):.4f} {metrics_to_string(metrics)}\")\n",
        "\n",
        "    # Update model\n",
        "    scheduler.step(total_loss)\n",
        "\n",
        "    metrics = document_sentiment_metrics_fn(list_hyp, list_label)\n",
        "    print(f\"(Epoch {epoch+1}) VALID LOSS:{total_loss / (i+1):.4f} {metrics_to_string(metrics)}\")\n",
        "    test_loss_values.append(total_loss)\n",
        "    test_metrics_values.append(metrics['ACC'])"
      ]
    },
    {
      "cell_type": "code",
      "execution_count": 22,
      "metadata": {
        "id": "5LCoXTmQDpqC"
      },
      "outputs": [],
      "source": [
        "model.save_pretrained(save_directory=\"indobert-sentiment-analysis\")"
      ]
    },
    {
      "cell_type": "code",
      "source": [
        "plt.figure(figsize=(8, 4), dpi=150)\n",
        "plt.plot(range(epochs), train_loss_values, label=\"Train loss\")\n",
        "plt.plot(range(epochs), test_loss_values, label=\"Test loss\")\n",
        "plt.legend()"
      ],
      "metadata": {
        "colab": {
          "base_uri": "https://localhost:8080/",
          "height": 518
        },
        "id": "SXt0hNgIWiMn",
        "outputId": "c1505b15-a1d3-48f1-fdc2-442714f4d761"
      },
      "execution_count": 23,
      "outputs": [
        {
          "output_type": "execute_result",
          "data": {
            "text/plain": [
              "<matplotlib.legend.Legend at 0x797d0cf735b0>"
            ]
          },
          "metadata": {},
          "execution_count": 23
        },
        {
          "output_type": "display_data",
          "data": {
            "text/plain": [
              "<Figure size 1200x600 with 1 Axes>"
            ],
            "image/png": "[encoded data removed]"
          },
          "metadata": {}
        }
      ]
    },
    {
      "cell_type": "code",
      "source": [
        "plt.figure(figsize=(8, 4), dpi=150)\n",
        "plt.plot(range(epochs), train_metrics_values, label=\"Train accuracy\")\n",
        "plt.plot(range(epochs), test_metrics_values, label=\"Test accuracy\")\n",
        "plt.legend()"
      ],
      "metadata": {
        "colab": {
          "base_uri": "https://localhost:8080/",
          "height": 521
        },
        "id": "OskKLdWjWxIc",
        "outputId": "af97e096-68b3-492a-bf8d-c4bade1a4749"
      },
      "execution_count": 24,
      "outputs": [
        {
          "output_type": "execute_result",
          "data": {
            "text/plain": [
              "<matplotlib.legend.Legend at 0x797cecf7ebc0>"
            ]
          },
          "metadata": {},
          "execution_count": 24
        },
        {
          "output_type": "display_data",
          "data": {
            "text/plain": [
              "<Figure size 1200x600 with 1 Axes>"
            ],
            "image/png": "[encoded data removed]"
          },
          "metadata": {}
        }
      ]
    },
    {
      "cell_type": "code",
      "execution_count": 25,
      "metadata": {
        "colab": {
          "base_uri": "https://localhost:8080/"
        },
        "id": "_-RCE-1ZDpqC",
        "outputId": "5837a891-78b4-4f5e-b93e-dee800c408dd"
      },
      "outputs": [
        {
          "output_type": "stream",
          "name": "stderr",
          "text": [
            "100%|██████████| 38/38 [00:01<00:00, 19.86it/s]\n"
          ]
        }
      ],
      "source": [
        "model.eval()\n",
        "with torch.inference_mode():\n",
        "    total_loss, total_correct, total_labels = 0, 0, 0\n",
        "    list_hyp, list_label = [], []\n",
        "\n",
        "    pbar = tqdm(test_dataloader, leave=True, total=len(test_dataloader))\n",
        "    for i, batch_data in enumerate(pbar):\n",
        "        _, batch_hyp, batch_label = forward_sequence_classification(\n",
        "            model, batch_data[:-1], i2w=i2w, device=\"cuda\"\n",
        "        )\n",
        "        list_hyp.extend(batch_hyp)\n",
        "        list_label.extend(batch_label)\n",
        "\n",
        "# Save prediction\n",
        "results_df = pd.DataFrame({\"sentiment\": list_hyp, \"label\": list_label}).reset_index(\n",
        "    drop=True\n",
        ")\n",
        "results_df.to_csv(\"pred.csv\", index=False)"
      ]
    },
    {
      "cell_type": "code",
      "source": [
        "cm = torchmetrics.ConfusionMatrix(task='multiclass', num_classes=3)"
      ],
      "metadata": {
        "id": "4pK0bnamOyvA"
      },
      "execution_count": 26,
      "outputs": []
    },
    {
      "cell_type": "code",
      "source": [
        "y_pred = torch.tensor(\n",
        "    list(\n",
        "        map(lambda y: 0 if y == 'positive' else 1 if y == 'neutral' else 2 , list_hyp)\n",
        "    )\n",
        ")\n",
        "ground_truth = torch.tensor(\n",
        "    list(\n",
        "        map(lambda y: 0 if y == 'positive' else 1 if y == 'neutral' else 2 , list_label)\n",
        "    )\n",
        ")\n",
        "\n",
        "conf_mat = cm(y_pred, ground_truth)"
      ],
      "metadata": {
        "id": "X0RLQwZiRO5r"
      },
      "execution_count": 27,
      "outputs": []
    },
    {
      "cell_type": "code",
      "source": [
        "plt.figure(figsize=(10, 7), dpi=150)\n",
        "sns.heatmap(\n",
        "    conf_mat,\n",
        "    annot=True,\n",
        "    fmt=\"d\",\n",
        "    cmap=\"Blues\",\n",
        "    xticklabels=w2i,\n",
        "    yticklabels=w2i,\n",
        ")"
      ],
      "metadata": {
        "colab": {
          "base_uri": "https://localhost:8080/",
          "height": 744
        },
        "id": "mIyagen4RTpp",
        "outputId": "2d8fa21a-30b8-4a53-8cdf-cc76daf1f3a3"
      },
      "execution_count": 28,
      "outputs": [
        {
          "output_type": "execute_result",
          "data": {
            "text/plain": [
              "<Axes: >"
            ]
          },
          "metadata": {},
          "execution_count": 28
        },
        {
          "output_type": "display_data",
          "data": {
            "text/plain": [
              "<Figure size 1500x1050 with 2 Axes>"
            ],
            "image/png": "[encoded data removed]"
          },
          "metadata": {}
        }
      ]
    },
    {
      "cell_type": "code",
      "source": [
        "document_sentiment_metrics_fn(list_hyp, list_label)"
      ],
      "metadata": {
        "colab": {
          "base_uri": "https://localhost:8080/"
        },
        "id": "CyBRUwFTR9yO",
        "outputId": "30a7e9a6-f635-422f-a4d4-99356b1a7ca6"
      },
      "execution_count": 29,
      "outputs": [
        {
          "output_type": "execute_result",
          "data": {
            "text/plain": [
              "{'ACC': 0.898078529657477,\n",
              " 'F1': 0.8979305758736835,\n",
              " 'REC': 0.8980785296574769,\n",
              " 'PRE': 0.8981792334544485}"
            ]
          },
          "metadata": {},
          "execution_count": 29
        }
      ]
    },
    {
      "cell_type": "code",
      "source": [],
      "metadata": {
        "id": "vkMs1tj8Xz6L"
      },
      "execution_count": 29,
      "outputs": []
    }
  ],
  "metadata": {
    "kernelspec": {
      "display_name": "Python 3",
      "name": "python3"
    },
    "language_info": {
      "codemirror_mode": {
        "name": "ipython",
        "version": 3
      },
      "file_extension": ".py",
      "mimetype": "text/x-python",
      "name": "python",
      "nbconvert_exporter": "python",
      "pygments_lexer": "ipython3",
      "version": "3.9.0"
    },
    "colab": {
      "provenance": [],
      "gpuType": "T4"
    },
    "accelerator": "GPU",
    "widgets": {
      "application/vnd.jupyter.widget-state+json": {
        "e566dadcac1247bdacbf6efa02393202": {
          "model_module": "@jupyter-widgets/controls",
          "model_name": "HBoxModel",
          "model_module_version": "1.5.0",
          "state": {
            "_dom_classes": [],
            "_model_module": "@jupyter-widgets/controls",
            "_model_module_version": "1.5.0",
            "_model_name": "HBoxModel",
            "_view_count": null,
            "_view_module": "@jupyter-widgets/controls",
            "_view_module_version": "1.5.0",
            "_view_name": "HBoxView",
            "box_style": "",
            "children": [
              "IPY_MODEL_a9bc82483e044307b2d7114b1a1fbd52",
              "IPY_MODEL_c57f77808c7340c8b419dc1bbdb981ce",
              "IPY_MODEL_dcf0397cfb914d7a9277ad6961a8cac1"
            ],
            "layout": "IPY_MODEL_65b94492cfcb40519928c2b35db332e0"
          }
        },
        "a9bc82483e044307b2d7114b1a1fbd52": {
          "model_module": "@jupyter-widgets/controls",
          "model_name": "HTMLModel",
          "model_module_version": "1.5.0",
          "state": {
            "_dom_classes": [],
            "_model_module": "@jupyter-widgets/controls",
            "_model_module_version": "1.5.0",
            "_model_name": "HTMLModel",
            "_view_count": null,
            "_view_module": "@jupyter-widgets/controls",
            "_view_module_version": "1.5.0",
            "_view_name": "HTMLView",
            "description": "",
            "description_tooltip": null,
            "layout": "IPY_MODEL_aa6ab160b3c54d42b051ed53c57b0b9b",
            "placeholder": "​",
            "style": "IPY_MODEL_3be30a8dfc8f4bd29908b8b92ad282f1",
            "value": "tokenizer_config.json: 100%"
          }
        },
        "c57f77808c7340c8b419dc1bbdb981ce": {
          "model_module": "@jupyter-widgets/controls",
          "model_name": "FloatProgressModel",
          "model_module_version": "1.5.0",
          "state": {
            "_dom_classes": [],
            "_model_module": "@jupyter-widgets/controls",
            "_model_module_version": "1.5.0",
            "_model_name": "FloatProgressModel",
            "_view_count": null,
            "_view_module": "@jupyter-widgets/controls",
            "_view_module_version": "1.5.0",
            "_view_name": "ProgressView",
            "bar_style": "success",
            "description": "",
            "description_tooltip": null,
            "layout": "IPY_MODEL_49d0d17963e2474cb24efcc4491ca0d9",
            "max": 2,
            "min": 0,
            "orientation": "horizontal",
            "style": "IPY_MODEL_c7c0f4a039044334b98a9d1c4b9215b8",
            "value": 2
          }
        },
        "dcf0397cfb914d7a9277ad6961a8cac1": {
          "model_module": "@jupyter-widgets/controls",
          "model_name": "HTMLModel",
          "model_module_version": "1.5.0",
          "state": {
            "_dom_classes": [],
            "_model_module": "@jupyter-widgets/controls",
            "_model_module_version": "1.5.0",
            "_model_name": "HTMLModel",
            "_view_count": null,
            "_view_module": "@jupyter-widgets/controls",
            "_view_module_version": "1.5.0",
            "_view_name": "HTMLView",
            "description": "",
            "description_tooltip": null,
            "layout": "IPY_MODEL_e9dba2806e604e1dad6f87a3ac88d581",
            "placeholder": "​",
            "style": "IPY_MODEL_d8bb6f70e70d449a84f69a90e57609ac",
            "value": " 2.00/2.00 [00:00&lt;00:00, 135B/s]"
          }
        },
        "65b94492cfcb40519928c2b35db332e0": {
          "model_module": "@jupyter-widgets/base",
          "model_name": "LayoutModel",
          "model_module_version": "1.2.0",
          "state": {
            "_model_module": "@jupyter-widgets/base",
            "_model_module_version": "1.2.0",
            "_model_name": "LayoutModel",
            "_view_count": null,
            "_view_module": "@jupyter-widgets/base",
            "_view_module_version": "1.2.0",
            "_view_name": "LayoutView",
            "align_content": null,
            "align_items": null,
            "align_self": null,
            "border": null,
            "bottom": null,
            "display": null,
            "flex": null,
            "flex_flow": null,
            "grid_area": null,
            "grid_auto_columns": null,
            "grid_auto_flow": null,
            "grid_auto_rows": null,
            "grid_column": null,
            "grid_gap": null,
            "grid_row": null,
            "grid_template_areas": null,
            "grid_template_columns": null,
            "grid_template_rows": null,
            "height": null,
            "justify_content": null,
            "justify_items": null,
            "left": null,
            "margin": null,
            "max_height": null,
            "max_width": null,
            "min_height": null,
            "min_width": null,
            "object_fit": null,
            "object_position": null,
            "order": null,
            "overflow": null,
            "overflow_x": null,
            "overflow_y": null,
            "padding": null,
            "right": null,
            "top": null,
            "visibility": null,
            "width": null
          }
        },
        "aa6ab160b3c54d42b051ed53c57b0b9b": {
          "model_module": "@jupyter-widgets/base",
          "model_name": "LayoutModel",
          "model_module_version": "1.2.0",
          "state": {
            "_model_module": "@jupyter-widgets/base",
            "_model_module_version": "1.2.0",
            "_model_name": "LayoutModel",
            "_view_count": null,
            "_view_module": "@jupyter-widgets/base",
            "_view_module_version": "1.2.0",
            "_view_name": "LayoutView",
            "align_content": null,
            "align_items": null,
            "align_self": null,
            "border": null,
            "bottom": null,
            "display": null,
            "flex": null,
            "flex_flow": null,
            "grid_area": null,
            "grid_auto_columns": null,
            "grid_auto_flow": null,
            "grid_auto_rows": null,
            "grid_column": null,
            "grid_gap": null,
            "grid_row": null,
            "grid_template_areas": null,
            "grid_template_columns": null,
            "grid_template_rows": null,
            "height": null,
            "justify_content": null,
            "justify_items": null,
            "left": null,
            "margin": null,
            "max_height": null,
            "max_width": null,
            "min_height": null,
            "min_width": null,
            "object_fit": null,
            "object_position": null,
            "order": null,
            "overflow": null,
            "overflow_x": null,
            "overflow_y": null,
            "padding": null,
            "right": null,
            "top": null,
            "visibility": null,
            "width": null
          }
        },
        "3be30a8dfc8f4bd29908b8b92ad282f1": {
          "model_module": "@jupyter-widgets/controls",
          "model_name": "DescriptionStyleModel",
          "model_module_version": "1.5.0",
          "state": {
            "_model_module": "@jupyter-widgets/controls",
            "_model_module_version": "1.5.0",
            "_model_name": "DescriptionStyleModel",
            "_view_count": null,
            "_view_module": "@jupyter-widgets/base",
            "_view_module_version": "1.2.0",
            "_view_name": "StyleView",
            "description_width": ""
          }
        },
        "49d0d17963e2474cb24efcc4491ca0d9": {
          "model_module": "@jupyter-widgets/base",
          "model_name": "LayoutModel",
          "model_module_version": "1.2.0",
          "state": {
            "_model_module": "@jupyter-widgets/base",
            "_model_module_version": "1.2.0",
            "_model_name": "LayoutModel",
            "_view_count": null,
            "_view_module": "@jupyter-widgets/base",
            "_view_module_version": "1.2.0",
            "_view_name": "LayoutView",
            "align_content": null,
            "align_items": null,
            "align_self": null,
            "border": null,
            "bottom": null,
            "display": null,
            "flex": null,
            "flex_flow": null,
            "grid_area": null,
            "grid_auto_columns": null,
            "grid_auto_flow": null,
            "grid_auto_rows": null,
            "grid_column": null,
            "grid_gap": null,
            "grid_row": null,
            "grid_template_areas": null,
            "grid_template_columns": null,
            "grid_template_rows": null,
            "height": null,
            "justify_content": null,
            "justify_items": null,
            "left": null,
            "margin": null,
            "max_height": null,
            "max_width": null,
            "min_height": null,
            "min_width": null,
            "object_fit": null,
            "object_position": null,
            "order": null,
            "overflow": null,
            "overflow_x": null,
            "overflow_y": null,
            "padding": null,
            "right": null,
            "top": null,
            "visibility": null,
            "width": null
          }
        },
        "c7c0f4a039044334b98a9d1c4b9215b8": {
          "model_module": "@jupyter-widgets/controls",
          "model_name": "ProgressStyleModel",
          "model_module_version": "1.5.0",
          "state": {
            "_model_module": "@jupyter-widgets/controls",
            "_model_module_version": "1.5.0",
            "_model_name": "ProgressStyleModel",
            "_view_count": null,
            "_view_module": "@jupyter-widgets/base",
            "_view_module_version": "1.2.0",
            "_view_name": "StyleView",
            "bar_color": null,
            "description_width": ""
          }
        },
        "e9dba2806e604e1dad6f87a3ac88d581": {
          "model_module": "@jupyter-widgets/base",
          "model_name": "LayoutModel",
          "model_module_version": "1.2.0",
          "state": {
            "_model_module": "@jupyter-widgets/base",
            "_model_module_version": "1.2.0",
            "_model_name": "LayoutModel",
            "_view_count": null,
            "_view_module": "@jupyter-widgets/base",
            "_view_module_version": "1.2.0",
            "_view_name": "LayoutView",
            "align_content": null,
            "align_items": null,
            "align_self": null,
            "border": null,
            "bottom": null,
            "display": null,
            "flex": null,
            "flex_flow": null,
            "grid_area": null,
            "grid_auto_columns": null,
            "grid_auto_flow": null,
            "grid_auto_rows": null,
            "grid_column": null,
            "grid_gap": null,
            "grid_row": null,
            "grid_template_areas": null,
            "grid_template_columns": null,
            "grid_template_rows": null,
            "height": null,
            "justify_content": null,
            "justify_items": null,
            "left": null,
            "margin": null,
            "max_height": null,
            "max_width": null,
            "min_height": null,
            "min_width": null,
            "object_fit": null,
            "object_position": null,
            "order": null,
            "overflow": null,
            "overflow_x": null,
            "overflow_y": null,
            "padding": null,
            "right": null,
            "top": null,
            "visibility": null,
            "width": null
          }
        },
        "d8bb6f70e70d449a84f69a90e57609ac": {
          "model_module": "@jupyter-widgets/controls",
          "model_name": "DescriptionStyleModel",
          "model_module_version": "1.5.0",
          "state": {
            "_model_module": "@jupyter-widgets/controls",
            "_model_module_version": "1.5.0",
            "_model_name": "DescriptionStyleModel",
            "_view_count": null,
            "_view_module": "@jupyter-widgets/base",
            "_view_module_version": "1.2.0",
            "_view_name": "StyleView",
            "description_width": ""
          }
        },
        "c419d0000aaa41a59e56690eb44cf59e": {
          "model_module": "@jupyter-widgets/controls",
          "model_name": "HBoxModel",
          "model_module_version": "1.5.0",
          "state": {
            "_dom_classes": [],
            "_model_module": "@jupyter-widgets/controls",
            "_model_module_version": "1.5.0",
            "_model_name": "HBoxModel",
            "_view_count": null,
            "_view_module": "@jupyter-widgets/controls",
            "_view_module_version": "1.5.0",
            "_view_name": "HBoxView",
            "box_style": "",
            "children": [
              "IPY_MODEL_6d4d8dd7e96a404c99015514276d30d5",
              "IPY_MODEL_9d9a1f1876ef4d5fb13ee75914cff32c",
              "IPY_MODEL_6889afe709db4ed480ea49579ed94369"
            ],
            "layout": "IPY_MODEL_218e0d7eb6f1460e8326971c699eb398"
          }
        },
        "6d4d8dd7e96a404c99015514276d30d5": {
          "model_module": "@jupyter-widgets/controls",
          "model_name": "HTMLModel",
          "model_module_version": "1.5.0",
          "state": {
            "_dom_classes": [],
            "_model_module": "@jupyter-widgets/controls",
            "_model_module_version": "1.5.0",
            "_model_name": "HTMLModel",
            "_view_count": null,
            "_view_module": "@jupyter-widgets/controls",
            "_view_module_version": "1.5.0",
            "_view_name": "HTMLView",
            "description": "",
            "description_tooltip": null,
            "layout": "IPY_MODEL_8837e2b262224d488c1fa67d3ca61072",
            "placeholder": "​",
            "style": "IPY_MODEL_519a304e0012496b9f49f1765883489d",
            "value": "vocab.txt: 100%"
          }
        },
        "9d9a1f1876ef4d5fb13ee75914cff32c": {
          "model_module": "@jupyter-widgets/controls",
          "model_name": "FloatProgressModel",
          "model_module_version": "1.5.0",
          "state": {
            "_dom_classes": [],
            "_model_module": "@jupyter-widgets/controls",
            "_model_module_version": "1.5.0",
            "_model_name": "FloatProgressModel",
            "_view_count": null,
            "_view_module": "@jupyter-widgets/controls",
            "_view_module_version": "1.5.0",
            "_view_name": "ProgressView",
            "bar_style": "success",
            "description": "",
            "description_tooltip": null,
            "layout": "IPY_MODEL_b983798599f44d9f9fb5ed996cd50215",
            "max": 229167,
            "min": 0,
            "orientation": "horizontal",
            "style": "IPY_MODEL_22616501a2d34768a8055f2b2f1c17a1",
            "value": 229167
          }
        },
        "6889afe709db4ed480ea49579ed94369": {
          "model_module": "@jupyter-widgets/controls",
          "model_name": "HTMLModel",
          "model_module_version": "1.5.0",
          "state": {
            "_dom_classes": [],
            "_model_module": "@jupyter-widgets/controls",
            "_model_module_version": "1.5.0",
            "_model_name": "HTMLModel",
            "_view_count": null,
            "_view_module": "@jupyter-widgets/controls",
            "_view_module_version": "1.5.0",
            "_view_name": "HTMLView",
            "description": "",
            "description_tooltip": null,
            "layout": "IPY_MODEL_d5424b6cd8b54e12addc5aa1c3ce34e9",
            "placeholder": "​",
            "style": "IPY_MODEL_d6783c0482e54c83b9a9ce65f4a6c6cc",
            "value": " 229k/229k [00:00&lt;00:00, 3.24MB/s]"
          }
        },
        "218e0d7eb6f1460e8326971c699eb398": {
          "model_module": "@jupyter-widgets/base",
          "model_name": "LayoutModel",
          "model_module_version": "1.2.0",
          "state": {
            "_model_module": "@jupyter-widgets/base",
            "_model_module_version": "1.2.0",
            "_model_name": "LayoutModel",
            "_view_count": null,
            "_view_module": "@jupyter-widgets/base",
            "_view_module_version": "1.2.0",
            "_view_name": "LayoutView",
            "align_content": null,
            "align_items": null,
            "align_self": null,
            "border": null,
            "bottom": null,
            "display": null,
            "flex": null,
            "flex_flow": null,
            "grid_area": null,
            "grid_auto_columns": null,
            "grid_auto_flow": null,
            "grid_auto_rows": null,
            "grid_column": null,
            "grid_gap": null,
            "grid_row": null,
            "grid_template_areas": null,
            "grid_template_columns": null,
            "grid_template_rows": null,
            "height": null,
            "justify_content": null,
            "justify_items": null,
            "left": null,
            "margin": null,
            "max_height": null,
            "max_width": null,
            "min_height": null,
            "min_width": null,
            "object_fit": null,
            "object_position": null,
            "order": null,
            "overflow": null,
            "overflow_x": null,
            "overflow_y": null,
            "padding": null,
            "right": null,
            "top": null,
            "visibility": null,
            "width": null
          }
        },
        "8837e2b262224d488c1fa67d3ca61072": {
          "model_module": "@jupyter-widgets/base",
          "model_name": "LayoutModel",
          "model_module_version": "1.2.0",
          "state": {
            "_model_module": "@jupyter-widgets/base",
            "_model_module_version": "1.2.0",
            "_model_name": "LayoutModel",
            "_view_count": null,
            "_view_module": "@jupyter-widgets/base",
            "_view_module_version": "1.2.0",
            "_view_name": "LayoutView",
            "align_content": null,
            "align_items": null,
            "align_self": null,
            "border": null,
            "bottom": null,
            "display": null,
            "flex": null,
            "flex_flow": null,
            "grid_area": null,
            "grid_auto_columns": null,
            "grid_auto_flow": null,
            "grid_auto_rows": null,
            "grid_column": null,
            "grid_gap": null,
            "grid_row": null,
            "grid_template_areas": null,
            "grid_template_columns": null,
            "grid_template_rows": null,
            "height": null,
            "justify_content": null,
            "justify_items": null,
            "left": null,
            "margin": null,
            "max_height": null,
            "max_width": null,
            "min_height": null,
            "min_width": null,
            "object_fit": null,
            "object_position": null,
            "order": null,
            "overflow": null,
            "overflow_x": null,
            "overflow_y": null,
            "padding": null,
            "right": null,
            "top": null,
            "visibility": null,
            "width": null
          }
        },
        "519a304e0012496b9f49f1765883489d": {
          "model_module": "@jupyter-widgets/controls",
          "model_name": "DescriptionStyleModel",
          "model_module_version": "1.5.0",
          "state": {
            "_model_module": "@jupyter-widgets/controls",
            "_model_module_version": "1.5.0",
            "_model_name": "DescriptionStyleModel",
            "_view_count": null,
            "_view_module": "@jupyter-widgets/base",
            "_view_module_version": "1.2.0",
            "_view_name": "StyleView",
            "description_width": ""
          }
        },
        "b983798599f44d9f9fb5ed996cd50215": {
          "model_module": "@jupyter-widgets/base",
          "model_name": "LayoutModel",
          "model_module_version": "1.2.0",
          "state": {
            "_model_module": "@jupyter-widgets/base",
            "_model_module_version": "1.2.0",
            "_model_name": "LayoutModel",
            "_view_count": null,
            "_view_module": "@jupyter-widgets/base",
            "_view_module_version": "1.2.0",
            "_view_name": "LayoutView",
            "align_content": null,
            "align_items": null,
            "align_self": null,
            "border": null,
            "bottom": null,
            "display": null,
            "flex": null,
            "flex_flow": null,
            "grid_area": null,
            "grid_auto_columns": null,
            "grid_auto_flow": null,
            "grid_auto_rows": null,
            "grid_column": null,
            "grid_gap": null,
            "grid_row": null,
            "grid_template_areas": null,
            "grid_template_columns": null,
            "grid_template_rows": null,
            "height": null,
            "justify_content": null,
            "justify_items": null,
            "left": null,
            "margin": null,
            "max_height": null,
            "max_width": null,
            "min_height": null,
            "min_width": null,
            "object_fit": null,
            "object_position": null,
            "order": null,
            "overflow": null,
            "overflow_x": null,
            "overflow_y": null,
            "padding": null,
            "right": null,
            "top": null,
            "visibility": null,
            "width": null
          }
        },
        "22616501a2d34768a8055f2b2f1c17a1": {
          "model_module": "@jupyter-widgets/controls",
          "model_name": "ProgressStyleModel",
          "model_module_version": "1.5.0",
          "state": {
            "_model_module": "@jupyter-widgets/controls",
            "_model_module_version": "1.5.0",
            "_model_name": "ProgressStyleModel",
            "_view_count": null,
            "_view_module": "@jupyter-widgets/base",
            "_view_module_version": "1.2.0",
            "_view_name": "StyleView",
            "bar_color": null,
            "description_width": ""
          }
        },
        "d5424b6cd8b54e12addc5aa1c3ce34e9": {
          "model_module": "@jupyter-widgets/base",
          "model_name": "LayoutModel",
          "model_module_version": "1.2.0",
          "state": {
            "_model_module": "@jupyter-widgets/base",
            "_model_module_version": "1.2.0",
            "_model_name": "LayoutModel",
            "_view_count": null,
            "_view_module": "@jupyter-widgets/base",
            "_view_module_version": "1.2.0",
            "_view_name": "LayoutView",
            "align_content": null,
            "align_items": null,
            "align_self": null,
            "border": null,
            "bottom": null,
            "display": null,
            "flex": null,
            "flex_flow": null,
            "grid_area": null,
            "grid_auto_columns": null,
            "grid_auto_flow": null,
            "grid_auto_rows": null,
            "grid_column": null,
            "grid_gap": null,
            "grid_row": null,
            "grid_template_areas": null,
            "grid_template_columns": null,
            "grid_template_rows": null,
            "height": null,
            "justify_content": null,
            "justify_items": null,
            "left": null,
            "margin": null,
            "max_height": null,
            "max_width": null,
            "min_height": null,
            "min_width": null,
            "object_fit": null,
            "object_position": null,
            "order": null,
            "overflow": null,
            "overflow_x": null,
            "overflow_y": null,
            "padding": null,
            "right": null,
            "top": null,
            "visibility": null,
            "width": null
          }
        },
        "d6783c0482e54c83b9a9ce65f4a6c6cc": {
          "model_module": "@jupyter-widgets/controls",
          "model_name": "DescriptionStyleModel",
          "model_module_version": "1.5.0",
          "state": {
            "_model_module": "@jupyter-widgets/controls",
            "_model_module_version": "1.5.0",
            "_model_name": "DescriptionStyleModel",
            "_view_count": null,
            "_view_module": "@jupyter-widgets/base",
            "_view_module_version": "1.2.0",
            "_view_name": "StyleView",
            "description_width": ""
          }
        },
        "365d0d5ff5b14d3aa5ef39700332ba14": {
          "model_module": "@jupyter-widgets/controls",
          "model_name": "HBoxModel",
          "model_module_version": "1.5.0",
          "state": {
            "_dom_classes": [],
            "_model_module": "@jupyter-widgets/controls",
            "_model_module_version": "1.5.0",
            "_model_name": "HBoxModel",
            "_view_count": null,
            "_view_module": "@jupyter-widgets/controls",
            "_view_module_version": "1.5.0",
            "_view_name": "HBoxView",
            "box_style": "",
            "children": [
              "IPY_MODEL_09d3222256584ad7b683337246a94242",
              "IPY_MODEL_c5cb70500d3a450abe858ea359ddfe3c",
              "IPY_MODEL_e015621959ea4ed8857c4f6a548b98e6"
            ],
            "layout": "IPY_MODEL_6e1b54708e424a9d88542013f0c3e14c"
          }
        },
        "09d3222256584ad7b683337246a94242": {
          "model_module": "@jupyter-widgets/controls",
          "model_name": "HTMLModel",
          "model_module_version": "1.5.0",
          "state": {
            "_dom_classes": [],
            "_model_module": "@jupyter-widgets/controls",
            "_model_module_version": "1.5.0",
            "_model_name": "HTMLModel",
            "_view_count": null,
            "_view_module": "@jupyter-widgets/controls",
            "_view_module_version": "1.5.0",
            "_view_name": "HTMLView",
            "description": "",
            "description_tooltip": null,
            "layout": "IPY_MODEL_ed9e92275c0a4c61ae5978509c88e75d",
            "placeholder": "​",
            "style": "IPY_MODEL_5f931b50f4af4691914bac3c908051e2",
            "value": "special_tokens_map.json: 100%"
          }
        },
        "c5cb70500d3a450abe858ea359ddfe3c": {
          "model_module": "@jupyter-widgets/controls",
          "model_name": "FloatProgressModel",
          "model_module_version": "1.5.0",
          "state": {
            "_dom_classes": [],
            "_model_module": "@jupyter-widgets/controls",
            "_model_module_version": "1.5.0",
            "_model_name": "FloatProgressModel",
            "_view_count": null,
            "_view_module": "@jupyter-widgets/controls",
            "_view_module_version": "1.5.0",
            "_view_name": "ProgressView",
            "bar_style": "success",
            "description": "",
            "description_tooltip": null,
            "layout": "IPY_MODEL_1ee00ce557d145c3bbce4c9883acdf9f",
            "max": 112,
            "min": 0,
            "orientation": "horizontal",
            "style": "IPY_MODEL_e66bd20cb52348ef89d42108c548511d",
            "value": 112
          }
        },
        "e015621959ea4ed8857c4f6a548b98e6": {
          "model_module": "@jupyter-widgets/controls",
          "model_name": "HTMLModel",
          "model_module_version": "1.5.0",
          "state": {
            "_dom_classes": [],
            "_model_module": "@jupyter-widgets/controls",
            "_model_module_version": "1.5.0",
            "_model_name": "HTMLModel",
            "_view_count": null,
            "_view_module": "@jupyter-widgets/controls",
            "_view_module_version": "1.5.0",
            "_view_name": "HTMLView",
            "description": "",
            "description_tooltip": null,
            "layout": "IPY_MODEL_5dc3a473cb6b466ead2bd0f06d1f0ca9",
            "placeholder": "​",
            "style": "IPY_MODEL_8f8aea5bb33b4103a92ec3f5b769075a",
            "value": " 112/112 [00:00&lt;00:00, 7.81kB/s]"
          }
        },
        "6e1b54708e424a9d88542013f0c3e14c": {
          "model_module": "@jupyter-widgets/base",
          "model_name": "LayoutModel",
          "model_module_version": "1.2.0",
          "state": {
            "_model_module": "@jupyter-widgets/base",
            "_model_module_version": "1.2.0",
            "_model_name": "LayoutModel",
            "_view_count": null,
            "_view_module": "@jupyter-widgets/base",
            "_view_module_version": "1.2.0",
            "_view_name": "LayoutView",
            "align_content": null,
            "align_items": null,
            "align_self": null,
            "border": null,
            "bottom": null,
            "display": null,
            "flex": null,
            "flex_flow": null,
            "grid_area": null,
            "grid_auto_columns": null,
            "grid_auto_flow": null,
            "grid_auto_rows": null,
            "grid_column": null,
            "grid_gap": null,
            "grid_row": null,
            "grid_template_areas": null,
            "grid_template_columns": null,
            "grid_template_rows": null,
            "height": null,
            "justify_content": null,
            "justify_items": null,
            "left": null,
            "margin": null,
            "max_height": null,
            "max_width": null,
            "min_height": null,
            "min_width": null,
            "object_fit": null,
            "object_position": null,
            "order": null,
            "overflow": null,
            "overflow_x": null,
            "overflow_y": null,
            "padding": null,
            "right": null,
            "top": null,
            "visibility": null,
            "width": null
          }
        },
        "ed9e92275c0a4c61ae5978509c88e75d": {
          "model_module": "@jupyter-widgets/base",
          "model_name": "LayoutModel",
          "model_module_version": "1.2.0",
          "state": {
            "_model_module": "@jupyter-widgets/base",
            "_model_module_version": "1.2.0",
            "_model_name": "LayoutModel",
            "_view_count": null,
            "_view_module": "@jupyter-widgets/base",
            "_view_module_version": "1.2.0",
            "_view_name": "LayoutView",
            "align_content": null,
            "align_items": null,
            "align_self": null,
            "border": null,
            "bottom": null,
            "display": null,
            "flex": null,
            "flex_flow": null,
            "grid_area": null,
            "grid_auto_columns": null,
            "grid_auto_flow": null,
            "grid_auto_rows": null,
            "grid_column": null,
            "grid_gap": null,
            "grid_row": null,
            "grid_template_areas": null,
            "grid_template_columns": null,
            "grid_template_rows": null,
            "height": null,
            "justify_content": null,
            "justify_items": null,
            "left": null,
            "margin": null,
            "max_height": null,
            "max_width": null,
            "min_height": null,
            "min_width": null,
            "object_fit": null,
            "object_position": null,
            "order": null,
            "overflow": null,
            "overflow_x": null,
            "overflow_y": null,
            "padding": null,
            "right": null,
            "top": null,
            "visibility": null,
            "width": null
          }
        },
        "5f931b50f4af4691914bac3c908051e2": {
          "model_module": "@jupyter-widgets/controls",
          "model_name": "DescriptionStyleModel",
          "model_module_version": "1.5.0",
          "state": {
            "_model_module": "@jupyter-widgets/controls",
            "_model_module_version": "1.5.0",
            "_model_name": "DescriptionStyleModel",
            "_view_count": null,
            "_view_module": "@jupyter-widgets/base",
            "_view_module_version": "1.2.0",
            "_view_name": "StyleView",
            "description_width": ""
          }
        },
        "1ee00ce557d145c3bbce4c9883acdf9f": {
          "model_module": "@jupyter-widgets/base",
          "model_name": "LayoutModel",
          "model_module_version": "1.2.0",
          "state": {
            "_model_module": "@jupyter-widgets/base",
            "_model_module_version": "1.2.0",
            "_model_name": "LayoutModel",
            "_view_count": null,
            "_view_module": "@jupyter-widgets/base",
            "_view_module_version": "1.2.0",
            "_view_name": "LayoutView",
            "align_content": null,
            "align_items": null,
            "align_self": null,
            "border": null,
            "bottom": null,
            "display": null,
            "flex": null,
            "flex_flow": null,
            "grid_area": null,
            "grid_auto_columns": null,
            "grid_auto_flow": null,
            "grid_auto_rows": null,
            "grid_column": null,
            "grid_gap": null,
            "grid_row": null,
            "grid_template_areas": null,
            "grid_template_columns": null,
            "grid_template_rows": null,
            "height": null,
            "justify_content": null,
            "justify_items": null,
            "left": null,
            "margin": null,
            "max_height": null,
            "max_width": null,
            "min_height": null,
            "min_width": null,
            "object_fit": null,
            "object_position": null,
            "order": null,
            "overflow": null,
            "overflow_x": null,
            "overflow_y": null,
            "padding": null,
            "right": null,
            "top": null,
            "visibility": null,
            "width": null
          }
        },
        "e66bd20cb52348ef89d42108c548511d": {
          "model_module": "@jupyter-widgets/controls",
          "model_name": "ProgressStyleModel",
          "model_module_version": "1.5.0",
          "state": {
            "_model_module": "@jupyter-widgets/controls",
            "_model_module_version": "1.5.0",
            "_model_name": "ProgressStyleModel",
            "_view_count": null,
            "_view_module": "@jupyter-widgets/base",
            "_view_module_version": "1.2.0",
            "_view_name": "StyleView",
            "bar_color": null,
            "description_width": ""
          }
        },
        "5dc3a473cb6b466ead2bd0f06d1f0ca9": {
          "model_module": "@jupyter-widgets/base",
          "model_name": "LayoutModel",
          "model_module_version": "1.2.0",
          "state": {
            "_model_module": "@jupyter-widgets/base",
            "_model_module_version": "1.2.0",
            "_model_name": "LayoutModel",
            "_view_count": null,
            "_view_module": "@jupyter-widgets/base",
            "_view_module_version": "1.2.0",
            "_view_name": "LayoutView",
            "align_content": null,
            "align_items": null,
            "align_self": null,
            "border": null,
            "bottom": null,
            "display": null,
            "flex": null,
            "flex_flow": null,
            "grid_area": null,
            "grid_auto_columns": null,
            "grid_auto_flow": null,
            "grid_auto_rows": null,
            "grid_column": null,
            "grid_gap": null,
            "grid_row": null,
            "grid_template_areas": null,
            "grid_template_columns": null,
            "grid_template_rows": null,
            "height": null,
            "justify_content": null,
            "justify_items": null,
            "left": null,
            "margin": null,
            "max_height": null,
            "max_width": null,
            "min_height": null,
            "min_width": null,
            "object_fit": null,
            "object_position": null,
            "order": null,
            "overflow": null,
            "overflow_x": null,
            "overflow_y": null,
            "padding": null,
            "right": null,
            "top": null,
            "visibility": null,
            "width": null
          }
        },
        "8f8aea5bb33b4103a92ec3f5b769075a": {
          "model_module": "@jupyter-widgets/controls",
          "model_name": "DescriptionStyleModel",
          "model_module_version": "1.5.0",
          "state": {
            "_model_module": "@jupyter-widgets/controls",
            "_model_module_version": "1.5.0",
            "_model_name": "DescriptionStyleModel",
            "_view_count": null,
            "_view_module": "@jupyter-widgets/base",
            "_view_module_version": "1.2.0",
            "_view_name": "StyleView",
            "description_width": ""
          }
        },
        "3ba5150da51442e8848c9ce89d68e467": {
          "model_module": "@jupyter-widgets/controls",
          "model_name": "HBoxModel",
          "model_module_version": "1.5.0",
          "state": {
            "_dom_classes": [],
            "_model_module": "@jupyter-widgets/controls",
            "_model_module_version": "1.5.0",
            "_model_name": "HBoxModel",
            "_view_count": null,
            "_view_module": "@jupyter-widgets/controls",
            "_view_module_version": "1.5.0",
            "_view_name": "HBoxView",
            "box_style": "",
            "children": [
              "IPY_MODEL_c729b735ee44474693cf79d4a17959b1",
              "IPY_MODEL_f6296f778a354c45b98b30e61e65da95",
              "IPY_MODEL_f3cedb97a1794d7883f22308ef6b25e9"
            ],
            "layout": "IPY_MODEL_f4e1c646272642de99e3fa45760f7b99"
          }
        },
        "c729b735ee44474693cf79d4a17959b1": {
          "model_module": "@jupyter-widgets/controls",
          "model_name": "HTMLModel",
          "model_module_version": "1.5.0",
          "state": {
            "_dom_classes": [],
            "_model_module": "@jupyter-widgets/controls",
            "_model_module_version": "1.5.0",
            "_model_name": "HTMLModel",
            "_view_count": null,
            "_view_module": "@jupyter-widgets/controls",
            "_view_module_version": "1.5.0",
            "_view_name": "HTMLView",
            "description": "",
            "description_tooltip": null,
            "layout": "IPY_MODEL_5644f90fb024442295587d82e2de49a3",
            "placeholder": "​",
            "style": "IPY_MODEL_16b3ab5ede6843829966497351237bbf",
            "value": "config.json: 100%"
          }
        },
        "f6296f778a354c45b98b30e61e65da95": {
          "model_module": "@jupyter-widgets/controls",
          "model_name": "FloatProgressModel",
          "model_module_version": "1.5.0",
          "state": {
            "_dom_classes": [],
            "_model_module": "@jupyter-widgets/controls",
            "_model_module_version": "1.5.0",
            "_model_name": "FloatProgressModel",
            "_view_count": null,
            "_view_module": "@jupyter-widgets/controls",
            "_view_module_version": "1.5.0",
            "_view_name": "ProgressView",
            "bar_style": "success",
            "description": "",
            "description_tooltip": null,
            "layout": "IPY_MODEL_52dc8701b96247e9ae2e889ff0e89443",
            "max": 1534,
            "min": 0,
            "orientation": "horizontal",
            "style": "IPY_MODEL_0c52ac7c2bf1460babe3f6ecd27a52d2",
            "value": 1534
          }
        },
        "f3cedb97a1794d7883f22308ef6b25e9": {
          "model_module": "@jupyter-widgets/controls",
          "model_name": "HTMLModel",
          "model_module_version": "1.5.0",
          "state": {
            "_dom_classes": [],
            "_model_module": "@jupyter-widgets/controls",
            "_model_module_version": "1.5.0",
            "_model_name": "HTMLModel",
            "_view_count": null,
            "_view_module": "@jupyter-widgets/controls",
            "_view_module_version": "1.5.0",
            "_view_name": "HTMLView",
            "description": "",
            "description_tooltip": null,
            "layout": "IPY_MODEL_97fdeccfbc1846408f911293dcdcf41b",
            "placeholder": "​",
            "style": "IPY_MODEL_faa1246bee89491ea7f24d0491d864f6",
            "value": " 1.53k/1.53k [00:00&lt;00:00, 108kB/s]"
          }
        },
        "f4e1c646272642de99e3fa45760f7b99": {
          "model_module": "@jupyter-widgets/base",
          "model_name": "LayoutModel",
          "model_module_version": "1.2.0",
          "state": {
            "_model_module": "@jupyter-widgets/base",
            "_model_module_version": "1.2.0",
            "_model_name": "LayoutModel",
            "_view_count": null,
            "_view_module": "@jupyter-widgets/base",
            "_view_module_version": "1.2.0",
            "_view_name": "LayoutView",
            "align_content": null,
            "align_items": null,
            "align_self": null,
            "border": null,
            "bottom": null,
            "display": null,
            "flex": null,
            "flex_flow": null,
            "grid_area": null,
            "grid_auto_columns": null,
            "grid_auto_flow": null,
            "grid_auto_rows": null,
            "grid_column": null,
            "grid_gap": null,
            "grid_row": null,
            "grid_template_areas": null,
            "grid_template_columns": null,
            "grid_template_rows": null,
            "height": null,
            "justify_content": null,
            "justify_items": null,
            "left": null,
            "margin": null,
            "max_height": null,
            "max_width": null,
            "min_height": null,
            "min_width": null,
            "object_fit": null,
            "object_position": null,
            "order": null,
            "overflow": null,
            "overflow_x": null,
            "overflow_y": null,
            "padding": null,
            "right": null,
            "top": null,
            "visibility": null,
            "width": null
          }
        },
        "5644f90fb024442295587d82e2de49a3": {
          "model_module": "@jupyter-widgets/base",
          "model_name": "LayoutModel",
          "model_module_version": "1.2.0",
          "state": {
            "_model_module": "@jupyter-widgets/base",
            "_model_module_version": "1.2.0",
            "_model_name": "LayoutModel",
            "_view_count": null,
            "_view_module": "@jupyter-widgets/base",
            "_view_module_version": "1.2.0",
            "_view_name": "LayoutView",
            "align_content": null,
            "align_items": null,
            "align_self": null,
            "border": null,
            "bottom": null,
            "display": null,
            "flex": null,
            "flex_flow": null,
            "grid_area": null,
            "grid_auto_columns": null,
            "grid_auto_flow": null,
            "grid_auto_rows": null,
            "grid_column": null,
            "grid_gap": null,
            "grid_row": null,
            "grid_template_areas": null,
            "grid_template_columns": null,
            "grid_template_rows": null,
            "height": null,
            "justify_content": null,
            "justify_items": null,
            "left": null,
            "margin": null,
            "max_height": null,
            "max_width": null,
            "min_height": null,
            "min_width": null,
            "object_fit": null,
            "object_position": null,
            "order": null,
            "overflow": null,
            "overflow_x": null,
            "overflow_y": null,
            "padding": null,
            "right": null,
            "top": null,
            "visibility": null,
            "width": null
          }
        },
        "16b3ab5ede6843829966497351237bbf": {
          "model_module": "@jupyter-widgets/controls",
          "model_name": "DescriptionStyleModel",
          "model_module_version": "1.5.0",
          "state": {
            "_model_module": "@jupyter-widgets/controls",
            "_model_module_version": "1.5.0",
            "_model_name": "DescriptionStyleModel",
            "_view_count": null,
            "_view_module": "@jupyter-widgets/base",
            "_view_module_version": "1.2.0",
            "_view_name": "StyleView",
            "description_width": ""
          }
        },
        "52dc8701b96247e9ae2e889ff0e89443": {
          "model_module": "@jupyter-widgets/base",
          "model_name": "LayoutModel",
          "model_module_version": "1.2.0",
          "state": {
            "_model_module": "@jupyter-widgets/base",
            "_model_module_version": "1.2.0",
            "_model_name": "LayoutModel",
            "_view_count": null,
            "_view_module": "@jupyter-widgets/base",
            "_view_module_version": "1.2.0",
            "_view_name": "LayoutView",
            "align_content": null,
            "align_items": null,
            "align_self": null,
            "border": null,
            "bottom": null,
            "display": null,
            "flex": null,
            "flex_flow": null,
            "grid_area": null,
            "grid_auto_columns": null,
            "grid_auto_flow": null,
            "grid_auto_rows": null,
            "grid_column": null,
            "grid_gap": null,
            "grid_row": null,
            "grid_template_areas": null,
            "grid_template_columns": null,
            "grid_template_rows": null,
            "height": null,
            "justify_content": null,
            "justify_items": null,
            "left": null,
            "margin": null,
            "max_height": null,
            "max_width": null,
            "min_height": null,
            "min_width": null,
            "object_fit": null,
            "object_position": null,
            "order": null,
            "overflow": null,
            "overflow_x": null,
            "overflow_y": null,
            "padding": null,
            "right": null,
            "top": null,
            "visibility": null,
            "width": null
          }
        },
        "0c52ac7c2bf1460babe3f6ecd27a52d2": {
          "model_module": "@jupyter-widgets/controls",
          "model_name": "ProgressStyleModel",
          "model_module_version": "1.5.0",
          "state": {
            "_model_module": "@jupyter-widgets/controls",
            "_model_module_version": "1.5.0",
            "_model_name": "ProgressStyleModel",
            "_view_count": null,
            "_view_module": "@jupyter-widgets/base",
            "_view_module_version": "1.2.0",
            "_view_name": "StyleView",
            "bar_color": null,
            "description_width": ""
          }
        },
        "97fdeccfbc1846408f911293dcdcf41b": {
          "model_module": "@jupyter-widgets/base",
          "model_name": "LayoutModel",
          "model_module_version": "1.2.0",
          "state": {
            "_model_module": "@jupyter-widgets/base",
            "_model_module_version": "1.2.0",
            "_model_name": "LayoutModel",
            "_view_count": null,
            "_view_module": "@jupyter-widgets/base",
            "_view_module_version": "1.2.0",
            "_view_name": "LayoutView",
            "align_content": null,
            "align_items": null,
            "align_self": null,
            "border": null,
            "bottom": null,
            "display": null,
            "flex": null,
            "flex_flow": null,
            "grid_area": null,
            "grid_auto_columns": null,
            "grid_auto_flow": null,
            "grid_auto_rows": null,
            "grid_column": null,
            "grid_gap": null,
            "grid_row": null,
            "grid_template_areas": null,
            "grid_template_columns": null,
            "grid_template_rows": null,
            "height": null,
            "justify_content": null,
            "justify_items": null,
            "left": null,
            "margin": null,
            "max_height": null,
            "max_width": null,
            "min_height": null,
            "min_width": null,
            "object_fit": null,
            "object_position": null,
            "order": null,
            "overflow": null,
            "overflow_x": null,
            "overflow_y": null,
            "padding": null,
            "right": null,
            "top": null,
            "visibility": null,
            "width": null
          }
        },
        "faa1246bee89491ea7f24d0491d864f6": {
          "model_module": "@jupyter-widgets/controls",
          "model_name": "DescriptionStyleModel",
          "model_module_version": "1.5.0",
          "state": {
            "_model_module": "@jupyter-widgets/controls",
            "_model_module_version": "1.5.0",
            "_model_name": "DescriptionStyleModel",
            "_view_count": null,
            "_view_module": "@jupyter-widgets/base",
            "_view_module_version": "1.2.0",
            "_view_name": "StyleView",
            "description_width": ""
          }
        },
        "b081ffb47fcf4da7a117e4896af44d60": {
          "model_module": "@jupyter-widgets/controls",
          "model_name": "HBoxModel",
          "model_module_version": "1.5.0",
          "state": {
            "_dom_classes": [],
            "_model_module": "@jupyter-widgets/controls",
            "_model_module_version": "1.5.0",
            "_model_name": "HBoxModel",
            "_view_count": null,
            "_view_module": "@jupyter-widgets/controls",
            "_view_module_version": "1.5.0",
            "_view_name": "HBoxView",
            "box_style": "",
            "children": [
              "IPY_MODEL_fb4cbe60e1c745cdb31de2cb4533abc4",
              "IPY_MODEL_c01f920b1f424b81ac00a90f7be0d948",
              "IPY_MODEL_59fcff4719664734850b23125d7befdc"
            ],
            "layout": "IPY_MODEL_31942c4989b84501bb9eeb45b43cc383"
          }
        },
        "fb4cbe60e1c745cdb31de2cb4533abc4": {
          "model_module": "@jupyter-widgets/controls",
          "model_name": "HTMLModel",
          "model_module_version": "1.5.0",
          "state": {
            "_dom_classes": [],
            "_model_module": "@jupyter-widgets/controls",
            "_model_module_version": "1.5.0",
            "_model_name": "HTMLModel",
            "_view_count": null,
            "_view_module": "@jupyter-widgets/controls",
            "_view_module_version": "1.5.0",
            "_view_name": "HTMLView",
            "description": "",
            "description_tooltip": null,
            "layout": "IPY_MODEL_fd2db825903948dda124d29861ab6989",
            "placeholder": "​",
            "style": "IPY_MODEL_360279b335204dcdbbf41f776d263ff1",
            "value": "pytorch_model.bin: 100%"
          }
        },
        "c01f920b1f424b81ac00a90f7be0d948": {
          "model_module": "@jupyter-widgets/controls",
          "model_name": "FloatProgressModel",
          "model_module_version": "1.5.0",
          "state": {
            "_dom_classes": [],
            "_model_module": "@jupyter-widgets/controls",
            "_model_module_version": "1.5.0",
            "_model_name": "FloatProgressModel",
            "_view_count": null,
            "_view_module": "@jupyter-widgets/controls",
            "_view_module_version": "1.5.0",
            "_view_name": "ProgressView",
            "bar_style": "success",
            "description": "",
            "description_tooltip": null,
            "layout": "IPY_MODEL_44b49c1f2ec04207a4e93487d263ccb4",
            "max": 497810400,
            "min": 0,
            "orientation": "horizontal",
            "style": "IPY_MODEL_1762c9c053d846c988c697a5e6d96d91",
            "value": 497810400
          }
        },
        "59fcff4719664734850b23125d7befdc": {
          "model_module": "@jupyter-widgets/controls",
          "model_name": "HTMLModel",
          "model_module_version": "1.5.0",
          "state": {
            "_dom_classes": [],
            "_model_module": "@jupyter-widgets/controls",
            "_model_module_version": "1.5.0",
            "_model_name": "HTMLModel",
            "_view_count": null,
            "_view_module": "@jupyter-widgets/controls",
            "_view_module_version": "1.5.0",
            "_view_name": "HTMLView",
            "description": "",
            "description_tooltip": null,
            "layout": "IPY_MODEL_06d95048ef854fa39dbdd232f4e59035",
            "placeholder": "​",
            "style": "IPY_MODEL_80e36d3c1a184284b0c260fc674c2abf",
            "value": " 498M/498M [00:05&lt;00:00, 153MB/s]"
          }
        },
        "31942c4989b84501bb9eeb45b43cc383": {
          "model_module": "@jupyter-widgets/base",
          "model_name": "LayoutModel",
          "model_module_version": "1.2.0",
          "state": {
            "_model_module": "@jupyter-widgets/base",
            "_model_module_version": "1.2.0",
            "_model_name": "LayoutModel",
            "_view_count": null,
            "_view_module": "@jupyter-widgets/base",
            "_view_module_version": "1.2.0",
            "_view_name": "LayoutView",
            "align_content": null,
            "align_items": null,
            "align_self": null,
            "border": null,
            "bottom": null,
            "display": null,
            "flex": null,
            "flex_flow": null,
            "grid_area": null,
            "grid_auto_columns": null,
            "grid_auto_flow": null,
            "grid_auto_rows": null,
            "grid_column": null,
            "grid_gap": null,
            "grid_row": null,
            "grid_template_areas": null,
            "grid_template_columns": null,
            "grid_template_rows": null,
            "height": null,
            "justify_content": null,
            "justify_items": null,
            "left": null,
            "margin": null,
            "max_height": null,
            "max_width": null,
            "min_height": null,
            "min_width": null,
            "object_fit": null,
            "object_position": null,
            "order": null,
            "overflow": null,
            "overflow_x": null,
            "overflow_y": null,
            "padding": null,
            "right": null,
            "top": null,
            "visibility": null,
            "width": null
          }
        },
        "fd2db825903948dda124d29861ab6989": {
          "model_module": "@jupyter-widgets/base",
          "model_name": "LayoutModel",
          "model_module_version": "1.2.0",
          "state": {
            "_model_module": "@jupyter-widgets/base",
            "_model_module_version": "1.2.0",
            "_model_name": "LayoutModel",
            "_view_count": null,
            "_view_module": "@jupyter-widgets/base",
            "_view_module_version": "1.2.0",
            "_view_name": "LayoutView",
            "align_content": null,
            "align_items": null,
            "align_self": null,
            "border": null,
            "bottom": null,
            "display": null,
            "flex": null,
            "flex_flow": null,
            "grid_area": null,
            "grid_auto_columns": null,
            "grid_auto_flow": null,
            "grid_auto_rows": null,
            "grid_column": null,
            "grid_gap": null,
            "grid_row": null,
            "grid_template_areas": null,
            "grid_template_columns": null,
            "grid_template_rows": null,
            "height": null,
            "justify_content": null,
            "justify_items": null,
            "left": null,
            "margin": null,
            "max_height": null,
            "max_width": null,
            "min_height": null,
            "min_width": null,
            "object_fit": null,
            "object_position": null,
            "order": null,
            "overflow": null,
            "overflow_x": null,
            "overflow_y": null,
            "padding": null,
            "right": null,
            "top": null,
            "visibility": null,
            "width": null
          }
        },
        "360279b335204dcdbbf41f776d263ff1": {
          "model_module": "@jupyter-widgets/controls",
          "model_name": "DescriptionStyleModel",
          "model_module_version": "1.5.0",
          "state": {
            "_model_module": "@jupyter-widgets/controls",
            "_model_module_version": "1.5.0",
            "_model_name": "DescriptionStyleModel",
            "_view_count": null,
            "_view_module": "@jupyter-widgets/base",
            "_view_module_version": "1.2.0",
            "_view_name": "StyleView",
            "description_width": ""
          }
        },
        "44b49c1f2ec04207a4e93487d263ccb4": {
          "model_module": "@jupyter-widgets/base",
          "model_name": "LayoutModel",
          "model_module_version": "1.2.0",
          "state": {
            "_model_module": "@jupyter-widgets/base",
            "_model_module_version": "1.2.0",
            "_model_name": "LayoutModel",
            "_view_count": null,
            "_view_module": "@jupyter-widgets/base",
            "_view_module_version": "1.2.0",
            "_view_name": "LayoutView",
            "align_content": null,
            "align_items": null,
            "align_self": null,
            "border": null,
            "bottom": null,
            "display": null,
            "flex": null,
            "flex_flow": null,
            "grid_area": null,
            "grid_auto_columns": null,
            "grid_auto_flow": null,
            "grid_auto_rows": null,
            "grid_column": null,
            "grid_gap": null,
            "grid_row": null,
            "grid_template_areas": null,
            "grid_template_columns": null,
            "grid_template_rows": null,
            "height": null,
            "justify_content": null,
            "justify_items": null,
            "left": null,
            "margin": null,
            "max_height": null,
            "max_width": null,
            "min_height": null,
            "min_width": null,
            "object_fit": null,
            "object_position": null,
            "order": null,
            "overflow": null,
            "overflow_x": null,
            "overflow_y": null,
            "padding": null,
            "right": null,
            "top": null,
            "visibility": null,
            "width": null
          }
        },
        "1762c9c053d846c988c697a5e6d96d91": {
          "model_module": "@jupyter-widgets/controls",
          "model_name": "ProgressStyleModel",
          "model_module_version": "1.5.0",
          "state": {
            "_model_module": "@jupyter-widgets/controls",
            "_model_module_version": "1.5.0",
            "_model_name": "ProgressStyleModel",
            "_view_count": null,
            "_view_module": "@jupyter-widgets/base",
            "_view_module_version": "1.2.0",
            "_view_name": "StyleView",
            "bar_color": null,
            "description_width": ""
          }
        },
        "06d95048ef854fa39dbdd232f4e59035": {
          "model_module": "@jupyter-widgets/base",
          "model_name": "LayoutModel",
          "model_module_version": "1.2.0",
          "state": {
            "_model_module": "@jupyter-widgets/base",
            "_model_module_version": "1.2.0",
            "_model_name": "LayoutModel",
            "_view_count": null,
            "_view_module": "@jupyter-widgets/base",
            "_view_module_version": "1.2.0",
            "_view_name": "LayoutView",
            "align_content": null,
            "align_items": null,
            "align_self": null,
            "border": null,
            "bottom": null,
            "display": null,
            "flex": null,
            "flex_flow": null,
            "grid_area": null,
            "grid_auto_columns": null,
            "grid_auto_flow": null,
            "grid_auto_rows": null,
            "grid_column": null,
            "grid_gap": null,
            "grid_row": null,
            "grid_template_areas": null,
            "grid_template_columns": null,
            "grid_template_rows": null,
            "height": null,
            "justify_content": null,
            "justify_items": null,
            "left": null,
            "margin": null,
            "max_height": null,
            "max_width": null,
            "min_height": null,
            "min_width": null,
            "object_fit": null,
            "object_position": null,
            "order": null,
            "overflow": null,
            "overflow_x": null,
            "overflow_y": null,
            "padding": null,
            "right": null,
            "top": null,
            "visibility": null,
            "width": null
          }
        },
        "80e36d3c1a184284b0c260fc674c2abf": {
          "model_module": "@jupyter-widgets/controls",
          "model_name": "DescriptionStyleModel",
          "model_module_version": "1.5.0",
          "state": {
            "_model_module": "@jupyter-widgets/controls",
            "_model_module_version": "1.5.0",
            "_model_name": "DescriptionStyleModel",
            "_view_count": null,
            "_view_module": "@jupyter-widgets/base",
            "_view_module_version": "1.2.0",
            "_view_name": "StyleView",
            "description_width": ""
          }
        }
      }
    }
  },
  "nbformat": 4,
  "nbformat_minor": 0
}